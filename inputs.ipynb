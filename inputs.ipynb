{
 "cells": [
  {
   "cell_type": "code",
   "execution_count": 1,
   "id": "executive-finance",
   "metadata": {},
   "outputs": [],
   "source": [
    "import numpy as np\n",
    "import pandas as pd"
   ]
  },
  {
   "cell_type": "markdown",
   "id": "hydraulic-commission",
   "metadata": {},
   "source": [
    "### Load the training data:\n",
    "* normalize XYZ with the 1st Atom\n",
    "* get the distance of each 2 Atoms\n",
    "* get the angle of each 3 Atoms\n",
    "* get the angle of each 5 Atoms"
   ]
  },
  {
   "cell_type": "code",
   "execution_count": 2,
   "id": "mental-muscle",
   "metadata": {},
   "outputs": [],
   "source": [
    "PATH = 'test01.pdb'"
   ]
  },
  {
   "cell_type": "code",
   "execution_count": 3,
   "id": "august-coaching",
   "metadata": {},
   "outputs": [
    {
     "data": {
      "text/html": [
       "<div>\n",
       "<style scoped>\n",
       "    .dataframe tbody tr th:only-of-type {\n",
       "        vertical-align: middle;\n",
       "    }\n",
       "\n",
       "    .dataframe tbody tr th {\n",
       "        vertical-align: top;\n",
       "    }\n",
       "\n",
       "    .dataframe thead th {\n",
       "        text-align: right;\n",
       "    }\n",
       "</style>\n",
       "<table border=\"1\" class=\"dataframe\">\n",
       "  <thead>\n",
       "    <tr style=\"text-align: right;\">\n",
       "      <th></th>\n",
       "      <th>REMARK</th>\n",
       "      <th>4</th>\n",
       "      <th>1DPP</th>\n",
       "      <th>COMPLIES</th>\n",
       "      <th>X</th>\n",
       "      <th>Y</th>\n",
       "      <th>Z</th>\n",
       "      <th>2.0,</th>\n",
       "      <th>18-NOV-1998</th>\n",
       "    </tr>\n",
       "  </thead>\n",
       "  <tbody>\n",
       "    <tr>\n",
       "      <th>ATOM</th>\n",
       "      <td>1</td>\n",
       "      <td>C1</td>\n",
       "      <td>OLA</td>\n",
       "      <td>1</td>\n",
       "      <td>44.29</td>\n",
       "      <td>24.62</td>\n",
       "      <td>58.04</td>\n",
       "      <td>1.0</td>\n",
       "      <td>0.0</td>\n",
       "    </tr>\n",
       "    <tr>\n",
       "      <th>ATOM</th>\n",
       "      <td>2</td>\n",
       "      <td>C2</td>\n",
       "      <td>OLA</td>\n",
       "      <td>1</td>\n",
       "      <td>44.63</td>\n",
       "      <td>25.19</td>\n",
       "      <td>56.66</td>\n",
       "      <td>1.0</td>\n",
       "      <td>0.0</td>\n",
       "    </tr>\n",
       "    <tr>\n",
       "      <th>ATOM</th>\n",
       "      <td>3</td>\n",
       "      <td>C3</td>\n",
       "      <td>OLA</td>\n",
       "      <td>1</td>\n",
       "      <td>46.04</td>\n",
       "      <td>24.71</td>\n",
       "      <td>56.29</td>\n",
       "      <td>1.0</td>\n",
       "      <td>0.0</td>\n",
       "    </tr>\n",
       "    <tr>\n",
       "      <th>ATOM</th>\n",
       "      <td>4</td>\n",
       "      <td>C4</td>\n",
       "      <td>OLA</td>\n",
       "      <td>1</td>\n",
       "      <td>46.63</td>\n",
       "      <td>25.14</td>\n",
       "      <td>54.94</td>\n",
       "      <td>1.0</td>\n",
       "      <td>0.0</td>\n",
       "    </tr>\n",
       "    <tr>\n",
       "      <th>ATOM</th>\n",
       "      <td>5</td>\n",
       "      <td>C5</td>\n",
       "      <td>OLA</td>\n",
       "      <td>1</td>\n",
       "      <td>48.05</td>\n",
       "      <td>24.57</td>\n",
       "      <td>54.94</td>\n",
       "      <td>1.0</td>\n",
       "      <td>0.0</td>\n",
       "    </tr>\n",
       "    <tr>\n",
       "      <th>ATOM</th>\n",
       "      <td>6</td>\n",
       "      <td>C6</td>\n",
       "      <td>OLA</td>\n",
       "      <td>1</td>\n",
       "      <td>48.83</td>\n",
       "      <td>25.06</td>\n",
       "      <td>53.72</td>\n",
       "      <td>1.0</td>\n",
       "      <td>0.0</td>\n",
       "    </tr>\n",
       "    <tr>\n",
       "      <th>ATOM</th>\n",
       "      <td>7</td>\n",
       "      <td>C7</td>\n",
       "      <td>OLA</td>\n",
       "      <td>1</td>\n",
       "      <td>48.14</td>\n",
       "      <td>24.56</td>\n",
       "      <td>52.45</td>\n",
       "      <td>1.0</td>\n",
       "      <td>0.0</td>\n",
       "    </tr>\n",
       "    <tr>\n",
       "      <th>ATOM</th>\n",
       "      <td>8</td>\n",
       "      <td>C8</td>\n",
       "      <td>OLA</td>\n",
       "      <td>1</td>\n",
       "      <td>48.63</td>\n",
       "      <td>24.69</td>\n",
       "      <td>51.00</td>\n",
       "      <td>1.0</td>\n",
       "      <td>0.0</td>\n",
       "    </tr>\n",
       "    <tr>\n",
       "      <th>ATOM</th>\n",
       "      <td>9</td>\n",
       "      <td>C9</td>\n",
       "      <td>OLA</td>\n",
       "      <td>1</td>\n",
       "      <td>47.74</td>\n",
       "      <td>24.05</td>\n",
       "      <td>49.94</td>\n",
       "      <td>1.0</td>\n",
       "      <td>0.0</td>\n",
       "    </tr>\n",
       "    <tr>\n",
       "      <th>ATOM</th>\n",
       "      <td>10</td>\n",
       "      <td>C10</td>\n",
       "      <td>OLA</td>\n",
       "      <td>1</td>\n",
       "      <td>47.84</td>\n",
       "      <td>24.38</td>\n",
       "      <td>48.59</td>\n",
       "      <td>1.0</td>\n",
       "      <td>0.0</td>\n",
       "    </tr>\n",
       "    <tr>\n",
       "      <th>ATOM</th>\n",
       "      <td>11</td>\n",
       "      <td>C11</td>\n",
       "      <td>OLA</td>\n",
       "      <td>1</td>\n",
       "      <td>48.72</td>\n",
       "      <td>25.47</td>\n",
       "      <td>47.99</td>\n",
       "      <td>1.0</td>\n",
       "      <td>0.0</td>\n",
       "    </tr>\n",
       "    <tr>\n",
       "      <th>ATOM</th>\n",
       "      <td>12</td>\n",
       "      <td>C12</td>\n",
       "      <td>OLA</td>\n",
       "      <td>1</td>\n",
       "      <td>48.41</td>\n",
       "      <td>25.61</td>\n",
       "      <td>46.50</td>\n",
       "      <td>1.0</td>\n",
       "      <td>0.0</td>\n",
       "    </tr>\n",
       "    <tr>\n",
       "      <th>ATOM</th>\n",
       "      <td>13</td>\n",
       "      <td>C13</td>\n",
       "      <td>OLA</td>\n",
       "      <td>1</td>\n",
       "      <td>48.72</td>\n",
       "      <td>24.41</td>\n",
       "      <td>45.60</td>\n",
       "      <td>1.0</td>\n",
       "      <td>0.0</td>\n",
       "    </tr>\n",
       "    <tr>\n",
       "      <th>ATOM</th>\n",
       "      <td>14</td>\n",
       "      <td>C14</td>\n",
       "      <td>OLA</td>\n",
       "      <td>1</td>\n",
       "      <td>48.48</td>\n",
       "      <td>24.71</td>\n",
       "      <td>44.12</td>\n",
       "      <td>1.0</td>\n",
       "      <td>0.0</td>\n",
       "    </tr>\n",
       "    <tr>\n",
       "      <th>ATOM</th>\n",
       "      <td>15</td>\n",
       "      <td>C15</td>\n",
       "      <td>OLA</td>\n",
       "      <td>1</td>\n",
       "      <td>48.57</td>\n",
       "      <td>23.44</td>\n",
       "      <td>43.28</td>\n",
       "      <td>1.0</td>\n",
       "      <td>0.0</td>\n",
       "    </tr>\n",
       "    <tr>\n",
       "      <th>ATOM</th>\n",
       "      <td>16</td>\n",
       "      <td>C16</td>\n",
       "      <td>OLA</td>\n",
       "      <td>1</td>\n",
       "      <td>48.50</td>\n",
       "      <td>23.68</td>\n",
       "      <td>41.77</td>\n",
       "      <td>1.0</td>\n",
       "      <td>0.0</td>\n",
       "    </tr>\n",
       "    <tr>\n",
       "      <th>ATOM</th>\n",
       "      <td>17</td>\n",
       "      <td>C17</td>\n",
       "      <td>OLA</td>\n",
       "      <td>1</td>\n",
       "      <td>48.90</td>\n",
       "      <td>22.41</td>\n",
       "      <td>41.02</td>\n",
       "      <td>1.0</td>\n",
       "      <td>0.0</td>\n",
       "    </tr>\n",
       "    <tr>\n",
       "      <th>ATOM</th>\n",
       "      <td>18</td>\n",
       "      <td>C18</td>\n",
       "      <td>OLA</td>\n",
       "      <td>1</td>\n",
       "      <td>48.76</td>\n",
       "      <td>22.47</td>\n",
       "      <td>39.50</td>\n",
       "      <td>1.0</td>\n",
       "      <td>0.0</td>\n",
       "    </tr>\n",
       "    <tr>\n",
       "      <th>ATOM</th>\n",
       "      <td>19</td>\n",
       "      <td>O19</td>\n",
       "      <td>OLA</td>\n",
       "      <td>1</td>\n",
       "      <td>47.93</td>\n",
       "      <td>23.21</td>\n",
       "      <td>38.97</td>\n",
       "      <td>1.0</td>\n",
       "      <td>0.0</td>\n",
       "    </tr>\n",
       "    <tr>\n",
       "      <th>ATOM</th>\n",
       "      <td>20</td>\n",
       "      <td>O20</td>\n",
       "      <td>OLA</td>\n",
       "      <td>1</td>\n",
       "      <td>49.74</td>\n",
       "      <td>21.80</td>\n",
       "      <td>38.83</td>\n",
       "      <td>1.0</td>\n",
       "      <td>0.0</td>\n",
       "    </tr>\n",
       "    <tr>\n",
       "      <th>ATOM</th>\n",
       "      <td>21</td>\n",
       "      <td>H21</td>\n",
       "      <td>OLA</td>\n",
       "      <td>1</td>\n",
       "      <td>49.49</td>\n",
       "      <td>22.15</td>\n",
       "      <td>37.93</td>\n",
       "      <td>1.0</td>\n",
       "      <td>0.0</td>\n",
       "    </tr>\n",
       "  </tbody>\n",
       "</table>\n",
       "</div>"
      ],
      "text/plain": [
       "      REMARK    4 1DPP  COMPLIES      X      Y      Z  2.0,  18-NOV-1998\n",
       "ATOM       1   C1  OLA         1  44.29  24.62  58.04   1.0          0.0\n",
       "ATOM       2   C2  OLA         1  44.63  25.19  56.66   1.0          0.0\n",
       "ATOM       3   C3  OLA         1  46.04  24.71  56.29   1.0          0.0\n",
       "ATOM       4   C4  OLA         1  46.63  25.14  54.94   1.0          0.0\n",
       "ATOM       5   C5  OLA         1  48.05  24.57  54.94   1.0          0.0\n",
       "ATOM       6   C6  OLA         1  48.83  25.06  53.72   1.0          0.0\n",
       "ATOM       7   C7  OLA         1  48.14  24.56  52.45   1.0          0.0\n",
       "ATOM       8   C8  OLA         1  48.63  24.69  51.00   1.0          0.0\n",
       "ATOM       9   C9  OLA         1  47.74  24.05  49.94   1.0          0.0\n",
       "ATOM      10  C10  OLA         1  47.84  24.38  48.59   1.0          0.0\n",
       "ATOM      11  C11  OLA         1  48.72  25.47  47.99   1.0          0.0\n",
       "ATOM      12  C12  OLA         1  48.41  25.61  46.50   1.0          0.0\n",
       "ATOM      13  C13  OLA         1  48.72  24.41  45.60   1.0          0.0\n",
       "ATOM      14  C14  OLA         1  48.48  24.71  44.12   1.0          0.0\n",
       "ATOM      15  C15  OLA         1  48.57  23.44  43.28   1.0          0.0\n",
       "ATOM      16  C16  OLA         1  48.50  23.68  41.77   1.0          0.0\n",
       "ATOM      17  C17  OLA         1  48.90  22.41  41.02   1.0          0.0\n",
       "ATOM      18  C18  OLA         1  48.76  22.47  39.50   1.0          0.0\n",
       "ATOM      19  O19  OLA         1  47.93  23.21  38.97   1.0          0.0\n",
       "ATOM      20  O20  OLA         1  49.74  21.80  38.83   1.0          0.0\n",
       "ATOM      21  H21  OLA         1  49.49  22.15  37.93   1.0          0.0"
      ]
     },
     "metadata": {},
     "output_type": "display_data"
    }
   ],
   "source": [
    "data = pd.read_csv(PATH,sep='\\s+')\n",
    "\n",
    "data.columns = ['REMARK','4','1DPP','COMPLIES','X','Y','Z','2.0,','18-NOV-1998']\n",
    "display(data)"
   ]
  },
  {
   "cell_type": "markdown",
   "id": "decimal-niger",
   "metadata": {},
   "source": [
    "### Get the angle of each 3 Atoms"
   ]
  },
  {
   "cell_type": "code",
   "execution_count": 4,
   "id": "possible-burst",
   "metadata": {},
   "outputs": [],
   "source": [
    "def get_angle(a, b, c):\n",
    "    ba = a - b\n",
    "    bc = c - b\n",
    "    cosine_angle = np.dot(ba, bc) / (np.linalg.norm(ba) * np.linalg.norm(bc))\n",
    "    angle = np.arccos(cosine_angle)\n",
    "    return(np.degrees(angle))\n",
    "\n",
    "def dots_angle(data):\n",
    "    data.index = range(len(data))\n",
    "    angles = [0]\n",
    "    for k in range(len(data)-2):\n",
    "        a = data.loc[k, ['X', 'Y', 'Z']]\n",
    "        b = data.loc[k+1, ['X', 'Y', 'Z']]\n",
    "        c = data.loc[k+2, ['X', 'Y', 'Z']]\n",
    "        angles.append(get_angle(a, b, c))\n",
    "    angles.append(0)\n",
    "    return(angles)"
   ]
  },
  {
   "cell_type": "code",
   "execution_count": 5,
   "id": "continent-federal",
   "metadata": {},
   "outputs": [
    {
     "data": {
      "text/html": [
       "<div>\n",
       "<style scoped>\n",
       "    .dataframe tbody tr th:only-of-type {\n",
       "        vertical-align: middle;\n",
       "    }\n",
       "\n",
       "    .dataframe tbody tr th {\n",
       "        vertical-align: top;\n",
       "    }\n",
       "\n",
       "    .dataframe thead th {\n",
       "        text-align: right;\n",
       "    }\n",
       "</style>\n",
       "<table border=\"1\" class=\"dataframe\">\n",
       "  <thead>\n",
       "    <tr style=\"text-align: right;\">\n",
       "      <th></th>\n",
       "      <th>REMARK</th>\n",
       "      <th>4</th>\n",
       "      <th>1DPP</th>\n",
       "      <th>COMPLIES</th>\n",
       "      <th>X</th>\n",
       "      <th>Y</th>\n",
       "      <th>Z</th>\n",
       "      <th>2.0,</th>\n",
       "      <th>18-NOV-1998</th>\n",
       "      <th>dots-angle</th>\n",
       "    </tr>\n",
       "  </thead>\n",
       "  <tbody>\n",
       "    <tr>\n",
       "      <th>0</th>\n",
       "      <td>1</td>\n",
       "      <td>C1</td>\n",
       "      <td>OLA</td>\n",
       "      <td>1</td>\n",
       "      <td>44.29</td>\n",
       "      <td>24.62</td>\n",
       "      <td>58.04</td>\n",
       "      <td>1.0</td>\n",
       "      <td>0.0</td>\n",
       "      <td>0.000000</td>\n",
       "    </tr>\n",
       "    <tr>\n",
       "      <th>1</th>\n",
       "      <td>2</td>\n",
       "      <td>C2</td>\n",
       "      <td>OLA</td>\n",
       "      <td>1</td>\n",
       "      <td>44.63</td>\n",
       "      <td>25.19</td>\n",
       "      <td>56.66</td>\n",
       "      <td>1.0</td>\n",
       "      <td>0.0</td>\n",
       "      <td>107.748079</td>\n",
       "    </tr>\n",
       "    <tr>\n",
       "      <th>2</th>\n",
       "      <td>3</td>\n",
       "      <td>C3</td>\n",
       "      <td>OLA</td>\n",
       "      <td>1</td>\n",
       "      <td>46.04</td>\n",
       "      <td>24.71</td>\n",
       "      <td>56.29</td>\n",
       "      <td>1.0</td>\n",
       "      <td>0.0</td>\n",
       "      <td>118.529798</td>\n",
       "    </tr>\n",
       "    <tr>\n",
       "      <th>3</th>\n",
       "      <td>4</td>\n",
       "      <td>C4</td>\n",
       "      <td>OLA</td>\n",
       "      <td>1</td>\n",
       "      <td>46.63</td>\n",
       "      <td>25.14</td>\n",
       "      <td>54.94</td>\n",
       "      <td>1.0</td>\n",
       "      <td>0.0</td>\n",
       "      <td>104.618734</td>\n",
       "    </tr>\n",
       "    <tr>\n",
       "      <th>4</th>\n",
       "      <td>5</td>\n",
       "      <td>C5</td>\n",
       "      <td>OLA</td>\n",
       "      <td>1</td>\n",
       "      <td>48.05</td>\n",
       "      <td>24.57</td>\n",
       "      <td>54.94</td>\n",
       "      <td>1.0</td>\n",
       "      <td>0.0</td>\n",
       "      <td>110.738952</td>\n",
       "    </tr>\n",
       "    <tr>\n",
       "      <th>5</th>\n",
       "      <td>6</td>\n",
       "      <td>C6</td>\n",
       "      <td>OLA</td>\n",
       "      <td>1</td>\n",
       "      <td>48.83</td>\n",
       "      <td>25.06</td>\n",
       "      <td>53.72</td>\n",
       "      <td>1.0</td>\n",
       "      <td>0.0</td>\n",
       "      <td>109.130631</td>\n",
       "    </tr>\n",
       "    <tr>\n",
       "      <th>6</th>\n",
       "      <td>7</td>\n",
       "      <td>C7</td>\n",
       "      <td>OLA</td>\n",
       "      <td>1</td>\n",
       "      <td>48.14</td>\n",
       "      <td>24.56</td>\n",
       "      <td>52.45</td>\n",
       "      <td>1.0</td>\n",
       "      <td>0.0</td>\n",
       "      <td>127.755005</td>\n",
       "    </tr>\n",
       "    <tr>\n",
       "      <th>7</th>\n",
       "      <td>8</td>\n",
       "      <td>C8</td>\n",
       "      <td>OLA</td>\n",
       "      <td>1</td>\n",
       "      <td>48.63</td>\n",
       "      <td>24.69</td>\n",
       "      <td>51.00</td>\n",
       "      <td>1.0</td>\n",
       "      <td>0.0</td>\n",
       "      <td>115.752242</td>\n",
       "    </tr>\n",
       "    <tr>\n",
       "      <th>8</th>\n",
       "      <td>9</td>\n",
       "      <td>C9</td>\n",
       "      <td>OLA</td>\n",
       "      <td>1</td>\n",
       "      <td>47.74</td>\n",
       "      <td>24.05</td>\n",
       "      <td>49.94</td>\n",
       "      <td>1.0</td>\n",
       "      <td>0.0</td>\n",
       "      <td>122.155375</td>\n",
       "    </tr>\n",
       "    <tr>\n",
       "      <th>9</th>\n",
       "      <td>10</td>\n",
       "      <td>C10</td>\n",
       "      <td>OLA</td>\n",
       "      <td>1</td>\n",
       "      <td>47.84</td>\n",
       "      <td>24.38</td>\n",
       "      <td>48.59</td>\n",
       "      <td>1.0</td>\n",
       "      <td>0.0</td>\n",
       "      <td>126.320389</td>\n",
       "    </tr>\n",
       "    <tr>\n",
       "      <th>10</th>\n",
       "      <td>11</td>\n",
       "      <td>C11</td>\n",
       "      <td>OLA</td>\n",
       "      <td>1</td>\n",
       "      <td>48.72</td>\n",
       "      <td>25.47</td>\n",
       "      <td>47.99</td>\n",
       "      <td>1.0</td>\n",
       "      <td>0.0</td>\n",
       "      <td>109.403913</td>\n",
       "    </tr>\n",
       "    <tr>\n",
       "      <th>11</th>\n",
       "      <td>12</td>\n",
       "      <td>C12</td>\n",
       "      <td>OLA</td>\n",
       "      <td>1</td>\n",
       "      <td>48.41</td>\n",
       "      <td>25.61</td>\n",
       "      <td>46.50</td>\n",
       "      <td>1.0</td>\n",
       "      <td>0.0</td>\n",
       "      <td>117.388916</td>\n",
       "    </tr>\n",
       "    <tr>\n",
       "      <th>12</th>\n",
       "      <td>13</td>\n",
       "      <td>C13</td>\n",
       "      <td>OLA</td>\n",
       "      <td>1</td>\n",
       "      <td>48.72</td>\n",
       "      <td>24.41</td>\n",
       "      <td>45.60</td>\n",
       "      <td>1.0</td>\n",
       "      <td>0.0</td>\n",
       "      <td>112.535424</td>\n",
       "    </tr>\n",
       "    <tr>\n",
       "      <th>13</th>\n",
       "      <td>14</td>\n",
       "      <td>C14</td>\n",
       "      <td>OLA</td>\n",
       "      <td>1</td>\n",
       "      <td>48.48</td>\n",
       "      <td>24.71</td>\n",
       "      <td>44.12</td>\n",
       "      <td>1.0</td>\n",
       "      <td>0.0</td>\n",
       "      <td>111.125859</td>\n",
       "    </tr>\n",
       "    <tr>\n",
       "      <th>14</th>\n",
       "      <td>15</td>\n",
       "      <td>C15</td>\n",
       "      <td>OLA</td>\n",
       "      <td>1</td>\n",
       "      <td>48.57</td>\n",
       "      <td>23.44</td>\n",
       "      <td>43.28</td>\n",
       "      <td>1.0</td>\n",
       "      <td>0.0</td>\n",
       "      <td>114.208054</td>\n",
       "    </tr>\n",
       "    <tr>\n",
       "      <th>15</th>\n",
       "      <td>16</td>\n",
       "      <td>C16</td>\n",
       "      <td>OLA</td>\n",
       "      <td>1</td>\n",
       "      <td>48.50</td>\n",
       "      <td>23.68</td>\n",
       "      <td>41.77</td>\n",
       "      <td>1.0</td>\n",
       "      <td>0.0</td>\n",
       "      <td>109.992593</td>\n",
       "    </tr>\n",
       "    <tr>\n",
       "      <th>16</th>\n",
       "      <td>17</td>\n",
       "      <td>C17</td>\n",
       "      <td>OLA</td>\n",
       "      <td>1</td>\n",
       "      <td>48.90</td>\n",
       "      <td>22.41</td>\n",
       "      <td>41.02</td>\n",
       "      <td>1.0</td>\n",
       "      <td>0.0</td>\n",
       "      <td>115.575398</td>\n",
       "    </tr>\n",
       "    <tr>\n",
       "      <th>17</th>\n",
       "      <td>18</td>\n",
       "      <td>C18</td>\n",
       "      <td>OLA</td>\n",
       "      <td>1</td>\n",
       "      <td>48.76</td>\n",
       "      <td>22.47</td>\n",
       "      <td>39.50</td>\n",
       "      <td>1.0</td>\n",
       "      <td>0.0</td>\n",
       "      <td>120.894351</td>\n",
       "    </tr>\n",
       "    <tr>\n",
       "      <th>18</th>\n",
       "      <td>19</td>\n",
       "      <td>O19</td>\n",
       "      <td>OLA</td>\n",
       "      <td>1</td>\n",
       "      <td>47.93</td>\n",
       "      <td>23.21</td>\n",
       "      <td>38.97</td>\n",
       "      <td>1.0</td>\n",
       "      <td>0.0</td>\n",
       "      <td>29.208989</td>\n",
       "    </tr>\n",
       "    <tr>\n",
       "      <th>19</th>\n",
       "      <td>20</td>\n",
       "      <td>O20</td>\n",
       "      <td>OLA</td>\n",
       "      <td>1</td>\n",
       "      <td>49.74</td>\n",
       "      <td>21.80</td>\n",
       "      <td>38.83</td>\n",
       "      <td>1.0</td>\n",
       "      <td>0.0</td>\n",
       "      <td>69.045526</td>\n",
       "    </tr>\n",
       "    <tr>\n",
       "      <th>20</th>\n",
       "      <td>21</td>\n",
       "      <td>H21</td>\n",
       "      <td>OLA</td>\n",
       "      <td>1</td>\n",
       "      <td>49.49</td>\n",
       "      <td>22.15</td>\n",
       "      <td>37.93</td>\n",
       "      <td>1.0</td>\n",
       "      <td>0.0</td>\n",
       "      <td>0.000000</td>\n",
       "    </tr>\n",
       "  </tbody>\n",
       "</table>\n",
       "</div>"
      ],
      "text/plain": [
       "    REMARK    4 1DPP  COMPLIES      X      Y      Z  2.0,  18-NOV-1998  \\\n",
       "0        1   C1  OLA         1  44.29  24.62  58.04   1.0          0.0   \n",
       "1        2   C2  OLA         1  44.63  25.19  56.66   1.0          0.0   \n",
       "2        3   C3  OLA         1  46.04  24.71  56.29   1.0          0.0   \n",
       "3        4   C4  OLA         1  46.63  25.14  54.94   1.0          0.0   \n",
       "4        5   C5  OLA         1  48.05  24.57  54.94   1.0          0.0   \n",
       "5        6   C6  OLA         1  48.83  25.06  53.72   1.0          0.0   \n",
       "6        7   C7  OLA         1  48.14  24.56  52.45   1.0          0.0   \n",
       "7        8   C8  OLA         1  48.63  24.69  51.00   1.0          0.0   \n",
       "8        9   C9  OLA         1  47.74  24.05  49.94   1.0          0.0   \n",
       "9       10  C10  OLA         1  47.84  24.38  48.59   1.0          0.0   \n",
       "10      11  C11  OLA         1  48.72  25.47  47.99   1.0          0.0   \n",
       "11      12  C12  OLA         1  48.41  25.61  46.50   1.0          0.0   \n",
       "12      13  C13  OLA         1  48.72  24.41  45.60   1.0          0.0   \n",
       "13      14  C14  OLA         1  48.48  24.71  44.12   1.0          0.0   \n",
       "14      15  C15  OLA         1  48.57  23.44  43.28   1.0          0.0   \n",
       "15      16  C16  OLA         1  48.50  23.68  41.77   1.0          0.0   \n",
       "16      17  C17  OLA         1  48.90  22.41  41.02   1.0          0.0   \n",
       "17      18  C18  OLA         1  48.76  22.47  39.50   1.0          0.0   \n",
       "18      19  O19  OLA         1  47.93  23.21  38.97   1.0          0.0   \n",
       "19      20  O20  OLA         1  49.74  21.80  38.83   1.0          0.0   \n",
       "20      21  H21  OLA         1  49.49  22.15  37.93   1.0          0.0   \n",
       "\n",
       "    dots-angle  \n",
       "0     0.000000  \n",
       "1   107.748079  \n",
       "2   118.529798  \n",
       "3   104.618734  \n",
       "4   110.738952  \n",
       "5   109.130631  \n",
       "6   127.755005  \n",
       "7   115.752242  \n",
       "8   122.155375  \n",
       "9   126.320389  \n",
       "10  109.403913  \n",
       "11  117.388916  \n",
       "12  112.535424  \n",
       "13  111.125859  \n",
       "14  114.208054  \n",
       "15  109.992593  \n",
       "16  115.575398  \n",
       "17  120.894351  \n",
       "18   29.208989  \n",
       "19   69.045526  \n",
       "20    0.000000  "
      ]
     },
     "metadata": {},
     "output_type": "display_data"
    }
   ],
   "source": [
    "data['dots-angle'] = dots_angle(data)\n",
    "display(data)"
   ]
  },
  {
   "cell_type": "markdown",
   "id": "planned-manchester",
   "metadata": {},
   "source": [
    "### Normalize XYZ with the 1st Atom"
   ]
  },
  {
   "cell_type": "code",
   "execution_count": 6,
   "id": "intense-drama",
   "metadata": {},
   "outputs": [
    {
     "data": {
      "text/html": [
       "<div>\n",
       "<style scoped>\n",
       "    .dataframe tbody tr th:only-of-type {\n",
       "        vertical-align: middle;\n",
       "    }\n",
       "\n",
       "    .dataframe tbody tr th {\n",
       "        vertical-align: top;\n",
       "    }\n",
       "\n",
       "    .dataframe thead th {\n",
       "        text-align: right;\n",
       "    }\n",
       "</style>\n",
       "<table border=\"1\" class=\"dataframe\">\n",
       "  <thead>\n",
       "    <tr style=\"text-align: right;\">\n",
       "      <th></th>\n",
       "      <th>REMARK</th>\n",
       "      <th>4</th>\n",
       "      <th>1DPP</th>\n",
       "      <th>COMPLIES</th>\n",
       "      <th>X</th>\n",
       "      <th>Y</th>\n",
       "      <th>Z</th>\n",
       "      <th>2.0,</th>\n",
       "      <th>18-NOV-1998</th>\n",
       "      <th>dots-angle</th>\n",
       "    </tr>\n",
       "  </thead>\n",
       "  <tbody>\n",
       "    <tr>\n",
       "      <th>0</th>\n",
       "      <td>1</td>\n",
       "      <td>C1</td>\n",
       "      <td>OLA</td>\n",
       "      <td>1</td>\n",
       "      <td>0</td>\n",
       "      <td>0</td>\n",
       "      <td>0</td>\n",
       "      <td>1.0</td>\n",
       "      <td>0.0</td>\n",
       "      <td>0.000000</td>\n",
       "    </tr>\n",
       "    <tr>\n",
       "      <th>1</th>\n",
       "      <td>2</td>\n",
       "      <td>C2</td>\n",
       "      <td>OLA</td>\n",
       "      <td>1</td>\n",
       "      <td>0.34</td>\n",
       "      <td>0.57</td>\n",
       "      <td>-1.38</td>\n",
       "      <td>1.0</td>\n",
       "      <td>0.0</td>\n",
       "      <td>107.748079</td>\n",
       "    </tr>\n",
       "    <tr>\n",
       "      <th>2</th>\n",
       "      <td>3</td>\n",
       "      <td>C3</td>\n",
       "      <td>OLA</td>\n",
       "      <td>1</td>\n",
       "      <td>1.75</td>\n",
       "      <td>0.09</td>\n",
       "      <td>-1.75</td>\n",
       "      <td>1.0</td>\n",
       "      <td>0.0</td>\n",
       "      <td>118.529798</td>\n",
       "    </tr>\n",
       "    <tr>\n",
       "      <th>3</th>\n",
       "      <td>4</td>\n",
       "      <td>C4</td>\n",
       "      <td>OLA</td>\n",
       "      <td>1</td>\n",
       "      <td>2.34</td>\n",
       "      <td>0.52</td>\n",
       "      <td>-3.1</td>\n",
       "      <td>1.0</td>\n",
       "      <td>0.0</td>\n",
       "      <td>104.618734</td>\n",
       "    </tr>\n",
       "    <tr>\n",
       "      <th>4</th>\n",
       "      <td>5</td>\n",
       "      <td>C5</td>\n",
       "      <td>OLA</td>\n",
       "      <td>1</td>\n",
       "      <td>3.76</td>\n",
       "      <td>-0.05</td>\n",
       "      <td>-3.1</td>\n",
       "      <td>1.0</td>\n",
       "      <td>0.0</td>\n",
       "      <td>110.738952</td>\n",
       "    </tr>\n",
       "    <tr>\n",
       "      <th>5</th>\n",
       "      <td>6</td>\n",
       "      <td>C6</td>\n",
       "      <td>OLA</td>\n",
       "      <td>1</td>\n",
       "      <td>4.54</td>\n",
       "      <td>0.44</td>\n",
       "      <td>-4.32</td>\n",
       "      <td>1.0</td>\n",
       "      <td>0.0</td>\n",
       "      <td>109.130631</td>\n",
       "    </tr>\n",
       "    <tr>\n",
       "      <th>6</th>\n",
       "      <td>7</td>\n",
       "      <td>C7</td>\n",
       "      <td>OLA</td>\n",
       "      <td>1</td>\n",
       "      <td>3.85</td>\n",
       "      <td>-0.06</td>\n",
       "      <td>-5.59</td>\n",
       "      <td>1.0</td>\n",
       "      <td>0.0</td>\n",
       "      <td>127.755005</td>\n",
       "    </tr>\n",
       "    <tr>\n",
       "      <th>7</th>\n",
       "      <td>8</td>\n",
       "      <td>C8</td>\n",
       "      <td>OLA</td>\n",
       "      <td>1</td>\n",
       "      <td>4.34</td>\n",
       "      <td>0.07</td>\n",
       "      <td>-7.04</td>\n",
       "      <td>1.0</td>\n",
       "      <td>0.0</td>\n",
       "      <td>115.752242</td>\n",
       "    </tr>\n",
       "    <tr>\n",
       "      <th>8</th>\n",
       "      <td>9</td>\n",
       "      <td>C9</td>\n",
       "      <td>OLA</td>\n",
       "      <td>1</td>\n",
       "      <td>3.45</td>\n",
       "      <td>-0.57</td>\n",
       "      <td>-8.1</td>\n",
       "      <td>1.0</td>\n",
       "      <td>0.0</td>\n",
       "      <td>122.155375</td>\n",
       "    </tr>\n",
       "    <tr>\n",
       "      <th>9</th>\n",
       "      <td>10</td>\n",
       "      <td>C10</td>\n",
       "      <td>OLA</td>\n",
       "      <td>1</td>\n",
       "      <td>3.55</td>\n",
       "      <td>-0.24</td>\n",
       "      <td>-9.45</td>\n",
       "      <td>1.0</td>\n",
       "      <td>0.0</td>\n",
       "      <td>126.320389</td>\n",
       "    </tr>\n",
       "    <tr>\n",
       "      <th>10</th>\n",
       "      <td>11</td>\n",
       "      <td>C11</td>\n",
       "      <td>OLA</td>\n",
       "      <td>1</td>\n",
       "      <td>4.43</td>\n",
       "      <td>0.85</td>\n",
       "      <td>-10.05</td>\n",
       "      <td>1.0</td>\n",
       "      <td>0.0</td>\n",
       "      <td>109.403913</td>\n",
       "    </tr>\n",
       "    <tr>\n",
       "      <th>11</th>\n",
       "      <td>12</td>\n",
       "      <td>C12</td>\n",
       "      <td>OLA</td>\n",
       "      <td>1</td>\n",
       "      <td>4.12</td>\n",
       "      <td>0.99</td>\n",
       "      <td>-11.54</td>\n",
       "      <td>1.0</td>\n",
       "      <td>0.0</td>\n",
       "      <td>117.388916</td>\n",
       "    </tr>\n",
       "    <tr>\n",
       "      <th>12</th>\n",
       "      <td>13</td>\n",
       "      <td>C13</td>\n",
       "      <td>OLA</td>\n",
       "      <td>1</td>\n",
       "      <td>4.43</td>\n",
       "      <td>-0.21</td>\n",
       "      <td>-12.44</td>\n",
       "      <td>1.0</td>\n",
       "      <td>0.0</td>\n",
       "      <td>112.535424</td>\n",
       "    </tr>\n",
       "    <tr>\n",
       "      <th>13</th>\n",
       "      <td>14</td>\n",
       "      <td>C14</td>\n",
       "      <td>OLA</td>\n",
       "      <td>1</td>\n",
       "      <td>4.19</td>\n",
       "      <td>0.09</td>\n",
       "      <td>-13.92</td>\n",
       "      <td>1.0</td>\n",
       "      <td>0.0</td>\n",
       "      <td>111.125859</td>\n",
       "    </tr>\n",
       "    <tr>\n",
       "      <th>14</th>\n",
       "      <td>15</td>\n",
       "      <td>C15</td>\n",
       "      <td>OLA</td>\n",
       "      <td>1</td>\n",
       "      <td>4.28</td>\n",
       "      <td>-1.18</td>\n",
       "      <td>-14.76</td>\n",
       "      <td>1.0</td>\n",
       "      <td>0.0</td>\n",
       "      <td>114.208054</td>\n",
       "    </tr>\n",
       "    <tr>\n",
       "      <th>15</th>\n",
       "      <td>16</td>\n",
       "      <td>C16</td>\n",
       "      <td>OLA</td>\n",
       "      <td>1</td>\n",
       "      <td>4.21</td>\n",
       "      <td>-0.94</td>\n",
       "      <td>-16.27</td>\n",
       "      <td>1.0</td>\n",
       "      <td>0.0</td>\n",
       "      <td>109.992593</td>\n",
       "    </tr>\n",
       "    <tr>\n",
       "      <th>16</th>\n",
       "      <td>17</td>\n",
       "      <td>C17</td>\n",
       "      <td>OLA</td>\n",
       "      <td>1</td>\n",
       "      <td>4.61</td>\n",
       "      <td>-2.21</td>\n",
       "      <td>-17.02</td>\n",
       "      <td>1.0</td>\n",
       "      <td>0.0</td>\n",
       "      <td>115.575398</td>\n",
       "    </tr>\n",
       "    <tr>\n",
       "      <th>17</th>\n",
       "      <td>18</td>\n",
       "      <td>C18</td>\n",
       "      <td>OLA</td>\n",
       "      <td>1</td>\n",
       "      <td>4.47</td>\n",
       "      <td>-2.15</td>\n",
       "      <td>-18.54</td>\n",
       "      <td>1.0</td>\n",
       "      <td>0.0</td>\n",
       "      <td>120.894351</td>\n",
       "    </tr>\n",
       "    <tr>\n",
       "      <th>18</th>\n",
       "      <td>19</td>\n",
       "      <td>O19</td>\n",
       "      <td>OLA</td>\n",
       "      <td>1</td>\n",
       "      <td>3.64</td>\n",
       "      <td>-1.41</td>\n",
       "      <td>-19.07</td>\n",
       "      <td>1.0</td>\n",
       "      <td>0.0</td>\n",
       "      <td>29.208989</td>\n",
       "    </tr>\n",
       "    <tr>\n",
       "      <th>19</th>\n",
       "      <td>20</td>\n",
       "      <td>O20</td>\n",
       "      <td>OLA</td>\n",
       "      <td>1</td>\n",
       "      <td>5.45</td>\n",
       "      <td>-2.82</td>\n",
       "      <td>-19.21</td>\n",
       "      <td>1.0</td>\n",
       "      <td>0.0</td>\n",
       "      <td>69.045526</td>\n",
       "    </tr>\n",
       "    <tr>\n",
       "      <th>20</th>\n",
       "      <td>21</td>\n",
       "      <td>H21</td>\n",
       "      <td>OLA</td>\n",
       "      <td>1</td>\n",
       "      <td>5.2</td>\n",
       "      <td>-2.47</td>\n",
       "      <td>-20.11</td>\n",
       "      <td>1.0</td>\n",
       "      <td>0.0</td>\n",
       "      <td>0.000000</td>\n",
       "    </tr>\n",
       "  </tbody>\n",
       "</table>\n",
       "</div>"
      ],
      "text/plain": [
       "    REMARK    4 1DPP  COMPLIES     X     Y      Z  2.0,  18-NOV-1998  \\\n",
       "0        1   C1  OLA         1     0     0      0   1.0          0.0   \n",
       "1        2   C2  OLA         1  0.34  0.57  -1.38   1.0          0.0   \n",
       "2        3   C3  OLA         1  1.75  0.09  -1.75   1.0          0.0   \n",
       "3        4   C4  OLA         1  2.34  0.52   -3.1   1.0          0.0   \n",
       "4        5   C5  OLA         1  3.76 -0.05   -3.1   1.0          0.0   \n",
       "5        6   C6  OLA         1  4.54  0.44  -4.32   1.0          0.0   \n",
       "6        7   C7  OLA         1  3.85 -0.06  -5.59   1.0          0.0   \n",
       "7        8   C8  OLA         1  4.34  0.07  -7.04   1.0          0.0   \n",
       "8        9   C9  OLA         1  3.45 -0.57   -8.1   1.0          0.0   \n",
       "9       10  C10  OLA         1  3.55 -0.24  -9.45   1.0          0.0   \n",
       "10      11  C11  OLA         1  4.43  0.85 -10.05   1.0          0.0   \n",
       "11      12  C12  OLA         1  4.12  0.99 -11.54   1.0          0.0   \n",
       "12      13  C13  OLA         1  4.43 -0.21 -12.44   1.0          0.0   \n",
       "13      14  C14  OLA         1  4.19  0.09 -13.92   1.0          0.0   \n",
       "14      15  C15  OLA         1  4.28 -1.18 -14.76   1.0          0.0   \n",
       "15      16  C16  OLA         1  4.21 -0.94 -16.27   1.0          0.0   \n",
       "16      17  C17  OLA         1  4.61 -2.21 -17.02   1.0          0.0   \n",
       "17      18  C18  OLA         1  4.47 -2.15 -18.54   1.0          0.0   \n",
       "18      19  O19  OLA         1  3.64 -1.41 -19.07   1.0          0.0   \n",
       "19      20  O20  OLA         1  5.45 -2.82 -19.21   1.0          0.0   \n",
       "20      21  H21  OLA         1   5.2 -2.47 -20.11   1.0          0.0   \n",
       "\n",
       "    dots-angle  \n",
       "0     0.000000  \n",
       "1   107.748079  \n",
       "2   118.529798  \n",
       "3   104.618734  \n",
       "4   110.738952  \n",
       "5   109.130631  \n",
       "6   127.755005  \n",
       "7   115.752242  \n",
       "8   122.155375  \n",
       "9   126.320389  \n",
       "10  109.403913  \n",
       "11  117.388916  \n",
       "12  112.535424  \n",
       "13  111.125859  \n",
       "14  114.208054  \n",
       "15  109.992593  \n",
       "16  115.575398  \n",
       "17  120.894351  \n",
       "18   29.208989  \n",
       "19   69.045526  \n",
       "20    0.000000  "
      ]
     },
     "metadata": {},
     "output_type": "display_data"
    }
   ],
   "source": [
    "data[['X','Y','Z']] = data[['X','Y','Z']] - data.loc[0, ['X','Y','Z']]\n",
    "display(data)"
   ]
  },
  {
   "cell_type": "markdown",
   "id": "respected-avatar",
   "metadata": {},
   "source": [
    "### Get the distance of each 2 Atoms"
   ]
  },
  {
   "cell_type": "code",
   "execution_count": 7,
   "id": "miniature-festival",
   "metadata": {},
   "outputs": [],
   "source": [
    "def dots_distance(data):\n",
    "    data.index = range(len(data))\n",
    "    distances = []\n",
    "    for k in range(len(data)-1):\n",
    "        p1 = data.loc[k, ['X', 'Y', 'Z']]\n",
    "        p2 = data.loc[k+1, ['X', 'Y', 'Z']]\n",
    "        squared_dist = np.sum((p1-p2)**2, axis=0)\n",
    "        dist = np.sqrt(squared_dist)\n",
    "        distances.append(dist)\n",
    "    distances.append(0)\n",
    "    return(distances)"
   ]
  },
  {
   "cell_type": "code",
   "execution_count": 8,
   "id": "intimate-toolbox",
   "metadata": {},
   "outputs": [
    {
     "data": {
      "text/html": [
       "<div>\n",
       "<style scoped>\n",
       "    .dataframe tbody tr th:only-of-type {\n",
       "        vertical-align: middle;\n",
       "    }\n",
       "\n",
       "    .dataframe tbody tr th {\n",
       "        vertical-align: top;\n",
       "    }\n",
       "\n",
       "    .dataframe thead th {\n",
       "        text-align: right;\n",
       "    }\n",
       "</style>\n",
       "<table border=\"1\" class=\"dataframe\">\n",
       "  <thead>\n",
       "    <tr style=\"text-align: right;\">\n",
       "      <th></th>\n",
       "      <th>REMARK</th>\n",
       "      <th>4</th>\n",
       "      <th>1DPP</th>\n",
       "      <th>COMPLIES</th>\n",
       "      <th>X</th>\n",
       "      <th>Y</th>\n",
       "      <th>Z</th>\n",
       "      <th>2.0,</th>\n",
       "      <th>18-NOV-1998</th>\n",
       "      <th>dots-angle</th>\n",
       "      <th>dots-distance</th>\n",
       "    </tr>\n",
       "  </thead>\n",
       "  <tbody>\n",
       "    <tr>\n",
       "      <th>0</th>\n",
       "      <td>1</td>\n",
       "      <td>C1</td>\n",
       "      <td>OLA</td>\n",
       "      <td>1</td>\n",
       "      <td>0</td>\n",
       "      <td>0</td>\n",
       "      <td>0</td>\n",
       "      <td>1.0</td>\n",
       "      <td>0.0</td>\n",
       "      <td>0.000000</td>\n",
       "      <td>1.531307</td>\n",
       "    </tr>\n",
       "    <tr>\n",
       "      <th>1</th>\n",
       "      <td>2</td>\n",
       "      <td>C2</td>\n",
       "      <td>OLA</td>\n",
       "      <td>1</td>\n",
       "      <td>0.34</td>\n",
       "      <td>0.57</td>\n",
       "      <td>-1.38</td>\n",
       "      <td>1.0</td>\n",
       "      <td>0.0</td>\n",
       "      <td>107.748079</td>\n",
       "      <td>1.534731</td>\n",
       "    </tr>\n",
       "    <tr>\n",
       "      <th>2</th>\n",
       "      <td>3</td>\n",
       "      <td>C3</td>\n",
       "      <td>OLA</td>\n",
       "      <td>1</td>\n",
       "      <td>1.75</td>\n",
       "      <td>0.09</td>\n",
       "      <td>-1.75</td>\n",
       "      <td>1.0</td>\n",
       "      <td>0.0</td>\n",
       "      <td>118.529798</td>\n",
       "      <td>1.534764</td>\n",
       "    </tr>\n",
       "    <tr>\n",
       "      <th>3</th>\n",
       "      <td>4</td>\n",
       "      <td>C4</td>\n",
       "      <td>OLA</td>\n",
       "      <td>1</td>\n",
       "      <td>2.34</td>\n",
       "      <td>0.52</td>\n",
       "      <td>-3.1</td>\n",
       "      <td>1.0</td>\n",
       "      <td>0.0</td>\n",
       "      <td>104.618734</td>\n",
       "      <td>1.530131</td>\n",
       "    </tr>\n",
       "    <tr>\n",
       "      <th>4</th>\n",
       "      <td>5</td>\n",
       "      <td>C5</td>\n",
       "      <td>OLA</td>\n",
       "      <td>1</td>\n",
       "      <td>3.76</td>\n",
       "      <td>-0.05</td>\n",
       "      <td>-3.1</td>\n",
       "      <td>1.0</td>\n",
       "      <td>0.0</td>\n",
       "      <td>110.738952</td>\n",
       "      <td>1.528692</td>\n",
       "    </tr>\n",
       "    <tr>\n",
       "      <th>5</th>\n",
       "      <td>6</td>\n",
       "      <td>C6</td>\n",
       "      <td>OLA</td>\n",
       "      <td>1</td>\n",
       "      <td>4.54</td>\n",
       "      <td>0.44</td>\n",
       "      <td>-4.32</td>\n",
       "      <td>1.0</td>\n",
       "      <td>0.0</td>\n",
       "      <td>109.130631</td>\n",
       "      <td>1.529379</td>\n",
       "    </tr>\n",
       "    <tr>\n",
       "      <th>6</th>\n",
       "      <td>7</td>\n",
       "      <td>C7</td>\n",
       "      <td>OLA</td>\n",
       "      <td>1</td>\n",
       "      <td>3.85</td>\n",
       "      <td>-0.06</td>\n",
       "      <td>-5.59</td>\n",
       "      <td>1.0</td>\n",
       "      <td>0.0</td>\n",
       "      <td>127.755005</td>\n",
       "      <td>1.536066</td>\n",
       "    </tr>\n",
       "    <tr>\n",
       "      <th>7</th>\n",
       "      <td>8</td>\n",
       "      <td>C8</td>\n",
       "      <td>OLA</td>\n",
       "      <td>1</td>\n",
       "      <td>4.34</td>\n",
       "      <td>0.07</td>\n",
       "      <td>-7.04</td>\n",
       "      <td>1.0</td>\n",
       "      <td>0.0</td>\n",
       "      <td>115.752242</td>\n",
       "      <td>1.524893</td>\n",
       "    </tr>\n",
       "    <tr>\n",
       "      <th>8</th>\n",
       "      <td>9</td>\n",
       "      <td>C9</td>\n",
       "      <td>OLA</td>\n",
       "      <td>1</td>\n",
       "      <td>3.45</td>\n",
       "      <td>-0.57</td>\n",
       "      <td>-8.1</td>\n",
       "      <td>1.0</td>\n",
       "      <td>0.0</td>\n",
       "      <td>122.155375</td>\n",
       "      <td>1.393341</td>\n",
       "    </tr>\n",
       "    <tr>\n",
       "      <th>9</th>\n",
       "      <td>10</td>\n",
       "      <td>C10</td>\n",
       "      <td>OLA</td>\n",
       "      <td>1</td>\n",
       "      <td>3.55</td>\n",
       "      <td>-0.24</td>\n",
       "      <td>-9.45</td>\n",
       "      <td>1.0</td>\n",
       "      <td>0.0</td>\n",
       "      <td>126.320389</td>\n",
       "      <td>1.523975</td>\n",
       "    </tr>\n",
       "    <tr>\n",
       "      <th>10</th>\n",
       "      <td>11</td>\n",
       "      <td>C11</td>\n",
       "      <td>OLA</td>\n",
       "      <td>1</td>\n",
       "      <td>4.43</td>\n",
       "      <td>0.85</td>\n",
       "      <td>-10.05</td>\n",
       "      <td>1.0</td>\n",
       "      <td>0.0</td>\n",
       "      <td>109.403913</td>\n",
       "      <td>1.528332</td>\n",
       "    </tr>\n",
       "    <tr>\n",
       "      <th>11</th>\n",
       "      <td>12</td>\n",
       "      <td>C12</td>\n",
       "      <td>OLA</td>\n",
       "      <td>1</td>\n",
       "      <td>4.12</td>\n",
       "      <td>0.99</td>\n",
       "      <td>-11.54</td>\n",
       "      <td>1.0</td>\n",
       "      <td>0.0</td>\n",
       "      <td>117.388916</td>\n",
       "      <td>1.531698</td>\n",
       "    </tr>\n",
       "    <tr>\n",
       "      <th>12</th>\n",
       "      <td>13</td>\n",
       "      <td>C13</td>\n",
       "      <td>OLA</td>\n",
       "      <td>1</td>\n",
       "      <td>4.43</td>\n",
       "      <td>-0.21</td>\n",
       "      <td>-12.44</td>\n",
       "      <td>1.0</td>\n",
       "      <td>0.0</td>\n",
       "      <td>112.535424</td>\n",
       "      <td>1.529052</td>\n",
       "    </tr>\n",
       "    <tr>\n",
       "      <th>13</th>\n",
       "      <td>14</td>\n",
       "      <td>C14</td>\n",
       "      <td>OLA</td>\n",
       "      <td>1</td>\n",
       "      <td>4.19</td>\n",
       "      <td>0.09</td>\n",
       "      <td>-13.92</td>\n",
       "      <td>1.0</td>\n",
       "      <td>0.0</td>\n",
       "      <td>111.125859</td>\n",
       "      <td>1.525320</td>\n",
       "    </tr>\n",
       "    <tr>\n",
       "      <th>14</th>\n",
       "      <td>15</td>\n",
       "      <td>C15</td>\n",
       "      <td>OLA</td>\n",
       "      <td>1</td>\n",
       "      <td>4.28</td>\n",
       "      <td>-1.18</td>\n",
       "      <td>-14.76</td>\n",
       "      <td>1.0</td>\n",
       "      <td>0.0</td>\n",
       "      <td>114.208054</td>\n",
       "      <td>1.530555</td>\n",
       "    </tr>\n",
       "    <tr>\n",
       "      <th>15</th>\n",
       "      <td>16</td>\n",
       "      <td>C16</td>\n",
       "      <td>OLA</td>\n",
       "      <td>1</td>\n",
       "      <td>4.21</td>\n",
       "      <td>-0.94</td>\n",
       "      <td>-16.27</td>\n",
       "      <td>1.0</td>\n",
       "      <td>0.0</td>\n",
       "      <td>109.992593</td>\n",
       "      <td>1.528202</td>\n",
       "    </tr>\n",
       "    <tr>\n",
       "      <th>16</th>\n",
       "      <td>17</td>\n",
       "      <td>C17</td>\n",
       "      <td>OLA</td>\n",
       "      <td>1</td>\n",
       "      <td>4.61</td>\n",
       "      <td>-2.21</td>\n",
       "      <td>-17.02</td>\n",
       "      <td>1.0</td>\n",
       "      <td>0.0</td>\n",
       "      <td>115.575398</td>\n",
       "      <td>1.527613</td>\n",
       "    </tr>\n",
       "    <tr>\n",
       "      <th>17</th>\n",
       "      <td>18</td>\n",
       "      <td>C18</td>\n",
       "      <td>OLA</td>\n",
       "      <td>1</td>\n",
       "      <td>4.47</td>\n",
       "      <td>-2.15</td>\n",
       "      <td>-18.54</td>\n",
       "      <td>1.0</td>\n",
       "      <td>0.0</td>\n",
       "      <td>120.894351</td>\n",
       "      <td>1.231828</td>\n",
       "    </tr>\n",
       "    <tr>\n",
       "      <th>18</th>\n",
       "      <td>19</td>\n",
       "      <td>O19</td>\n",
       "      <td>OLA</td>\n",
       "      <td>1</td>\n",
       "      <td>3.64</td>\n",
       "      <td>-1.41</td>\n",
       "      <td>-19.07</td>\n",
       "      <td>1.0</td>\n",
       "      <td>0.0</td>\n",
       "      <td>29.208989</td>\n",
       "      <td>2.298652</td>\n",
       "    </tr>\n",
       "    <tr>\n",
       "      <th>19</th>\n",
       "      <td>20</td>\n",
       "      <td>O20</td>\n",
       "      <td>OLA</td>\n",
       "      <td>1</td>\n",
       "      <td>5.45</td>\n",
       "      <td>-2.82</td>\n",
       "      <td>-19.21</td>\n",
       "      <td>1.0</td>\n",
       "      <td>0.0</td>\n",
       "      <td>69.045526</td>\n",
       "      <td>0.997497</td>\n",
       "    </tr>\n",
       "    <tr>\n",
       "      <th>20</th>\n",
       "      <td>21</td>\n",
       "      <td>H21</td>\n",
       "      <td>OLA</td>\n",
       "      <td>1</td>\n",
       "      <td>5.2</td>\n",
       "      <td>-2.47</td>\n",
       "      <td>-20.11</td>\n",
       "      <td>1.0</td>\n",
       "      <td>0.0</td>\n",
       "      <td>0.000000</td>\n",
       "      <td>0.000000</td>\n",
       "    </tr>\n",
       "  </tbody>\n",
       "</table>\n",
       "</div>"
      ],
      "text/plain": [
       "    REMARK    4 1DPP  COMPLIES     X     Y      Z  2.0,  18-NOV-1998  \\\n",
       "0        1   C1  OLA         1     0     0      0   1.0          0.0   \n",
       "1        2   C2  OLA         1  0.34  0.57  -1.38   1.0          0.0   \n",
       "2        3   C3  OLA         1  1.75  0.09  -1.75   1.0          0.0   \n",
       "3        4   C4  OLA         1  2.34  0.52   -3.1   1.0          0.0   \n",
       "4        5   C5  OLA         1  3.76 -0.05   -3.1   1.0          0.0   \n",
       "5        6   C6  OLA         1  4.54  0.44  -4.32   1.0          0.0   \n",
       "6        7   C7  OLA         1  3.85 -0.06  -5.59   1.0          0.0   \n",
       "7        8   C8  OLA         1  4.34  0.07  -7.04   1.0          0.0   \n",
       "8        9   C9  OLA         1  3.45 -0.57   -8.1   1.0          0.0   \n",
       "9       10  C10  OLA         1  3.55 -0.24  -9.45   1.0          0.0   \n",
       "10      11  C11  OLA         1  4.43  0.85 -10.05   1.0          0.0   \n",
       "11      12  C12  OLA         1  4.12  0.99 -11.54   1.0          0.0   \n",
       "12      13  C13  OLA         1  4.43 -0.21 -12.44   1.0          0.0   \n",
       "13      14  C14  OLA         1  4.19  0.09 -13.92   1.0          0.0   \n",
       "14      15  C15  OLA         1  4.28 -1.18 -14.76   1.0          0.0   \n",
       "15      16  C16  OLA         1  4.21 -0.94 -16.27   1.0          0.0   \n",
       "16      17  C17  OLA         1  4.61 -2.21 -17.02   1.0          0.0   \n",
       "17      18  C18  OLA         1  4.47 -2.15 -18.54   1.0          0.0   \n",
       "18      19  O19  OLA         1  3.64 -1.41 -19.07   1.0          0.0   \n",
       "19      20  O20  OLA         1  5.45 -2.82 -19.21   1.0          0.0   \n",
       "20      21  H21  OLA         1   5.2 -2.47 -20.11   1.0          0.0   \n",
       "\n",
       "    dots-angle  dots-distance  \n",
       "0     0.000000       1.531307  \n",
       "1   107.748079       1.534731  \n",
       "2   118.529798       1.534764  \n",
       "3   104.618734       1.530131  \n",
       "4   110.738952       1.528692  \n",
       "5   109.130631       1.529379  \n",
       "6   127.755005       1.536066  \n",
       "7   115.752242       1.524893  \n",
       "8   122.155375       1.393341  \n",
       "9   126.320389       1.523975  \n",
       "10  109.403913       1.528332  \n",
       "11  117.388916       1.531698  \n",
       "12  112.535424       1.529052  \n",
       "13  111.125859       1.525320  \n",
       "14  114.208054       1.530555  \n",
       "15  109.992593       1.528202  \n",
       "16  115.575398       1.527613  \n",
       "17  120.894351       1.231828  \n",
       "18   29.208989       2.298652  \n",
       "19   69.045526       0.997497  \n",
       "20    0.000000       0.000000  "
      ]
     },
     "metadata": {},
     "output_type": "display_data"
    }
   ],
   "source": [
    "data['dots-distance'] = dots_distance(data)\n",
    "display(data)"
   ]
  },
  {
   "cell_type": "markdown",
   "id": "fitting-sydney",
   "metadata": {},
   "source": [
    "### Get the angle of each 5 Atoms"
   ]
  },
  {
   "cell_type": "code",
   "execution_count": 9,
   "id": "mental-squad",
   "metadata": {},
   "outputs": [],
   "source": [
    "import math\n",
    "\n",
    "# Equation of a plane through three points\n",
    "# https://kitchingroup.cheme.cmu.edu/blog/2015/01/18/Equation-of-a-plane-through-three-points/\n",
    "def dots_plane(a, b, c):\n",
    "    p1 = np.array(list(a))\n",
    "    p2 = np.array(list(b))\n",
    "    p3 = np.array(list(c))\n",
    "    v1 = p3 - p1\n",
    "    v2 = p2 - p1\n",
    "    return(np.cross(v1, v2))\n",
    "\n",
    "# Find the Angle between two planes in 3D.\n",
    "# https://www.geeksforgeeks.org/angle-between-two-planes-in-3d/\n",
    "def planes_angle(a1, b1, c1, a2, b2, c2):\n",
    "\t\n",
    "\td = ( a1 * a2 + b1 * b2 + c1 * c2 )\n",
    "\te1 = math.sqrt( a1 * a1 + b1 * b1 + c1 * c1)\n",
    "\te2 = math.sqrt( a2 * a2 + b2 * b2 + c2 * c2)\n",
    "\td = d / (e1 * e2)\n",
    "\tA = math.degrees(math.acos(d))\n",
    "\treturn(A)\n",
    "\n",
    "def surface_angle(data):\n",
    "    data.index = range(len(data))\n",
    "    angles = [0,0]\n",
    "    for k in range(len(data)-4):\n",
    "        a = data.loc[k, ['X', 'Y', 'Z']]\n",
    "        b = data.loc[k+1, ['X', 'Y', 'Z']]\n",
    "        c = data.loc[k+2, ['X', 'Y', 'Z']]\n",
    "        d = data.loc[k+3, ['X', 'Y', 'Z']]\n",
    "        e = data.loc[k+4, ['X', 'Y', 'Z']]\n",
    "        x1, y1, z1 = dots_plane(a,b,c)\n",
    "        x2, y2, z2 = dots_plane(c,b,e)\n",
    "        A = planes_angle(x1, y1, z1, x2, y2, z2)\n",
    "        angles.append(A)\n",
    "    angles.append(0)\n",
    "    angles.append(0)\n",
    "    return(angles)"
   ]
  },
  {
   "cell_type": "code",
   "execution_count": 10,
   "id": "funded-empire",
   "metadata": {},
   "outputs": [
    {
     "data": {
      "text/html": [
       "<div>\n",
       "<style scoped>\n",
       "    .dataframe tbody tr th:only-of-type {\n",
       "        vertical-align: middle;\n",
       "    }\n",
       "\n",
       "    .dataframe tbody tr th {\n",
       "        vertical-align: top;\n",
       "    }\n",
       "\n",
       "    .dataframe thead th {\n",
       "        text-align: right;\n",
       "    }\n",
       "</style>\n",
       "<table border=\"1\" class=\"dataframe\">\n",
       "  <thead>\n",
       "    <tr style=\"text-align: right;\">\n",
       "      <th></th>\n",
       "      <th>REMARK</th>\n",
       "      <th>4</th>\n",
       "      <th>1DPP</th>\n",
       "      <th>COMPLIES</th>\n",
       "      <th>X</th>\n",
       "      <th>Y</th>\n",
       "      <th>Z</th>\n",
       "      <th>2.0,</th>\n",
       "      <th>18-NOV-1998</th>\n",
       "      <th>dots-angle</th>\n",
       "      <th>dots-distance</th>\n",
       "      <th>planes-angle</th>\n",
       "    </tr>\n",
       "  </thead>\n",
       "  <tbody>\n",
       "    <tr>\n",
       "      <th>0</th>\n",
       "      <td>1</td>\n",
       "      <td>C1</td>\n",
       "      <td>OLA</td>\n",
       "      <td>1</td>\n",
       "      <td>0</td>\n",
       "      <td>0</td>\n",
       "      <td>0</td>\n",
       "      <td>1.0</td>\n",
       "      <td>0.0</td>\n",
       "      <td>0.000000</td>\n",
       "      <td>1.531307</td>\n",
       "      <td>0.000000</td>\n",
       "    </tr>\n",
       "    <tr>\n",
       "      <th>1</th>\n",
       "      <td>2</td>\n",
       "      <td>C2</td>\n",
       "      <td>OLA</td>\n",
       "      <td>1</td>\n",
       "      <td>0.34</td>\n",
       "      <td>0.57</td>\n",
       "      <td>-1.38</td>\n",
       "      <td>1.0</td>\n",
       "      <td>0.0</td>\n",
       "      <td>107.748079</td>\n",
       "      <td>1.534731</td>\n",
       "      <td>0.000000</td>\n",
       "    </tr>\n",
       "    <tr>\n",
       "      <th>2</th>\n",
       "      <td>3</td>\n",
       "      <td>C3</td>\n",
       "      <td>OLA</td>\n",
       "      <td>1</td>\n",
       "      <td>1.75</td>\n",
       "      <td>0.09</td>\n",
       "      <td>-1.75</td>\n",
       "      <td>1.0</td>\n",
       "      <td>0.0</td>\n",
       "      <td>118.529798</td>\n",
       "      <td>1.534764</td>\n",
       "      <td>5.075240</td>\n",
       "    </tr>\n",
       "    <tr>\n",
       "      <th>3</th>\n",
       "      <td>4</td>\n",
       "      <td>C4</td>\n",
       "      <td>OLA</td>\n",
       "      <td>1</td>\n",
       "      <td>2.34</td>\n",
       "      <td>0.52</td>\n",
       "      <td>-3.1</td>\n",
       "      <td>1.0</td>\n",
       "      <td>0.0</td>\n",
       "      <td>104.618734</td>\n",
       "      <td>1.530131</td>\n",
       "      <td>9.337508</td>\n",
       "    </tr>\n",
       "    <tr>\n",
       "      <th>4</th>\n",
       "      <td>5</td>\n",
       "      <td>C5</td>\n",
       "      <td>OLA</td>\n",
       "      <td>1</td>\n",
       "      <td>3.76</td>\n",
       "      <td>-0.05</td>\n",
       "      <td>-3.1</td>\n",
       "      <td>1.0</td>\n",
       "      <td>0.0</td>\n",
       "      <td>110.738952</td>\n",
       "      <td>1.528692</td>\n",
       "      <td>24.068684</td>\n",
       "    </tr>\n",
       "    <tr>\n",
       "      <th>5</th>\n",
       "      <td>6</td>\n",
       "      <td>C6</td>\n",
       "      <td>OLA</td>\n",
       "      <td>1</td>\n",
       "      <td>4.54</td>\n",
       "      <td>0.44</td>\n",
       "      <td>-4.32</td>\n",
       "      <td>1.0</td>\n",
       "      <td>0.0</td>\n",
       "      <td>109.130631</td>\n",
       "      <td>1.529379</td>\n",
       "      <td>113.983438</td>\n",
       "    </tr>\n",
       "    <tr>\n",
       "      <th>6</th>\n",
       "      <td>7</td>\n",
       "      <td>C7</td>\n",
       "      <td>OLA</td>\n",
       "      <td>1</td>\n",
       "      <td>3.85</td>\n",
       "      <td>-0.06</td>\n",
       "      <td>-5.59</td>\n",
       "      <td>1.0</td>\n",
       "      <td>0.0</td>\n",
       "      <td>127.755005</td>\n",
       "      <td>1.536066</td>\n",
       "      <td>9.021707</td>\n",
       "    </tr>\n",
       "    <tr>\n",
       "      <th>7</th>\n",
       "      <td>8</td>\n",
       "      <td>C8</td>\n",
       "      <td>OLA</td>\n",
       "      <td>1</td>\n",
       "      <td>4.34</td>\n",
       "      <td>0.07</td>\n",
       "      <td>-7.04</td>\n",
       "      <td>1.0</td>\n",
       "      <td>0.0</td>\n",
       "      <td>115.752242</td>\n",
       "      <td>1.524893</td>\n",
       "      <td>11.185341</td>\n",
       "    </tr>\n",
       "    <tr>\n",
       "      <th>8</th>\n",
       "      <td>9</td>\n",
       "      <td>C9</td>\n",
       "      <td>OLA</td>\n",
       "      <td>1</td>\n",
       "      <td>3.45</td>\n",
       "      <td>-0.57</td>\n",
       "      <td>-8.1</td>\n",
       "      <td>1.0</td>\n",
       "      <td>0.0</td>\n",
       "      <td>122.155375</td>\n",
       "      <td>1.393341</td>\n",
       "      <td>20.419322</td>\n",
       "    </tr>\n",
       "    <tr>\n",
       "      <th>9</th>\n",
       "      <td>10</td>\n",
       "      <td>C10</td>\n",
       "      <td>OLA</td>\n",
       "      <td>1</td>\n",
       "      <td>3.55</td>\n",
       "      <td>-0.24</td>\n",
       "      <td>-9.45</td>\n",
       "      <td>1.0</td>\n",
       "      <td>0.0</td>\n",
       "      <td>126.320389</td>\n",
       "      <td>1.523975</td>\n",
       "      <td>162.484362</td>\n",
       "    </tr>\n",
       "    <tr>\n",
       "      <th>10</th>\n",
       "      <td>11</td>\n",
       "      <td>C11</td>\n",
       "      <td>OLA</td>\n",
       "      <td>1</td>\n",
       "      <td>4.43</td>\n",
       "      <td>0.85</td>\n",
       "      <td>-10.05</td>\n",
       "      <td>1.0</td>\n",
       "      <td>0.0</td>\n",
       "      <td>109.403913</td>\n",
       "      <td>1.528332</td>\n",
       "      <td>21.414981</td>\n",
       "    </tr>\n",
       "    <tr>\n",
       "      <th>11</th>\n",
       "      <td>12</td>\n",
       "      <td>C12</td>\n",
       "      <td>OLA</td>\n",
       "      <td>1</td>\n",
       "      <td>4.12</td>\n",
       "      <td>0.99</td>\n",
       "      <td>-11.54</td>\n",
       "      <td>1.0</td>\n",
       "      <td>0.0</td>\n",
       "      <td>117.388916</td>\n",
       "      <td>1.531698</td>\n",
       "      <td>110.281996</td>\n",
       "    </tr>\n",
       "    <tr>\n",
       "      <th>12</th>\n",
       "      <td>13</td>\n",
       "      <td>C13</td>\n",
       "      <td>OLA</td>\n",
       "      <td>1</td>\n",
       "      <td>4.43</td>\n",
       "      <td>-0.21</td>\n",
       "      <td>-12.44</td>\n",
       "      <td>1.0</td>\n",
       "      <td>0.0</td>\n",
       "      <td>112.535424</td>\n",
       "      <td>1.529052</td>\n",
       "      <td>4.791015</td>\n",
       "    </tr>\n",
       "    <tr>\n",
       "      <th>13</th>\n",
       "      <td>14</td>\n",
       "      <td>C14</td>\n",
       "      <td>OLA</td>\n",
       "      <td>1</td>\n",
       "      <td>4.19</td>\n",
       "      <td>0.09</td>\n",
       "      <td>-13.92</td>\n",
       "      <td>1.0</td>\n",
       "      <td>0.0</td>\n",
       "      <td>111.125859</td>\n",
       "      <td>1.525320</td>\n",
       "      <td>3.421830</td>\n",
       "    </tr>\n",
       "    <tr>\n",
       "      <th>14</th>\n",
       "      <td>15</td>\n",
       "      <td>C15</td>\n",
       "      <td>OLA</td>\n",
       "      <td>1</td>\n",
       "      <td>4.28</td>\n",
       "      <td>-1.18</td>\n",
       "      <td>-14.76</td>\n",
       "      <td>1.0</td>\n",
       "      <td>0.0</td>\n",
       "      <td>114.208054</td>\n",
       "      <td>1.530555</td>\n",
       "      <td>19.890819</td>\n",
       "    </tr>\n",
       "    <tr>\n",
       "      <th>15</th>\n",
       "      <td>16</td>\n",
       "      <td>C16</td>\n",
       "      <td>OLA</td>\n",
       "      <td>1</td>\n",
       "      <td>4.21</td>\n",
       "      <td>-0.94</td>\n",
       "      <td>-16.27</td>\n",
       "      <td>1.0</td>\n",
       "      <td>0.0</td>\n",
       "      <td>109.992593</td>\n",
       "      <td>1.528202</td>\n",
       "      <td>7.943553</td>\n",
       "    </tr>\n",
       "    <tr>\n",
       "      <th>16</th>\n",
       "      <td>17</td>\n",
       "      <td>C17</td>\n",
       "      <td>OLA</td>\n",
       "      <td>1</td>\n",
       "      <td>4.61</td>\n",
       "      <td>-2.21</td>\n",
       "      <td>-17.02</td>\n",
       "      <td>1.0</td>\n",
       "      <td>0.0</td>\n",
       "      <td>115.575398</td>\n",
       "      <td>1.527613</td>\n",
       "      <td>16.769512</td>\n",
       "    </tr>\n",
       "    <tr>\n",
       "      <th>17</th>\n",
       "      <td>18</td>\n",
       "      <td>C18</td>\n",
       "      <td>OLA</td>\n",
       "      <td>1</td>\n",
       "      <td>4.47</td>\n",
       "      <td>-2.15</td>\n",
       "      <td>-18.54</td>\n",
       "      <td>1.0</td>\n",
       "      <td>0.0</td>\n",
       "      <td>120.894351</td>\n",
       "      <td>1.231828</td>\n",
       "      <td>36.479366</td>\n",
       "    </tr>\n",
       "    <tr>\n",
       "      <th>18</th>\n",
       "      <td>19</td>\n",
       "      <td>O19</td>\n",
       "      <td>OLA</td>\n",
       "      <td>1</td>\n",
       "      <td>3.64</td>\n",
       "      <td>-1.41</td>\n",
       "      <td>-19.07</td>\n",
       "      <td>1.0</td>\n",
       "      <td>0.0</td>\n",
       "      <td>29.208989</td>\n",
       "      <td>2.298652</td>\n",
       "      <td>10.177698</td>\n",
       "    </tr>\n",
       "    <tr>\n",
       "      <th>19</th>\n",
       "      <td>20</td>\n",
       "      <td>O20</td>\n",
       "      <td>OLA</td>\n",
       "      <td>1</td>\n",
       "      <td>5.45</td>\n",
       "      <td>-2.82</td>\n",
       "      <td>-19.21</td>\n",
       "      <td>1.0</td>\n",
       "      <td>0.0</td>\n",
       "      <td>69.045526</td>\n",
       "      <td>0.997497</td>\n",
       "      <td>0.000000</td>\n",
       "    </tr>\n",
       "    <tr>\n",
       "      <th>20</th>\n",
       "      <td>21</td>\n",
       "      <td>H21</td>\n",
       "      <td>OLA</td>\n",
       "      <td>1</td>\n",
       "      <td>5.2</td>\n",
       "      <td>-2.47</td>\n",
       "      <td>-20.11</td>\n",
       "      <td>1.0</td>\n",
       "      <td>0.0</td>\n",
       "      <td>0.000000</td>\n",
       "      <td>0.000000</td>\n",
       "      <td>0.000000</td>\n",
       "    </tr>\n",
       "  </tbody>\n",
       "</table>\n",
       "</div>"
      ],
      "text/plain": [
       "    REMARK    4 1DPP  COMPLIES     X     Y      Z  2.0,  18-NOV-1998  \\\n",
       "0        1   C1  OLA         1     0     0      0   1.0          0.0   \n",
       "1        2   C2  OLA         1  0.34  0.57  -1.38   1.0          0.0   \n",
       "2        3   C3  OLA         1  1.75  0.09  -1.75   1.0          0.0   \n",
       "3        4   C4  OLA         1  2.34  0.52   -3.1   1.0          0.0   \n",
       "4        5   C5  OLA         1  3.76 -0.05   -3.1   1.0          0.0   \n",
       "5        6   C6  OLA         1  4.54  0.44  -4.32   1.0          0.0   \n",
       "6        7   C7  OLA         1  3.85 -0.06  -5.59   1.0          0.0   \n",
       "7        8   C8  OLA         1  4.34  0.07  -7.04   1.0          0.0   \n",
       "8        9   C9  OLA         1  3.45 -0.57   -8.1   1.0          0.0   \n",
       "9       10  C10  OLA         1  3.55 -0.24  -9.45   1.0          0.0   \n",
       "10      11  C11  OLA         1  4.43  0.85 -10.05   1.0          0.0   \n",
       "11      12  C12  OLA         1  4.12  0.99 -11.54   1.0          0.0   \n",
       "12      13  C13  OLA         1  4.43 -0.21 -12.44   1.0          0.0   \n",
       "13      14  C14  OLA         1  4.19  0.09 -13.92   1.0          0.0   \n",
       "14      15  C15  OLA         1  4.28 -1.18 -14.76   1.0          0.0   \n",
       "15      16  C16  OLA         1  4.21 -0.94 -16.27   1.0          0.0   \n",
       "16      17  C17  OLA         1  4.61 -2.21 -17.02   1.0          0.0   \n",
       "17      18  C18  OLA         1  4.47 -2.15 -18.54   1.0          0.0   \n",
       "18      19  O19  OLA         1  3.64 -1.41 -19.07   1.0          0.0   \n",
       "19      20  O20  OLA         1  5.45 -2.82 -19.21   1.0          0.0   \n",
       "20      21  H21  OLA         1   5.2 -2.47 -20.11   1.0          0.0   \n",
       "\n",
       "    dots-angle  dots-distance  planes-angle  \n",
       "0     0.000000       1.531307      0.000000  \n",
       "1   107.748079       1.534731      0.000000  \n",
       "2   118.529798       1.534764      5.075240  \n",
       "3   104.618734       1.530131      9.337508  \n",
       "4   110.738952       1.528692     24.068684  \n",
       "5   109.130631       1.529379    113.983438  \n",
       "6   127.755005       1.536066      9.021707  \n",
       "7   115.752242       1.524893     11.185341  \n",
       "8   122.155375       1.393341     20.419322  \n",
       "9   126.320389       1.523975    162.484362  \n",
       "10  109.403913       1.528332     21.414981  \n",
       "11  117.388916       1.531698    110.281996  \n",
       "12  112.535424       1.529052      4.791015  \n",
       "13  111.125859       1.525320      3.421830  \n",
       "14  114.208054       1.530555     19.890819  \n",
       "15  109.992593       1.528202      7.943553  \n",
       "16  115.575398       1.527613     16.769512  \n",
       "17  120.894351       1.231828     36.479366  \n",
       "18   29.208989       2.298652     10.177698  \n",
       "19   69.045526       0.997497      0.000000  \n",
       "20    0.000000       0.000000      0.000000  "
      ]
     },
     "metadata": {},
     "output_type": "display_data"
    }
   ],
   "source": [
    "data['planes-angle'] = surface_angle(data)\n",
    "display(data)"
   ]
  },
  {
   "cell_type": "markdown",
   "id": "growing-estonia",
   "metadata": {},
   "source": [
    "### Load all protein data"
   ]
  },
  {
   "cell_type": "code",
   "execution_count": 54,
   "id": "marked-lexington",
   "metadata": {},
   "outputs": [],
   "source": [
    "PATH = 'CeramideMix-lipids-Test.pdb'"
   ]
  },
  {
   "cell_type": "code",
   "execution_count": 55,
   "id": "challenging-counter",
   "metadata": {},
   "outputs": [
    {
     "data": {
      "text/html": [
       "<div>\n",
       "<style scoped>\n",
       "    .dataframe tbody tr th:only-of-type {\n",
       "        vertical-align: middle;\n",
       "    }\n",
       "\n",
       "    .dataframe tbody tr th {\n",
       "        vertical-align: top;\n",
       "    }\n",
       "\n",
       "    .dataframe thead th {\n",
       "        text-align: right;\n",
       "    }\n",
       "</style>\n",
       "<table border=\"1\" class=\"dataframe\">\n",
       "  <thead>\n",
       "    <tr style=\"text-align: right;\">\n",
       "      <th></th>\n",
       "      <th>REMARK</th>\n",
       "      <th>Cx</th>\n",
       "      <th>1DPP</th>\n",
       "      <th>COMPLIES</th>\n",
       "      <th>X</th>\n",
       "      <th>Y</th>\n",
       "      <th>Z</th>\n",
       "      <th>2.0,</th>\n",
       "      <th>18-NOV-1998</th>\n",
       "    </tr>\n",
       "  </thead>\n",
       "  <tbody>\n",
       "    <tr>\n",
       "      <th>0</th>\n",
       "      <td>1.0</td>\n",
       "      <td>C1</td>\n",
       "      <td>OLA</td>\n",
       "      <td>1.0</td>\n",
       "      <td>44.29</td>\n",
       "      <td>24.62</td>\n",
       "      <td>58.04</td>\n",
       "      <td>1.0</td>\n",
       "      <td>0.0</td>\n",
       "    </tr>\n",
       "    <tr>\n",
       "      <th>1</th>\n",
       "      <td>2.0</td>\n",
       "      <td>C2</td>\n",
       "      <td>OLA</td>\n",
       "      <td>1.0</td>\n",
       "      <td>44.63</td>\n",
       "      <td>25.19</td>\n",
       "      <td>56.66</td>\n",
       "      <td>1.0</td>\n",
       "      <td>0.0</td>\n",
       "    </tr>\n",
       "    <tr>\n",
       "      <th>2</th>\n",
       "      <td>3.0</td>\n",
       "      <td>C3</td>\n",
       "      <td>OLA</td>\n",
       "      <td>1.0</td>\n",
       "      <td>46.04</td>\n",
       "      <td>24.71</td>\n",
       "      <td>56.29</td>\n",
       "      <td>1.0</td>\n",
       "      <td>0.0</td>\n",
       "    </tr>\n",
       "    <tr>\n",
       "      <th>3</th>\n",
       "      <td>4.0</td>\n",
       "      <td>C4</td>\n",
       "      <td>OLA</td>\n",
       "      <td>1.0</td>\n",
       "      <td>46.63</td>\n",
       "      <td>25.14</td>\n",
       "      <td>54.94</td>\n",
       "      <td>1.0</td>\n",
       "      <td>0.0</td>\n",
       "    </tr>\n",
       "    <tr>\n",
       "      <th>4</th>\n",
       "      <td>5.0</td>\n",
       "      <td>C5</td>\n",
       "      <td>OLA</td>\n",
       "      <td>1.0</td>\n",
       "      <td>48.05</td>\n",
       "      <td>24.57</td>\n",
       "      <td>54.94</td>\n",
       "      <td>1.0</td>\n",
       "      <td>0.0</td>\n",
       "    </tr>\n",
       "    <tr>\n",
       "      <th>...</th>\n",
       "      <td>...</td>\n",
       "      <td>...</td>\n",
       "      <td>...</td>\n",
       "      <td>...</td>\n",
       "      <td>...</td>\n",
       "      <td>...</td>\n",
       "      <td>...</td>\n",
       "      <td>...</td>\n",
       "      <td>...</td>\n",
       "    </tr>\n",
       "    <tr>\n",
       "      <th>10632</th>\n",
       "      <td>26383.0</td>\n",
       "      <td>C21</td>\n",
       "      <td>FA2</td>\n",
       "      <td>5566.0</td>\n",
       "      <td>84.79</td>\n",
       "      <td>13.09</td>\n",
       "      <td>58.79</td>\n",
       "      <td>1.0</td>\n",
       "      <td>0.0</td>\n",
       "    </tr>\n",
       "    <tr>\n",
       "      <th>10633</th>\n",
       "      <td>26384.0</td>\n",
       "      <td>C22</td>\n",
       "      <td>FA2</td>\n",
       "      <td>5566.0</td>\n",
       "      <td>86.30</td>\n",
       "      <td>13.22</td>\n",
       "      <td>58.99</td>\n",
       "      <td>1.0</td>\n",
       "      <td>0.0</td>\n",
       "    </tr>\n",
       "    <tr>\n",
       "      <th>10634</th>\n",
       "      <td>26385.0</td>\n",
       "      <td>C23</td>\n",
       "      <td>FA2</td>\n",
       "      <td>5566.0</td>\n",
       "      <td>86.54</td>\n",
       "      <td>13.91</td>\n",
       "      <td>60.34</td>\n",
       "      <td>1.0</td>\n",
       "      <td>0.0</td>\n",
       "    </tr>\n",
       "    <tr>\n",
       "      <th>10635</th>\n",
       "      <td>26386.0</td>\n",
       "      <td>C24</td>\n",
       "      <td>FA2</td>\n",
       "      <td>5566.0</td>\n",
       "      <td>87.97</td>\n",
       "      <td>13.77</td>\n",
       "      <td>60.87</td>\n",
       "      <td>1.0</td>\n",
       "      <td>0.0</td>\n",
       "    </tr>\n",
       "    <tr>\n",
       "      <th>10636</th>\n",
       "      <td>NaN</td>\n",
       "      <td>NaN</td>\n",
       "      <td>NaN</td>\n",
       "      <td>NaN</td>\n",
       "      <td>NaN</td>\n",
       "      <td>NaN</td>\n",
       "      <td>NaN</td>\n",
       "      <td>NaN</td>\n",
       "      <td>NaN</td>\n",
       "    </tr>\n",
       "  </tbody>\n",
       "</table>\n",
       "<p>10637 rows × 9 columns</p>\n",
       "</div>"
      ],
      "text/plain": [
       "        REMARK   Cx 1DPP  COMPLIES      X      Y      Z  2.0,  18-NOV-1998\n",
       "0          1.0   C1  OLA       1.0  44.29  24.62  58.04   1.0          0.0\n",
       "1          2.0   C2  OLA       1.0  44.63  25.19  56.66   1.0          0.0\n",
       "2          3.0   C3  OLA       1.0  46.04  24.71  56.29   1.0          0.0\n",
       "3          4.0   C4  OLA       1.0  46.63  25.14  54.94   1.0          0.0\n",
       "4          5.0   C5  OLA       1.0  48.05  24.57  54.94   1.0          0.0\n",
       "...        ...  ...  ...       ...    ...    ...    ...   ...          ...\n",
       "10632  26383.0  C21  FA2    5566.0  84.79  13.09  58.79   1.0          0.0\n",
       "10633  26384.0  C22  FA2    5566.0  86.30  13.22  58.99   1.0          0.0\n",
       "10634  26385.0  C23  FA2    5566.0  86.54  13.91  60.34   1.0          0.0\n",
       "10635  26386.0  C24  FA2    5566.0  87.97  13.77  60.87   1.0          0.0\n",
       "10636      NaN  NaN  NaN       NaN    NaN    NaN    NaN   NaN          NaN\n",
       "\n",
       "[10637 rows x 9 columns]"
      ]
     },
     "metadata": {},
     "output_type": "display_data"
    }
   ],
   "source": [
    "data_all = pd.read_csv(PATH,sep='\\s+')\n",
    "\n",
    "data_all.columns = ['REMARK','Cx','1DPP','COMPLIES','X','Y','Z','2.0,','18-NOV-1998']\n",
    "data_all.index = range(len(data_all))\n",
    "display(data_all)"
   ]
  },
  {
   "cell_type": "code",
   "execution_count": 56,
   "id": "pending-nurse",
   "metadata": {},
   "outputs": [],
   "source": [
    "start_id = np.array(data_all[np.logical_and(data_all['1DPP'] == 'OLA', data_all['Cx'] == 'C1')].index)\n",
    "end_id = start_id + 21\n",
    "protein_list = [data_all.iloc[start_id[k]:end_id[k]].copy() for k in range(len(start_id))]"
   ]
  },
  {
   "cell_type": "code",
   "execution_count": 98,
   "id": "norman-noise",
   "metadata": {},
   "outputs": [
    {
     "data": {
      "text/html": [
       "<div>\n",
       "<style scoped>\n",
       "    .dataframe tbody tr th:only-of-type {\n",
       "        vertical-align: middle;\n",
       "    }\n",
       "\n",
       "    .dataframe tbody tr th {\n",
       "        vertical-align: top;\n",
       "    }\n",
       "\n",
       "    .dataframe thead th {\n",
       "        text-align: right;\n",
       "    }\n",
       "</style>\n",
       "<table border=\"1\" class=\"dataframe\">\n",
       "  <thead>\n",
       "    <tr style=\"text-align: right;\">\n",
       "      <th></th>\n",
       "      <th>REMARK</th>\n",
       "      <th>Cx</th>\n",
       "      <th>1DPP</th>\n",
       "      <th>COMPLIES</th>\n",
       "      <th>X</th>\n",
       "      <th>Y</th>\n",
       "      <th>Z</th>\n",
       "      <th>2.0,</th>\n",
       "      <th>18-NOV-1998</th>\n",
       "      <th>dots-angle</th>\n",
       "      <th>dots-distance</th>\n",
       "      <th>planes-angle</th>\n",
       "    </tr>\n",
       "  </thead>\n",
       "  <tbody>\n",
       "    <tr>\n",
       "      <th>0</th>\n",
       "      <td>21090.0</td>\n",
       "      <td>C1</td>\n",
       "      <td>OLA</td>\n",
       "      <td>5410.0</td>\n",
       "      <td>0</td>\n",
       "      <td>0</td>\n",
       "      <td>0</td>\n",
       "      <td>1.0</td>\n",
       "      <td>0.0</td>\n",
       "      <td>0.000000</td>\n",
       "      <td>1.527416</td>\n",
       "      <td>0.000000</td>\n",
       "    </tr>\n",
       "    <tr>\n",
       "      <th>1</th>\n",
       "      <td>21091.0</td>\n",
       "      <td>C2</td>\n",
       "      <td>OLA</td>\n",
       "      <td>5410.0</td>\n",
       "      <td>-0.65</td>\n",
       "      <td>0.41</td>\n",
       "      <td>-1.32</td>\n",
       "      <td>1.0</td>\n",
       "      <td>0.0</td>\n",
       "      <td>111.894161</td>\n",
       "      <td>1.523975</td>\n",
       "      <td>0.000000</td>\n",
       "    </tr>\n",
       "    <tr>\n",
       "      <th>2</th>\n",
       "      <td>21092.0</td>\n",
       "      <td>C3</td>\n",
       "      <td>OLA</td>\n",
       "      <td>5410.0</td>\n",
       "      <td>0.35</td>\n",
       "      <td>0.41</td>\n",
       "      <td>-2.47</td>\n",
       "      <td>1.0</td>\n",
       "      <td>0.0</td>\n",
       "      <td>111.966338</td>\n",
       "      <td>1.527907</td>\n",
       "      <td>5.189511</td>\n",
       "    </tr>\n",
       "    <tr>\n",
       "      <th>3</th>\n",
       "      <td>21093.0</td>\n",
       "      <td>C4</td>\n",
       "      <td>OLA</td>\n",
       "      <td>5410.0</td>\n",
       "      <td>-0.32</td>\n",
       "      <td>0.71</td>\n",
       "      <td>-3.81</td>\n",
       "      <td>1.0</td>\n",
       "      <td>0.0</td>\n",
       "      <td>107.887659</td>\n",
       "      <td>1.526958</td>\n",
       "      <td>8.825320</td>\n",
       "    </tr>\n",
       "    <tr>\n",
       "      <th>4</th>\n",
       "      <td>21094.0</td>\n",
       "      <td>C5</td>\n",
       "      <td>OLA</td>\n",
       "      <td>5410.0</td>\n",
       "      <td>0.78</td>\n",
       "      <td>0.91</td>\n",
       "      <td>-4.85</td>\n",
       "      <td>1.0</td>\n",
       "      <td>0.0</td>\n",
       "      <td>117.165355</td>\n",
       "      <td>1.527940</td>\n",
       "      <td>5.516336</td>\n",
       "    </tr>\n",
       "    <tr>\n",
       "      <th>5</th>\n",
       "      <td>21095.0</td>\n",
       "      <td>C6</td>\n",
       "      <td>OLA</td>\n",
       "      <td>5410.0</td>\n",
       "      <td>0.34</td>\n",
       "      <td>1.22</td>\n",
       "      <td>-6.28</td>\n",
       "      <td>1.0</td>\n",
       "      <td>0.0</td>\n",
       "      <td>114.454948</td>\n",
       "      <td>1.524664</td>\n",
       "      <td>8.985397</td>\n",
       "    </tr>\n",
       "    <tr>\n",
       "      <th>6</th>\n",
       "      <td>21096.0</td>\n",
       "      <td>C7</td>\n",
       "      <td>OLA</td>\n",
       "      <td>5410.0</td>\n",
       "      <td>1.48</td>\n",
       "      <td>1.29</td>\n",
       "      <td>-7.29</td>\n",
       "      <td>1.0</td>\n",
       "      <td>0.0</td>\n",
       "      <td>115.499409</td>\n",
       "      <td>1.524139</td>\n",
       "      <td>20.415619</td>\n",
       "    </tr>\n",
       "    <tr>\n",
       "      <th>7</th>\n",
       "      <td>21097.0</td>\n",
       "      <td>C8</td>\n",
       "      <td>OLA</td>\n",
       "      <td>5410.0</td>\n",
       "      <td>1.06</td>\n",
       "      <td>1.5</td>\n",
       "      <td>-8.74</td>\n",
       "      <td>1.0</td>\n",
       "      <td>0.0</td>\n",
       "      <td>106.251053</td>\n",
       "      <td>1.526991</td>\n",
       "      <td>17.477910</td>\n",
       "    </tr>\n",
       "    <tr>\n",
       "      <th>8</th>\n",
       "      <td>21098.0</td>\n",
       "      <td>C9</td>\n",
       "      <td>OLA</td>\n",
       "      <td>5410.0</td>\n",
       "      <td>2.28</td>\n",
       "      <td>2.07</td>\n",
       "      <td>-9.46</td>\n",
       "      <td>1.0</td>\n",
       "      <td>0.0</td>\n",
       "      <td>117.447639</td>\n",
       "      <td>1.393341</td>\n",
       "      <td>4.609714</td>\n",
       "    </tr>\n",
       "    <tr>\n",
       "      <th>9</th>\n",
       "      <td>21099.0</td>\n",
       "      <td>C10</td>\n",
       "      <td>OLA</td>\n",
       "      <td>5410.0</td>\n",
       "      <td>2.19</td>\n",
       "      <td>2.24</td>\n",
       "      <td>-10.84</td>\n",
       "      <td>1.0</td>\n",
       "      <td>0.0</td>\n",
       "      <td>125.877184</td>\n",
       "      <td>1.528594</td>\n",
       "      <td>162.475337</td>\n",
       "    </tr>\n",
       "    <tr>\n",
       "      <th>10</th>\n",
       "      <td>21100.0</td>\n",
       "      <td>C11</td>\n",
       "      <td>OLA</td>\n",
       "      <td>5410.0</td>\n",
       "      <td>0.96</td>\n",
       "      <td>1.95</td>\n",
       "      <td>-11.7</td>\n",
       "      <td>1.0</td>\n",
       "      <td>0.0</td>\n",
       "      <td>105.985930</td>\n",
       "      <td>1.526925</td>\n",
       "      <td>34.596344</td>\n",
       "    </tr>\n",
       "    <tr>\n",
       "      <th>11</th>\n",
       "      <td>21101.0</td>\n",
       "      <td>C12</td>\n",
       "      <td>OLA</td>\n",
       "      <td>5410.0</td>\n",
       "      <td>1.43</td>\n",
       "      <td>2.04</td>\n",
       "      <td>-13.15</td>\n",
       "      <td>1.0</td>\n",
       "      <td>0.0</td>\n",
       "      <td>118.702434</td>\n",
       "      <td>1.527023</td>\n",
       "      <td>30.810084</td>\n",
       "    </tr>\n",
       "    <tr>\n",
       "      <th>12</th>\n",
       "      <td>21102.0</td>\n",
       "      <td>C13</td>\n",
       "      <td>OLA</td>\n",
       "      <td>5410.0</td>\n",
       "      <td>0.89</td>\n",
       "      <td>1.03</td>\n",
       "      <td>-14.16</td>\n",
       "      <td>1.0</td>\n",
       "      <td>0.0</td>\n",
       "      <td>109.617643</td>\n",
       "      <td>1.534080</td>\n",
       "      <td>20.148978</td>\n",
       "    </tr>\n",
       "    <tr>\n",
       "      <th>13</th>\n",
       "      <td>21103.0</td>\n",
       "      <td>C14</td>\n",
       "      <td>OLA</td>\n",
       "      <td>5410.0</td>\n",
       "      <td>1.36</td>\n",
       "      <td>1.41</td>\n",
       "      <td>-15.57</td>\n",
       "      <td>1.0</td>\n",
       "      <td>0.0</td>\n",
       "      <td>113.929577</td>\n",
       "      <td>1.528823</td>\n",
       "      <td>15.525940</td>\n",
       "    </tr>\n",
       "    <tr>\n",
       "      <th>14</th>\n",
       "      <td>21104.0</td>\n",
       "      <td>C15</td>\n",
       "      <td>OLA</td>\n",
       "      <td>5410.0</td>\n",
       "      <td>0.59</td>\n",
       "      <td>0.71</td>\n",
       "      <td>-16.69</td>\n",
       "      <td>1.0</td>\n",
       "      <td>0.0</td>\n",
       "      <td>104.339237</td>\n",
       "      <td>1.534471</td>\n",
       "      <td>6.006394</td>\n",
       "    </tr>\n",
       "    <tr>\n",
       "      <th>15</th>\n",
       "      <td>21105.0</td>\n",
       "      <td>C16</td>\n",
       "      <td>OLA</td>\n",
       "      <td>5410.0</td>\n",
       "      <td>1.23</td>\n",
       "      <td>1.24</td>\n",
       "      <td>-17.98</td>\n",
       "      <td>1.0</td>\n",
       "      <td>0.0</td>\n",
       "      <td>99.500334</td>\n",
       "      <td>1.525647</td>\n",
       "      <td>15.991942</td>\n",
       "    </tr>\n",
       "    <tr>\n",
       "      <th>16</th>\n",
       "      <td>21106.0</td>\n",
       "      <td>C17</td>\n",
       "      <td>OLA</td>\n",
       "      <td>5410.0</td>\n",
       "      <td>0.49</td>\n",
       "      <td>0.38</td>\n",
       "      <td>-19</td>\n",
       "      <td>1.0</td>\n",
       "      <td>0.0</td>\n",
       "      <td>106.956369</td>\n",
       "      <td>1.525582</td>\n",
       "      <td>25.169462</td>\n",
       "    </tr>\n",
       "    <tr>\n",
       "      <th>17</th>\n",
       "      <td>21107.0</td>\n",
       "      <td>C18</td>\n",
       "      <td>OLA</td>\n",
       "      <td>5410.0</td>\n",
       "      <td>1.22</td>\n",
       "      <td>0.54</td>\n",
       "      <td>-20.33</td>\n",
       "      <td>1.0</td>\n",
       "      <td>0.0</td>\n",
       "      <td>128.511828</td>\n",
       "      <td>1.236810</td>\n",
       "      <td>30.620160</td>\n",
       "    </tr>\n",
       "    <tr>\n",
       "      <th>18</th>\n",
       "      <td>21108.0</td>\n",
       "      <td>O19</td>\n",
       "      <td>OLA</td>\n",
       "      <td>5410.0</td>\n",
       "      <td>2.43</td>\n",
       "      <td>0.7</td>\n",
       "      <td>-20.53</td>\n",
       "      <td>1.0</td>\n",
       "      <td>0.0</td>\n",
       "      <td>33.683408</td>\n",
       "      <td>2.204790</td>\n",
       "      <td>4.495220</td>\n",
       "    </tr>\n",
       "    <tr>\n",
       "      <th>19</th>\n",
       "      <td>21109.0</td>\n",
       "      <td>O20</td>\n",
       "      <td>OLA</td>\n",
       "      <td>5410.0</td>\n",
       "      <td>0.44</td>\n",
       "      <td>0.43</td>\n",
       "      <td>-21.44</td>\n",
       "      <td>1.0</td>\n",
       "      <td>0.0</td>\n",
       "      <td>142.288798</td>\n",
       "      <td>0.998499</td>\n",
       "      <td>0.000000</td>\n",
       "    </tr>\n",
       "    <tr>\n",
       "      <th>20</th>\n",
       "      <td>21110.0</td>\n",
       "      <td>H21</td>\n",
       "      <td>OLA</td>\n",
       "      <td>5410.0</td>\n",
       "      <td>-0.52</td>\n",
       "      <td>0.28</td>\n",
       "      <td>-21.21</td>\n",
       "      <td>1.0</td>\n",
       "      <td>0.0</td>\n",
       "      <td>0.000000</td>\n",
       "      <td>0.000000</td>\n",
       "      <td>0.000000</td>\n",
       "    </tr>\n",
       "  </tbody>\n",
       "</table>\n",
       "</div>"
      ],
      "text/plain": [
       "     REMARK   Cx 1DPP  COMPLIES     X     Y      Z  2.0,  18-NOV-1998  \\\n",
       "0   21090.0   C1  OLA    5410.0     0     0      0   1.0          0.0   \n",
       "1   21091.0   C2  OLA    5410.0 -0.65  0.41  -1.32   1.0          0.0   \n",
       "2   21092.0   C3  OLA    5410.0  0.35  0.41  -2.47   1.0          0.0   \n",
       "3   21093.0   C4  OLA    5410.0 -0.32  0.71  -3.81   1.0          0.0   \n",
       "4   21094.0   C5  OLA    5410.0  0.78  0.91  -4.85   1.0          0.0   \n",
       "5   21095.0   C6  OLA    5410.0  0.34  1.22  -6.28   1.0          0.0   \n",
       "6   21096.0   C7  OLA    5410.0  1.48  1.29  -7.29   1.0          0.0   \n",
       "7   21097.0   C8  OLA    5410.0  1.06   1.5  -8.74   1.0          0.0   \n",
       "8   21098.0   C9  OLA    5410.0  2.28  2.07  -9.46   1.0          0.0   \n",
       "9   21099.0  C10  OLA    5410.0  2.19  2.24 -10.84   1.0          0.0   \n",
       "10  21100.0  C11  OLA    5410.0  0.96  1.95  -11.7   1.0          0.0   \n",
       "11  21101.0  C12  OLA    5410.0  1.43  2.04 -13.15   1.0          0.0   \n",
       "12  21102.0  C13  OLA    5410.0  0.89  1.03 -14.16   1.0          0.0   \n",
       "13  21103.0  C14  OLA    5410.0  1.36  1.41 -15.57   1.0          0.0   \n",
       "14  21104.0  C15  OLA    5410.0  0.59  0.71 -16.69   1.0          0.0   \n",
       "15  21105.0  C16  OLA    5410.0  1.23  1.24 -17.98   1.0          0.0   \n",
       "16  21106.0  C17  OLA    5410.0  0.49  0.38    -19   1.0          0.0   \n",
       "17  21107.0  C18  OLA    5410.0  1.22  0.54 -20.33   1.0          0.0   \n",
       "18  21108.0  O19  OLA    5410.0  2.43   0.7 -20.53   1.0          0.0   \n",
       "19  21109.0  O20  OLA    5410.0  0.44  0.43 -21.44   1.0          0.0   \n",
       "20  21110.0  H21  OLA    5410.0 -0.52  0.28 -21.21   1.0          0.0   \n",
       "\n",
       "    dots-angle  dots-distance  planes-angle  \n",
       "0     0.000000       1.527416      0.000000  \n",
       "1   111.894161       1.523975      0.000000  \n",
       "2   111.966338       1.527907      5.189511  \n",
       "3   107.887659       1.526958      8.825320  \n",
       "4   117.165355       1.527940      5.516336  \n",
       "5   114.454948       1.524664      8.985397  \n",
       "6   115.499409       1.524139     20.415619  \n",
       "7   106.251053       1.526991     17.477910  \n",
       "8   117.447639       1.393341      4.609714  \n",
       "9   125.877184       1.528594    162.475337  \n",
       "10  105.985930       1.526925     34.596344  \n",
       "11  118.702434       1.527023     30.810084  \n",
       "12  109.617643       1.534080     20.148978  \n",
       "13  113.929577       1.528823     15.525940  \n",
       "14  104.339237       1.534471      6.006394  \n",
       "15   99.500334       1.525647     15.991942  \n",
       "16  106.956369       1.525582     25.169462  \n",
       "17  128.511828       1.236810     30.620160  \n",
       "18   33.683408       2.204790      4.495220  \n",
       "19  142.288798       0.998499      0.000000  \n",
       "20    0.000000       0.000000      0.000000  "
      ]
     },
     "metadata": {},
     "output_type": "display_data"
    },
    {
     "data": {
      "text/plain": [
       "32"
      ]
     },
     "execution_count": 98,
     "metadata": {},
     "output_type": "execute_result"
    }
   ],
   "source": [
    "display(protein_list[17])\n",
    "n_samples = len(protein_list)\n",
    "n_samples"
   ]
  },
  {
   "cell_type": "code",
   "execution_count": 58,
   "id": "cultural-joint",
   "metadata": {},
   "outputs": [],
   "source": [
    "def portein_format(data):\n",
    "    data.index = range(len(data))\n",
    "    data[['X','Y','Z']] = data[['X','Y','Z']] - data.loc[0, ['X','Y','Z']]\n",
    "    data['dots-angle'] = dots_angle(data)\n",
    "    data['dots-distance'] = dots_distance(data)\n",
    "    data['planes-angle'] = surface_angle(data)\n",
    "    return(data)"
   ]
  },
  {
   "cell_type": "code",
   "execution_count": 59,
   "id": "thrown-custody",
   "metadata": {},
   "outputs": [],
   "source": [
    "portein_format_list = [portein_format(p) for p in protein_list]"
   ]
  },
  {
   "cell_type": "code",
   "execution_count": 60,
   "id": "senior-entrepreneur",
   "metadata": {},
   "outputs": [
    {
     "data": {
      "text/html": [
       "<div>\n",
       "<style scoped>\n",
       "    .dataframe tbody tr th:only-of-type {\n",
       "        vertical-align: middle;\n",
       "    }\n",
       "\n",
       "    .dataframe tbody tr th {\n",
       "        vertical-align: top;\n",
       "    }\n",
       "\n",
       "    .dataframe thead th {\n",
       "        text-align: right;\n",
       "    }\n",
       "</style>\n",
       "<table border=\"1\" class=\"dataframe\">\n",
       "  <thead>\n",
       "    <tr style=\"text-align: right;\">\n",
       "      <th></th>\n",
       "      <th>REMARK</th>\n",
       "      <th>Cx</th>\n",
       "      <th>1DPP</th>\n",
       "      <th>COMPLIES</th>\n",
       "      <th>X</th>\n",
       "      <th>Y</th>\n",
       "      <th>Z</th>\n",
       "      <th>2.0,</th>\n",
       "      <th>18-NOV-1998</th>\n",
       "      <th>dots-angle</th>\n",
       "      <th>dots-distance</th>\n",
       "      <th>planes-angle</th>\n",
       "    </tr>\n",
       "  </thead>\n",
       "  <tbody>\n",
       "    <tr>\n",
       "      <th>0</th>\n",
       "      <td>21090.0</td>\n",
       "      <td>C1</td>\n",
       "      <td>OLA</td>\n",
       "      <td>5410.0</td>\n",
       "      <td>0</td>\n",
       "      <td>0</td>\n",
       "      <td>0</td>\n",
       "      <td>1.0</td>\n",
       "      <td>0.0</td>\n",
       "      <td>0.000000</td>\n",
       "      <td>1.527416</td>\n",
       "      <td>0.000000</td>\n",
       "    </tr>\n",
       "    <tr>\n",
       "      <th>1</th>\n",
       "      <td>21091.0</td>\n",
       "      <td>C2</td>\n",
       "      <td>OLA</td>\n",
       "      <td>5410.0</td>\n",
       "      <td>-0.65</td>\n",
       "      <td>0.41</td>\n",
       "      <td>-1.32</td>\n",
       "      <td>1.0</td>\n",
       "      <td>0.0</td>\n",
       "      <td>111.894161</td>\n",
       "      <td>1.523975</td>\n",
       "      <td>0.000000</td>\n",
       "    </tr>\n",
       "    <tr>\n",
       "      <th>2</th>\n",
       "      <td>21092.0</td>\n",
       "      <td>C3</td>\n",
       "      <td>OLA</td>\n",
       "      <td>5410.0</td>\n",
       "      <td>0.35</td>\n",
       "      <td>0.41</td>\n",
       "      <td>-2.47</td>\n",
       "      <td>1.0</td>\n",
       "      <td>0.0</td>\n",
       "      <td>111.966338</td>\n",
       "      <td>1.527907</td>\n",
       "      <td>5.189511</td>\n",
       "    </tr>\n",
       "    <tr>\n",
       "      <th>3</th>\n",
       "      <td>21093.0</td>\n",
       "      <td>C4</td>\n",
       "      <td>OLA</td>\n",
       "      <td>5410.0</td>\n",
       "      <td>-0.32</td>\n",
       "      <td>0.71</td>\n",
       "      <td>-3.81</td>\n",
       "      <td>1.0</td>\n",
       "      <td>0.0</td>\n",
       "      <td>107.887659</td>\n",
       "      <td>1.526958</td>\n",
       "      <td>8.825320</td>\n",
       "    </tr>\n",
       "    <tr>\n",
       "      <th>4</th>\n",
       "      <td>21094.0</td>\n",
       "      <td>C5</td>\n",
       "      <td>OLA</td>\n",
       "      <td>5410.0</td>\n",
       "      <td>0.78</td>\n",
       "      <td>0.91</td>\n",
       "      <td>-4.85</td>\n",
       "      <td>1.0</td>\n",
       "      <td>0.0</td>\n",
       "      <td>117.165355</td>\n",
       "      <td>1.527940</td>\n",
       "      <td>5.516336</td>\n",
       "    </tr>\n",
       "    <tr>\n",
       "      <th>5</th>\n",
       "      <td>21095.0</td>\n",
       "      <td>C6</td>\n",
       "      <td>OLA</td>\n",
       "      <td>5410.0</td>\n",
       "      <td>0.34</td>\n",
       "      <td>1.22</td>\n",
       "      <td>-6.28</td>\n",
       "      <td>1.0</td>\n",
       "      <td>0.0</td>\n",
       "      <td>114.454948</td>\n",
       "      <td>1.524664</td>\n",
       "      <td>8.985397</td>\n",
       "    </tr>\n",
       "    <tr>\n",
       "      <th>6</th>\n",
       "      <td>21096.0</td>\n",
       "      <td>C7</td>\n",
       "      <td>OLA</td>\n",
       "      <td>5410.0</td>\n",
       "      <td>1.48</td>\n",
       "      <td>1.29</td>\n",
       "      <td>-7.29</td>\n",
       "      <td>1.0</td>\n",
       "      <td>0.0</td>\n",
       "      <td>115.499409</td>\n",
       "      <td>1.524139</td>\n",
       "      <td>20.415619</td>\n",
       "    </tr>\n",
       "    <tr>\n",
       "      <th>7</th>\n",
       "      <td>21097.0</td>\n",
       "      <td>C8</td>\n",
       "      <td>OLA</td>\n",
       "      <td>5410.0</td>\n",
       "      <td>1.06</td>\n",
       "      <td>1.5</td>\n",
       "      <td>-8.74</td>\n",
       "      <td>1.0</td>\n",
       "      <td>0.0</td>\n",
       "      <td>106.251053</td>\n",
       "      <td>1.526991</td>\n",
       "      <td>17.477910</td>\n",
       "    </tr>\n",
       "    <tr>\n",
       "      <th>8</th>\n",
       "      <td>21098.0</td>\n",
       "      <td>C9</td>\n",
       "      <td>OLA</td>\n",
       "      <td>5410.0</td>\n",
       "      <td>2.28</td>\n",
       "      <td>2.07</td>\n",
       "      <td>-9.46</td>\n",
       "      <td>1.0</td>\n",
       "      <td>0.0</td>\n",
       "      <td>117.447639</td>\n",
       "      <td>1.393341</td>\n",
       "      <td>4.609714</td>\n",
       "    </tr>\n",
       "    <tr>\n",
       "      <th>9</th>\n",
       "      <td>21099.0</td>\n",
       "      <td>C10</td>\n",
       "      <td>OLA</td>\n",
       "      <td>5410.0</td>\n",
       "      <td>2.19</td>\n",
       "      <td>2.24</td>\n",
       "      <td>-10.84</td>\n",
       "      <td>1.0</td>\n",
       "      <td>0.0</td>\n",
       "      <td>125.877184</td>\n",
       "      <td>1.528594</td>\n",
       "      <td>162.475337</td>\n",
       "    </tr>\n",
       "    <tr>\n",
       "      <th>10</th>\n",
       "      <td>21100.0</td>\n",
       "      <td>C11</td>\n",
       "      <td>OLA</td>\n",
       "      <td>5410.0</td>\n",
       "      <td>0.96</td>\n",
       "      <td>1.95</td>\n",
       "      <td>-11.7</td>\n",
       "      <td>1.0</td>\n",
       "      <td>0.0</td>\n",
       "      <td>105.985930</td>\n",
       "      <td>1.526925</td>\n",
       "      <td>34.596344</td>\n",
       "    </tr>\n",
       "    <tr>\n",
       "      <th>11</th>\n",
       "      <td>21101.0</td>\n",
       "      <td>C12</td>\n",
       "      <td>OLA</td>\n",
       "      <td>5410.0</td>\n",
       "      <td>1.43</td>\n",
       "      <td>2.04</td>\n",
       "      <td>-13.15</td>\n",
       "      <td>1.0</td>\n",
       "      <td>0.0</td>\n",
       "      <td>118.702434</td>\n",
       "      <td>1.527023</td>\n",
       "      <td>30.810084</td>\n",
       "    </tr>\n",
       "    <tr>\n",
       "      <th>12</th>\n",
       "      <td>21102.0</td>\n",
       "      <td>C13</td>\n",
       "      <td>OLA</td>\n",
       "      <td>5410.0</td>\n",
       "      <td>0.89</td>\n",
       "      <td>1.03</td>\n",
       "      <td>-14.16</td>\n",
       "      <td>1.0</td>\n",
       "      <td>0.0</td>\n",
       "      <td>109.617643</td>\n",
       "      <td>1.534080</td>\n",
       "      <td>20.148978</td>\n",
       "    </tr>\n",
       "    <tr>\n",
       "      <th>13</th>\n",
       "      <td>21103.0</td>\n",
       "      <td>C14</td>\n",
       "      <td>OLA</td>\n",
       "      <td>5410.0</td>\n",
       "      <td>1.36</td>\n",
       "      <td>1.41</td>\n",
       "      <td>-15.57</td>\n",
       "      <td>1.0</td>\n",
       "      <td>0.0</td>\n",
       "      <td>113.929577</td>\n",
       "      <td>1.528823</td>\n",
       "      <td>15.525940</td>\n",
       "    </tr>\n",
       "    <tr>\n",
       "      <th>14</th>\n",
       "      <td>21104.0</td>\n",
       "      <td>C15</td>\n",
       "      <td>OLA</td>\n",
       "      <td>5410.0</td>\n",
       "      <td>0.59</td>\n",
       "      <td>0.71</td>\n",
       "      <td>-16.69</td>\n",
       "      <td>1.0</td>\n",
       "      <td>0.0</td>\n",
       "      <td>104.339237</td>\n",
       "      <td>1.534471</td>\n",
       "      <td>6.006394</td>\n",
       "    </tr>\n",
       "    <tr>\n",
       "      <th>15</th>\n",
       "      <td>21105.0</td>\n",
       "      <td>C16</td>\n",
       "      <td>OLA</td>\n",
       "      <td>5410.0</td>\n",
       "      <td>1.23</td>\n",
       "      <td>1.24</td>\n",
       "      <td>-17.98</td>\n",
       "      <td>1.0</td>\n",
       "      <td>0.0</td>\n",
       "      <td>99.500334</td>\n",
       "      <td>1.525647</td>\n",
       "      <td>15.991942</td>\n",
       "    </tr>\n",
       "    <tr>\n",
       "      <th>16</th>\n",
       "      <td>21106.0</td>\n",
       "      <td>C17</td>\n",
       "      <td>OLA</td>\n",
       "      <td>5410.0</td>\n",
       "      <td>0.49</td>\n",
       "      <td>0.38</td>\n",
       "      <td>-19</td>\n",
       "      <td>1.0</td>\n",
       "      <td>0.0</td>\n",
       "      <td>106.956369</td>\n",
       "      <td>1.525582</td>\n",
       "      <td>25.169462</td>\n",
       "    </tr>\n",
       "    <tr>\n",
       "      <th>17</th>\n",
       "      <td>21107.0</td>\n",
       "      <td>C18</td>\n",
       "      <td>OLA</td>\n",
       "      <td>5410.0</td>\n",
       "      <td>1.22</td>\n",
       "      <td>0.54</td>\n",
       "      <td>-20.33</td>\n",
       "      <td>1.0</td>\n",
       "      <td>0.0</td>\n",
       "      <td>128.511828</td>\n",
       "      <td>1.236810</td>\n",
       "      <td>30.620160</td>\n",
       "    </tr>\n",
       "    <tr>\n",
       "      <th>18</th>\n",
       "      <td>21108.0</td>\n",
       "      <td>O19</td>\n",
       "      <td>OLA</td>\n",
       "      <td>5410.0</td>\n",
       "      <td>2.43</td>\n",
       "      <td>0.7</td>\n",
       "      <td>-20.53</td>\n",
       "      <td>1.0</td>\n",
       "      <td>0.0</td>\n",
       "      <td>33.683408</td>\n",
       "      <td>2.204790</td>\n",
       "      <td>4.495220</td>\n",
       "    </tr>\n",
       "    <tr>\n",
       "      <th>19</th>\n",
       "      <td>21109.0</td>\n",
       "      <td>O20</td>\n",
       "      <td>OLA</td>\n",
       "      <td>5410.0</td>\n",
       "      <td>0.44</td>\n",
       "      <td>0.43</td>\n",
       "      <td>-21.44</td>\n",
       "      <td>1.0</td>\n",
       "      <td>0.0</td>\n",
       "      <td>142.288798</td>\n",
       "      <td>0.998499</td>\n",
       "      <td>0.000000</td>\n",
       "    </tr>\n",
       "    <tr>\n",
       "      <th>20</th>\n",
       "      <td>21110.0</td>\n",
       "      <td>H21</td>\n",
       "      <td>OLA</td>\n",
       "      <td>5410.0</td>\n",
       "      <td>-0.52</td>\n",
       "      <td>0.28</td>\n",
       "      <td>-21.21</td>\n",
       "      <td>1.0</td>\n",
       "      <td>0.0</td>\n",
       "      <td>0.000000</td>\n",
       "      <td>0.000000</td>\n",
       "      <td>0.000000</td>\n",
       "    </tr>\n",
       "  </tbody>\n",
       "</table>\n",
       "</div>"
      ],
      "text/plain": [
       "     REMARK   Cx 1DPP  COMPLIES     X     Y      Z  2.0,  18-NOV-1998  \\\n",
       "0   21090.0   C1  OLA    5410.0     0     0      0   1.0          0.0   \n",
       "1   21091.0   C2  OLA    5410.0 -0.65  0.41  -1.32   1.0          0.0   \n",
       "2   21092.0   C3  OLA    5410.0  0.35  0.41  -2.47   1.0          0.0   \n",
       "3   21093.0   C4  OLA    5410.0 -0.32  0.71  -3.81   1.0          0.0   \n",
       "4   21094.0   C5  OLA    5410.0  0.78  0.91  -4.85   1.0          0.0   \n",
       "5   21095.0   C6  OLA    5410.0  0.34  1.22  -6.28   1.0          0.0   \n",
       "6   21096.0   C7  OLA    5410.0  1.48  1.29  -7.29   1.0          0.0   \n",
       "7   21097.0   C8  OLA    5410.0  1.06   1.5  -8.74   1.0          0.0   \n",
       "8   21098.0   C9  OLA    5410.0  2.28  2.07  -9.46   1.0          0.0   \n",
       "9   21099.0  C10  OLA    5410.0  2.19  2.24 -10.84   1.0          0.0   \n",
       "10  21100.0  C11  OLA    5410.0  0.96  1.95  -11.7   1.0          0.0   \n",
       "11  21101.0  C12  OLA    5410.0  1.43  2.04 -13.15   1.0          0.0   \n",
       "12  21102.0  C13  OLA    5410.0  0.89  1.03 -14.16   1.0          0.0   \n",
       "13  21103.0  C14  OLA    5410.0  1.36  1.41 -15.57   1.0          0.0   \n",
       "14  21104.0  C15  OLA    5410.0  0.59  0.71 -16.69   1.0          0.0   \n",
       "15  21105.0  C16  OLA    5410.0  1.23  1.24 -17.98   1.0          0.0   \n",
       "16  21106.0  C17  OLA    5410.0  0.49  0.38    -19   1.0          0.0   \n",
       "17  21107.0  C18  OLA    5410.0  1.22  0.54 -20.33   1.0          0.0   \n",
       "18  21108.0  O19  OLA    5410.0  2.43   0.7 -20.53   1.0          0.0   \n",
       "19  21109.0  O20  OLA    5410.0  0.44  0.43 -21.44   1.0          0.0   \n",
       "20  21110.0  H21  OLA    5410.0 -0.52  0.28 -21.21   1.0          0.0   \n",
       "\n",
       "    dots-angle  dots-distance  planes-angle  \n",
       "0     0.000000       1.527416      0.000000  \n",
       "1   111.894161       1.523975      0.000000  \n",
       "2   111.966338       1.527907      5.189511  \n",
       "3   107.887659       1.526958      8.825320  \n",
       "4   117.165355       1.527940      5.516336  \n",
       "5   114.454948       1.524664      8.985397  \n",
       "6   115.499409       1.524139     20.415619  \n",
       "7   106.251053       1.526991     17.477910  \n",
       "8   117.447639       1.393341      4.609714  \n",
       "9   125.877184       1.528594    162.475337  \n",
       "10  105.985930       1.526925     34.596344  \n",
       "11  118.702434       1.527023     30.810084  \n",
       "12  109.617643       1.534080     20.148978  \n",
       "13  113.929577       1.528823     15.525940  \n",
       "14  104.339237       1.534471      6.006394  \n",
       "15   99.500334       1.525647     15.991942  \n",
       "16  106.956369       1.525582     25.169462  \n",
       "17  128.511828       1.236810     30.620160  \n",
       "18   33.683408       2.204790      4.495220  \n",
       "19  142.288798       0.998499      0.000000  \n",
       "20    0.000000       0.000000      0.000000  "
      ]
     },
     "execution_count": 60,
     "metadata": {},
     "output_type": "execute_result"
    }
   ],
   "source": [
    "portein_format_list[17]"
   ]
  },
  {
   "cell_type": "code",
   "execution_count": 61,
   "id": "square-ensemble",
   "metadata": {},
   "outputs": [],
   "source": [
    "Cx = portein_format_list[0]['Cx']"
   ]
  },
  {
   "cell_type": "code",
   "execution_count": 63,
   "id": "mounted-progress",
   "metadata": {},
   "outputs": [],
   "source": [
    "c = Cx[1]"
   ]
  },
  {
   "cell_type": "code",
   "execution_count": 78,
   "id": "noticed-overall",
   "metadata": {},
   "outputs": [],
   "source": [
    "protein_distr = [pd.concat([data.loc[data['Cx']==c,['Cx','dots-angle','dots-distance','planes-angle']]for data in portein_format_list]) for c in Cx]"
   ]
  },
  {
   "cell_type": "code",
   "execution_count": 79,
   "id": "statewide-budapest",
   "metadata": {},
   "outputs": [],
   "source": [
    "atom2distr = dict(zip(Cx, protein_distr))"
   ]
  },
  {
   "cell_type": "code",
   "execution_count": 120,
   "id": "integral-stake",
   "metadata": {},
   "outputs": [
    {
     "data": {
      "text/html": [
       "<div>\n",
       "<style scoped>\n",
       "    .dataframe tbody tr th:only-of-type {\n",
       "        vertical-align: middle;\n",
       "    }\n",
       "\n",
       "    .dataframe tbody tr th {\n",
       "        vertical-align: top;\n",
       "    }\n",
       "\n",
       "    .dataframe thead th {\n",
       "        text-align: right;\n",
       "    }\n",
       "</style>\n",
       "<table border=\"1\" class=\"dataframe\">\n",
       "  <thead>\n",
       "    <tr style=\"text-align: right;\">\n",
       "      <th></th>\n",
       "      <th>REMARK</th>\n",
       "      <th>Cx</th>\n",
       "      <th>1DPP</th>\n",
       "      <th>COMPLIES</th>\n",
       "      <th>X</th>\n",
       "      <th>Y</th>\n",
       "      <th>Z</th>\n",
       "      <th>2.0,</th>\n",
       "      <th>18-NOV-1998</th>\n",
       "      <th>dots-angle</th>\n",
       "      <th>dots-distance</th>\n",
       "      <th>planes-angle</th>\n",
       "    </tr>\n",
       "  </thead>\n",
       "  <tbody>\n",
       "    <tr>\n",
       "      <th>0</th>\n",
       "      <td>1.0</td>\n",
       "      <td>C1</td>\n",
       "      <td>OLA</td>\n",
       "      <td>1.0</td>\n",
       "      <td>0</td>\n",
       "      <td>0</td>\n",
       "      <td>0</td>\n",
       "      <td>1.0</td>\n",
       "      <td>0.0</td>\n",
       "      <td>0.000000</td>\n",
       "      <td>1.531307</td>\n",
       "      <td>0.000000</td>\n",
       "    </tr>\n",
       "    <tr>\n",
       "      <th>1</th>\n",
       "      <td>2.0</td>\n",
       "      <td>C2</td>\n",
       "      <td>OLA</td>\n",
       "      <td>1.0</td>\n",
       "      <td>0.34</td>\n",
       "      <td>0.57</td>\n",
       "      <td>-1.38</td>\n",
       "      <td>1.0</td>\n",
       "      <td>0.0</td>\n",
       "      <td>107.748079</td>\n",
       "      <td>1.534731</td>\n",
       "      <td>0.000000</td>\n",
       "    </tr>\n",
       "    <tr>\n",
       "      <th>2</th>\n",
       "      <td>3.0</td>\n",
       "      <td>C3</td>\n",
       "      <td>OLA</td>\n",
       "      <td>1.0</td>\n",
       "      <td>1.75</td>\n",
       "      <td>0.09</td>\n",
       "      <td>-1.75</td>\n",
       "      <td>1.0</td>\n",
       "      <td>0.0</td>\n",
       "      <td>118.529798</td>\n",
       "      <td>1.534764</td>\n",
       "      <td>5.075240</td>\n",
       "    </tr>\n",
       "    <tr>\n",
       "      <th>3</th>\n",
       "      <td>4.0</td>\n",
       "      <td>C4</td>\n",
       "      <td>OLA</td>\n",
       "      <td>1.0</td>\n",
       "      <td>2.34</td>\n",
       "      <td>0.52</td>\n",
       "      <td>-3.1</td>\n",
       "      <td>1.0</td>\n",
       "      <td>0.0</td>\n",
       "      <td>104.618734</td>\n",
       "      <td>1.530131</td>\n",
       "      <td>9.337508</td>\n",
       "    </tr>\n",
       "    <tr>\n",
       "      <th>4</th>\n",
       "      <td>5.0</td>\n",
       "      <td>C5</td>\n",
       "      <td>OLA</td>\n",
       "      <td>1.0</td>\n",
       "      <td>3.76</td>\n",
       "      <td>-0.05</td>\n",
       "      <td>-3.1</td>\n",
       "      <td>1.0</td>\n",
       "      <td>0.0</td>\n",
       "      <td>110.738952</td>\n",
       "      <td>1.528692</td>\n",
       "      <td>24.068684</td>\n",
       "    </tr>\n",
       "    <tr>\n",
       "      <th>...</th>\n",
       "      <td>...</td>\n",
       "      <td>...</td>\n",
       "      <td>...</td>\n",
       "      <td>...</td>\n",
       "      <td>...</td>\n",
       "      <td>...</td>\n",
       "      <td>...</td>\n",
       "      <td>...</td>\n",
       "      <td>...</td>\n",
       "      <td>...</td>\n",
       "      <td>...</td>\n",
       "      <td>...</td>\n",
       "    </tr>\n",
       "    <tr>\n",
       "      <th>16</th>\n",
       "      <td>21400.0</td>\n",
       "      <td>C17</td>\n",
       "      <td>OLA</td>\n",
       "      <td>5424.0</td>\n",
       "      <td>1.86</td>\n",
       "      <td>-1.67</td>\n",
       "      <td>18.51</td>\n",
       "      <td>1.0</td>\n",
       "      <td>0.0</td>\n",
       "      <td>110.000520</td>\n",
       "      <td>1.532123</td>\n",
       "      <td>40.143609</td>\n",
       "    </tr>\n",
       "    <tr>\n",
       "      <th>17</th>\n",
       "      <td>21401.0</td>\n",
       "      <td>C18</td>\n",
       "      <td>OLA</td>\n",
       "      <td>5424.0</td>\n",
       "      <td>2.18</td>\n",
       "      <td>-2.32</td>\n",
       "      <td>19.86</td>\n",
       "      <td>1.0</td>\n",
       "      <td>0.0</td>\n",
       "      <td>119.137866</td>\n",
       "      <td>1.228536</td>\n",
       "      <td>76.324948</td>\n",
       "    </tr>\n",
       "    <tr>\n",
       "      <th>18</th>\n",
       "      <td>21402.0</td>\n",
       "      <td>O19</td>\n",
       "      <td>OLA</td>\n",
       "      <td>5424.0</td>\n",
       "      <td>1.58</td>\n",
       "      <td>-3.34</td>\n",
       "      <td>20.19</td>\n",
       "      <td>1.0</td>\n",
       "      <td>0.0</td>\n",
       "      <td>118.423143</td>\n",
       "      <td>106.435352</td>\n",
       "      <td>124.869504</td>\n",
       "    </tr>\n",
       "    <tr>\n",
       "      <th>19</th>\n",
       "      <td>21403.0</td>\n",
       "      <td>O20</td>\n",
       "      <td>OLA</td>\n",
       "      <td>5424.0</td>\n",
       "      <td>-104.84</td>\n",
       "      <td>-1.6</td>\n",
       "      <td>20.68</td>\n",
       "      <td>1.0</td>\n",
       "      <td>0.0</td>\n",
       "      <td>84.566110</td>\n",
       "      <td>1.002646</td>\n",
       "      <td>0.000000</td>\n",
       "    </tr>\n",
       "    <tr>\n",
       "      <th>20</th>\n",
       "      <td>21404.0</td>\n",
       "      <td>H21</td>\n",
       "      <td>OLA</td>\n",
       "      <td>5424.0</td>\n",
       "      <td>-104.75</td>\n",
       "      <td>-2.14</td>\n",
       "      <td>21.52</td>\n",
       "      <td>1.0</td>\n",
       "      <td>0.0</td>\n",
       "      <td>0.000000</td>\n",
       "      <td>0.000000</td>\n",
       "      <td>0.000000</td>\n",
       "    </tr>\n",
       "  </tbody>\n",
       "</table>\n",
       "<p>672 rows × 12 columns</p>\n",
       "</div>"
      ],
      "text/plain": [
       "     REMARK   Cx 1DPP  COMPLIES       X     Y      Z  2.0,  18-NOV-1998  \\\n",
       "0       1.0   C1  OLA       1.0       0     0      0   1.0          0.0   \n",
       "1       2.0   C2  OLA       1.0    0.34  0.57  -1.38   1.0          0.0   \n",
       "2       3.0   C3  OLA       1.0    1.75  0.09  -1.75   1.0          0.0   \n",
       "3       4.0   C4  OLA       1.0    2.34  0.52   -3.1   1.0          0.0   \n",
       "4       5.0   C5  OLA       1.0    3.76 -0.05   -3.1   1.0          0.0   \n",
       "..      ...  ...  ...       ...     ...   ...    ...   ...          ...   \n",
       "16  21400.0  C17  OLA    5424.0    1.86 -1.67  18.51   1.0          0.0   \n",
       "17  21401.0  C18  OLA    5424.0    2.18 -2.32  19.86   1.0          0.0   \n",
       "18  21402.0  O19  OLA    5424.0    1.58 -3.34  20.19   1.0          0.0   \n",
       "19  21403.0  O20  OLA    5424.0 -104.84  -1.6  20.68   1.0          0.0   \n",
       "20  21404.0  H21  OLA    5424.0 -104.75 -2.14  21.52   1.0          0.0   \n",
       "\n",
       "    dots-angle  dots-distance  planes-angle  \n",
       "0     0.000000       1.531307      0.000000  \n",
       "1   107.748079       1.534731      0.000000  \n",
       "2   118.529798       1.534764      5.075240  \n",
       "3   104.618734       1.530131      9.337508  \n",
       "4   110.738952       1.528692     24.068684  \n",
       "..         ...            ...           ...  \n",
       "16  110.000520       1.532123     40.143609  \n",
       "17  119.137866       1.228536     76.324948  \n",
       "18  118.423143     106.435352    124.869504  \n",
       "19   84.566110       1.002646      0.000000  \n",
       "20    0.000000       0.000000      0.000000  \n",
       "\n",
       "[672 rows x 12 columns]"
      ]
     },
     "metadata": {},
     "output_type": "display_data"
    }
   ],
   "source": [
    "df = pd.concat(portein_format_list)\n",
    "df.to_csv(\"output/training_data.csv\")\n",
    "display(df)"
   ]
  },
  {
   "cell_type": "code",
   "execution_count": 121,
   "id": "adapted-simple",
   "metadata": {},
   "outputs": [],
   "source": [
    "import plotly.express as px\n",
    "import plotly.graph_objects as go\n",
    "import plotly.io as pio"
   ]
  },
  {
   "cell_type": "code",
   "execution_count": 122,
   "id": "numerical-waste",
   "metadata": {},
   "outputs": [],
   "source": [
    "def protein_hist(df,xlabel=\"dots-angle\"):\n",
    "    fig = px.histogram(df, x=xlabel, color=\"Cx\", nbins=100,marginal=\"rug\")\n",
    "    fig.update_layout(title=\"{0}, sample size: {1}\".format(xlabel, n_samples))\n",
    "    fig.update_layout(width=1200, height=800)\n",
    "    fig.show()\n",
    "    pio.write_html(fig, \"output/{}_histogram.html\".format(xlabel))\n",
    "    pio.write_image(fig, \"output/{}_histogram.png\".format(xlabel))"
   ]
  },
  {
   "cell_type": "code",
   "execution_count": 123,
   "id": "operating-blast",
   "metadata": {},
   "outputs": [
    {
     "data": {
      "application/vnd.plotly.v1+json": {
       "config": {
        "plotlyServerURL": "https://plot.ly"
       },
       "data": [
        {
         "alignmentgroup": "True",
         "bingroup": "x",
         "hovertemplate": "Cx=C1<br>dots-angle=%{x}<br>count=%{y}<extra></extra>",
         "legendgroup": "C1",
         "marker": {
          "color": "#636efa"
         },
         "name": "C1",
         "nbinsx": 100,
         "offsetgroup": "C1",
         "orientation": "v",
         "showlegend": true,
         "type": "histogram",
         "x": [
          0,
          0,
          0,
          0,
          0,
          0,
          0,
          0,
          0,
          0,
          0,
          0,
          0,
          0,
          0,
          0,
          0,
          0,
          0,
          0,
          0,
          0,
          0,
          0,
          0,
          0,
          0,
          0,
          0,
          0,
          0,
          0
         ],
         "xaxis": "x",
         "yaxis": "y"
        },
        {
         "alignmentgroup": "True",
         "boxpoints": "all",
         "fillcolor": "rgba(255,255,255,0)",
         "hoveron": "points",
         "hovertemplate": "Cx=C1<br>dots-angle=%{x}<extra></extra>",
         "jitter": 0,
         "legendgroup": "C1",
         "line": {
          "color": "rgba(255,255,255,0)"
         },
         "marker": {
          "color": "#636efa",
          "symbol": "line-ns-open"
         },
         "name": "C1",
         "offsetgroup": "C1",
         "showlegend": false,
         "type": "box",
         "x": [
          0,
          0,
          0,
          0,
          0,
          0,
          0,
          0,
          0,
          0,
          0,
          0,
          0,
          0,
          0,
          0,
          0,
          0,
          0,
          0,
          0,
          0,
          0,
          0,
          0,
          0,
          0,
          0,
          0,
          0,
          0,
          0
         ],
         "xaxis": "x2",
         "yaxis": "y2"
        },
        {
         "alignmentgroup": "True",
         "bingroup": "x",
         "hovertemplate": "Cx=C2<br>dots-angle=%{x}<br>count=%{y}<extra></extra>",
         "legendgroup": "C2",
         "marker": {
          "color": "#EF553B"
         },
         "name": "C2",
         "nbinsx": 100,
         "offsetgroup": "C2",
         "orientation": "v",
         "showlegend": true,
         "type": "histogram",
         "x": [
          107.74807899719426,
          109.93933320938724,
          115.64632231991085,
          113.76679113434464,
          112.11617469559826,
          114.04234126941273,
          111.8494919994011,
          115.91513697228795,
          114.13663000902726,
          112.47471169048953,
          112.77330815688549,
          113.32848560748394,
          118.47159488068368,
          104.51315509372425,
          110.89243632359413,
          102.56020258440542,
          103.93688540783702,
          111.89416108127466,
          104.12891683045633,
          29.68803674547243,
          88.47412548813097,
          112.89755014722445,
          107.86920066943073,
          107.5898733319912,
          106.72893069834583,
          111.02491766696039,
          120.82624659945891,
          114.34604055500719,
          102.17181636694022,
          113.9351645761197,
          110.9767403188679,
          111.31390193538584
         ],
         "xaxis": "x",
         "yaxis": "y"
        },
        {
         "alignmentgroup": "True",
         "boxpoints": "all",
         "fillcolor": "rgba(255,255,255,0)",
         "hoveron": "points",
         "hovertemplate": "Cx=C2<br>dots-angle=%{x}<extra></extra>",
         "jitter": 0,
         "legendgroup": "C2",
         "line": {
          "color": "rgba(255,255,255,0)"
         },
         "marker": {
          "color": "#EF553B",
          "symbol": "line-ns-open"
         },
         "name": "C2",
         "offsetgroup": "C2",
         "showlegend": false,
         "type": "box",
         "x": [
          107.74807899719426,
          109.93933320938724,
          115.64632231991085,
          113.76679113434464,
          112.11617469559826,
          114.04234126941273,
          111.8494919994011,
          115.91513697228795,
          114.13663000902726,
          112.47471169048953,
          112.77330815688549,
          113.32848560748394,
          118.47159488068368,
          104.51315509372425,
          110.89243632359413,
          102.56020258440542,
          103.93688540783702,
          111.89416108127466,
          104.12891683045633,
          29.68803674547243,
          88.47412548813097,
          112.89755014722445,
          107.86920066943073,
          107.5898733319912,
          106.72893069834583,
          111.02491766696039,
          120.82624659945891,
          114.34604055500719,
          102.17181636694022,
          113.9351645761197,
          110.9767403188679,
          111.31390193538584
         ],
         "xaxis": "x2",
         "yaxis": "y2"
        },
        {
         "alignmentgroup": "True",
         "bingroup": "x",
         "hovertemplate": "Cx=C3<br>dots-angle=%{x}<br>count=%{y}<extra></extra>",
         "legendgroup": "C3",
         "marker": {
          "color": "#00cc96"
         },
         "name": "C3",
         "nbinsx": 100,
         "offsetgroup": "C3",
         "orientation": "v",
         "showlegend": true,
         "type": "histogram",
         "x": [
          118.52979782889322,
          107.71807117127523,
          106.55959902987676,
          106.99256439323271,
          106.12188216342544,
          111.72257946488767,
          114.17568482790689,
          118.92764081047324,
          108.6668654374385,
          107.67704030634295,
          107.71958913223328,
          104.26582817984033,
          114.64121932256786,
          111.70114686462942,
          112.20986480779125,
          102.1054589762456,
          121.9544002265733,
          111.96633796076662,
          112.29224457234551,
          110.89694501687025,
          110.30574113948498,
          113.32668619362494,
          116.20932399991007,
          110.63877342364991,
          109.93571718254314,
          108.15621010319802,
          108.42871148552891,
          115.72121108805324,
          116.75606394014582,
          98.76932532888921,
          105.41816457439164,
          110.29140768453398
         ],
         "xaxis": "x",
         "yaxis": "y"
        },
        {
         "alignmentgroup": "True",
         "boxpoints": "all",
         "fillcolor": "rgba(255,255,255,0)",
         "hoveron": "points",
         "hovertemplate": "Cx=C3<br>dots-angle=%{x}<extra></extra>",
         "jitter": 0,
         "legendgroup": "C3",
         "line": {
          "color": "rgba(255,255,255,0)"
         },
         "marker": {
          "color": "#00cc96",
          "symbol": "line-ns-open"
         },
         "name": "C3",
         "offsetgroup": "C3",
         "showlegend": false,
         "type": "box",
         "x": [
          118.52979782889322,
          107.71807117127523,
          106.55959902987676,
          106.99256439323271,
          106.12188216342544,
          111.72257946488767,
          114.17568482790689,
          118.92764081047324,
          108.6668654374385,
          107.67704030634295,
          107.71958913223328,
          104.26582817984033,
          114.64121932256786,
          111.70114686462942,
          112.20986480779125,
          102.1054589762456,
          121.9544002265733,
          111.96633796076662,
          112.29224457234551,
          110.89694501687025,
          110.30574113948498,
          113.32668619362494,
          116.20932399991007,
          110.63877342364991,
          109.93571718254314,
          108.15621010319802,
          108.42871148552891,
          115.72121108805324,
          116.75606394014582,
          98.76932532888921,
          105.41816457439164,
          110.29140768453398
         ],
         "xaxis": "x2",
         "yaxis": "y2"
        },
        {
         "alignmentgroup": "True",
         "bingroup": "x",
         "hovertemplate": "Cx=C4<br>dots-angle=%{x}<br>count=%{y}<extra></extra>",
         "legendgroup": "C4",
         "marker": {
          "color": "#ab63fa"
         },
         "name": "C4",
         "nbinsx": 100,
         "offsetgroup": "C4",
         "orientation": "v",
         "showlegend": true,
         "type": "histogram",
         "x": [
          104.61873394935199,
          116.42750192021234,
          114.72798240599951,
          118.55800830738299,
          105.76749677044036,
          112.62129191835281,
          109.77831870974383,
          116.30151546252641,
          116.89828213640496,
          103.87715079620104,
          117.52762972853239,
          116.39023223432224,
          104.33747079800534,
          118.63166975042064,
          106.37376217702891,
          107.42749442362076,
          111.72924325539809,
          107.88765877669371,
          106.18911999122626,
          105.09280786612732,
          109.7701600734917,
          112.3302569888913,
          115.22493863774916,
          110.36415506054915,
          110.35159124134081,
          106.79266567292056,
          109.97527716435712,
          119.11831994624887,
          117.21860982539455,
          110.2242075836666,
          115.30530120262314,
          115.86566710732502
         ],
         "xaxis": "x",
         "yaxis": "y"
        },
        {
         "alignmentgroup": "True",
         "boxpoints": "all",
         "fillcolor": "rgba(255,255,255,0)",
         "hoveron": "points",
         "hovertemplate": "Cx=C4<br>dots-angle=%{x}<extra></extra>",
         "jitter": 0,
         "legendgroup": "C4",
         "line": {
          "color": "rgba(255,255,255,0)"
         },
         "marker": {
          "color": "#ab63fa",
          "symbol": "line-ns-open"
         },
         "name": "C4",
         "offsetgroup": "C4",
         "showlegend": false,
         "type": "box",
         "x": [
          104.61873394935199,
          116.42750192021234,
          114.72798240599951,
          118.55800830738299,
          105.76749677044036,
          112.62129191835281,
          109.77831870974383,
          116.30151546252641,
          116.89828213640496,
          103.87715079620104,
          117.52762972853239,
          116.39023223432224,
          104.33747079800534,
          118.63166975042064,
          106.37376217702891,
          107.42749442362076,
          111.72924325539809,
          107.88765877669371,
          106.18911999122626,
          105.09280786612732,
          109.7701600734917,
          112.3302569888913,
          115.22493863774916,
          110.36415506054915,
          110.35159124134081,
          106.79266567292056,
          109.97527716435712,
          119.11831994624887,
          117.21860982539455,
          110.2242075836666,
          115.30530120262314,
          115.86566710732502
         ],
         "xaxis": "x2",
         "yaxis": "y2"
        },
        {
         "alignmentgroup": "True",
         "bingroup": "x",
         "hovertemplate": "Cx=C5<br>dots-angle=%{x}<br>count=%{y}<extra></extra>",
         "legendgroup": "C5",
         "marker": {
          "color": "#FFA15A"
         },
         "name": "C5",
         "nbinsx": 100,
         "offsetgroup": "C5",
         "orientation": "v",
         "showlegend": true,
         "type": "histogram",
         "x": [
          110.73895181877289,
          114.31435508492073,
          108.46584179915823,
          111.51581147225437,
          75.15329918452052,
          111.3027264943961,
          111.12041721587171,
          110.493005954953,
          119.36171071341164,
          102.88147745438864,
          105.80335752550238,
          115.21059660185351,
          115.4948197838869,
          106.22508467898771,
          110.21780616041742,
          111.36476180700042,
          113.65143272841442,
          117.16535469940496,
          113.83123595211991,
          113.19940273422382,
          108.52040531707283,
          110.27424084703539,
          108.76044410561364,
          115.88448500805194,
          107.24320478172415,
          112.38970048413627,
          108.8404440619781,
          117.10360919831422,
          110.53177977421561,
          110.81991815429556,
          108.92517285691157,
          115.73751069522142
         ],
         "xaxis": "x",
         "yaxis": "y"
        },
        {
         "alignmentgroup": "True",
         "boxpoints": "all",
         "fillcolor": "rgba(255,255,255,0)",
         "hoveron": "points",
         "hovertemplate": "Cx=C5<br>dots-angle=%{x}<extra></extra>",
         "jitter": 0,
         "legendgroup": "C5",
         "line": {
          "color": "rgba(255,255,255,0)"
         },
         "marker": {
          "color": "#FFA15A",
          "symbol": "line-ns-open"
         },
         "name": "C5",
         "offsetgroup": "C5",
         "showlegend": false,
         "type": "box",
         "x": [
          110.73895181877289,
          114.31435508492073,
          108.46584179915823,
          111.51581147225437,
          75.15329918452052,
          111.3027264943961,
          111.12041721587171,
          110.493005954953,
          119.36171071341164,
          102.88147745438864,
          105.80335752550238,
          115.21059660185351,
          115.4948197838869,
          106.22508467898771,
          110.21780616041742,
          111.36476180700042,
          113.65143272841442,
          117.16535469940496,
          113.83123595211991,
          113.19940273422382,
          108.52040531707283,
          110.27424084703539,
          108.76044410561364,
          115.88448500805194,
          107.24320478172415,
          112.38970048413627,
          108.8404440619781,
          117.10360919831422,
          110.53177977421561,
          110.81991815429556,
          108.92517285691157,
          115.73751069522142
         ],
         "xaxis": "x2",
         "yaxis": "y2"
        },
        {
         "alignmentgroup": "True",
         "bingroup": "x",
         "hovertemplate": "Cx=C6<br>dots-angle=%{x}<br>count=%{y}<extra></extra>",
         "legendgroup": "C6",
         "marker": {
          "color": "#19d3f3"
         },
         "name": "C6",
         "nbinsx": 100,
         "offsetgroup": "C6",
         "orientation": "v",
         "showlegend": true,
         "type": "histogram",
         "x": [
          109.13063131608516,
          110.96119860276451,
          111.99700759333469,
          116.89204188043237,
          1.5890701727806686,
          106.15654436815613,
          111.48902293441373,
          120.22621372960684,
          106.44501818848268,
          106.93893454371022,
          105.72801752721742,
          108.85801712457061,
          116.06674623525336,
          111.48720996056709,
          108.51688241775754,
          114.93296763743642,
          110.6926342612814,
          114.45494769117099,
          106.33440350812825,
          110.69222299565078,
          106.43863889992436,
          111.27678422458982,
          107.30771142367797,
          114.87299807255049,
          111.86397233975329,
          113.99396410051835,
          106.12620794941137,
          111.64906749444711,
          114.1008056108314,
          119.92862725454833,
          117.18214359765244,
          109.4113303269982
         ],
         "xaxis": "x",
         "yaxis": "y"
        },
        {
         "alignmentgroup": "True",
         "boxpoints": "all",
         "fillcolor": "rgba(255,255,255,0)",
         "hoveron": "points",
         "hovertemplate": "Cx=C6<br>dots-angle=%{x}<extra></extra>",
         "jitter": 0,
         "legendgroup": "C6",
         "line": {
          "color": "rgba(255,255,255,0)"
         },
         "marker": {
          "color": "#19d3f3",
          "symbol": "line-ns-open"
         },
         "name": "C6",
         "offsetgroup": "C6",
         "showlegend": false,
         "type": "box",
         "x": [
          109.13063131608516,
          110.96119860276451,
          111.99700759333469,
          116.89204188043237,
          1.5890701727806686,
          106.15654436815613,
          111.48902293441373,
          120.22621372960684,
          106.44501818848268,
          106.93893454371022,
          105.72801752721742,
          108.85801712457061,
          116.06674623525336,
          111.48720996056709,
          108.51688241775754,
          114.93296763743642,
          110.6926342612814,
          114.45494769117099,
          106.33440350812825,
          110.69222299565078,
          106.43863889992436,
          111.27678422458982,
          107.30771142367797,
          114.87299807255049,
          111.86397233975329,
          113.99396410051835,
          106.12620794941137,
          111.64906749444711,
          114.1008056108314,
          119.92862725454833,
          117.18214359765244,
          109.4113303269982
         ],
         "xaxis": "x2",
         "yaxis": "y2"
        },
        {
         "alignmentgroup": "True",
         "bingroup": "x",
         "hovertemplate": "Cx=C7<br>dots-angle=%{x}<br>count=%{y}<extra></extra>",
         "legendgroup": "C7",
         "marker": {
          "color": "#FF6692"
         },
         "name": "C7",
         "nbinsx": 100,
         "offsetgroup": "C7",
         "orientation": "v",
         "showlegend": true,
         "type": "histogram",
         "x": [
          127.75500468315654,
          98.47098145382128,
          115.7511715145924,
          101.47902146733335,
          1.6245306591282889,
          109.8664275677846,
          112.06650741659905,
          116.0268352227848,
          109.13968663824511,
          112.42911256211995,
          111.77911336552454,
          119.96181984504487,
          109.15199740287336,
          115.322740549151,
          106.3246508098359,
          118.44644877117115,
          103.26583282677352,
          115.49940919998129,
          105.0930157792789,
          107.05347849793435,
          101.05461463439612,
          105.27202068401351,
          114.44755058931291,
          106.35996000800806,
          116.5138356294447,
          107.90242032506704,
          105.90822714785548,
          111.32900848420122,
          110.44113155006708,
          109.81184728241233,
          110.07035040440957,
          114.86294716141997
         ],
         "xaxis": "x",
         "yaxis": "y"
        },
        {
         "alignmentgroup": "True",
         "boxpoints": "all",
         "fillcolor": "rgba(255,255,255,0)",
         "hoveron": "points",
         "hovertemplate": "Cx=C7<br>dots-angle=%{x}<extra></extra>",
         "jitter": 0,
         "legendgroup": "C7",
         "line": {
          "color": "rgba(255,255,255,0)"
         },
         "marker": {
          "color": "#FF6692",
          "symbol": "line-ns-open"
         },
         "name": "C7",
         "offsetgroup": "C7",
         "showlegend": false,
         "type": "box",
         "x": [
          127.75500468315654,
          98.47098145382128,
          115.7511715145924,
          101.47902146733335,
          1.6245306591282889,
          109.8664275677846,
          112.06650741659905,
          116.0268352227848,
          109.13968663824511,
          112.42911256211995,
          111.77911336552454,
          119.96181984504487,
          109.15199740287336,
          115.322740549151,
          106.3246508098359,
          118.44644877117115,
          103.26583282677352,
          115.49940919998129,
          105.0930157792789,
          107.05347849793435,
          101.05461463439612,
          105.27202068401351,
          114.44755058931291,
          106.35996000800806,
          116.5138356294447,
          107.90242032506704,
          105.90822714785548,
          111.32900848420122,
          110.44113155006708,
          109.81184728241233,
          110.07035040440957,
          114.86294716141997
         ],
         "xaxis": "x2",
         "yaxis": "y2"
        },
        {
         "alignmentgroup": "True",
         "bingroup": "x",
         "hovertemplate": "Cx=C8<br>dots-angle=%{x}<br>count=%{y}<extra></extra>",
         "legendgroup": "C8",
         "marker": {
          "color": "#B6E880"
         },
         "name": "C8",
         "nbinsx": 100,
         "offsetgroup": "C8",
         "orientation": "v",
         "showlegend": true,
         "type": "histogram",
         "x": [
          115.7522417871708,
          109.51067766385272,
          107.06407085312694,
          109.95755703616805,
          100.51288587109813,
          115.32311559004496,
          115.46576335285991,
          110.6341650554534,
          110.44167592902465,
          113.2475166357444,
          113.57657838843606,
          111.37469341668161,
          117.22826040436077,
          105.85151086121007,
          117.06331522519474,
          105.57957370521214,
          113.90256462266989,
          106.25105346039484,
          105.24749296862511,
          110.16209398282393,
          110.73764387319736,
          104.00618202954162,
          110.57058915995056,
          106.56024328122169,
          109.16546327495203,
          112.3963750874386,
          106.78842573288,
          105.7344607318881,
          116.31837087956843,
          111.6339825863673,
          105.48412566822806,
          111.06538874018837
         ],
         "xaxis": "x",
         "yaxis": "y"
        },
        {
         "alignmentgroup": "True",
         "boxpoints": "all",
         "fillcolor": "rgba(255,255,255,0)",
         "hoveron": "points",
         "hovertemplate": "Cx=C8<br>dots-angle=%{x}<extra></extra>",
         "jitter": 0,
         "legendgroup": "C8",
         "line": {
          "color": "rgba(255,255,255,0)"
         },
         "marker": {
          "color": "#B6E880",
          "symbol": "line-ns-open"
         },
         "name": "C8",
         "offsetgroup": "C8",
         "showlegend": false,
         "type": "box",
         "x": [
          115.7522417871708,
          109.51067766385272,
          107.06407085312694,
          109.95755703616805,
          100.51288587109813,
          115.32311559004496,
          115.46576335285991,
          110.6341650554534,
          110.44167592902465,
          113.2475166357444,
          113.57657838843606,
          111.37469341668161,
          117.22826040436077,
          105.85151086121007,
          117.06331522519474,
          105.57957370521214,
          113.90256462266989,
          106.25105346039484,
          105.24749296862511,
          110.16209398282393,
          110.73764387319736,
          104.00618202954162,
          110.57058915995056,
          106.56024328122169,
          109.16546327495203,
          112.3963750874386,
          106.78842573288,
          105.7344607318881,
          116.31837087956843,
          111.6339825863673,
          105.48412566822806,
          111.06538874018837
         ],
         "xaxis": "x2",
         "yaxis": "y2"
        },
        {
         "alignmentgroup": "True",
         "bingroup": "x",
         "hovertemplate": "Cx=C9<br>dots-angle=%{x}<br>count=%{y}<extra></extra>",
         "legendgroup": "C9",
         "marker": {
          "color": "#FF97FF"
         },
         "name": "C9",
         "nbinsx": 100,
         "offsetgroup": "C9",
         "orientation": "v",
         "showlegend": true,
         "type": "histogram",
         "x": [
          122.1553753707299,
          122.72243349953418,
          123.79632478926915,
          118.61759125168632,
          120.47730018107806,
          126.51516131925618,
          120.2594978757461,
          122.18108320459108,
          123.74466964384551,
          122.24641877011143,
          123.66667048207388,
          128.7181638104452,
          125.01892082225918,
          127.79045224611505,
          126.62214420873606,
          123.36299948634804,
          124.80829820500446,
          117.44763870630689,
          121.0646767788792,
          124.65999906141049,
          124.16637880714048,
          126.25324092009997,
          117.39613034710176,
          128.0571424737329,
          123.18059963270065,
          124.7778333839657,
          125.20817909663215,
          123.59369288600797,
          123.72938831980761,
          125.82843978560413,
          120.49288054267726,
          121.5246364816242
         ],
         "xaxis": "x",
         "yaxis": "y"
        },
        {
         "alignmentgroup": "True",
         "boxpoints": "all",
         "fillcolor": "rgba(255,255,255,0)",
         "hoveron": "points",
         "hovertemplate": "Cx=C9<br>dots-angle=%{x}<extra></extra>",
         "jitter": 0,
         "legendgroup": "C9",
         "line": {
          "color": "rgba(255,255,255,0)"
         },
         "marker": {
          "color": "#FF97FF",
          "symbol": "line-ns-open"
         },
         "name": "C9",
         "offsetgroup": "C9",
         "showlegend": false,
         "type": "box",
         "x": [
          122.1553753707299,
          122.72243349953418,
          123.79632478926915,
          118.61759125168632,
          120.47730018107806,
          126.51516131925618,
          120.2594978757461,
          122.18108320459108,
          123.74466964384551,
          122.24641877011143,
          123.66667048207388,
          128.7181638104452,
          125.01892082225918,
          127.79045224611505,
          126.62214420873606,
          123.36299948634804,
          124.80829820500446,
          117.44763870630689,
          121.0646767788792,
          124.65999906141049,
          124.16637880714048,
          126.25324092009997,
          117.39613034710176,
          128.0571424737329,
          123.18059963270065,
          124.7778333839657,
          125.20817909663215,
          123.59369288600797,
          123.72938831980761,
          125.82843978560413,
          120.49288054267726,
          121.5246364816242
         ],
         "xaxis": "x2",
         "yaxis": "y2"
        },
        {
         "alignmentgroup": "True",
         "bingroup": "x",
         "hovertemplate": "Cx=C10<br>dots-angle=%{x}<br>count=%{y}<extra></extra>",
         "legendgroup": "C10",
         "marker": {
          "color": "#FECB52"
         },
         "name": "C10",
         "nbinsx": 100,
         "offsetgroup": "C10",
         "orientation": "v",
         "showlegend": true,
         "type": "histogram",
         "x": [
          126.32038918545496,
          125.1375716370762,
          123.32257462520224,
          127.6976206346647,
          121.5503709473868,
          121.60718970960332,
          122.29769901624137,
          125.46827757604389,
          125.72476066831254,
          124.98702388790768,
          121.05198516969426,
          121.45020654009949,
          126.47372858997137,
          120.4194849199923,
          119.95731768968554,
          123.0705043244961,
          131.81652880962403,
          125.87718416831773,
          131.51834135188932,
          119.53678157241892,
          123.94657334406321,
          123.23747584900958,
          124.3769112093561,
          118.43938351308475,
          117.17761385926042,
          118.11535961126894,
          120.77556619801642,
          124.12702622839221,
          118.2947654124733,
          120.73283320130939,
          122.1927512219085,
          122.893763699518
         ],
         "xaxis": "x",
         "yaxis": "y"
        },
        {
         "alignmentgroup": "True",
         "boxpoints": "all",
         "fillcolor": "rgba(255,255,255,0)",
         "hoveron": "points",
         "hovertemplate": "Cx=C10<br>dots-angle=%{x}<extra></extra>",
         "jitter": 0,
         "legendgroup": "C10",
         "line": {
          "color": "rgba(255,255,255,0)"
         },
         "marker": {
          "color": "#FECB52",
          "symbol": "line-ns-open"
         },
         "name": "C10",
         "offsetgroup": "C10",
         "showlegend": false,
         "type": "box",
         "x": [
          126.32038918545496,
          125.1375716370762,
          123.32257462520224,
          127.6976206346647,
          121.5503709473868,
          121.60718970960332,
          122.29769901624137,
          125.46827757604389,
          125.72476066831254,
          124.98702388790768,
          121.05198516969426,
          121.45020654009949,
          126.47372858997137,
          120.4194849199923,
          119.95731768968554,
          123.0705043244961,
          131.81652880962403,
          125.87718416831773,
          131.51834135188932,
          119.53678157241892,
          123.94657334406321,
          123.23747584900958,
          124.3769112093561,
          118.43938351308475,
          117.17761385926042,
          118.11535961126894,
          120.77556619801642,
          124.12702622839221,
          118.2947654124733,
          120.73283320130939,
          122.1927512219085,
          122.893763699518
         ],
         "xaxis": "x2",
         "yaxis": "y2"
        },
        {
         "alignmentgroup": "True",
         "bingroup": "x",
         "hovertemplate": "Cx=C11<br>dots-angle=%{x}<br>count=%{y}<extra></extra>",
         "legendgroup": "C11",
         "marker": {
          "color": "#636efa"
         },
         "name": "C11",
         "nbinsx": 100,
         "offsetgroup": "C11",
         "orientation": "v",
         "showlegend": true,
         "type": "histogram",
         "x": [
          109.40391347489872,
          114.61611594851787,
          105.28335627590337,
          104.01707455064542,
          112.11500185221514,
          104.74968249319777,
          115.090276406037,
          105.30648571999997,
          113.79390436311876,
          112.224959412311,
          114.4795422241965,
          103.5414935103218,
          113.13519714995708,
          113.77659753422694,
          106.01404679386187,
          107.8616887054703,
          112.99061723956419,
          105.98592991614295,
          115.55840741313392,
          112.44247369172622,
          113.22502062212193,
          108.13112018257395,
          114.45867872965727,
          113.66016894188495,
          105.32612921479972,
          105.18486930992799,
          104.62242238486846,
          109.24291748112908,
          107.73133199463284,
          107.0676503212653,
          108.70097018267194,
          100.1811718674912
         ],
         "xaxis": "x",
         "yaxis": "y"
        },
        {
         "alignmentgroup": "True",
         "boxpoints": "all",
         "fillcolor": "rgba(255,255,255,0)",
         "hoveron": "points",
         "hovertemplate": "Cx=C11<br>dots-angle=%{x}<extra></extra>",
         "jitter": 0,
         "legendgroup": "C11",
         "line": {
          "color": "rgba(255,255,255,0)"
         },
         "marker": {
          "color": "#636efa",
          "symbol": "line-ns-open"
         },
         "name": "C11",
         "offsetgroup": "C11",
         "showlegend": false,
         "type": "box",
         "x": [
          109.40391347489872,
          114.61611594851787,
          105.28335627590337,
          104.01707455064542,
          112.11500185221514,
          104.74968249319777,
          115.090276406037,
          105.30648571999997,
          113.79390436311876,
          112.224959412311,
          114.4795422241965,
          103.5414935103218,
          113.13519714995708,
          113.77659753422694,
          106.01404679386187,
          107.8616887054703,
          112.99061723956419,
          105.98592991614295,
          115.55840741313392,
          112.44247369172622,
          113.22502062212193,
          108.13112018257395,
          114.45867872965727,
          113.66016894188495,
          105.32612921479972,
          105.18486930992799,
          104.62242238486846,
          109.24291748112908,
          107.73133199463284,
          107.0676503212653,
          108.70097018267194,
          100.1811718674912
         ],
         "xaxis": "x2",
         "yaxis": "y2"
        },
        {
         "alignmentgroup": "True",
         "bingroup": "x",
         "hovertemplate": "Cx=C12<br>dots-angle=%{x}<br>count=%{y}<extra></extra>",
         "legendgroup": "C12",
         "marker": {
          "color": "#EF553B"
         },
         "name": "C12",
         "nbinsx": 100,
         "offsetgroup": "C12",
         "orientation": "v",
         "showlegend": true,
         "type": "histogram",
         "x": [
          117.38891594390836,
          111.86476401834476,
          117.24967960451951,
          113.12403276691238,
          105.39276934960725,
          110.67277745165538,
          108.81303121547217,
          111.43094046148744,
          116.27479288492466,
          112.15057906408913,
          113.79717692326871,
          107.4453708745436,
          115.41544467306399,
          112.35865683440711,
          113.47851464107504,
          114.23998980532718,
          100.58162982807993,
          118.70243407906032,
          114.05717062363811,
          112.79968036298946,
          114.42627890473203,
          113.40463335741322,
          103.10965136847211,
          111.80983773069593,
          112.31231235036635,
          112.01472200824806,
          111.587662419721,
          103.95402081176239,
          107.48191765537793,
          109.40988013957256,
          115.27943530928526,
          115.23218225932175
         ],
         "xaxis": "x",
         "yaxis": "y"
        },
        {
         "alignmentgroup": "True",
         "boxpoints": "all",
         "fillcolor": "rgba(255,255,255,0)",
         "hoveron": "points",
         "hovertemplate": "Cx=C12<br>dots-angle=%{x}<extra></extra>",
         "jitter": 0,
         "legendgroup": "C12",
         "line": {
          "color": "rgba(255,255,255,0)"
         },
         "marker": {
          "color": "#EF553B",
          "symbol": "line-ns-open"
         },
         "name": "C12",
         "offsetgroup": "C12",
         "showlegend": false,
         "type": "box",
         "x": [
          117.38891594390836,
          111.86476401834476,
          117.24967960451951,
          113.12403276691238,
          105.39276934960725,
          110.67277745165538,
          108.81303121547217,
          111.43094046148744,
          116.27479288492466,
          112.15057906408913,
          113.79717692326871,
          107.4453708745436,
          115.41544467306399,
          112.35865683440711,
          113.47851464107504,
          114.23998980532718,
          100.58162982807993,
          118.70243407906032,
          114.05717062363811,
          112.79968036298946,
          114.42627890473203,
          113.40463335741322,
          103.10965136847211,
          111.80983773069593,
          112.31231235036635,
          112.01472200824806,
          111.587662419721,
          103.95402081176239,
          107.48191765537793,
          109.40988013957256,
          115.27943530928526,
          115.23218225932175
         ],
         "xaxis": "x2",
         "yaxis": "y2"
        },
        {
         "alignmentgroup": "True",
         "bingroup": "x",
         "hovertemplate": "Cx=C13<br>dots-angle=%{x}<br>count=%{y}<extra></extra>",
         "legendgroup": "C13",
         "marker": {
          "color": "#00cc96"
         },
         "name": "C13",
         "nbinsx": 100,
         "offsetgroup": "C13",
         "orientation": "v",
         "showlegend": true,
         "type": "histogram",
         "x": [
          112.53542387289274,
          106.33966416870166,
          109.34192169468722,
          5.029140418989476,
          110.26445546881371,
          104.06552932212573,
          113.34585299161228,
          103.06575964467848,
          108.23379306211942,
          103.97039002572855,
          106.56015972591177,
          113.53562434916599,
          111.49326369298298,
          106.86706643667802,
          107.3762370971491,
          114.64820087302613,
          104.94986128652069,
          109.61764280053846,
          113.88671309767331,
          112.05505972474415,
          114.80849314439604,
          112.44126919981935,
          107.61651576773241,
          111.45455358327443,
          101.42252679767358,
          108.41674547576244,
          102.07142368772932,
          122.0747724680572,
          110.9816951568029,
          99.33829201907336,
          105.29977904314408,
          105.8222003005503
         ],
         "xaxis": "x",
         "yaxis": "y"
        },
        {
         "alignmentgroup": "True",
         "boxpoints": "all",
         "fillcolor": "rgba(255,255,255,0)",
         "hoveron": "points",
         "hovertemplate": "Cx=C13<br>dots-angle=%{x}<extra></extra>",
         "jitter": 0,
         "legendgroup": "C13",
         "line": {
          "color": "rgba(255,255,255,0)"
         },
         "marker": {
          "color": "#00cc96",
          "symbol": "line-ns-open"
         },
         "name": "C13",
         "offsetgroup": "C13",
         "showlegend": false,
         "type": "box",
         "x": [
          112.53542387289274,
          106.33966416870166,
          109.34192169468722,
          5.029140418989476,
          110.26445546881371,
          104.06552932212573,
          113.34585299161228,
          103.06575964467848,
          108.23379306211942,
          103.97039002572855,
          106.56015972591177,
          113.53562434916599,
          111.49326369298298,
          106.86706643667802,
          107.3762370971491,
          114.64820087302613,
          104.94986128652069,
          109.61764280053846,
          113.88671309767331,
          112.05505972474415,
          114.80849314439604,
          112.44126919981935,
          107.61651576773241,
          111.45455358327443,
          101.42252679767358,
          108.41674547576244,
          102.07142368772932,
          122.0747724680572,
          110.9816951568029,
          99.33829201907336,
          105.29977904314408,
          105.8222003005503
         ],
         "xaxis": "x2",
         "yaxis": "y2"
        },
        {
         "alignmentgroup": "True",
         "bingroup": "x",
         "hovertemplate": "Cx=C14<br>dots-angle=%{x}<br>count=%{y}<extra></extra>",
         "legendgroup": "C14",
         "marker": {
          "color": "#ab63fa"
         },
         "name": "C14",
         "nbinsx": 100,
         "offsetgroup": "C14",
         "orientation": "v",
         "showlegend": true,
         "type": "histogram",
         "x": [
          111.1258587509463,
          108.9779330400903,
          113.5382146351344,
          7.392684846743951,
          109.77977603344348,
          108.78955653595764,
          111.72614859664893,
          108.17830661545592,
          111.95713252177974,
          111.33329600615268,
          111.12196261271934,
          106.7170208887859,
          114.4773654591832,
          109.78249896034669,
          113.86072002532161,
          107.24943680744147,
          106.01379371750554,
          113.92957742214237,
          115.56872472842781,
          105.70423587864171,
          115.8339872860274,
          113.90486989132128,
          111.04993223589184,
          113.26538915372412,
          109.79472721648273,
          118.27198628309826,
          112.9168196697493,
          117.50632314542909,
          109.63612473615771,
          106.52731105679112,
          111.45609744012881,
          112.73146878965547
         ],
         "xaxis": "x",
         "yaxis": "y"
        },
        {
         "alignmentgroup": "True",
         "boxpoints": "all",
         "fillcolor": "rgba(255,255,255,0)",
         "hoveron": "points",
         "hovertemplate": "Cx=C14<br>dots-angle=%{x}<extra></extra>",
         "jitter": 0,
         "legendgroup": "C14",
         "line": {
          "color": "rgba(255,255,255,0)"
         },
         "marker": {
          "color": "#ab63fa",
          "symbol": "line-ns-open"
         },
         "name": "C14",
         "offsetgroup": "C14",
         "showlegend": false,
         "type": "box",
         "x": [
          111.1258587509463,
          108.9779330400903,
          113.5382146351344,
          7.392684846743951,
          109.77977603344348,
          108.78955653595764,
          111.72614859664893,
          108.17830661545592,
          111.95713252177974,
          111.33329600615268,
          111.12196261271934,
          106.7170208887859,
          114.4773654591832,
          109.78249896034669,
          113.86072002532161,
          107.24943680744147,
          106.01379371750554,
          113.92957742214237,
          115.56872472842781,
          105.70423587864171,
          115.8339872860274,
          113.90486989132128,
          111.04993223589184,
          113.26538915372412,
          109.79472721648273,
          118.27198628309826,
          112.9168196697493,
          117.50632314542909,
          109.63612473615771,
          106.52731105679112,
          111.45609744012881,
          112.73146878965547
         ],
         "xaxis": "x2",
         "yaxis": "y2"
        },
        {
         "alignmentgroup": "True",
         "bingroup": "x",
         "hovertemplate": "Cx=C15<br>dots-angle=%{x}<br>count=%{y}<extra></extra>",
         "legendgroup": "C15",
         "marker": {
          "color": "#FFA15A"
         },
         "name": "C15",
         "nbinsx": 100,
         "offsetgroup": "C15",
         "orientation": "v",
         "showlegend": true,
         "type": "histogram",
         "x": [
          114.20805354057408,
          113.87213987225202,
          109.88888963333685,
          109.95762804102179,
          112.59995871997266,
          117.9545484561229,
          112.1728510312192,
          111.38496682621127,
          118.18399025395615,
          112.20240440778318,
          110.18233867539146,
          109.03812791471191,
          109.22544222334481,
          108.53255270325657,
          106.08092434400011,
          113.43425372966297,
          106.97257297159933,
          104.33923669155442,
          113.78435909791945,
          115.51816607900047,
          111.39795710780989,
          108.32624094272082,
          106.4425569820801,
          109.91463715945879,
          107.1094381301136,
          111.86325050461416,
          99.89191670843485,
          112.99333203651415,
          110.27829943022945,
          108.62528603093835,
          109.60853380235979,
          112.90911167008842
         ],
         "xaxis": "x",
         "yaxis": "y"
        },
        {
         "alignmentgroup": "True",
         "boxpoints": "all",
         "fillcolor": "rgba(255,255,255,0)",
         "hoveron": "points",
         "hovertemplate": "Cx=C15<br>dots-angle=%{x}<extra></extra>",
         "jitter": 0,
         "legendgroup": "C15",
         "line": {
          "color": "rgba(255,255,255,0)"
         },
         "marker": {
          "color": "#FFA15A",
          "symbol": "line-ns-open"
         },
         "name": "C15",
         "offsetgroup": "C15",
         "showlegend": false,
         "type": "box",
         "x": [
          114.20805354057408,
          113.87213987225202,
          109.88888963333685,
          109.95762804102179,
          112.59995871997266,
          117.9545484561229,
          112.1728510312192,
          111.38496682621127,
          118.18399025395615,
          112.20240440778318,
          110.18233867539146,
          109.03812791471191,
          109.22544222334481,
          108.53255270325657,
          106.08092434400011,
          113.43425372966297,
          106.97257297159933,
          104.33923669155442,
          113.78435909791945,
          115.51816607900047,
          111.39795710780989,
          108.32624094272082,
          106.4425569820801,
          109.91463715945879,
          107.1094381301136,
          111.86325050461416,
          99.89191670843485,
          112.99333203651415,
          110.27829943022945,
          108.62528603093835,
          109.60853380235979,
          112.90911167008842
         ],
         "xaxis": "x2",
         "yaxis": "y2"
        },
        {
         "alignmentgroup": "True",
         "bingroup": "x",
         "hovertemplate": "Cx=C16<br>dots-angle=%{x}<br>count=%{y}<extra></extra>",
         "legendgroup": "C16",
         "marker": {
          "color": "#19d3f3"
         },
         "name": "C16",
         "nbinsx": 100,
         "offsetgroup": "C16",
         "orientation": "v",
         "showlegend": true,
         "type": "histogram",
         "x": [
          109.9925925009436,
          110.94506881931127,
          105.25369024172677,
          108.16748207640666,
          107.7535287722536,
          110.656287298844,
          107.31881032705753,
          109.40478573854544,
          109.53097300264113,
          109.35965097804784,
          108.38599885877886,
          111.3915413965714,
          106.94059268872881,
          113.05412129807374,
          111.67280342817163,
          107.32485109940166,
          113.90625653925835,
          99.50033435915728,
          108.15806022310156,
          116.59398674382389,
          109.50872890934183,
          113.86121093086372,
          106.42161802887375,
          102.15460907901928,
          114.16435320898049,
          104.1338417206409,
          114.06802959657854,
          111.13936033180008,
          111.03022354315249,
          106.59104769805465,
          112.88843777023452,
          111.38946519367141
         ],
         "xaxis": "x",
         "yaxis": "y"
        },
        {
         "alignmentgroup": "True",
         "boxpoints": "all",
         "fillcolor": "rgba(255,255,255,0)",
         "hoveron": "points",
         "hovertemplate": "Cx=C16<br>dots-angle=%{x}<extra></extra>",
         "jitter": 0,
         "legendgroup": "C16",
         "line": {
          "color": "rgba(255,255,255,0)"
         },
         "marker": {
          "color": "#19d3f3",
          "symbol": "line-ns-open"
         },
         "name": "C16",
         "offsetgroup": "C16",
         "showlegend": false,
         "type": "box",
         "x": [
          109.9925925009436,
          110.94506881931127,
          105.25369024172677,
          108.16748207640666,
          107.7535287722536,
          110.656287298844,
          107.31881032705753,
          109.40478573854544,
          109.53097300264113,
          109.35965097804784,
          108.38599885877886,
          111.3915413965714,
          106.94059268872881,
          113.05412129807374,
          111.67280342817163,
          107.32485109940166,
          113.90625653925835,
          99.50033435915728,
          108.15806022310156,
          116.59398674382389,
          109.50872890934183,
          113.86121093086372,
          106.42161802887375,
          102.15460907901928,
          114.16435320898049,
          104.1338417206409,
          114.06802959657854,
          111.13936033180008,
          111.03022354315249,
          106.59104769805465,
          112.88843777023452,
          111.38946519367141
         ],
         "xaxis": "x2",
         "yaxis": "y2"
        },
        {
         "alignmentgroup": "True",
         "bingroup": "x",
         "hovertemplate": "Cx=C17<br>dots-angle=%{x}<br>count=%{y}<extra></extra>",
         "legendgroup": "C17",
         "marker": {
          "color": "#FF6692"
         },
         "name": "C17",
         "nbinsx": 100,
         "offsetgroup": "C17",
         "orientation": "v",
         "showlegend": true,
         "type": "histogram",
         "x": [
          115.57539760419589,
          111.81072140339268,
          109.00257882722399,
          109.6143741583857,
          86.86277256054632,
          114.40402786510882,
          107.53149376442826,
          111.434303996843,
          116.9811260487007,
          118.5841473111318,
          116.55892849614364,
          111.58124339416787,
          108.5511542026484,
          107.1207090409059,
          113.63812116622249,
          115.89195172592427,
          112.17058037103425,
          106.95636929493438,
          115.13697843761322,
          116.07176927696474,
          111.25937093001994,
          117.64604853170178,
          109.13581814088542,
          114.43485194989238,
          116.03357521887753,
          109.0066415264121,
          113.48955769612448,
          101.97272866074199,
          106.67214609913277,
          111.13971067749283,
          113.38439610602455,
          110.00052026633679
         ],
         "xaxis": "x",
         "yaxis": "y"
        },
        {
         "alignmentgroup": "True",
         "boxpoints": "all",
         "fillcolor": "rgba(255,255,255,0)",
         "hoveron": "points",
         "hovertemplate": "Cx=C17<br>dots-angle=%{x}<extra></extra>",
         "jitter": 0,
         "legendgroup": "C17",
         "line": {
          "color": "rgba(255,255,255,0)"
         },
         "marker": {
          "color": "#FF6692",
          "symbol": "line-ns-open"
         },
         "name": "C17",
         "offsetgroup": "C17",
         "showlegend": false,
         "type": "box",
         "x": [
          115.57539760419589,
          111.81072140339268,
          109.00257882722399,
          109.6143741583857,
          86.86277256054632,
          114.40402786510882,
          107.53149376442826,
          111.434303996843,
          116.9811260487007,
          118.5841473111318,
          116.55892849614364,
          111.58124339416787,
          108.5511542026484,
          107.1207090409059,
          113.63812116622249,
          115.89195172592427,
          112.17058037103425,
          106.95636929493438,
          115.13697843761322,
          116.07176927696474,
          111.25937093001994,
          117.64604853170178,
          109.13581814088542,
          114.43485194989238,
          116.03357521887753,
          109.0066415264121,
          113.48955769612448,
          101.97272866074199,
          106.67214609913277,
          111.13971067749283,
          113.38439610602455,
          110.00052026633679
         ],
         "xaxis": "x2",
         "yaxis": "y2"
        },
        {
         "alignmentgroup": "True",
         "bingroup": "x",
         "hovertemplate": "Cx=C18<br>dots-angle=%{x}<br>count=%{y}<extra></extra>",
         "legendgroup": "C18",
         "marker": {
          "color": "#B6E880"
         },
         "name": "C18",
         "nbinsx": 100,
         "offsetgroup": "C18",
         "orientation": "v",
         "showlegend": true,
         "type": "histogram",
         "x": [
          120.89435119122784,
          123.58283647327164,
          119.3695935069512,
          128.33907286960928,
          47.46582175341658,
          117.78959454695459,
          121.89544323067405,
          127.52325642904015,
          118.34928632013025,
          116.67399907833406,
          119.54847888293473,
          123.90670545317924,
          121.04387520787337,
          124.56732515536352,
          118.79743029683026,
          116.68656889824163,
          123.76063712310382,
          128.51182809278754,
          119.02906933781604,
          117.47555287224854,
          125.2867188773753,
          117.6387382703742,
          122.52492375914483,
          119.1564995189415,
          121.43223678926125,
          121.1498771792941,
          117.78327767688457,
          123.03687418600592,
          123.93880796589735,
          119.83317357998064,
          123.84876836333675,
          119.13786575704465
         ],
         "xaxis": "x",
         "yaxis": "y"
        },
        {
         "alignmentgroup": "True",
         "boxpoints": "all",
         "fillcolor": "rgba(255,255,255,0)",
         "hoveron": "points",
         "hovertemplate": "Cx=C18<br>dots-angle=%{x}<extra></extra>",
         "jitter": 0,
         "legendgroup": "C18",
         "line": {
          "color": "rgba(255,255,255,0)"
         },
         "marker": {
          "color": "#B6E880",
          "symbol": "line-ns-open"
         },
         "name": "C18",
         "offsetgroup": "C18",
         "showlegend": false,
         "type": "box",
         "x": [
          120.89435119122784,
          123.58283647327164,
          119.3695935069512,
          128.33907286960928,
          47.46582175341658,
          117.78959454695459,
          121.89544323067405,
          127.52325642904015,
          118.34928632013025,
          116.67399907833406,
          119.54847888293473,
          123.90670545317924,
          121.04387520787337,
          124.56732515536352,
          118.79743029683026,
          116.68656889824163,
          123.76063712310382,
          128.51182809278754,
          119.02906933781604,
          117.47555287224854,
          125.2867188773753,
          117.6387382703742,
          122.52492375914483,
          119.1564995189415,
          121.43223678926125,
          121.1498771792941,
          117.78327767688457,
          123.03687418600592,
          123.93880796589735,
          119.83317357998064,
          123.84876836333675,
          119.13786575704465
         ],
         "xaxis": "x2",
         "yaxis": "y2"
        },
        {
         "alignmentgroup": "True",
         "bingroup": "x",
         "hovertemplate": "Cx=O19<br>dots-angle=%{x}<br>count=%{y}<extra></extra>",
         "legendgroup": "O19",
         "marker": {
          "color": "#FF97FF"
         },
         "name": "O19",
         "nbinsx": 100,
         "offsetgroup": "O19",
         "orientation": "v",
         "showlegend": true,
         "type": "histogram",
         "x": [
          29.208989279022244,
          34.332236498144134,
          29.56566170640673,
          32.66593833351973,
          30.666500990909874,
          30.974157186036358,
          28.755194722149707,
          31.338553746852952,
          30.299818368849202,
          30.006903190575372,
          31.54331290278784,
          31.974041376835135,
          26.72588419345517,
          32.650112185768336,
          32.58853587730299,
          30.127463230657472,
          31.976219966733144,
          33.683408337668084,
          29.07925890033279,
          29.969272344971024,
          32.45182746792583,
          29.908981560768417,
          28.25667500144872,
          29.615013767303815,
          31.658448626765967,
          29.84033020602651,
          27.53002309202206,
          33.04013041130979,
          30.783320160789486,
          29.387766717503062,
          33.571318931429396,
          118.42314250785113
         ],
         "xaxis": "x",
         "yaxis": "y"
        },
        {
         "alignmentgroup": "True",
         "boxpoints": "all",
         "fillcolor": "rgba(255,255,255,0)",
         "hoveron": "points",
         "hovertemplate": "Cx=O19<br>dots-angle=%{x}<extra></extra>",
         "jitter": 0,
         "legendgroup": "O19",
         "line": {
          "color": "rgba(255,255,255,0)"
         },
         "marker": {
          "color": "#FF97FF",
          "symbol": "line-ns-open"
         },
         "name": "O19",
         "offsetgroup": "O19",
         "showlegend": false,
         "type": "box",
         "x": [
          29.208989279022244,
          34.332236498144134,
          29.56566170640673,
          32.66593833351973,
          30.666500990909874,
          30.974157186036358,
          28.755194722149707,
          31.338553746852952,
          30.299818368849202,
          30.006903190575372,
          31.54331290278784,
          31.974041376835135,
          26.72588419345517,
          32.650112185768336,
          32.58853587730299,
          30.127463230657472,
          31.976219966733144,
          33.683408337668084,
          29.07925890033279,
          29.969272344971024,
          32.45182746792583,
          29.908981560768417,
          28.25667500144872,
          29.615013767303815,
          31.658448626765967,
          29.84033020602651,
          27.53002309202206,
          33.04013041130979,
          30.783320160789486,
          29.387766717503062,
          33.571318931429396,
          118.42314250785113
         ],
         "xaxis": "x2",
         "yaxis": "y2"
        },
        {
         "alignmentgroup": "True",
         "bingroup": "x",
         "hovertemplate": "Cx=O20<br>dots-angle=%{x}<br>count=%{y}<extra></extra>",
         "legendgroup": "O20",
         "marker": {
          "color": "#FECB52"
         },
         "name": "O20",
         "nbinsx": 100,
         "offsetgroup": "O20",
         "orientation": "v",
         "showlegend": true,
         "type": "histogram",
         "x": [
          69.04552595453883,
          137.23075935587033,
          137.42423042225235,
          140.5733918145053,
          83.11231364315462,
          138.53210968849945,
          72.49800819614305,
          76.16719617358488,
          137.30627045780142,
          132.81055007533124,
          135.89335031878795,
          78.88428311734143,
          126.34425416353237,
          129.16631954732736,
          130.6027537423911,
          74.0831292004284,
          73.45544427690929,
          142.28879840849564,
          131.17346718734615,
          132.00299751762307,
          78.6756478528439,
          141.0401349215623,
          78.7351092538319,
          81.78369669833168,
          137.66457261904625,
          133.1284908271816,
          133.32439871653725,
          73.63379489037673,
          138.0962200451179,
          145.07804550985134,
          138.74292928704165,
          84.56611017755759
         ],
         "xaxis": "x",
         "yaxis": "y"
        },
        {
         "alignmentgroup": "True",
         "boxpoints": "all",
         "fillcolor": "rgba(255,255,255,0)",
         "hoveron": "points",
         "hovertemplate": "Cx=O20<br>dots-angle=%{x}<extra></extra>",
         "jitter": 0,
         "legendgroup": "O20",
         "line": {
          "color": "rgba(255,255,255,0)"
         },
         "marker": {
          "color": "#FECB52",
          "symbol": "line-ns-open"
         },
         "name": "O20",
         "offsetgroup": "O20",
         "showlegend": false,
         "type": "box",
         "x": [
          69.04552595453883,
          137.23075935587033,
          137.42423042225235,
          140.5733918145053,
          83.11231364315462,
          138.53210968849945,
          72.49800819614305,
          76.16719617358488,
          137.30627045780142,
          132.81055007533124,
          135.89335031878795,
          78.88428311734143,
          126.34425416353237,
          129.16631954732736,
          130.6027537423911,
          74.0831292004284,
          73.45544427690929,
          142.28879840849564,
          131.17346718734615,
          132.00299751762307,
          78.6756478528439,
          141.0401349215623,
          78.7351092538319,
          81.78369669833168,
          137.66457261904625,
          133.1284908271816,
          133.32439871653725,
          73.63379489037673,
          138.0962200451179,
          145.07804550985134,
          138.74292928704165,
          84.56611017755759
         ],
         "xaxis": "x2",
         "yaxis": "y2"
        },
        {
         "alignmentgroup": "True",
         "bingroup": "x",
         "hovertemplate": "Cx=H21<br>dots-angle=%{x}<br>count=%{y}<extra></extra>",
         "legendgroup": "H21",
         "marker": {
          "color": "#636efa"
         },
         "name": "H21",
         "nbinsx": 100,
         "offsetgroup": "H21",
         "orientation": "v",
         "showlegend": true,
         "type": "histogram",
         "x": [
          0,
          0,
          0,
          0,
          0,
          0,
          0,
          0,
          0,
          0,
          0,
          0,
          0,
          0,
          0,
          0,
          0,
          0,
          0,
          0,
          0,
          0,
          0,
          0,
          0,
          0,
          0,
          0,
          0,
          0,
          0,
          0
         ],
         "xaxis": "x",
         "yaxis": "y"
        },
        {
         "alignmentgroup": "True",
         "boxpoints": "all",
         "fillcolor": "rgba(255,255,255,0)",
         "hoveron": "points",
         "hovertemplate": "Cx=H21<br>dots-angle=%{x}<extra></extra>",
         "jitter": 0,
         "legendgroup": "H21",
         "line": {
          "color": "rgba(255,255,255,0)"
         },
         "marker": {
          "color": "#636efa",
          "symbol": "line-ns-open"
         },
         "name": "H21",
         "offsetgroup": "H21",
         "showlegend": false,
         "type": "box",
         "x": [
          0,
          0,
          0,
          0,
          0,
          0,
          0,
          0,
          0,
          0,
          0,
          0,
          0,
          0,
          0,
          0,
          0,
          0,
          0,
          0,
          0,
          0,
          0,
          0,
          0,
          0,
          0,
          0,
          0,
          0,
          0,
          0
         ],
         "xaxis": "x2",
         "yaxis": "y2"
        }
       ],
       "layout": {
        "barmode": "relative",
        "height": 800,
        "legend": {
         "title": {
          "text": "Cx"
         },
         "tracegroupgap": 0
        },
        "margin": {
         "t": 60
        },
        "template": {
         "data": {
          "bar": [
           {
            "error_x": {
             "color": "#2a3f5f"
            },
            "error_y": {
             "color": "#2a3f5f"
            },
            "marker": {
             "line": {
              "color": "#E5ECF6",
              "width": 0.5
             }
            },
            "type": "bar"
           }
          ],
          "barpolar": [
           {
            "marker": {
             "line": {
              "color": "#E5ECF6",
              "width": 0.5
             }
            },
            "type": "barpolar"
           }
          ],
          "carpet": [
           {
            "aaxis": {
             "endlinecolor": "#2a3f5f",
             "gridcolor": "white",
             "linecolor": "white",
             "minorgridcolor": "white",
             "startlinecolor": "#2a3f5f"
            },
            "baxis": {
             "endlinecolor": "#2a3f5f",
             "gridcolor": "white",
             "linecolor": "white",
             "minorgridcolor": "white",
             "startlinecolor": "#2a3f5f"
            },
            "type": "carpet"
           }
          ],
          "choropleth": [
           {
            "colorbar": {
             "outlinewidth": 0,
             "ticks": ""
            },
            "type": "choropleth"
           }
          ],
          "contour": [
           {
            "colorbar": {
             "outlinewidth": 0,
             "ticks": ""
            },
            "colorscale": [
             [
              0,
              "#0d0887"
             ],
             [
              0.1111111111111111,
              "#46039f"
             ],
             [
              0.2222222222222222,
              "#7201a8"
             ],
             [
              0.3333333333333333,
              "#9c179e"
             ],
             [
              0.4444444444444444,
              "#bd3786"
             ],
             [
              0.5555555555555556,
              "#d8576b"
             ],
             [
              0.6666666666666666,
              "#ed7953"
             ],
             [
              0.7777777777777778,
              "#fb9f3a"
             ],
             [
              0.8888888888888888,
              "#fdca26"
             ],
             [
              1,
              "#f0f921"
             ]
            ],
            "type": "contour"
           }
          ],
          "contourcarpet": [
           {
            "colorbar": {
             "outlinewidth": 0,
             "ticks": ""
            },
            "type": "contourcarpet"
           }
          ],
          "heatmap": [
           {
            "colorbar": {
             "outlinewidth": 0,
             "ticks": ""
            },
            "colorscale": [
             [
              0,
              "#0d0887"
             ],
             [
              0.1111111111111111,
              "#46039f"
             ],
             [
              0.2222222222222222,
              "#7201a8"
             ],
             [
              0.3333333333333333,
              "#9c179e"
             ],
             [
              0.4444444444444444,
              "#bd3786"
             ],
             [
              0.5555555555555556,
              "#d8576b"
             ],
             [
              0.6666666666666666,
              "#ed7953"
             ],
             [
              0.7777777777777778,
              "#fb9f3a"
             ],
             [
              0.8888888888888888,
              "#fdca26"
             ],
             [
              1,
              "#f0f921"
             ]
            ],
            "type": "heatmap"
           }
          ],
          "heatmapgl": [
           {
            "colorbar": {
             "outlinewidth": 0,
             "ticks": ""
            },
            "colorscale": [
             [
              0,
              "#0d0887"
             ],
             [
              0.1111111111111111,
              "#46039f"
             ],
             [
              0.2222222222222222,
              "#7201a8"
             ],
             [
              0.3333333333333333,
              "#9c179e"
             ],
             [
              0.4444444444444444,
              "#bd3786"
             ],
             [
              0.5555555555555556,
              "#d8576b"
             ],
             [
              0.6666666666666666,
              "#ed7953"
             ],
             [
              0.7777777777777778,
              "#fb9f3a"
             ],
             [
              0.8888888888888888,
              "#fdca26"
             ],
             [
              1,
              "#f0f921"
             ]
            ],
            "type": "heatmapgl"
           }
          ],
          "histogram": [
           {
            "marker": {
             "colorbar": {
              "outlinewidth": 0,
              "ticks": ""
             }
            },
            "type": "histogram"
           }
          ],
          "histogram2d": [
           {
            "colorbar": {
             "outlinewidth": 0,
             "ticks": ""
            },
            "colorscale": [
             [
              0,
              "#0d0887"
             ],
             [
              0.1111111111111111,
              "#46039f"
             ],
             [
              0.2222222222222222,
              "#7201a8"
             ],
             [
              0.3333333333333333,
              "#9c179e"
             ],
             [
              0.4444444444444444,
              "#bd3786"
             ],
             [
              0.5555555555555556,
              "#d8576b"
             ],
             [
              0.6666666666666666,
              "#ed7953"
             ],
             [
              0.7777777777777778,
              "#fb9f3a"
             ],
             [
              0.8888888888888888,
              "#fdca26"
             ],
             [
              1,
              "#f0f921"
             ]
            ],
            "type": "histogram2d"
           }
          ],
          "histogram2dcontour": [
           {
            "colorbar": {
             "outlinewidth": 0,
             "ticks": ""
            },
            "colorscale": [
             [
              0,
              "#0d0887"
             ],
             [
              0.1111111111111111,
              "#46039f"
             ],
             [
              0.2222222222222222,
              "#7201a8"
             ],
             [
              0.3333333333333333,
              "#9c179e"
             ],
             [
              0.4444444444444444,
              "#bd3786"
             ],
             [
              0.5555555555555556,
              "#d8576b"
             ],
             [
              0.6666666666666666,
              "#ed7953"
             ],
             [
              0.7777777777777778,
              "#fb9f3a"
             ],
             [
              0.8888888888888888,
              "#fdca26"
             ],
             [
              1,
              "#f0f921"
             ]
            ],
            "type": "histogram2dcontour"
           }
          ],
          "mesh3d": [
           {
            "colorbar": {
             "outlinewidth": 0,
             "ticks": ""
            },
            "type": "mesh3d"
           }
          ],
          "parcoords": [
           {
            "line": {
             "colorbar": {
              "outlinewidth": 0,
              "ticks": ""
             }
            },
            "type": "parcoords"
           }
          ],
          "pie": [
           {
            "automargin": true,
            "type": "pie"
           }
          ],
          "scatter": [
           {
            "marker": {
             "colorbar": {
              "outlinewidth": 0,
              "ticks": ""
             }
            },
            "type": "scatter"
           }
          ],
          "scatter3d": [
           {
            "line": {
             "colorbar": {
              "outlinewidth": 0,
              "ticks": ""
             }
            },
            "marker": {
             "colorbar": {
              "outlinewidth": 0,
              "ticks": ""
             }
            },
            "type": "scatter3d"
           }
          ],
          "scattercarpet": [
           {
            "marker": {
             "colorbar": {
              "outlinewidth": 0,
              "ticks": ""
             }
            },
            "type": "scattercarpet"
           }
          ],
          "scattergeo": [
           {
            "marker": {
             "colorbar": {
              "outlinewidth": 0,
              "ticks": ""
             }
            },
            "type": "scattergeo"
           }
          ],
          "scattergl": [
           {
            "marker": {
             "colorbar": {
              "outlinewidth": 0,
              "ticks": ""
             }
            },
            "type": "scattergl"
           }
          ],
          "scattermapbox": [
           {
            "marker": {
             "colorbar": {
              "outlinewidth": 0,
              "ticks": ""
             }
            },
            "type": "scattermapbox"
           }
          ],
          "scatterpolar": [
           {
            "marker": {
             "colorbar": {
              "outlinewidth": 0,
              "ticks": ""
             }
            },
            "type": "scatterpolar"
           }
          ],
          "scatterpolargl": [
           {
            "marker": {
             "colorbar": {
              "outlinewidth": 0,
              "ticks": ""
             }
            },
            "type": "scatterpolargl"
           }
          ],
          "scatterternary": [
           {
            "marker": {
             "colorbar": {
              "outlinewidth": 0,
              "ticks": ""
             }
            },
            "type": "scatterternary"
           }
          ],
          "surface": [
           {
            "colorbar": {
             "outlinewidth": 0,
             "ticks": ""
            },
            "colorscale": [
             [
              0,
              "#0d0887"
             ],
             [
              0.1111111111111111,
              "#46039f"
             ],
             [
              0.2222222222222222,
              "#7201a8"
             ],
             [
              0.3333333333333333,
              "#9c179e"
             ],
             [
              0.4444444444444444,
              "#bd3786"
             ],
             [
              0.5555555555555556,
              "#d8576b"
             ],
             [
              0.6666666666666666,
              "#ed7953"
             ],
             [
              0.7777777777777778,
              "#fb9f3a"
             ],
             [
              0.8888888888888888,
              "#fdca26"
             ],
             [
              1,
              "#f0f921"
             ]
            ],
            "type": "surface"
           }
          ],
          "table": [
           {
            "cells": {
             "fill": {
              "color": "#EBF0F8"
             },
             "line": {
              "color": "white"
             }
            },
            "header": {
             "fill": {
              "color": "#C8D4E3"
             },
             "line": {
              "color": "white"
             }
            },
            "type": "table"
           }
          ]
         },
         "layout": {
          "annotationdefaults": {
           "arrowcolor": "#2a3f5f",
           "arrowhead": 0,
           "arrowwidth": 1
          },
          "autotypenumbers": "strict",
          "coloraxis": {
           "colorbar": {
            "outlinewidth": 0,
            "ticks": ""
           }
          },
          "colorscale": {
           "diverging": [
            [
             0,
             "#8e0152"
            ],
            [
             0.1,
             "#c51b7d"
            ],
            [
             0.2,
             "#de77ae"
            ],
            [
             0.3,
             "#f1b6da"
            ],
            [
             0.4,
             "#fde0ef"
            ],
            [
             0.5,
             "#f7f7f7"
            ],
            [
             0.6,
             "#e6f5d0"
            ],
            [
             0.7,
             "#b8e186"
            ],
            [
             0.8,
             "#7fbc41"
            ],
            [
             0.9,
             "#4d9221"
            ],
            [
             1,
             "#276419"
            ]
           ],
           "sequential": [
            [
             0,
             "#0d0887"
            ],
            [
             0.1111111111111111,
             "#46039f"
            ],
            [
             0.2222222222222222,
             "#7201a8"
            ],
            [
             0.3333333333333333,
             "#9c179e"
            ],
            [
             0.4444444444444444,
             "#bd3786"
            ],
            [
             0.5555555555555556,
             "#d8576b"
            ],
            [
             0.6666666666666666,
             "#ed7953"
            ],
            [
             0.7777777777777778,
             "#fb9f3a"
            ],
            [
             0.8888888888888888,
             "#fdca26"
            ],
            [
             1,
             "#f0f921"
            ]
           ],
           "sequentialminus": [
            [
             0,
             "#0d0887"
            ],
            [
             0.1111111111111111,
             "#46039f"
            ],
            [
             0.2222222222222222,
             "#7201a8"
            ],
            [
             0.3333333333333333,
             "#9c179e"
            ],
            [
             0.4444444444444444,
             "#bd3786"
            ],
            [
             0.5555555555555556,
             "#d8576b"
            ],
            [
             0.6666666666666666,
             "#ed7953"
            ],
            [
             0.7777777777777778,
             "#fb9f3a"
            ],
            [
             0.8888888888888888,
             "#fdca26"
            ],
            [
             1,
             "#f0f921"
            ]
           ]
          },
          "colorway": [
           "#636efa",
           "#EF553B",
           "#00cc96",
           "#ab63fa",
           "#FFA15A",
           "#19d3f3",
           "#FF6692",
           "#B6E880",
           "#FF97FF",
           "#FECB52"
          ],
          "font": {
           "color": "#2a3f5f"
          },
          "geo": {
           "bgcolor": "white",
           "lakecolor": "white",
           "landcolor": "#E5ECF6",
           "showlakes": true,
           "showland": true,
           "subunitcolor": "white"
          },
          "hoverlabel": {
           "align": "left"
          },
          "hovermode": "closest",
          "mapbox": {
           "style": "light"
          },
          "paper_bgcolor": "white",
          "plot_bgcolor": "#E5ECF6",
          "polar": {
           "angularaxis": {
            "gridcolor": "white",
            "linecolor": "white",
            "ticks": ""
           },
           "bgcolor": "#E5ECF6",
           "radialaxis": {
            "gridcolor": "white",
            "linecolor": "white",
            "ticks": ""
           }
          },
          "scene": {
           "xaxis": {
            "backgroundcolor": "#E5ECF6",
            "gridcolor": "white",
            "gridwidth": 2,
            "linecolor": "white",
            "showbackground": true,
            "ticks": "",
            "zerolinecolor": "white"
           },
           "yaxis": {
            "backgroundcolor": "#E5ECF6",
            "gridcolor": "white",
            "gridwidth": 2,
            "linecolor": "white",
            "showbackground": true,
            "ticks": "",
            "zerolinecolor": "white"
           },
           "zaxis": {
            "backgroundcolor": "#E5ECF6",
            "gridcolor": "white",
            "gridwidth": 2,
            "linecolor": "white",
            "showbackground": true,
            "ticks": "",
            "zerolinecolor": "white"
           }
          },
          "shapedefaults": {
           "line": {
            "color": "#2a3f5f"
           }
          },
          "ternary": {
           "aaxis": {
            "gridcolor": "white",
            "linecolor": "white",
            "ticks": ""
           },
           "baxis": {
            "gridcolor": "white",
            "linecolor": "white",
            "ticks": ""
           },
           "bgcolor": "#E5ECF6",
           "caxis": {
            "gridcolor": "white",
            "linecolor": "white",
            "ticks": ""
           }
          },
          "title": {
           "x": 0.05
          },
          "xaxis": {
           "automargin": true,
           "gridcolor": "white",
           "linecolor": "white",
           "ticks": "",
           "title": {
            "standoff": 15
           },
           "zerolinecolor": "white",
           "zerolinewidth": 2
          },
          "yaxis": {
           "automargin": true,
           "gridcolor": "white",
           "linecolor": "white",
           "ticks": "",
           "title": {
            "standoff": 15
           },
           "zerolinecolor": "white",
           "zerolinewidth": 2
          }
         }
        },
        "title": {
         "text": "dots-angle, sample size: 32"
        },
        "width": 1200,
        "xaxis": {
         "anchor": "y",
         "autorange": true,
         "domain": [
          0,
          1
         ],
         "range": [
          -8.059891417213963,
          153.1379369270653
         ],
         "title": {
          "text": "dots-angle"
         },
         "type": "linear"
        },
        "xaxis2": {
         "anchor": "y2",
         "autorange": true,
         "domain": [
          0,
          1
         ],
         "matches": "x",
         "range": [
          -8.059891417213963,
          153.1379369270653
         ],
         "showgrid": true,
         "showticklabels": false,
         "type": "linear"
        },
        "yaxis": {
         "anchor": "x",
         "autorange": true,
         "domain": [
          0,
          0.7326
         ],
         "range": [
          0,
          86.3157894736842
         ],
         "title": {
          "text": "count"
         }
        },
        "yaxis2": {
         "anchor": "x2",
         "autorange": true,
         "domain": [
          0.7426,
          1
         ],
         "matches": "y2",
         "range": [
          -0.8775077299201841,
          20.5
         ],
         "showgrid": false,
         "showline": false,
         "showticklabels": false,
         "ticks": "",
         "type": "category"
        }
       }
      },
      "image/png": "[encoded data removed]",
      "text/html": [
       "<div>                            <div id=\"eb14a44f-7dd2-4e6c-af74-5839e4b73a8b\" class=\"plotly-graph-div\" style=\"height:800px; width:1200px;\"></div>            <script type=\"text/javascript\">                require([\"plotly\"], function(Plotly) {                    window.PLOTLYENV=window.PLOTLYENV || {};                                    if (document.getElementById(\"eb14a44f-7dd2-4e6c-af74-5839e4b73a8b\")) {                    Plotly.newPlot(                        \"eb14a44f-7dd2-4e6c-af74-5839e4b73a8b\",                        [{\"alignmentgroup\": \"True\", \"bingroup\": \"x\", \"hovertemplate\": \"Cx=C1<br>dots-angle=%{x}<br>count=%{y}<extra></extra>\", \"legendgroup\": \"C1\", \"marker\": {\"color\": \"#636efa\"}, \"name\": \"C1\", \"nbinsx\": 100, \"offsetgroup\": \"C1\", \"orientation\": \"v\", \"showlegend\": true, \"type\": \"histogram\", \"x\": [0.0, 0.0, 0.0, 0.0, 0.0, 0.0, 0.0, 0.0, 0.0, 0.0, 0.0, 0.0, 0.0, 0.0, 0.0, 0.0, 0.0, 0.0, 0.0, 0.0, 0.0, 0.0, 0.0, 0.0, 0.0, 0.0, 0.0, 0.0, 0.0, 0.0, 0.0, 0.0], \"xaxis\": \"x\", \"yaxis\": \"y\"}, {\"alignmentgroup\": \"True\", \"boxpoints\": \"all\", \"fillcolor\": \"rgba(255,255,255,0)\", \"hoveron\": \"points\", \"hovertemplate\": \"Cx=C1<br>dots-angle=%{x}<extra></extra>\", \"jitter\": 0, \"legendgroup\": \"C1\", \"line\": {\"color\": \"rgba(255,255,255,0)\"}, \"marker\": {\"color\": \"#636efa\", \"symbol\": \"line-ns-open\"}, \"name\": \"C1\", \"offsetgroup\": \"C1\", \"showlegend\": false, \"type\": \"box\", \"x\": [0.0, 0.0, 0.0, 0.0, 0.0, 0.0, 0.0, 0.0, 0.0, 0.0, 0.0, 0.0, 0.0, 0.0, 0.0, 0.0, 0.0, 0.0, 0.0, 0.0, 0.0, 0.0, 0.0, 0.0, 0.0, 0.0, 0.0, 0.0, 0.0, 0.0, 0.0, 0.0], \"xaxis\": \"x2\", \"yaxis\": \"y2\"}, {\"alignmentgroup\": \"True\", \"bingroup\": \"x\", \"hovertemplate\": \"Cx=C2<br>dots-angle=%{x}<br>count=%{y}<extra></extra>\", \"legendgroup\": \"C2\", \"marker\": {\"color\": \"#EF553B\"}, \"name\": \"C2\", \"nbinsx\": 100, \"offsetgroup\": \"C2\", \"orientation\": \"v\", \"showlegend\": true, \"type\": \"histogram\", \"x\": [107.74807899719426, 109.93933320938724, 115.64632231991085, 113.76679113434464, 112.11617469559826, 114.04234126941273, 111.8494919994011, 115.91513697228795, 114.13663000902726, 112.47471169048953, 112.77330815688549, 113.32848560748394, 118.47159488068368, 104.51315509372425, 110.89243632359413, 102.56020258440542, 103.93688540783702, 111.89416108127466, 104.12891683045633, 29.68803674547243, 88.47412548813097, 112.89755014722445, 107.86920066943073, 107.5898733319912, 106.72893069834583, 111.02491766696039, 120.82624659945891, 114.34604055500719, 102.17181636694022, 113.9351645761197, 110.9767403188679, 111.31390193538584], \"xaxis\": \"x\", \"yaxis\": \"y\"}, {\"alignmentgroup\": \"True\", \"boxpoints\": \"all\", \"fillcolor\": \"rgba(255,255,255,0)\", \"hoveron\": \"points\", \"hovertemplate\": \"Cx=C2<br>dots-angle=%{x}<extra></extra>\", \"jitter\": 0, \"legendgroup\": \"C2\", \"line\": {\"color\": \"rgba(255,255,255,0)\"}, \"marker\": {\"color\": \"#EF553B\", \"symbol\": \"line-ns-open\"}, \"name\": \"C2\", \"offsetgroup\": \"C2\", \"showlegend\": false, \"type\": \"box\", \"x\": [107.74807899719426, 109.93933320938724, 115.64632231991085, 113.76679113434464, 112.11617469559826, 114.04234126941273, 111.8494919994011, 115.91513697228795, 114.13663000902726, 112.47471169048953, 112.77330815688549, 113.32848560748394, 118.47159488068368, 104.51315509372425, 110.89243632359413, 102.56020258440542, 103.93688540783702, 111.89416108127466, 104.12891683045633, 29.68803674547243, 88.47412548813097, 112.89755014722445, 107.86920066943073, 107.5898733319912, 106.72893069834583, 111.02491766696039, 120.82624659945891, 114.34604055500719, 102.17181636694022, 113.9351645761197, 110.9767403188679, 111.31390193538584], \"xaxis\": \"x2\", \"yaxis\": \"y2\"}, {\"alignmentgroup\": \"True\", \"bingroup\": \"x\", \"hovertemplate\": \"Cx=C3<br>dots-angle=%{x}<br>count=%{y}<extra></extra>\", \"legendgroup\": \"C3\", \"marker\": {\"color\": \"#00cc96\"}, \"name\": \"C3\", \"nbinsx\": 100, \"offsetgroup\": \"C3\", \"orientation\": \"v\", \"showlegend\": true, \"type\": \"histogram\", \"x\": [118.52979782889322, 107.71807117127523, 106.55959902987676, 106.99256439323271, 106.12188216342544, 111.72257946488767, 114.17568482790689, 118.92764081047324, 108.6668654374385, 107.67704030634295, 107.71958913223328, 104.26582817984033, 114.64121932256786, 111.70114686462942, 112.20986480779125, 102.1054589762456, 121.9544002265733, 111.96633796076662, 112.29224457234551, 110.89694501687025, 110.30574113948498, 113.32668619362494, 116.20932399991007, 110.63877342364991, 109.93571718254314, 108.15621010319802, 108.42871148552891, 115.72121108805324, 116.75606394014582, 98.76932532888921, 105.41816457439164, 110.29140768453398], \"xaxis\": \"x\", \"yaxis\": \"y\"}, {\"alignmentgroup\": \"True\", \"boxpoints\": \"all\", \"fillcolor\": \"rgba(255,255,255,0)\", \"hoveron\": \"points\", \"hovertemplate\": \"Cx=C3<br>dots-angle=%{x}<extra></extra>\", \"jitter\": 0, \"legendgroup\": \"C3\", \"line\": {\"color\": \"rgba(255,255,255,0)\"}, \"marker\": {\"color\": \"#00cc96\", \"symbol\": \"line-ns-open\"}, \"name\": \"C3\", \"offsetgroup\": \"C3\", \"showlegend\": false, \"type\": \"box\", \"x\": [118.52979782889322, 107.71807117127523, 106.55959902987676, 106.99256439323271, 106.12188216342544, 111.72257946488767, 114.17568482790689, 118.92764081047324, 108.6668654374385, 107.67704030634295, 107.71958913223328, 104.26582817984033, 114.64121932256786, 111.70114686462942, 112.20986480779125, 102.1054589762456, 121.9544002265733, 111.96633796076662, 112.29224457234551, 110.89694501687025, 110.30574113948498, 113.32668619362494, 116.20932399991007, 110.63877342364991, 109.93571718254314, 108.15621010319802, 108.42871148552891, 115.72121108805324, 116.75606394014582, 98.76932532888921, 105.41816457439164, 110.29140768453398], \"xaxis\": \"x2\", \"yaxis\": \"y2\"}, {\"alignmentgroup\": \"True\", \"bingroup\": \"x\", \"hovertemplate\": \"Cx=C4<br>dots-angle=%{x}<br>count=%{y}<extra></extra>\", \"legendgroup\": \"C4\", \"marker\": {\"color\": \"#ab63fa\"}, \"name\": \"C4\", \"nbinsx\": 100, \"offsetgroup\": \"C4\", \"orientation\": \"v\", \"showlegend\": true, \"type\": \"histogram\", \"x\": [104.61873394935199, 116.42750192021234, 114.72798240599951, 118.55800830738299, 105.76749677044036, 112.62129191835281, 109.77831870974383, 116.30151546252641, 116.89828213640496, 103.87715079620104, 117.52762972853239, 116.39023223432224, 104.33747079800534, 118.63166975042064, 106.37376217702891, 107.42749442362076, 111.72924325539809, 107.88765877669371, 106.18911999122626, 105.09280786612732, 109.7701600734917, 112.3302569888913, 115.22493863774916, 110.36415506054915, 110.35159124134081, 106.79266567292056, 109.97527716435712, 119.11831994624887, 117.21860982539455, 110.2242075836666, 115.30530120262314, 115.86566710732502], \"xaxis\": \"x\", \"yaxis\": \"y\"}, {\"alignmentgroup\": \"True\", \"boxpoints\": \"all\", \"fillcolor\": \"rgba(255,255,255,0)\", \"hoveron\": \"points\", \"hovertemplate\": \"Cx=C4<br>dots-angle=%{x}<extra></extra>\", \"jitter\": 0, \"legendgroup\": \"C4\", \"line\": {\"color\": \"rgba(255,255,255,0)\"}, \"marker\": {\"color\": \"#ab63fa\", \"symbol\": \"line-ns-open\"}, \"name\": \"C4\", \"offsetgroup\": \"C4\", \"showlegend\": false, \"type\": \"box\", \"x\": [104.61873394935199, 116.42750192021234, 114.72798240599951, 118.55800830738299, 105.76749677044036, 112.62129191835281, 109.77831870974383, 116.30151546252641, 116.89828213640496, 103.87715079620104, 117.52762972853239, 116.39023223432224, 104.33747079800534, 118.63166975042064, 106.37376217702891, 107.42749442362076, 111.72924325539809, 107.88765877669371, 106.18911999122626, 105.09280786612732, 109.7701600734917, 112.3302569888913, 115.22493863774916, 110.36415506054915, 110.35159124134081, 106.79266567292056, 109.97527716435712, 119.11831994624887, 117.21860982539455, 110.2242075836666, 115.30530120262314, 115.86566710732502], \"xaxis\": \"x2\", \"yaxis\": \"y2\"}, {\"alignmentgroup\": \"True\", \"bingroup\": \"x\", \"hovertemplate\": \"Cx=C5<br>dots-angle=%{x}<br>count=%{y}<extra></extra>\", \"legendgroup\": \"C5\", \"marker\": {\"color\": \"#FFA15A\"}, \"name\": \"C5\", \"nbinsx\": 100, \"offsetgroup\": \"C5\", \"orientation\": \"v\", \"showlegend\": true, \"type\": \"histogram\", \"x\": [110.73895181877289, 114.31435508492073, 108.46584179915823, 111.51581147225437, 75.15329918452052, 111.3027264943961, 111.12041721587171, 110.493005954953, 119.36171071341164, 102.88147745438864, 105.80335752550238, 115.21059660185351, 115.4948197838869, 106.22508467898771, 110.21780616041742, 111.36476180700042, 113.65143272841442, 117.16535469940496, 113.83123595211991, 113.19940273422382, 108.52040531707283, 110.27424084703539, 108.76044410561364, 115.88448500805194, 107.24320478172415, 112.38970048413627, 108.8404440619781, 117.10360919831422, 110.53177977421561, 110.81991815429556, 108.92517285691157, 115.73751069522142], \"xaxis\": \"x\", \"yaxis\": \"y\"}, {\"alignmentgroup\": \"True\", \"boxpoints\": \"all\", \"fillcolor\": \"rgba(255,255,255,0)\", \"hoveron\": \"points\", \"hovertemplate\": \"Cx=C5<br>dots-angle=%{x}<extra></extra>\", \"jitter\": 0, \"legendgroup\": \"C5\", \"line\": {\"color\": \"rgba(255,255,255,0)\"}, \"marker\": {\"color\": \"#FFA15A\", \"symbol\": \"line-ns-open\"}, \"name\": \"C5\", \"offsetgroup\": \"C5\", \"showlegend\": false, \"type\": \"box\", \"x\": [110.73895181877289, 114.31435508492073, 108.46584179915823, 111.51581147225437, 75.15329918452052, 111.3027264943961, 111.12041721587171, 110.493005954953, 119.36171071341164, 102.88147745438864, 105.80335752550238, 115.21059660185351, 115.4948197838869, 106.22508467898771, 110.21780616041742, 111.36476180700042, 113.65143272841442, 117.16535469940496, 113.83123595211991, 113.19940273422382, 108.52040531707283, 110.27424084703539, 108.76044410561364, 115.88448500805194, 107.24320478172415, 112.38970048413627, 108.8404440619781, 117.10360919831422, 110.53177977421561, 110.81991815429556, 108.92517285691157, 115.73751069522142], \"xaxis\": \"x2\", \"yaxis\": \"y2\"}, {\"alignmentgroup\": \"True\", \"bingroup\": \"x\", \"hovertemplate\": \"Cx=C6<br>dots-angle=%{x}<br>count=%{y}<extra></extra>\", \"legendgroup\": \"C6\", \"marker\": {\"color\": \"#19d3f3\"}, \"name\": \"C6\", \"nbinsx\": 100, \"offsetgroup\": \"C6\", \"orientation\": \"v\", \"showlegend\": true, \"type\": \"histogram\", \"x\": [109.13063131608516, 110.96119860276451, 111.99700759333469, 116.89204188043237, 1.5890701727806686, 106.15654436815613, 111.48902293441373, 120.22621372960684, 106.44501818848268, 106.93893454371022, 105.72801752721742, 108.85801712457061, 116.06674623525336, 111.48720996056709, 108.51688241775754, 114.93296763743642, 110.6926342612814, 114.45494769117099, 106.33440350812825, 110.69222299565078, 106.43863889992436, 111.27678422458982, 107.30771142367797, 114.87299807255049, 111.86397233975329, 113.99396410051835, 106.12620794941137, 111.64906749444711, 114.1008056108314, 119.92862725454833, 117.18214359765244, 109.4113303269982], \"xaxis\": \"x\", \"yaxis\": \"y\"}, {\"alignmentgroup\": \"True\", \"boxpoints\": \"all\", \"fillcolor\": \"rgba(255,255,255,0)\", \"hoveron\": \"points\", \"hovertemplate\": \"Cx=C6<br>dots-angle=%{x}<extra></extra>\", \"jitter\": 0, \"legendgroup\": \"C6\", \"line\": {\"color\": \"rgba(255,255,255,0)\"}, \"marker\": {\"color\": \"#19d3f3\", \"symbol\": \"line-ns-open\"}, \"name\": \"C6\", \"offsetgroup\": \"C6\", \"showlegend\": false, \"type\": \"box\", \"x\": [109.13063131608516, 110.96119860276451, 111.99700759333469, 116.89204188043237, 1.5890701727806686, 106.15654436815613, 111.48902293441373, 120.22621372960684, 106.44501818848268, 106.93893454371022, 105.72801752721742, 108.85801712457061, 116.06674623525336, 111.48720996056709, 108.51688241775754, 114.93296763743642, 110.6926342612814, 114.45494769117099, 106.33440350812825, 110.69222299565078, 106.43863889992436, 111.27678422458982, 107.30771142367797, 114.87299807255049, 111.86397233975329, 113.99396410051835, 106.12620794941137, 111.64906749444711, 114.1008056108314, 119.92862725454833, 117.18214359765244, 109.4113303269982], \"xaxis\": \"x2\", \"yaxis\": \"y2\"}, {\"alignmentgroup\": \"True\", \"bingroup\": \"x\", \"hovertemplate\": \"Cx=C7<br>dots-angle=%{x}<br>count=%{y}<extra></extra>\", \"legendgroup\": \"C7\", \"marker\": {\"color\": \"#FF6692\"}, \"name\": \"C7\", \"nbinsx\": 100, \"offsetgroup\": \"C7\", \"orientation\": \"v\", \"showlegend\": true, \"type\": \"histogram\", \"x\": [127.75500468315654, 98.47098145382128, 115.7511715145924, 101.47902146733335, 1.6245306591282889, 109.8664275677846, 112.06650741659905, 116.0268352227848, 109.13968663824511, 112.42911256211995, 111.77911336552454, 119.96181984504487, 109.15199740287336, 115.322740549151, 106.3246508098359, 118.44644877117115, 103.26583282677352, 115.49940919998129, 105.0930157792789, 107.05347849793435, 101.05461463439612, 105.27202068401351, 114.44755058931291, 106.35996000800806, 116.5138356294447, 107.90242032506704, 105.90822714785548, 111.32900848420122, 110.44113155006708, 109.81184728241233, 110.07035040440957, 114.86294716141997], \"xaxis\": \"x\", \"yaxis\": \"y\"}, {\"alignmentgroup\": \"True\", \"boxpoints\": \"all\", \"fillcolor\": \"rgba(255,255,255,0)\", \"hoveron\": \"points\", \"hovertemplate\": \"Cx=C7<br>dots-angle=%{x}<extra></extra>\", \"jitter\": 0, \"legendgroup\": \"C7\", \"line\": {\"color\": \"rgba(255,255,255,0)\"}, \"marker\": {\"color\": \"#FF6692\", \"symbol\": \"line-ns-open\"}, \"name\": \"C7\", \"offsetgroup\": \"C7\", \"showlegend\": false, \"type\": \"box\", \"x\": [127.75500468315654, 98.47098145382128, 115.7511715145924, 101.47902146733335, 1.6245306591282889, 109.8664275677846, 112.06650741659905, 116.0268352227848, 109.13968663824511, 112.42911256211995, 111.77911336552454, 119.96181984504487, 109.15199740287336, 115.322740549151, 106.3246508098359, 118.44644877117115, 103.26583282677352, 115.49940919998129, 105.0930157792789, 107.05347849793435, 101.05461463439612, 105.27202068401351, 114.44755058931291, 106.35996000800806, 116.5138356294447, 107.90242032506704, 105.90822714785548, 111.32900848420122, 110.44113155006708, 109.81184728241233, 110.07035040440957, 114.86294716141997], \"xaxis\": \"x2\", \"yaxis\": \"y2\"}, {\"alignmentgroup\": \"True\", \"bingroup\": \"x\", \"hovertemplate\": \"Cx=C8<br>dots-angle=%{x}<br>count=%{y}<extra></extra>\", \"legendgroup\": \"C8\", \"marker\": {\"color\": \"#B6E880\"}, \"name\": \"C8\", \"nbinsx\": 100, \"offsetgroup\": \"C8\", \"orientation\": \"v\", \"showlegend\": true, \"type\": \"histogram\", \"x\": [115.7522417871708, 109.51067766385272, 107.06407085312694, 109.95755703616805, 100.51288587109813, 115.32311559004496, 115.46576335285991, 110.6341650554534, 110.44167592902465, 113.2475166357444, 113.57657838843606, 111.37469341668161, 117.22826040436077, 105.85151086121007, 117.06331522519474, 105.57957370521214, 113.90256462266989, 106.25105346039484, 105.24749296862511, 110.16209398282393, 110.73764387319736, 104.00618202954162, 110.57058915995056, 106.56024328122169, 109.16546327495203, 112.3963750874386, 106.78842573288, 105.7344607318881, 116.31837087956843, 111.6339825863673, 105.48412566822806, 111.06538874018837], \"xaxis\": \"x\", \"yaxis\": \"y\"}, {\"alignmentgroup\": \"True\", \"boxpoints\": \"all\", \"fillcolor\": \"rgba(255,255,255,0)\", \"hoveron\": \"points\", \"hovertemplate\": \"Cx=C8<br>dots-angle=%{x}<extra></extra>\", \"jitter\": 0, \"legendgroup\": \"C8\", \"line\": {\"color\": \"rgba(255,255,255,0)\"}, \"marker\": {\"color\": \"#B6E880\", \"symbol\": \"line-ns-open\"}, \"name\": \"C8\", \"offsetgroup\": \"C8\", \"showlegend\": false, \"type\": \"box\", \"x\": [115.7522417871708, 109.51067766385272, 107.06407085312694, 109.95755703616805, 100.51288587109813, 115.32311559004496, 115.46576335285991, 110.6341650554534, 110.44167592902465, 113.2475166357444, 113.57657838843606, 111.37469341668161, 117.22826040436077, 105.85151086121007, 117.06331522519474, 105.57957370521214, 113.90256462266989, 106.25105346039484, 105.24749296862511, 110.16209398282393, 110.73764387319736, 104.00618202954162, 110.57058915995056, 106.56024328122169, 109.16546327495203, 112.3963750874386, 106.78842573288, 105.7344607318881, 116.31837087956843, 111.6339825863673, 105.48412566822806, 111.06538874018837], \"xaxis\": \"x2\", \"yaxis\": \"y2\"}, {\"alignmentgroup\": \"True\", \"bingroup\": \"x\", \"hovertemplate\": \"Cx=C9<br>dots-angle=%{x}<br>count=%{y}<extra></extra>\", \"legendgroup\": \"C9\", \"marker\": {\"color\": \"#FF97FF\"}, \"name\": \"C9\", \"nbinsx\": 100, \"offsetgroup\": \"C9\", \"orientation\": \"v\", \"showlegend\": true, \"type\": \"histogram\", \"x\": [122.1553753707299, 122.72243349953418, 123.79632478926915, 118.61759125168632, 120.47730018107806, 126.51516131925618, 120.2594978757461, 122.18108320459108, 123.74466964384551, 122.24641877011143, 123.66667048207388, 128.7181638104452, 125.01892082225918, 127.79045224611505, 126.62214420873606, 123.36299948634804, 124.80829820500446, 117.44763870630689, 121.0646767788792, 124.65999906141049, 124.16637880714048, 126.25324092009997, 117.39613034710176, 128.0571424737329, 123.18059963270065, 124.7778333839657, 125.20817909663215, 123.59369288600797, 123.72938831980761, 125.82843978560413, 120.49288054267726, 121.5246364816242], \"xaxis\": \"x\", \"yaxis\": \"y\"}, {\"alignmentgroup\": \"True\", \"boxpoints\": \"all\", \"fillcolor\": \"rgba(255,255,255,0)\", \"hoveron\": \"points\", \"hovertemplate\": \"Cx=C9<br>dots-angle=%{x}<extra></extra>\", \"jitter\": 0, \"legendgroup\": \"C9\", \"line\": {\"color\": \"rgba(255,255,255,0)\"}, \"marker\": {\"color\": \"#FF97FF\", \"symbol\": \"line-ns-open\"}, \"name\": \"C9\", \"offsetgroup\": \"C9\", \"showlegend\": false, \"type\": \"box\", \"x\": [122.1553753707299, 122.72243349953418, 123.79632478926915, 118.61759125168632, 120.47730018107806, 126.51516131925618, 120.2594978757461, 122.18108320459108, 123.74466964384551, 122.24641877011143, 123.66667048207388, 128.7181638104452, 125.01892082225918, 127.79045224611505, 126.62214420873606, 123.36299948634804, 124.80829820500446, 117.44763870630689, 121.0646767788792, 124.65999906141049, 124.16637880714048, 126.25324092009997, 117.39613034710176, 128.0571424737329, 123.18059963270065, 124.7778333839657, 125.20817909663215, 123.59369288600797, 123.72938831980761, 125.82843978560413, 120.49288054267726, 121.5246364816242], \"xaxis\": \"x2\", \"yaxis\": \"y2\"}, {\"alignmentgroup\": \"True\", \"bingroup\": \"x\", \"hovertemplate\": \"Cx=C10<br>dots-angle=%{x}<br>count=%{y}<extra></extra>\", \"legendgroup\": \"C10\", \"marker\": {\"color\": \"#FECB52\"}, \"name\": \"C10\", \"nbinsx\": 100, \"offsetgroup\": \"C10\", \"orientation\": \"v\", \"showlegend\": true, \"type\": \"histogram\", \"x\": [126.32038918545496, 125.1375716370762, 123.32257462520224, 127.6976206346647, 121.5503709473868, 121.60718970960332, 122.29769901624137, 125.46827757604389, 125.72476066831254, 124.98702388790768, 121.05198516969426, 121.45020654009949, 126.47372858997137, 120.4194849199923, 119.95731768968554, 123.0705043244961, 131.81652880962403, 125.87718416831773, 131.51834135188932, 119.53678157241892, 123.94657334406321, 123.23747584900958, 124.3769112093561, 118.43938351308475, 117.17761385926042, 118.11535961126894, 120.77556619801642, 124.12702622839221, 118.2947654124733, 120.73283320130939, 122.1927512219085, 122.893763699518], \"xaxis\": \"x\", \"yaxis\": \"y\"}, {\"alignmentgroup\": \"True\", \"boxpoints\": \"all\", \"fillcolor\": \"rgba(255,255,255,0)\", \"hoveron\": \"points\", \"hovertemplate\": \"Cx=C10<br>dots-angle=%{x}<extra></extra>\", \"jitter\": 0, \"legendgroup\": \"C10\", \"line\": {\"color\": \"rgba(255,255,255,0)\"}, \"marker\": {\"color\": \"#FECB52\", \"symbol\": \"line-ns-open\"}, \"name\": \"C10\", \"offsetgroup\": \"C10\", \"showlegend\": false, \"type\": \"box\", \"x\": [126.32038918545496, 125.1375716370762, 123.32257462520224, 127.6976206346647, 121.5503709473868, 121.60718970960332, 122.29769901624137, 125.46827757604389, 125.72476066831254, 124.98702388790768, 121.05198516969426, 121.45020654009949, 126.47372858997137, 120.4194849199923, 119.95731768968554, 123.0705043244961, 131.81652880962403, 125.87718416831773, 131.51834135188932, 119.53678157241892, 123.94657334406321, 123.23747584900958, 124.3769112093561, 118.43938351308475, 117.17761385926042, 118.11535961126894, 120.77556619801642, 124.12702622839221, 118.2947654124733, 120.73283320130939, 122.1927512219085, 122.893763699518], \"xaxis\": \"x2\", \"yaxis\": \"y2\"}, {\"alignmentgroup\": \"True\", \"bingroup\": \"x\", \"hovertemplate\": \"Cx=C11<br>dots-angle=%{x}<br>count=%{y}<extra></extra>\", \"legendgroup\": \"C11\", \"marker\": {\"color\": \"#636efa\"}, \"name\": \"C11\", \"nbinsx\": 100, \"offsetgroup\": \"C11\", \"orientation\": \"v\", \"showlegend\": true, \"type\": \"histogram\", \"x\": [109.40391347489872, 114.61611594851787, 105.28335627590337, 104.01707455064542, 112.11500185221514, 104.74968249319777, 115.090276406037, 105.30648571999997, 113.79390436311876, 112.224959412311, 114.4795422241965, 103.5414935103218, 113.13519714995708, 113.77659753422694, 106.01404679386187, 107.8616887054703, 112.99061723956419, 105.98592991614295, 115.55840741313392, 112.44247369172622, 113.22502062212193, 108.13112018257395, 114.45867872965727, 113.66016894188495, 105.32612921479972, 105.18486930992799, 104.62242238486846, 109.24291748112908, 107.73133199463284, 107.0676503212653, 108.70097018267194, 100.1811718674912], \"xaxis\": \"x\", \"yaxis\": \"y\"}, {\"alignmentgroup\": \"True\", \"boxpoints\": \"all\", \"fillcolor\": \"rgba(255,255,255,0)\", \"hoveron\": \"points\", \"hovertemplate\": \"Cx=C11<br>dots-angle=%{x}<extra></extra>\", \"jitter\": 0, \"legendgroup\": \"C11\", \"line\": {\"color\": \"rgba(255,255,255,0)\"}, \"marker\": {\"color\": \"#636efa\", \"symbol\": \"line-ns-open\"}, \"name\": \"C11\", \"offsetgroup\": \"C11\", \"showlegend\": false, \"type\": \"box\", \"x\": [109.40391347489872, 114.61611594851787, 105.28335627590337, 104.01707455064542, 112.11500185221514, 104.74968249319777, 115.090276406037, 105.30648571999997, 113.79390436311876, 112.224959412311, 114.4795422241965, 103.5414935103218, 113.13519714995708, 113.77659753422694, 106.01404679386187, 107.8616887054703, 112.99061723956419, 105.98592991614295, 115.55840741313392, 112.44247369172622, 113.22502062212193, 108.13112018257395, 114.45867872965727, 113.66016894188495, 105.32612921479972, 105.18486930992799, 104.62242238486846, 109.24291748112908, 107.73133199463284, 107.0676503212653, 108.70097018267194, 100.1811718674912], \"xaxis\": \"x2\", \"yaxis\": \"y2\"}, {\"alignmentgroup\": \"True\", \"bingroup\": \"x\", \"hovertemplate\": \"Cx=C12<br>dots-angle=%{x}<br>count=%{y}<extra></extra>\", \"legendgroup\": \"C12\", \"marker\": {\"color\": \"#EF553B\"}, \"name\": \"C12\", \"nbinsx\": 100, \"offsetgroup\": \"C12\", \"orientation\": \"v\", \"showlegend\": true, \"type\": \"histogram\", \"x\": [117.38891594390836, 111.86476401834476, 117.24967960451951, 113.12403276691238, 105.39276934960725, 110.67277745165538, 108.81303121547217, 111.43094046148744, 116.27479288492466, 112.15057906408913, 113.79717692326871, 107.4453708745436, 115.41544467306399, 112.35865683440711, 113.47851464107504, 114.23998980532718, 100.58162982807993, 118.70243407906032, 114.05717062363811, 112.79968036298946, 114.42627890473203, 113.40463335741322, 103.10965136847211, 111.80983773069593, 112.31231235036635, 112.01472200824806, 111.587662419721, 103.95402081176239, 107.48191765537793, 109.40988013957256, 115.27943530928526, 115.23218225932175], \"xaxis\": \"x\", \"yaxis\": \"y\"}, {\"alignmentgroup\": \"True\", \"boxpoints\": \"all\", \"fillcolor\": \"rgba(255,255,255,0)\", \"hoveron\": \"points\", \"hovertemplate\": \"Cx=C12<br>dots-angle=%{x}<extra></extra>\", \"jitter\": 0, \"legendgroup\": \"C12\", \"line\": {\"color\": \"rgba(255,255,255,0)\"}, \"marker\": {\"color\": \"#EF553B\", \"symbol\": \"line-ns-open\"}, \"name\": \"C12\", \"offsetgroup\": \"C12\", \"showlegend\": false, \"type\": \"box\", \"x\": [117.38891594390836, 111.86476401834476, 117.24967960451951, 113.12403276691238, 105.39276934960725, 110.67277745165538, 108.81303121547217, 111.43094046148744, 116.27479288492466, 112.15057906408913, 113.79717692326871, 107.4453708745436, 115.41544467306399, 112.35865683440711, 113.47851464107504, 114.23998980532718, 100.58162982807993, 118.70243407906032, 114.05717062363811, 112.79968036298946, 114.42627890473203, 113.40463335741322, 103.10965136847211, 111.80983773069593, 112.31231235036635, 112.01472200824806, 111.587662419721, 103.95402081176239, 107.48191765537793, 109.40988013957256, 115.27943530928526, 115.23218225932175], \"xaxis\": \"x2\", \"yaxis\": \"y2\"}, {\"alignmentgroup\": \"True\", \"bingroup\": \"x\", \"hovertemplate\": \"Cx=C13<br>dots-angle=%{x}<br>count=%{y}<extra></extra>\", \"legendgroup\": \"C13\", \"marker\": {\"color\": \"#00cc96\"}, \"name\": \"C13\", \"nbinsx\": 100, \"offsetgroup\": \"C13\", \"orientation\": \"v\", \"showlegend\": true, \"type\": \"histogram\", \"x\": [112.53542387289274, 106.33966416870166, 109.34192169468722, 5.029140418989476, 110.26445546881371, 104.06552932212573, 113.34585299161228, 103.06575964467848, 108.23379306211942, 103.97039002572855, 106.56015972591177, 113.53562434916599, 111.49326369298298, 106.86706643667802, 107.3762370971491, 114.64820087302613, 104.94986128652069, 109.61764280053846, 113.88671309767331, 112.05505972474415, 114.80849314439604, 112.44126919981935, 107.61651576773241, 111.45455358327443, 101.42252679767358, 108.41674547576244, 102.07142368772932, 122.0747724680572, 110.9816951568029, 99.33829201907336, 105.29977904314408, 105.8222003005503], \"xaxis\": \"x\", \"yaxis\": \"y\"}, {\"alignmentgroup\": \"True\", \"boxpoints\": \"all\", \"fillcolor\": \"rgba(255,255,255,0)\", \"hoveron\": \"points\", \"hovertemplate\": \"Cx=C13<br>dots-angle=%{x}<extra></extra>\", \"jitter\": 0, \"legendgroup\": \"C13\", \"line\": {\"color\": \"rgba(255,255,255,0)\"}, \"marker\": {\"color\": \"#00cc96\", \"symbol\": \"line-ns-open\"}, \"name\": \"C13\", \"offsetgroup\": \"C13\", \"showlegend\": false, \"type\": \"box\", \"x\": [112.53542387289274, 106.33966416870166, 109.34192169468722, 5.029140418989476, 110.26445546881371, 104.06552932212573, 113.34585299161228, 103.06575964467848, 108.23379306211942, 103.97039002572855, 106.56015972591177, 113.53562434916599, 111.49326369298298, 106.86706643667802, 107.3762370971491, 114.64820087302613, 104.94986128652069, 109.61764280053846, 113.88671309767331, 112.05505972474415, 114.80849314439604, 112.44126919981935, 107.61651576773241, 111.45455358327443, 101.42252679767358, 108.41674547576244, 102.07142368772932, 122.0747724680572, 110.9816951568029, 99.33829201907336, 105.29977904314408, 105.8222003005503], \"xaxis\": \"x2\", \"yaxis\": \"y2\"}, {\"alignmentgroup\": \"True\", \"bingroup\": \"x\", \"hovertemplate\": \"Cx=C14<br>dots-angle=%{x}<br>count=%{y}<extra></extra>\", \"legendgroup\": \"C14\", \"marker\": {\"color\": \"#ab63fa\"}, \"name\": \"C14\", \"nbinsx\": 100, \"offsetgroup\": \"C14\", \"orientation\": \"v\", \"showlegend\": true, \"type\": \"histogram\", \"x\": [111.1258587509463, 108.9779330400903, 113.5382146351344, 7.392684846743951, 109.77977603344348, 108.78955653595764, 111.72614859664893, 108.17830661545592, 111.95713252177974, 111.33329600615268, 111.12196261271934, 106.7170208887859, 114.4773654591832, 109.78249896034669, 113.86072002532161, 107.24943680744147, 106.01379371750554, 113.92957742214237, 115.56872472842781, 105.70423587864171, 115.8339872860274, 113.90486989132128, 111.04993223589184, 113.26538915372412, 109.79472721648273, 118.27198628309826, 112.9168196697493, 117.50632314542909, 109.63612473615771, 106.52731105679112, 111.45609744012881, 112.73146878965547], \"xaxis\": \"x\", \"yaxis\": \"y\"}, {\"alignmentgroup\": \"True\", \"boxpoints\": \"all\", \"fillcolor\": \"rgba(255,255,255,0)\", \"hoveron\": \"points\", \"hovertemplate\": \"Cx=C14<br>dots-angle=%{x}<extra></extra>\", \"jitter\": 0, \"legendgroup\": \"C14\", \"line\": {\"color\": \"rgba(255,255,255,0)\"}, \"marker\": {\"color\": \"#ab63fa\", \"symbol\": \"line-ns-open\"}, \"name\": \"C14\", \"offsetgroup\": \"C14\", \"showlegend\": false, \"type\": \"box\", \"x\": [111.1258587509463, 108.9779330400903, 113.5382146351344, 7.392684846743951, 109.77977603344348, 108.78955653595764, 111.72614859664893, 108.17830661545592, 111.95713252177974, 111.33329600615268, 111.12196261271934, 106.7170208887859, 114.4773654591832, 109.78249896034669, 113.86072002532161, 107.24943680744147, 106.01379371750554, 113.92957742214237, 115.56872472842781, 105.70423587864171, 115.8339872860274, 113.90486989132128, 111.04993223589184, 113.26538915372412, 109.79472721648273, 118.27198628309826, 112.9168196697493, 117.50632314542909, 109.63612473615771, 106.52731105679112, 111.45609744012881, 112.73146878965547], \"xaxis\": \"x2\", \"yaxis\": \"y2\"}, {\"alignmentgroup\": \"True\", \"bingroup\": \"x\", \"hovertemplate\": \"Cx=C15<br>dots-angle=%{x}<br>count=%{y}<extra></extra>\", \"legendgroup\": \"C15\", \"marker\": {\"color\": \"#FFA15A\"}, \"name\": \"C15\", \"nbinsx\": 100, \"offsetgroup\": \"C15\", \"orientation\": \"v\", \"showlegend\": true, \"type\": \"histogram\", \"x\": [114.20805354057408, 113.87213987225202, 109.88888963333685, 109.95762804102179, 112.59995871997266, 117.9545484561229, 112.1728510312192, 111.38496682621127, 118.18399025395615, 112.20240440778318, 110.18233867539146, 109.03812791471191, 109.22544222334481, 108.53255270325657, 106.08092434400011, 113.43425372966297, 106.97257297159933, 104.33923669155442, 113.78435909791945, 115.51816607900047, 111.39795710780989, 108.32624094272082, 106.4425569820801, 109.91463715945879, 107.1094381301136, 111.86325050461416, 99.89191670843485, 112.99333203651415, 110.27829943022945, 108.62528603093835, 109.60853380235979, 112.90911167008842], \"xaxis\": \"x\", \"yaxis\": \"y\"}, {\"alignmentgroup\": \"True\", \"boxpoints\": \"all\", \"fillcolor\": \"rgba(255,255,255,0)\", \"hoveron\": \"points\", \"hovertemplate\": \"Cx=C15<br>dots-angle=%{x}<extra></extra>\", \"jitter\": 0, \"legendgroup\": \"C15\", \"line\": {\"color\": \"rgba(255,255,255,0)\"}, \"marker\": {\"color\": \"#FFA15A\", \"symbol\": \"line-ns-open\"}, \"name\": \"C15\", \"offsetgroup\": \"C15\", \"showlegend\": false, \"type\": \"box\", \"x\": [114.20805354057408, 113.87213987225202, 109.88888963333685, 109.95762804102179, 112.59995871997266, 117.9545484561229, 112.1728510312192, 111.38496682621127, 118.18399025395615, 112.20240440778318, 110.18233867539146, 109.03812791471191, 109.22544222334481, 108.53255270325657, 106.08092434400011, 113.43425372966297, 106.97257297159933, 104.33923669155442, 113.78435909791945, 115.51816607900047, 111.39795710780989, 108.32624094272082, 106.4425569820801, 109.91463715945879, 107.1094381301136, 111.86325050461416, 99.89191670843485, 112.99333203651415, 110.27829943022945, 108.62528603093835, 109.60853380235979, 112.90911167008842], \"xaxis\": \"x2\", \"yaxis\": \"y2\"}, {\"alignmentgroup\": \"True\", \"bingroup\": \"x\", \"hovertemplate\": \"Cx=C16<br>dots-angle=%{x}<br>count=%{y}<extra></extra>\", \"legendgroup\": \"C16\", \"marker\": {\"color\": \"#19d3f3\"}, \"name\": \"C16\", \"nbinsx\": 100, \"offsetgroup\": \"C16\", \"orientation\": \"v\", \"showlegend\": true, \"type\": \"histogram\", \"x\": [109.9925925009436, 110.94506881931127, 105.25369024172677, 108.16748207640666, 107.7535287722536, 110.656287298844, 107.31881032705753, 109.40478573854544, 109.53097300264113, 109.35965097804784, 108.38599885877886, 111.3915413965714, 106.94059268872881, 113.05412129807374, 111.67280342817163, 107.32485109940166, 113.90625653925835, 99.50033435915728, 108.15806022310156, 116.59398674382389, 109.50872890934183, 113.86121093086372, 106.42161802887375, 102.15460907901928, 114.16435320898049, 104.1338417206409, 114.06802959657854, 111.13936033180008, 111.03022354315249, 106.59104769805465, 112.88843777023452, 111.38946519367141], \"xaxis\": \"x\", \"yaxis\": \"y\"}, {\"alignmentgroup\": \"True\", \"boxpoints\": \"all\", \"fillcolor\": \"rgba(255,255,255,0)\", \"hoveron\": \"points\", \"hovertemplate\": \"Cx=C16<br>dots-angle=%{x}<extra></extra>\", \"jitter\": 0, \"legendgroup\": \"C16\", \"line\": {\"color\": \"rgba(255,255,255,0)\"}, \"marker\": {\"color\": \"#19d3f3\", \"symbol\": \"line-ns-open\"}, \"name\": \"C16\", \"offsetgroup\": \"C16\", \"showlegend\": false, \"type\": \"box\", \"x\": [109.9925925009436, 110.94506881931127, 105.25369024172677, 108.16748207640666, 107.7535287722536, 110.656287298844, 107.31881032705753, 109.40478573854544, 109.53097300264113, 109.35965097804784, 108.38599885877886, 111.3915413965714, 106.94059268872881, 113.05412129807374, 111.67280342817163, 107.32485109940166, 113.90625653925835, 99.50033435915728, 108.15806022310156, 116.59398674382389, 109.50872890934183, 113.86121093086372, 106.42161802887375, 102.15460907901928, 114.16435320898049, 104.1338417206409, 114.06802959657854, 111.13936033180008, 111.03022354315249, 106.59104769805465, 112.88843777023452, 111.38946519367141], \"xaxis\": \"x2\", \"yaxis\": \"y2\"}, {\"alignmentgroup\": \"True\", \"bingroup\": \"x\", \"hovertemplate\": \"Cx=C17<br>dots-angle=%{x}<br>count=%{y}<extra></extra>\", \"legendgroup\": \"C17\", \"marker\": {\"color\": \"#FF6692\"}, \"name\": \"C17\", \"nbinsx\": 100, \"offsetgroup\": \"C17\", \"orientation\": \"v\", \"showlegend\": true, \"type\": \"histogram\", \"x\": [115.57539760419589, 111.81072140339268, 109.00257882722399, 109.6143741583857, 86.86277256054632, 114.40402786510882, 107.53149376442826, 111.434303996843, 116.9811260487007, 118.5841473111318, 116.55892849614364, 111.58124339416787, 108.5511542026484, 107.1207090409059, 113.63812116622249, 115.89195172592427, 112.17058037103425, 106.95636929493438, 115.13697843761322, 116.07176927696474, 111.25937093001994, 117.64604853170178, 109.13581814088542, 114.43485194989238, 116.03357521887753, 109.0066415264121, 113.48955769612448, 101.97272866074199, 106.67214609913277, 111.13971067749283, 113.38439610602455, 110.00052026633679], \"xaxis\": \"x\", \"yaxis\": \"y\"}, {\"alignmentgroup\": \"True\", \"boxpoints\": \"all\", \"fillcolor\": \"rgba(255,255,255,0)\", \"hoveron\": \"points\", \"hovertemplate\": \"Cx=C17<br>dots-angle=%{x}<extra></extra>\", \"jitter\": 0, \"legendgroup\": \"C17\", \"line\": {\"color\": \"rgba(255,255,255,0)\"}, \"marker\": {\"color\": \"#FF6692\", \"symbol\": \"line-ns-open\"}, \"name\": \"C17\", \"offsetgroup\": \"C17\", \"showlegend\": false, \"type\": \"box\", \"x\": [115.57539760419589, 111.81072140339268, 109.00257882722399, 109.6143741583857, 86.86277256054632, 114.40402786510882, 107.53149376442826, 111.434303996843, 116.9811260487007, 118.5841473111318, 116.55892849614364, 111.58124339416787, 108.5511542026484, 107.1207090409059, 113.63812116622249, 115.89195172592427, 112.17058037103425, 106.95636929493438, 115.13697843761322, 116.07176927696474, 111.25937093001994, 117.64604853170178, 109.13581814088542, 114.43485194989238, 116.03357521887753, 109.0066415264121, 113.48955769612448, 101.97272866074199, 106.67214609913277, 111.13971067749283, 113.38439610602455, 110.00052026633679], \"xaxis\": \"x2\", \"yaxis\": \"y2\"}, {\"alignmentgroup\": \"True\", \"bingroup\": \"x\", \"hovertemplate\": \"Cx=C18<br>dots-angle=%{x}<br>count=%{y}<extra></extra>\", \"legendgroup\": \"C18\", \"marker\": {\"color\": \"#B6E880\"}, \"name\": \"C18\", \"nbinsx\": 100, \"offsetgroup\": \"C18\", \"orientation\": \"v\", \"showlegend\": true, \"type\": \"histogram\", \"x\": [120.89435119122784, 123.58283647327164, 119.3695935069512, 128.33907286960928, 47.46582175341658, 117.78959454695459, 121.89544323067405, 127.52325642904015, 118.34928632013025, 116.67399907833406, 119.54847888293473, 123.90670545317924, 121.04387520787337, 124.56732515536352, 118.79743029683026, 116.68656889824163, 123.76063712310382, 128.51182809278754, 119.02906933781604, 117.47555287224854, 125.2867188773753, 117.6387382703742, 122.52492375914483, 119.1564995189415, 121.43223678926125, 121.1498771792941, 117.78327767688457, 123.03687418600592, 123.93880796589735, 119.83317357998064, 123.84876836333675, 119.13786575704465], \"xaxis\": \"x\", \"yaxis\": \"y\"}, {\"alignmentgroup\": \"True\", \"boxpoints\": \"all\", \"fillcolor\": \"rgba(255,255,255,0)\", \"hoveron\": \"points\", \"hovertemplate\": \"Cx=C18<br>dots-angle=%{x}<extra></extra>\", \"jitter\": 0, \"legendgroup\": \"C18\", \"line\": {\"color\": \"rgba(255,255,255,0)\"}, \"marker\": {\"color\": \"#B6E880\", \"symbol\": \"line-ns-open\"}, \"name\": \"C18\", \"offsetgroup\": \"C18\", \"showlegend\": false, \"type\": \"box\", \"x\": [120.89435119122784, 123.58283647327164, 119.3695935069512, 128.33907286960928, 47.46582175341658, 117.78959454695459, 121.89544323067405, 127.52325642904015, 118.34928632013025, 116.67399907833406, 119.54847888293473, 123.90670545317924, 121.04387520787337, 124.56732515536352, 118.79743029683026, 116.68656889824163, 123.76063712310382, 128.51182809278754, 119.02906933781604, 117.47555287224854, 125.2867188773753, 117.6387382703742, 122.52492375914483, 119.1564995189415, 121.43223678926125, 121.1498771792941, 117.78327767688457, 123.03687418600592, 123.93880796589735, 119.83317357998064, 123.84876836333675, 119.13786575704465], \"xaxis\": \"x2\", \"yaxis\": \"y2\"}, {\"alignmentgroup\": \"True\", \"bingroup\": \"x\", \"hovertemplate\": \"Cx=O19<br>dots-angle=%{x}<br>count=%{y}<extra></extra>\", \"legendgroup\": \"O19\", \"marker\": {\"color\": \"#FF97FF\"}, \"name\": \"O19\", \"nbinsx\": 100, \"offsetgroup\": \"O19\", \"orientation\": \"v\", \"showlegend\": true, \"type\": \"histogram\", \"x\": [29.208989279022244, 34.332236498144134, 29.56566170640673, 32.66593833351973, 30.666500990909874, 30.974157186036358, 28.755194722149707, 31.338553746852952, 30.299818368849202, 30.006903190575372, 31.54331290278784, 31.974041376835135, 26.72588419345517, 32.650112185768336, 32.58853587730299, 30.127463230657472, 31.976219966733144, 33.683408337668084, 29.07925890033279, 29.969272344971024, 32.45182746792583, 29.908981560768417, 28.25667500144872, 29.615013767303815, 31.658448626765967, 29.84033020602651, 27.53002309202206, 33.04013041130979, 30.783320160789486, 29.387766717503062, 33.571318931429396, 118.42314250785113], \"xaxis\": \"x\", \"yaxis\": \"y\"}, {\"alignmentgroup\": \"True\", \"boxpoints\": \"all\", \"fillcolor\": \"rgba(255,255,255,0)\", \"hoveron\": \"points\", \"hovertemplate\": \"Cx=O19<br>dots-angle=%{x}<extra></extra>\", \"jitter\": 0, \"legendgroup\": \"O19\", \"line\": {\"color\": \"rgba(255,255,255,0)\"}, \"marker\": {\"color\": \"#FF97FF\", \"symbol\": \"line-ns-open\"}, \"name\": \"O19\", \"offsetgroup\": \"O19\", \"showlegend\": false, \"type\": \"box\", \"x\": [29.208989279022244, 34.332236498144134, 29.56566170640673, 32.66593833351973, 30.666500990909874, 30.974157186036358, 28.755194722149707, 31.338553746852952, 30.299818368849202, 30.006903190575372, 31.54331290278784, 31.974041376835135, 26.72588419345517, 32.650112185768336, 32.58853587730299, 30.127463230657472, 31.976219966733144, 33.683408337668084, 29.07925890033279, 29.969272344971024, 32.45182746792583, 29.908981560768417, 28.25667500144872, 29.615013767303815, 31.658448626765967, 29.84033020602651, 27.53002309202206, 33.04013041130979, 30.783320160789486, 29.387766717503062, 33.571318931429396, 118.42314250785113], \"xaxis\": \"x2\", \"yaxis\": \"y2\"}, {\"alignmentgroup\": \"True\", \"bingroup\": \"x\", \"hovertemplate\": \"Cx=O20<br>dots-angle=%{x}<br>count=%{y}<extra></extra>\", \"legendgroup\": \"O20\", \"marker\": {\"color\": \"#FECB52\"}, \"name\": \"O20\", \"nbinsx\": 100, \"offsetgroup\": \"O20\", \"orientation\": \"v\", \"showlegend\": true, \"type\": \"histogram\", \"x\": [69.04552595453883, 137.23075935587033, 137.42423042225235, 140.5733918145053, 83.11231364315462, 138.53210968849945, 72.49800819614305, 76.16719617358488, 137.30627045780142, 132.81055007533124, 135.89335031878795, 78.88428311734143, 126.34425416353237, 129.16631954732736, 130.6027537423911, 74.0831292004284, 73.45544427690929, 142.28879840849564, 131.17346718734615, 132.00299751762307, 78.6756478528439, 141.0401349215623, 78.7351092538319, 81.78369669833168, 137.66457261904625, 133.1284908271816, 133.32439871653725, 73.63379489037673, 138.0962200451179, 145.07804550985134, 138.74292928704165, 84.56611017755759], \"xaxis\": \"x\", \"yaxis\": \"y\"}, {\"alignmentgroup\": \"True\", \"boxpoints\": \"all\", \"fillcolor\": \"rgba(255,255,255,0)\", \"hoveron\": \"points\", \"hovertemplate\": \"Cx=O20<br>dots-angle=%{x}<extra></extra>\", \"jitter\": 0, \"legendgroup\": \"O20\", \"line\": {\"color\": \"rgba(255,255,255,0)\"}, \"marker\": {\"color\": \"#FECB52\", \"symbol\": \"line-ns-open\"}, \"name\": \"O20\", \"offsetgroup\": \"O20\", \"showlegend\": false, \"type\": \"box\", \"x\": [69.04552595453883, 137.23075935587033, 137.42423042225235, 140.5733918145053, 83.11231364315462, 138.53210968849945, 72.49800819614305, 76.16719617358488, 137.30627045780142, 132.81055007533124, 135.89335031878795, 78.88428311734143, 126.34425416353237, 129.16631954732736, 130.6027537423911, 74.0831292004284, 73.45544427690929, 142.28879840849564, 131.17346718734615, 132.00299751762307, 78.6756478528439, 141.0401349215623, 78.7351092538319, 81.78369669833168, 137.66457261904625, 133.1284908271816, 133.32439871653725, 73.63379489037673, 138.0962200451179, 145.07804550985134, 138.74292928704165, 84.56611017755759], \"xaxis\": \"x2\", \"yaxis\": \"y2\"}, {\"alignmentgroup\": \"True\", \"bingroup\": \"x\", \"hovertemplate\": \"Cx=H21<br>dots-angle=%{x}<br>count=%{y}<extra></extra>\", \"legendgroup\": \"H21\", \"marker\": {\"color\": \"#636efa\"}, \"name\": \"H21\", \"nbinsx\": 100, \"offsetgroup\": \"H21\", \"orientation\": \"v\", \"showlegend\": true, \"type\": \"histogram\", \"x\": [0.0, 0.0, 0.0, 0.0, 0.0, 0.0, 0.0, 0.0, 0.0, 0.0, 0.0, 0.0, 0.0, 0.0, 0.0, 0.0, 0.0, 0.0, 0.0, 0.0, 0.0, 0.0, 0.0, 0.0, 0.0, 0.0, 0.0, 0.0, 0.0, 0.0, 0.0, 0.0], \"xaxis\": \"x\", \"yaxis\": \"y\"}, {\"alignmentgroup\": \"True\", \"boxpoints\": \"all\", \"fillcolor\": \"rgba(255,255,255,0)\", \"hoveron\": \"points\", \"hovertemplate\": \"Cx=H21<br>dots-angle=%{x}<extra></extra>\", \"jitter\": 0, \"legendgroup\": \"H21\", \"line\": {\"color\": \"rgba(255,255,255,0)\"}, \"marker\": {\"color\": \"#636efa\", \"symbol\": \"line-ns-open\"}, \"name\": \"H21\", \"offsetgroup\": \"H21\", \"showlegend\": false, \"type\": \"box\", \"x\": [0.0, 0.0, 0.0, 0.0, 0.0, 0.0, 0.0, 0.0, 0.0, 0.0, 0.0, 0.0, 0.0, 0.0, 0.0, 0.0, 0.0, 0.0, 0.0, 0.0, 0.0, 0.0, 0.0, 0.0, 0.0, 0.0, 0.0, 0.0, 0.0, 0.0, 0.0, 0.0], \"xaxis\": \"x2\", \"yaxis\": \"y2\"}],                        {\"barmode\": \"relative\", \"height\": 800, \"legend\": {\"title\": {\"text\": \"Cx\"}, \"tracegroupgap\": 0}, \"margin\": {\"t\": 60}, \"template\": {\"data\": {\"bar\": [{\"error_x\": {\"color\": \"#2a3f5f\"}, \"error_y\": {\"color\": \"#2a3f5f\"}, \"marker\": {\"line\": {\"color\": \"#E5ECF6\", \"width\": 0.5}}, \"type\": \"bar\"}], \"barpolar\": [{\"marker\": {\"line\": {\"color\": \"#E5ECF6\", \"width\": 0.5}}, \"type\": \"barpolar\"}], \"carpet\": [{\"aaxis\": {\"endlinecolor\": \"#2a3f5f\", \"gridcolor\": \"white\", \"linecolor\": \"white\", \"minorgridcolor\": \"white\", \"startlinecolor\": \"#2a3f5f\"}, \"baxis\": {\"endlinecolor\": \"#2a3f5f\", \"gridcolor\": \"white\", \"linecolor\": \"white\", \"minorgridcolor\": \"white\", \"startlinecolor\": \"#2a3f5f\"}, \"type\": \"carpet\"}], \"choropleth\": [{\"colorbar\": {\"outlinewidth\": 0, \"ticks\": \"\"}, \"type\": \"choropleth\"}], \"contour\": [{\"colorbar\": {\"outlinewidth\": 0, \"ticks\": \"\"}, \"colorscale\": [[0.0, \"#0d0887\"], [0.1111111111111111, \"#46039f\"], [0.2222222222222222, \"#7201a8\"], [0.3333333333333333, \"#9c179e\"], [0.4444444444444444, \"#bd3786\"], [0.5555555555555556, \"#d8576b\"], [0.6666666666666666, \"#ed7953\"], [0.7777777777777778, \"#fb9f3a\"], [0.8888888888888888, \"#fdca26\"], [1.0, \"#f0f921\"]], \"type\": \"contour\"}], \"contourcarpet\": [{\"colorbar\": {\"outlinewidth\": 0, \"ticks\": \"\"}, \"type\": \"contourcarpet\"}], \"heatmap\": [{\"colorbar\": {\"outlinewidth\": 0, \"ticks\": \"\"}, \"colorscale\": [[0.0, \"#0d0887\"], [0.1111111111111111, \"#46039f\"], [0.2222222222222222, \"#7201a8\"], [0.3333333333333333, \"#9c179e\"], [0.4444444444444444, \"#bd3786\"], [0.5555555555555556, \"#d8576b\"], [0.6666666666666666, \"#ed7953\"], [0.7777777777777778, \"#fb9f3a\"], [0.8888888888888888, \"#fdca26\"], [1.0, \"#f0f921\"]], \"type\": \"heatmap\"}], \"heatmapgl\": [{\"colorbar\": {\"outlinewidth\": 0, \"ticks\": \"\"}, \"colorscale\": [[0.0, \"#0d0887\"], [0.1111111111111111, \"#46039f\"], [0.2222222222222222, \"#7201a8\"], [0.3333333333333333, \"#9c179e\"], [0.4444444444444444, \"#bd3786\"], [0.5555555555555556, \"#d8576b\"], [0.6666666666666666, \"#ed7953\"], [0.7777777777777778, \"#fb9f3a\"], [0.8888888888888888, \"#fdca26\"], [1.0, \"#f0f921\"]], \"type\": \"heatmapgl\"}], \"histogram\": [{\"marker\": {\"colorbar\": {\"outlinewidth\": 0, \"ticks\": \"\"}}, \"type\": \"histogram\"}], \"histogram2d\": [{\"colorbar\": {\"outlinewidth\": 0, \"ticks\": \"\"}, \"colorscale\": [[0.0, \"#0d0887\"], [0.1111111111111111, \"#46039f\"], [0.2222222222222222, \"#7201a8\"], [0.3333333333333333, \"#9c179e\"], [0.4444444444444444, \"#bd3786\"], [0.5555555555555556, \"#d8576b\"], [0.6666666666666666, \"#ed7953\"], [0.7777777777777778, \"#fb9f3a\"], [0.8888888888888888, \"#fdca26\"], [1.0, \"#f0f921\"]], \"type\": \"histogram2d\"}], \"histogram2dcontour\": [{\"colorbar\": {\"outlinewidth\": 0, \"ticks\": \"\"}, \"colorscale\": [[0.0, \"#0d0887\"], [0.1111111111111111, \"#46039f\"], [0.2222222222222222, \"#7201a8\"], [0.3333333333333333, \"#9c179e\"], [0.4444444444444444, \"#bd3786\"], [0.5555555555555556, \"#d8576b\"], [0.6666666666666666, \"#ed7953\"], [0.7777777777777778, \"#fb9f3a\"], [0.8888888888888888, \"#fdca26\"], [1.0, \"#f0f921\"]], \"type\": \"histogram2dcontour\"}], \"mesh3d\": [{\"colorbar\": {\"outlinewidth\": 0, \"ticks\": \"\"}, \"type\": \"mesh3d\"}], \"parcoords\": [{\"line\": {\"colorbar\": {\"outlinewidth\": 0, \"ticks\": \"\"}}, \"type\": \"parcoords\"}], \"pie\": [{\"automargin\": true, \"type\": \"pie\"}], \"scatter\": [{\"marker\": {\"colorbar\": {\"outlinewidth\": 0, \"ticks\": \"\"}}, \"type\": \"scatter\"}], \"scatter3d\": [{\"line\": {\"colorbar\": {\"outlinewidth\": 0, \"ticks\": \"\"}}, \"marker\": {\"colorbar\": {\"outlinewidth\": 0, \"ticks\": \"\"}}, \"type\": \"scatter3d\"}], \"scattercarpet\": [{\"marker\": {\"colorbar\": {\"outlinewidth\": 0, \"ticks\": \"\"}}, \"type\": \"scattercarpet\"}], \"scattergeo\": [{\"marker\": {\"colorbar\": {\"outlinewidth\": 0, \"ticks\": \"\"}}, \"type\": \"scattergeo\"}], \"scattergl\": [{\"marker\": {\"colorbar\": {\"outlinewidth\": 0, \"ticks\": \"\"}}, \"type\": \"scattergl\"}], \"scattermapbox\": [{\"marker\": {\"colorbar\": {\"outlinewidth\": 0, \"ticks\": \"\"}}, \"type\": \"scattermapbox\"}], \"scatterpolar\": [{\"marker\": {\"colorbar\": {\"outlinewidth\": 0, \"ticks\": \"\"}}, \"type\": \"scatterpolar\"}], \"scatterpolargl\": [{\"marker\": {\"colorbar\": {\"outlinewidth\": 0, \"ticks\": \"\"}}, \"type\": \"scatterpolargl\"}], \"scatterternary\": [{\"marker\": {\"colorbar\": {\"outlinewidth\": 0, \"ticks\": \"\"}}, \"type\": \"scatterternary\"}], \"surface\": [{\"colorbar\": {\"outlinewidth\": 0, \"ticks\": \"\"}, \"colorscale\": [[0.0, \"#0d0887\"], [0.1111111111111111, \"#46039f\"], [0.2222222222222222, \"#7201a8\"], [0.3333333333333333, \"#9c179e\"], [0.4444444444444444, \"#bd3786\"], [0.5555555555555556, \"#d8576b\"], [0.6666666666666666, \"#ed7953\"], [0.7777777777777778, \"#fb9f3a\"], [0.8888888888888888, \"#fdca26\"], [1.0, \"#f0f921\"]], \"type\": \"surface\"}], \"table\": [{\"cells\": {\"fill\": {\"color\": \"#EBF0F8\"}, \"line\": {\"color\": \"white\"}}, \"header\": {\"fill\": {\"color\": \"#C8D4E3\"}, \"line\": {\"color\": \"white\"}}, \"type\": \"table\"}]}, \"layout\": {\"annotationdefaults\": {\"arrowcolor\": \"#2a3f5f\", \"arrowhead\": 0, \"arrowwidth\": 1}, \"autotypenumbers\": \"strict\", \"coloraxis\": {\"colorbar\": {\"outlinewidth\": 0, \"ticks\": \"\"}}, \"colorscale\": {\"diverging\": [[0, \"#8e0152\"], [0.1, \"#c51b7d\"], [0.2, \"#de77ae\"], [0.3, \"#f1b6da\"], [0.4, \"#fde0ef\"], [0.5, \"#f7f7f7\"], [0.6, \"#e6f5d0\"], [0.7, \"#b8e186\"], [0.8, \"#7fbc41\"], [0.9, \"#4d9221\"], [1, \"#276419\"]], \"sequential\": [[0.0, \"#0d0887\"], [0.1111111111111111, \"#46039f\"], [0.2222222222222222, \"#7201a8\"], [0.3333333333333333, \"#9c179e\"], [0.4444444444444444, \"#bd3786\"], [0.5555555555555556, \"#d8576b\"], [0.6666666666666666, \"#ed7953\"], [0.7777777777777778, \"#fb9f3a\"], [0.8888888888888888, \"#fdca26\"], [1.0, \"#f0f921\"]], \"sequentialminus\": [[0.0, \"#0d0887\"], [0.1111111111111111, \"#46039f\"], [0.2222222222222222, \"#7201a8\"], [0.3333333333333333, \"#9c179e\"], [0.4444444444444444, \"#bd3786\"], [0.5555555555555556, \"#d8576b\"], [0.6666666666666666, \"#ed7953\"], [0.7777777777777778, \"#fb9f3a\"], [0.8888888888888888, \"#fdca26\"], [1.0, \"#f0f921\"]]}, \"colorway\": [\"#636efa\", \"#EF553B\", \"#00cc96\", \"#ab63fa\", \"#FFA15A\", \"#19d3f3\", \"#FF6692\", \"#B6E880\", \"#FF97FF\", \"#FECB52\"], \"font\": {\"color\": \"#2a3f5f\"}, \"geo\": {\"bgcolor\": \"white\", \"lakecolor\": \"white\", \"landcolor\": \"#E5ECF6\", \"showlakes\": true, \"showland\": true, \"subunitcolor\": \"white\"}, \"hoverlabel\": {\"align\": \"left\"}, \"hovermode\": \"closest\", \"mapbox\": {\"style\": \"light\"}, \"paper_bgcolor\": \"white\", \"plot_bgcolor\": \"#E5ECF6\", \"polar\": {\"angularaxis\": {\"gridcolor\": \"white\", \"linecolor\": \"white\", \"ticks\": \"\"}, \"bgcolor\": \"#E5ECF6\", \"radialaxis\": {\"gridcolor\": \"white\", \"linecolor\": \"white\", \"ticks\": \"\"}}, \"scene\": {\"xaxis\": {\"backgroundcolor\": \"#E5ECF6\", \"gridcolor\": \"white\", \"gridwidth\": 2, \"linecolor\": \"white\", \"showbackground\": true, \"ticks\": \"\", \"zerolinecolor\": \"white\"}, \"yaxis\": {\"backgroundcolor\": \"#E5ECF6\", \"gridcolor\": \"white\", \"gridwidth\": 2, \"linecolor\": \"white\", \"showbackground\": true, \"ticks\": \"\", \"zerolinecolor\": \"white\"}, \"zaxis\": {\"backgroundcolor\": \"#E5ECF6\", \"gridcolor\": \"white\", \"gridwidth\": 2, \"linecolor\": \"white\", \"showbackground\": true, \"ticks\": \"\", \"zerolinecolor\": \"white\"}}, \"shapedefaults\": {\"line\": {\"color\": \"#2a3f5f\"}}, \"ternary\": {\"aaxis\": {\"gridcolor\": \"white\", \"linecolor\": \"white\", \"ticks\": \"\"}, \"baxis\": {\"gridcolor\": \"white\", \"linecolor\": \"white\", \"ticks\": \"\"}, \"bgcolor\": \"#E5ECF6\", \"caxis\": {\"gridcolor\": \"white\", \"linecolor\": \"white\", \"ticks\": \"\"}}, \"title\": {\"x\": 0.05}, \"xaxis\": {\"automargin\": true, \"gridcolor\": \"white\", \"linecolor\": \"white\", \"ticks\": \"\", \"title\": {\"standoff\": 15}, \"zerolinecolor\": \"white\", \"zerolinewidth\": 2}, \"yaxis\": {\"automargin\": true, \"gridcolor\": \"white\", \"linecolor\": \"white\", \"ticks\": \"\", \"title\": {\"standoff\": 15}, \"zerolinecolor\": \"white\", \"zerolinewidth\": 2}}}, \"title\": {\"text\": \"dots-angle, sample size: 32\"}, \"width\": 1200, \"xaxis\": {\"anchor\": \"y\", \"domain\": [0.0, 1.0], \"title\": {\"text\": \"dots-angle\"}}, \"xaxis2\": {\"anchor\": \"y2\", \"domain\": [0.0, 1.0], \"matches\": \"x\", \"showgrid\": true, \"showticklabels\": false}, \"yaxis\": {\"anchor\": \"x\", \"domain\": [0.0, 0.7326], \"title\": {\"text\": \"count\"}}, \"yaxis2\": {\"anchor\": \"x2\", \"domain\": [0.7426, 1.0], \"matches\": \"y2\", \"showgrid\": false, \"showline\": false, \"showticklabels\": false, \"ticks\": \"\"}},                        {\"responsive\": true}                    ).then(function(){\n",
       "                            \n",
       "var gd = document.getElementById('eb14a44f-7dd2-4e6c-af74-5839e4b73a8b');\n",
       "var x = new MutationObserver(function (mutations, observer) {{\n",
       "        var display = window.getComputedStyle(gd).display;\n",
       "        if (!display || display === 'none') {{\n",
       "            console.log([gd, 'removed!']);\n",
       "            Plotly.purge(gd);\n",
       "            observer.disconnect();\n",
       "        }}\n",
       "}});\n",
       "\n",
       "// Listen for the removal of the full notebook cells\n",
       "var notebookContainer = gd.closest('#notebook-container');\n",
       "if (notebookContainer) {{\n",
       "    x.observe(notebookContainer, {childList: true});\n",
       "}}\n",
       "\n",
       "// Listen for the clearing of the current output cell\n",
       "var outputEl = gd.closest('.output');\n",
       "if (outputEl) {{\n",
       "    x.observe(outputEl, {childList: true});\n",
       "}}\n",
       "\n",
       "                        })                };                });            </script>        </div>"
      ]
     },
     "metadata": {},
     "output_type": "display_data"
    },
    {
     "data": {
      "application/vnd.plotly.v1+json": {
       "config": {
        "plotlyServerURL": "https://plot.ly"
       },
       "data": [
        {
         "alignmentgroup": "True",
         "bingroup": "x",
         "hovertemplate": "Cx=C1<br>planes-angle=%{x}<br>count=%{y}<extra></extra>",
         "legendgroup": "C1",
         "marker": {
          "color": "#636efa"
         },
         "name": "C1",
         "nbinsx": 100,
         "offsetgroup": "C1",
         "orientation": "v",
         "showlegend": true,
         "type": "histogram",
         "x": [
          0,
          0,
          0,
          0,
          0,
          0,
          0,
          0,
          0,
          0,
          0,
          0,
          0,
          0,
          0,
          0,
          0,
          0,
          0,
          0,
          0,
          0,
          0,
          0,
          0,
          0,
          0,
          0,
          0,
          0,
          0,
          0
         ],
         "xaxis": "x",
         "yaxis": "y"
        },
        {
         "alignmentgroup": "True",
         "boxpoints": "all",
         "fillcolor": "rgba(255,255,255,0)",
         "hoveron": "points",
         "hovertemplate": "Cx=C1<br>planes-angle=%{x}<extra></extra>",
         "jitter": 0,
         "legendgroup": "C1",
         "line": {
          "color": "rgba(255,255,255,0)"
         },
         "marker": {
          "color": "#636efa",
          "symbol": "line-ns-open"
         },
         "name": "C1",
         "offsetgroup": "C1",
         "showlegend": false,
         "type": "box",
         "x": [
          0,
          0,
          0,
          0,
          0,
          0,
          0,
          0,
          0,
          0,
          0,
          0,
          0,
          0,
          0,
          0,
          0,
          0,
          0,
          0,
          0,
          0,
          0,
          0,
          0,
          0,
          0,
          0,
          0,
          0,
          0,
          0
         ],
         "xaxis": "x2",
         "yaxis": "y2"
        },
        {
         "alignmentgroup": "True",
         "bingroup": "x",
         "hovertemplate": "Cx=C2<br>planes-angle=%{x}<br>count=%{y}<extra></extra>",
         "legendgroup": "C2",
         "marker": {
          "color": "#EF553B"
         },
         "name": "C2",
         "nbinsx": 100,
         "offsetgroup": "C2",
         "orientation": "v",
         "showlegend": true,
         "type": "histogram",
         "x": [
          0,
          0,
          0,
          0,
          0,
          0,
          0,
          0,
          0,
          0,
          0,
          0,
          0,
          0,
          0,
          0,
          0,
          0,
          0,
          0,
          0,
          0,
          0,
          0,
          0,
          0,
          0,
          0,
          0,
          0,
          0,
          0
         ],
         "xaxis": "x",
         "yaxis": "y"
        },
        {
         "alignmentgroup": "True",
         "boxpoints": "all",
         "fillcolor": "rgba(255,255,255,0)",
         "hoveron": "points",
         "hovertemplate": "Cx=C2<br>planes-angle=%{x}<extra></extra>",
         "jitter": 0,
         "legendgroup": "C2",
         "line": {
          "color": "rgba(255,255,255,0)"
         },
         "marker": {
          "color": "#EF553B",
          "symbol": "line-ns-open"
         },
         "name": "C2",
         "offsetgroup": "C2",
         "showlegend": false,
         "type": "box",
         "x": [
          0,
          0,
          0,
          0,
          0,
          0,
          0,
          0,
          0,
          0,
          0,
          0,
          0,
          0,
          0,
          0,
          0,
          0,
          0,
          0,
          0,
          0,
          0,
          0,
          0,
          0,
          0,
          0,
          0,
          0,
          0,
          0
         ],
         "xaxis": "x2",
         "yaxis": "y2"
        },
        {
         "alignmentgroup": "True",
         "bingroup": "x",
         "hovertemplate": "Cx=C3<br>planes-angle=%{x}<br>count=%{y}<extra></extra>",
         "legendgroup": "C3",
         "marker": {
          "color": "#00cc96"
         },
         "name": "C3",
         "nbinsx": 100,
         "offsetgroup": "C3",
         "orientation": "v",
         "showlegend": true,
         "type": "histogram",
         "x": [
          5.0752401857045335,
          49.39678579036255,
          6.396204557165845,
          7.831542332896593,
          177.28788223695506,
          11.651737087737759,
          19.98486552318265,
          21.62631274894957,
          44.474140181554255,
          17.962054090985713,
          10.678557788822985,
          48.24145376633247,
          119.3502666101807,
          14.240794112111159,
          5.203581694612689,
          14.916092191735766,
          24.36226306997635,
          5.18951099016764,
          16.261779762047983,
          66.58447683955313,
          126.01257730373987,
          25.0293736700705,
          9.831985964307353,
          0.4869264429566376,
          9.883854448406584,
          14.312748617235803,
          4.150032404459484,
          15.300900163186487,
          13.359094746965212,
          2.46147028824865,
          9.89721211721696,
          18.655988243086245
         ],
         "xaxis": "x",
         "yaxis": "y"
        },
        {
         "alignmentgroup": "True",
         "boxpoints": "all",
         "fillcolor": "rgba(255,255,255,0)",
         "hoveron": "points",
         "hovertemplate": "Cx=C3<br>planes-angle=%{x}<extra></extra>",
         "jitter": 0,
         "legendgroup": "C3",
         "line": {
          "color": "rgba(255,255,255,0)"
         },
         "marker": {
          "color": "#00cc96",
          "symbol": "line-ns-open"
         },
         "name": "C3",
         "offsetgroup": "C3",
         "showlegend": false,
         "type": "box",
         "x": [
          5.0752401857045335,
          49.39678579036255,
          6.396204557165845,
          7.831542332896593,
          177.28788223695506,
          11.651737087737759,
          19.98486552318265,
          21.62631274894957,
          44.474140181554255,
          17.962054090985713,
          10.678557788822985,
          48.24145376633247,
          119.3502666101807,
          14.240794112111159,
          5.203581694612689,
          14.916092191735766,
          24.36226306997635,
          5.18951099016764,
          16.261779762047983,
          66.58447683955313,
          126.01257730373987,
          25.0293736700705,
          9.831985964307353,
          0.4869264429566376,
          9.883854448406584,
          14.312748617235803,
          4.150032404459484,
          15.300900163186487,
          13.359094746965212,
          2.46147028824865,
          9.89721211721696,
          18.655988243086245
         ],
         "xaxis": "x2",
         "yaxis": "y2"
        },
        {
         "alignmentgroup": "True",
         "bingroup": "x",
         "hovertemplate": "Cx=C4<br>planes-angle=%{x}<br>count=%{y}<extra></extra>",
         "legendgroup": "C4",
         "marker": {
          "color": "#ab63fa"
         },
         "name": "C4",
         "nbinsx": 100,
         "offsetgroup": "C4",
         "orientation": "v",
         "showlegend": true,
         "type": "histogram",
         "x": [
          9.337507821903682,
          21.505526966841842,
          15.709872597475913,
          10.64529072778764,
          20.973966833810106,
          3.5358238300475087,
          91.45934803387554,
          11.186748225989588,
          89.20849573315617,
          4.285195904784297,
          7.879373360467215,
          120.030627973139,
          11.033707788895073,
          1.0577411895786009,
          23.525390030900564,
          2.1491558941727895,
          118.78415836201492,
          8.825320085938102,
          9.731325082210493,
          17.747113621976,
          15.338528638209759,
          138.14877635290173,
          22.971983211148427,
          13.61971415748099,
          22.969304219253743,
          12.768695620404255,
          8.629574743329716,
          23.55546121363617,
          6.689248329863712,
          11.210014933181341,
          26.22845366729835,
          15.43499030037771
         ],
         "xaxis": "x",
         "yaxis": "y"
        },
        {
         "alignmentgroup": "True",
         "boxpoints": "all",
         "fillcolor": "rgba(255,255,255,0)",
         "hoveron": "points",
         "hovertemplate": "Cx=C4<br>planes-angle=%{x}<extra></extra>",
         "jitter": 0,
         "legendgroup": "C4",
         "line": {
          "color": "rgba(255,255,255,0)"
         },
         "marker": {
          "color": "#ab63fa",
          "symbol": "line-ns-open"
         },
         "name": "C4",
         "offsetgroup": "C4",
         "showlegend": false,
         "type": "box",
         "x": [
          9.337507821903682,
          21.505526966841842,
          15.709872597475913,
          10.64529072778764,
          20.973966833810106,
          3.5358238300475087,
          91.45934803387554,
          11.186748225989588,
          89.20849573315617,
          4.285195904784297,
          7.879373360467215,
          120.030627973139,
          11.033707788895073,
          1.0577411895786009,
          23.525390030900564,
          2.1491558941727895,
          118.78415836201492,
          8.825320085938102,
          9.731325082210493,
          17.747113621976,
          15.338528638209759,
          138.14877635290173,
          22.971983211148427,
          13.61971415748099,
          22.969304219253743,
          12.768695620404255,
          8.629574743329716,
          23.55546121363617,
          6.689248329863712,
          11.210014933181341,
          26.22845366729835,
          15.43499030037771
         ],
         "xaxis": "x2",
         "yaxis": "y2"
        },
        {
         "alignmentgroup": "True",
         "bingroup": "x",
         "hovertemplate": "Cx=C5<br>planes-angle=%{x}<br>count=%{y}<extra></extra>",
         "legendgroup": "C5",
         "marker": {
          "color": "#FFA15A"
         },
         "name": "C5",
         "nbinsx": 100,
         "offsetgroup": "C5",
         "orientation": "v",
         "showlegend": true,
         "type": "histogram",
         "x": [
          24.06868354543322,
          26.62307280482183,
          27.235815473544672,
          0.3615585024361373,
          98.19929174217718,
          10.418445191006155,
          19.81906033992049,
          17.64594931235791,
          30.34173419299797,
          3.292224860913819,
          41.427943400553175,
          8.190459811553236,
          14.050691675910246,
          13.290732654553455,
          37.41362945837924,
          21.96757127319586,
          1.079138724035423,
          5.516335834489194,
          0.4416237869706,
          22.331075484936928,
          27.625624185556024,
          9.822777715623207,
          91.59640953761125,
          14.244514529831553,
          21.844900393353896,
          26.858942388736992,
          16.32850845593522,
          22.799946939082087,
          1.0147538486032883,
          24.048411414978336,
          26.617789831086714,
          36.344093081241624
         ],
         "xaxis": "x",
         "yaxis": "y"
        },
        {
         "alignmentgroup": "True",
         "boxpoints": "all",
         "fillcolor": "rgba(255,255,255,0)",
         "hoveron": "points",
         "hovertemplate": "Cx=C5<br>planes-angle=%{x}<extra></extra>",
         "jitter": 0,
         "legendgroup": "C5",
         "line": {
          "color": "rgba(255,255,255,0)"
         },
         "marker": {
          "color": "#FFA15A",
          "symbol": "line-ns-open"
         },
         "name": "C5",
         "offsetgroup": "C5",
         "showlegend": false,
         "type": "box",
         "x": [
          24.06868354543322,
          26.62307280482183,
          27.235815473544672,
          0.3615585024361373,
          98.19929174217718,
          10.418445191006155,
          19.81906033992049,
          17.64594931235791,
          30.34173419299797,
          3.292224860913819,
          41.427943400553175,
          8.190459811553236,
          14.050691675910246,
          13.290732654553455,
          37.41362945837924,
          21.96757127319586,
          1.079138724035423,
          5.516335834489194,
          0.4416237869706,
          22.331075484936928,
          27.625624185556024,
          9.822777715623207,
          91.59640953761125,
          14.244514529831553,
          21.844900393353896,
          26.858942388736992,
          16.32850845593522,
          22.799946939082087,
          1.0147538486032883,
          24.048411414978336,
          26.617789831086714,
          36.344093081241624
         ],
         "xaxis": "x2",
         "yaxis": "y2"
        },
        {
         "alignmentgroup": "True",
         "bingroup": "x",
         "hovertemplate": "Cx=C6<br>planes-angle=%{x}<br>count=%{y}<extra></extra>",
         "legendgroup": "C6",
         "marker": {
          "color": "#19d3f3"
         },
         "name": "C6",
         "nbinsx": 100,
         "offsetgroup": "C6",
         "orientation": "v",
         "showlegend": true,
         "type": "histogram",
         "x": [
          113.98343750358713,
          13.126714908945496,
          34.92416465079918,
          30.616309272208348,
          32.03060359497405,
          20.60761683774085,
          24.788324083621653,
          146.14189358993687,
          15.888714690466443,
          6.445744050868835,
          24.36501948023678,
          2.0697142890786457,
          17.12408979810166,
          8.058342604035081,
          16.355708594070048,
          1.12608538695569,
          1.2692397943765774,
          8.98539651378353,
          3.9136329711268063,
          0.26974860473192297,
          4.501288018541801,
          1.3567165668214707,
          16.721939647236226,
          12.076886944019108,
          12.21781998819671,
          19.837613274543333,
          6.774262068913225,
          8.180583312246576,
          6.059091114058915,
          55.83268173486531,
          13.036507597814923,
          37.49658173833761
         ],
         "xaxis": "x",
         "yaxis": "y"
        },
        {
         "alignmentgroup": "True",
         "boxpoints": "all",
         "fillcolor": "rgba(255,255,255,0)",
         "hoveron": "points",
         "hovertemplate": "Cx=C6<br>planes-angle=%{x}<extra></extra>",
         "jitter": 0,
         "legendgroup": "C6",
         "line": {
          "color": "rgba(255,255,255,0)"
         },
         "marker": {
          "color": "#19d3f3",
          "symbol": "line-ns-open"
         },
         "name": "C6",
         "offsetgroup": "C6",
         "showlegend": false,
         "type": "box",
         "x": [
          113.98343750358713,
          13.126714908945496,
          34.92416465079918,
          30.616309272208348,
          32.03060359497405,
          20.60761683774085,
          24.788324083621653,
          146.14189358993687,
          15.888714690466443,
          6.445744050868835,
          24.36501948023678,
          2.0697142890786457,
          17.12408979810166,
          8.058342604035081,
          16.355708594070048,
          1.12608538695569,
          1.2692397943765774,
          8.98539651378353,
          3.9136329711268063,
          0.26974860473192297,
          4.501288018541801,
          1.3567165668214707,
          16.721939647236226,
          12.076886944019108,
          12.21781998819671,
          19.837613274543333,
          6.774262068913225,
          8.180583312246576,
          6.059091114058915,
          55.83268173486531,
          13.036507597814923,
          37.49658173833761
         ],
         "xaxis": "x2",
         "yaxis": "y2"
        },
        {
         "alignmentgroup": "True",
         "bingroup": "x",
         "hovertemplate": "Cx=C7<br>planes-angle=%{x}<br>count=%{y}<extra></extra>",
         "legendgroup": "C7",
         "marker": {
          "color": "#FF6692"
         },
         "name": "C7",
         "nbinsx": 100,
         "offsetgroup": "C7",
         "orientation": "v",
         "showlegend": true,
         "type": "histogram",
         "x": [
          9.021707178622725,
          8.459597491620974,
          2.4013744846145855,
          0.44537355939187256,
          12.83221070385218,
          48.35222646935281,
          43.20220485334097,
          34.14268977490616,
          32.44769956424673,
          15.276479813483823,
          26.07200812903283,
          5.399859245731231,
          3.20577022496204,
          8.98312395301096,
          53.16895844141718,
          21.497084198988844,
          4.6246049921926184,
          20.415618595270274,
          16.942505544025064,
          3.013524054835279,
          12.699524084062409,
          8.220788456016148,
          26.757639017891037,
          0.44979521153963176,
          11.162001457971916,
          32.93707122426302,
          22.387968285818438,
          35.819910729695096,
          21.275657476507668,
          32.28711801061072,
          0.3281673126067205,
          9.737221061258754
         ],
         "xaxis": "x",
         "yaxis": "y"
        },
        {
         "alignmentgroup": "True",
         "boxpoints": "all",
         "fillcolor": "rgba(255,255,255,0)",
         "hoveron": "points",
         "hovertemplate": "Cx=C7<br>planes-angle=%{x}<extra></extra>",
         "jitter": 0,
         "legendgroup": "C7",
         "line": {
          "color": "rgba(255,255,255,0)"
         },
         "marker": {
          "color": "#FF6692",
          "symbol": "line-ns-open"
         },
         "name": "C7",
         "offsetgroup": "C7",
         "showlegend": false,
         "type": "box",
         "x": [
          9.021707178622725,
          8.459597491620974,
          2.4013744846145855,
          0.44537355939187256,
          12.83221070385218,
          48.35222646935281,
          43.20220485334097,
          34.14268977490616,
          32.44769956424673,
          15.276479813483823,
          26.07200812903283,
          5.399859245731231,
          3.20577022496204,
          8.98312395301096,
          53.16895844141718,
          21.497084198988844,
          4.6246049921926184,
          20.415618595270274,
          16.942505544025064,
          3.013524054835279,
          12.699524084062409,
          8.220788456016148,
          26.757639017891037,
          0.44979521153963176,
          11.162001457971916,
          32.93707122426302,
          22.387968285818438,
          35.819910729695096,
          21.275657476507668,
          32.28711801061072,
          0.3281673126067205,
          9.737221061258754
         ],
         "xaxis": "x2",
         "yaxis": "y2"
        },
        {
         "alignmentgroup": "True",
         "bingroup": "x",
         "hovertemplate": "Cx=C8<br>planes-angle=%{x}<br>count=%{y}<extra></extra>",
         "legendgroup": "C8",
         "marker": {
          "color": "#B6E880"
         },
         "name": "C8",
         "nbinsx": 100,
         "offsetgroup": "C8",
         "orientation": "v",
         "showlegend": true,
         "type": "histogram",
         "x": [
          11.185341324456951,
          5.643437458225066,
          8.410531072599106,
          9.593232963050172,
          5.69726264637292,
          43.11936822538231,
          29.846755785585678,
          14.225246219716551,
          110.11030325081836,
          20.926750700951654,
          22.51507823079541,
          1.847893461347684,
          20.456121571507644,
          0.6958781414502875,
          138.3665385604605,
          29.352400748164108,
          6.204234011243543,
          17.477910021507295,
          26.191246915216816,
          11.776974315698117,
          2.54101141405471,
          3.0642499074110923,
          9.618717811796742,
          11.169893812368173,
          7.137025272958375,
          62.9665335516196,
          8.55215193605886,
          5.949204893081031,
          6.789327726504348,
          9.278251470913546,
          2.0254525858139014,
          4.599133807515254
         ],
         "xaxis": "x",
         "yaxis": "y"
        },
        {
         "alignmentgroup": "True",
         "boxpoints": "all",
         "fillcolor": "rgba(255,255,255,0)",
         "hoveron": "points",
         "hovertemplate": "Cx=C8<br>planes-angle=%{x}<extra></extra>",
         "jitter": 0,
         "legendgroup": "C8",
         "line": {
          "color": "rgba(255,255,255,0)"
         },
         "marker": {
          "color": "#B6E880",
          "symbol": "line-ns-open"
         },
         "name": "C8",
         "offsetgroup": "C8",
         "showlegend": false,
         "type": "box",
         "x": [
          11.185341324456951,
          5.643437458225066,
          8.410531072599106,
          9.593232963050172,
          5.69726264637292,
          43.11936822538231,
          29.846755785585678,
          14.225246219716551,
          110.11030325081836,
          20.926750700951654,
          22.51507823079541,
          1.847893461347684,
          20.456121571507644,
          0.6958781414502875,
          138.3665385604605,
          29.352400748164108,
          6.204234011243543,
          17.477910021507295,
          26.191246915216816,
          11.776974315698117,
          2.54101141405471,
          3.0642499074110923,
          9.618717811796742,
          11.169893812368173,
          7.137025272958375,
          62.9665335516196,
          8.55215193605886,
          5.949204893081031,
          6.789327726504348,
          9.278251470913546,
          2.0254525858139014,
          4.599133807515254
         ],
         "xaxis": "x2",
         "yaxis": "y2"
        },
        {
         "alignmentgroup": "True",
         "bingroup": "x",
         "hovertemplate": "Cx=C9<br>planes-angle=%{x}<br>count=%{y}<extra></extra>",
         "legendgroup": "C9",
         "marker": {
          "color": "#FF97FF"
         },
         "name": "C9",
         "nbinsx": 100,
         "offsetgroup": "C9",
         "orientation": "v",
         "showlegend": true,
         "type": "histogram",
         "x": [
          20.41932213463101,
          16.42398505251853,
          10.00901760962016,
          4.743819442293361,
          100.14690773355062,
          8.60224746625901,
          19.902921826860037,
          17.21005616469909,
          3.3139925783635875,
          4.0080240956732585,
          10.895438557327802,
          2.011444282450882,
          23.59593500912513,
          15.579882927477698,
          0.7958867906504417,
          6.584156140161651,
          1.1016970967199138,
          4.609714039534793,
          9.65887662634037,
          7.83917019972521,
          4.124288973982869,
          2.240285961418647,
          17.60522242723741,
          0.7727667648987395,
          13.650517341705354,
          8.541774329409435,
          22.600519695707536,
          39.74757855292929,
          3.821807892644544,
          1.8210397555458266,
          2.6506098859025453,
          9.731753933376384
         ],
         "xaxis": "x",
         "yaxis": "y"
        },
        {
         "alignmentgroup": "True",
         "boxpoints": "all",
         "fillcolor": "rgba(255,255,255,0)",
         "hoveron": "points",
         "hovertemplate": "Cx=C9<br>planes-angle=%{x}<extra></extra>",
         "jitter": 0,
         "legendgroup": "C9",
         "line": {
          "color": "rgba(255,255,255,0)"
         },
         "marker": {
          "color": "#FF97FF",
          "symbol": "line-ns-open"
         },
         "name": "C9",
         "offsetgroup": "C9",
         "showlegend": false,
         "type": "box",
         "x": [
          20.41932213463101,
          16.42398505251853,
          10.00901760962016,
          4.743819442293361,
          100.14690773355062,
          8.60224746625901,
          19.902921826860037,
          17.21005616469909,
          3.3139925783635875,
          4.0080240956732585,
          10.895438557327802,
          2.011444282450882,
          23.59593500912513,
          15.579882927477698,
          0.7958867906504417,
          6.584156140161651,
          1.1016970967199138,
          4.609714039534793,
          9.65887662634037,
          7.83917019972521,
          4.124288973982869,
          2.240285961418647,
          17.60522242723741,
          0.7727667648987395,
          13.650517341705354,
          8.541774329409435,
          22.600519695707536,
          39.74757855292929,
          3.821807892644544,
          1.8210397555458266,
          2.6506098859025453,
          9.731753933376384
         ],
         "xaxis": "x2",
         "yaxis": "y2"
        },
        {
         "alignmentgroup": "True",
         "bingroup": "x",
         "hovertemplate": "Cx=C10<br>planes-angle=%{x}<br>count=%{y}<extra></extra>",
         "legendgroup": "C10",
         "marker": {
          "color": "#FECB52"
         },
         "name": "C10",
         "nbinsx": 100,
         "offsetgroup": "C10",
         "orientation": "v",
         "showlegend": true,
         "type": "histogram",
         "x": [
          162.4843615243251,
          153.34934747568033,
          157.24847925155777,
          164.73272741496717,
          149.34536792631758,
          157.71310070404255,
          171.9839667712965,
          163.85596058442547,
          167.87093637754842,
          162.10337363732833,
          171.1794060378969,
          152.93178842153202,
          177.2391761909687,
          175.47474305997116,
          177.51062124593835,
          172.25396061739346,
          147.83521135325296,
          162.47533678864548,
          150.3375600162247,
          163.31522666477497,
          152.47884359180546,
          179.1107975888868,
          178.56302561785995,
          175.86003656407692,
          159.3191993270639,
          161.3741421711646,
          160.70509249481145,
          134.9939364297434,
          163.48538914758063,
          172.6499110298623,
          172.57764658500486,
          161.96978940082235
         ],
         "xaxis": "x",
         "yaxis": "y"
        },
        {
         "alignmentgroup": "True",
         "boxpoints": "all",
         "fillcolor": "rgba(255,255,255,0)",
         "hoveron": "points",
         "hovertemplate": "Cx=C10<br>planes-angle=%{x}<extra></extra>",
         "jitter": 0,
         "legendgroup": "C10",
         "line": {
          "color": "rgba(255,255,255,0)"
         },
         "marker": {
          "color": "#FECB52",
          "symbol": "line-ns-open"
         },
         "name": "C10",
         "offsetgroup": "C10",
         "showlegend": false,
         "type": "box",
         "x": [
          162.4843615243251,
          153.34934747568033,
          157.24847925155777,
          164.73272741496717,
          149.34536792631758,
          157.71310070404255,
          171.9839667712965,
          163.85596058442547,
          167.87093637754842,
          162.10337363732833,
          171.1794060378969,
          152.93178842153202,
          177.2391761909687,
          175.47474305997116,
          177.51062124593835,
          172.25396061739346,
          147.83521135325296,
          162.47533678864548,
          150.3375600162247,
          163.31522666477497,
          152.47884359180546,
          179.1107975888868,
          178.56302561785995,
          175.86003656407692,
          159.3191993270639,
          161.3741421711646,
          160.70509249481145,
          134.9939364297434,
          163.48538914758063,
          172.6499110298623,
          172.57764658500486,
          161.96978940082235
         ],
         "xaxis": "x2",
         "yaxis": "y2"
        },
        {
         "alignmentgroup": "True",
         "bingroup": "x",
         "hovertemplate": "Cx=C11<br>planes-angle=%{x}<br>count=%{y}<extra></extra>",
         "legendgroup": "C11",
         "marker": {
          "color": "#636efa"
         },
         "name": "C11",
         "nbinsx": 100,
         "offsetgroup": "C11",
         "orientation": "v",
         "showlegend": true,
         "type": "histogram",
         "x": [
          21.414981101465816,
          3.9085761815256586,
          23.442219950310996,
          1.6876927160645112,
          13.088725965346619,
          18.748161271593958,
          6.410516988895182,
          9.613605778595382,
          14.156310807029161,
          14.974846875270378,
          5.943466516400092,
          3.938101543654267,
          1.3494236493432998,
          2.4126459803030094,
          4.572259842118794,
          0.10748040630499998,
          16.395351676775498,
          34.596343738975875,
          8.421087857331646,
          25.834281154842895,
          33.57970596523335,
          9.887629152877688,
          16.22171943355895,
          5.8345534971888195,
          8.787595269792721,
          18.731088675537833,
          9.515864416374699,
          4.886007690247431,
          30.737732451714404,
          4.761542805442925,
          1.5196456382079477,
          1.6367045955964956
         ],
         "xaxis": "x",
         "yaxis": "y"
        },
        {
         "alignmentgroup": "True",
         "boxpoints": "all",
         "fillcolor": "rgba(255,255,255,0)",
         "hoveron": "points",
         "hovertemplate": "Cx=C11<br>planes-angle=%{x}<extra></extra>",
         "jitter": 0,
         "legendgroup": "C11",
         "line": {
          "color": "rgba(255,255,255,0)"
         },
         "marker": {
          "color": "#636efa",
          "symbol": "line-ns-open"
         },
         "name": "C11",
         "offsetgroup": "C11",
         "showlegend": false,
         "type": "box",
         "x": [
          21.414981101465816,
          3.9085761815256586,
          23.442219950310996,
          1.6876927160645112,
          13.088725965346619,
          18.748161271593958,
          6.410516988895182,
          9.613605778595382,
          14.156310807029161,
          14.974846875270378,
          5.943466516400092,
          3.938101543654267,
          1.3494236493432998,
          2.4126459803030094,
          4.572259842118794,
          0.10748040630499998,
          16.395351676775498,
          34.596343738975875,
          8.421087857331646,
          25.834281154842895,
          33.57970596523335,
          9.887629152877688,
          16.22171943355895,
          5.8345534971888195,
          8.787595269792721,
          18.731088675537833,
          9.515864416374699,
          4.886007690247431,
          30.737732451714404,
          4.761542805442925,
          1.5196456382079477,
          1.6367045955964956
         ],
         "xaxis": "x2",
         "yaxis": "y2"
        },
        {
         "alignmentgroup": "True",
         "bingroup": "x",
         "hovertemplate": "Cx=C12<br>planes-angle=%{x}<br>count=%{y}<extra></extra>",
         "legendgroup": "C12",
         "marker": {
          "color": "#EF553B"
         },
         "name": "C12",
         "nbinsx": 100,
         "offsetgroup": "C12",
         "orientation": "v",
         "showlegend": true,
         "type": "histogram",
         "x": [
          110.28199570553022,
          4.306244510021293,
          12.783474622169903,
          179.5397619571133,
          1.1279377410757394,
          16.96667075381164,
          15.293222450828361,
          21.34184329084751,
          15.816842880911569,
          34.99278760089075,
          17.89751611231161,
          9.028543996692196,
          0.5181969499903305,
          12.85403155139986,
          1.5701549539460098,
          13.244036693536328,
          1.3671622056039912,
          30.81008390565402,
          11.016530259026155,
          2.4297500675477317,
          15.551543796488101,
          7.653728934958783,
          2.119447649098106,
          12.921891330543644,
          15.431376843767001,
          2.8536777645584523,
          9.903797133350123,
          18.627928577885875,
          37.81645068189119,
          3.9621672836149187,
          28.741032067800955,
          11.449068195446962
         ],
         "xaxis": "x",
         "yaxis": "y"
        },
        {
         "alignmentgroup": "True",
         "boxpoints": "all",
         "fillcolor": "rgba(255,255,255,0)",
         "hoveron": "points",
         "hovertemplate": "Cx=C12<br>planes-angle=%{x}<extra></extra>",
         "jitter": 0,
         "legendgroup": "C12",
         "line": {
          "color": "rgba(255,255,255,0)"
         },
         "marker": {
          "color": "#EF553B",
          "symbol": "line-ns-open"
         },
         "name": "C12",
         "offsetgroup": "C12",
         "showlegend": false,
         "type": "box",
         "x": [
          110.28199570553022,
          4.306244510021293,
          12.783474622169903,
          179.5397619571133,
          1.1279377410757394,
          16.96667075381164,
          15.293222450828361,
          21.34184329084751,
          15.816842880911569,
          34.99278760089075,
          17.89751611231161,
          9.028543996692196,
          0.5181969499903305,
          12.85403155139986,
          1.5701549539460098,
          13.244036693536328,
          1.3671622056039912,
          30.81008390565402,
          11.016530259026155,
          2.4297500675477317,
          15.551543796488101,
          7.653728934958783,
          2.119447649098106,
          12.921891330543644,
          15.431376843767001,
          2.8536777645584523,
          9.903797133350123,
          18.627928577885875,
          37.81645068189119,
          3.9621672836149187,
          28.741032067800955,
          11.449068195446962
         ],
         "xaxis": "x2",
         "yaxis": "y2"
        },
        {
         "alignmentgroup": "True",
         "bingroup": "x",
         "hovertemplate": "Cx=C13<br>planes-angle=%{x}<br>count=%{y}<extra></extra>",
         "legendgroup": "C13",
         "marker": {
          "color": "#00cc96"
         },
         "name": "C13",
         "nbinsx": 100,
         "offsetgroup": "C13",
         "orientation": "v",
         "showlegend": true,
         "type": "histogram",
         "x": [
          4.79101535635928,
          1.6830551094590924,
          0.43701117923801386,
          146.28346581828285,
          15.524461393214947,
          1.9188070796379253,
          2.3942365440304427,
          6.1653636905690785,
          9.569161352775357,
          22.717251027470294,
          29.938962337582147,
          4.955405098359872,
          10.8788315488771,
          2.221794277563029,
          8.242271681436021,
          9.722599011420945,
          8.935526886430015,
          20.148978011646822,
          16.378066973020942,
          11.998269523094464,
          144.66600893968155,
          3.354229773698771,
          21.39165848353753,
          16.828235159202666,
          9.006127769377343,
          9.982454100258773,
          2.062617070593941,
          15.67999732021487,
          4.081821232953509,
          0.283711661043602,
          16.062497140754072,
          1.9939726428323028
         ],
         "xaxis": "x",
         "yaxis": "y"
        },
        {
         "alignmentgroup": "True",
         "boxpoints": "all",
         "fillcolor": "rgba(255,255,255,0)",
         "hoveron": "points",
         "hovertemplate": "Cx=C13<br>planes-angle=%{x}<extra></extra>",
         "jitter": 0,
         "legendgroup": "C13",
         "line": {
          "color": "rgba(255,255,255,0)"
         },
         "marker": {
          "color": "#00cc96",
          "symbol": "line-ns-open"
         },
         "name": "C13",
         "offsetgroup": "C13",
         "showlegend": false,
         "type": "box",
         "x": [
          4.79101535635928,
          1.6830551094590924,
          0.43701117923801386,
          146.28346581828285,
          15.524461393214947,
          1.9188070796379253,
          2.3942365440304427,
          6.1653636905690785,
          9.569161352775357,
          22.717251027470294,
          29.938962337582147,
          4.955405098359872,
          10.8788315488771,
          2.221794277563029,
          8.242271681436021,
          9.722599011420945,
          8.935526886430015,
          20.148978011646822,
          16.378066973020942,
          11.998269523094464,
          144.66600893968155,
          3.354229773698771,
          21.39165848353753,
          16.828235159202666,
          9.006127769377343,
          9.982454100258773,
          2.062617070593941,
          15.67999732021487,
          4.081821232953509,
          0.283711661043602,
          16.062497140754072,
          1.9939726428323028
         ],
         "xaxis": "x2",
         "yaxis": "y2"
        },
        {
         "alignmentgroup": "True",
         "bingroup": "x",
         "hovertemplate": "Cx=C14<br>planes-angle=%{x}<br>count=%{y}<extra></extra>",
         "legendgroup": "C14",
         "marker": {
          "color": "#ab63fa"
         },
         "name": "C14",
         "nbinsx": 100,
         "offsetgroup": "C14",
         "orientation": "v",
         "showlegend": true,
         "type": "histogram",
         "x": [
          3.42182987699,
          2.0405088093849932,
          18.895509335376605,
          58.299436264273865,
          11.27653295257384,
          8.479002981120784,
          1.015414362308758,
          13.389555567070595,
          8.412885651808503,
          8.448445619260623,
          24.66076984896903,
          5.997231442874885,
          16.442790044682894,
          9.406780053785331,
          23.464203043574578,
          11.047595127130295,
          13.564593452745104,
          15.52594008433494,
          3.027677096620481,
          7.764510058041327,
          45.031027109582034,
          26.167711495389252,
          32.64043310685459,
          132.62964805035807,
          10.616372913944236,
          7.658361374884702,
          18.633019551861192,
          11.831105117374042,
          29.648511379707063,
          6.025451070523246,
          11.447424233610594,
          9.42709858010786
         ],
         "xaxis": "x",
         "yaxis": "y"
        },
        {
         "alignmentgroup": "True",
         "boxpoints": "all",
         "fillcolor": "rgba(255,255,255,0)",
         "hoveron": "points",
         "hovertemplate": "Cx=C14<br>planes-angle=%{x}<extra></extra>",
         "jitter": 0,
         "legendgroup": "C14",
         "line": {
          "color": "rgba(255,255,255,0)"
         },
         "marker": {
          "color": "#ab63fa",
          "symbol": "line-ns-open"
         },
         "name": "C14",
         "offsetgroup": "C14",
         "showlegend": false,
         "type": "box",
         "x": [
          3.42182987699,
          2.0405088093849932,
          18.895509335376605,
          58.299436264273865,
          11.27653295257384,
          8.479002981120784,
          1.015414362308758,
          13.389555567070595,
          8.412885651808503,
          8.448445619260623,
          24.66076984896903,
          5.997231442874885,
          16.442790044682894,
          9.406780053785331,
          23.464203043574578,
          11.047595127130295,
          13.564593452745104,
          15.52594008433494,
          3.027677096620481,
          7.764510058041327,
          45.031027109582034,
          26.167711495389252,
          32.64043310685459,
          132.62964805035807,
          10.616372913944236,
          7.658361374884702,
          18.633019551861192,
          11.831105117374042,
          29.648511379707063,
          6.025451070523246,
          11.447424233610594,
          9.42709858010786
         ],
         "xaxis": "x2",
         "yaxis": "y2"
        },
        {
         "alignmentgroup": "True",
         "bingroup": "x",
         "hovertemplate": "Cx=C15<br>planes-angle=%{x}<br>count=%{y}<extra></extra>",
         "legendgroup": "C15",
         "marker": {
          "color": "#FFA15A"
         },
         "name": "C15",
         "nbinsx": 100,
         "offsetgroup": "C15",
         "orientation": "v",
         "showlegend": true,
         "type": "histogram",
         "x": [
          19.89081875349787,
          32.3048786138408,
          18.43346784167183,
          139.9966414458934,
          35.41612207294829,
          7.357997115027071,
          10.122474156998488,
          20.21259493182142,
          20.567571854200093,
          3.6924396992190403,
          5.141069156362983,
          1.4266668444141835,
          6.902487270812178,
          33.88944749558126,
          15.450637564273446,
          10.293797159454115,
          1.7470534658082388,
          6.006394160140006,
          12.600378975175907,
          12.103947052575906,
          136.30167208027916,
          12.96522295946161,
          15.54379297987153,
          24.826803745972615,
          5.267408842629563,
          4.192185819489166,
          4.001575016122474,
          8.982360364601771,
          118.22698806115729,
          12.725420110112191,
          1.9501218950736696,
          18.51664314842762
         ],
         "xaxis": "x",
         "yaxis": "y"
        },
        {
         "alignmentgroup": "True",
         "boxpoints": "all",
         "fillcolor": "rgba(255,255,255,0)",
         "hoveron": "points",
         "hovertemplate": "Cx=C15<br>planes-angle=%{x}<extra></extra>",
         "jitter": 0,
         "legendgroup": "C15",
         "line": {
          "color": "rgba(255,255,255,0)"
         },
         "marker": {
          "color": "#FFA15A",
          "symbol": "line-ns-open"
         },
         "name": "C15",
         "offsetgroup": "C15",
         "showlegend": false,
         "type": "box",
         "x": [
          19.89081875349787,
          32.3048786138408,
          18.43346784167183,
          139.9966414458934,
          35.41612207294829,
          7.357997115027071,
          10.122474156998488,
          20.21259493182142,
          20.567571854200093,
          3.6924396992190403,
          5.141069156362983,
          1.4266668444141835,
          6.902487270812178,
          33.88944749558126,
          15.450637564273446,
          10.293797159454115,
          1.7470534658082388,
          6.006394160140006,
          12.600378975175907,
          12.103947052575906,
          136.30167208027916,
          12.96522295946161,
          15.54379297987153,
          24.826803745972615,
          5.267408842629563,
          4.192185819489166,
          4.001575016122474,
          8.982360364601771,
          118.22698806115729,
          12.725420110112191,
          1.9501218950736696,
          18.51664314842762
         ],
         "xaxis": "x2",
         "yaxis": "y2"
        },
        {
         "alignmentgroup": "True",
         "bingroup": "x",
         "hovertemplate": "Cx=C16<br>planes-angle=%{x}<br>count=%{y}<extra></extra>",
         "legendgroup": "C16",
         "marker": {
          "color": "#19d3f3"
         },
         "name": "C16",
         "nbinsx": 100,
         "offsetgroup": "C16",
         "orientation": "v",
         "showlegend": true,
         "type": "histogram",
         "x": [
          7.943553075826324,
          28.005941183175196,
          18.912312626337172,
          8.826203757009402,
          40.108669981814664,
          19.528969234927366,
          2.5205423697742373,
          5.13663975130218,
          52.748723639792004,
          5.617957048488763,
          11.037775276198259,
          12.010092787761044,
          8.701361647314426,
          19.45591013118858,
          9.248751779357933,
          3.0466738060041174,
          0.8987799775960463,
          15.991941614814678,
          5.941274940303827,
          2.095040258911015,
          2.6532784441637633,
          46.31759779400084,
          38.781949467614425,
          6.204182100524133,
          39.71368133082247,
          15.612827959895656,
          30.787672702415055,
          9.53867329813931,
          31.817064614764586,
          7.0759751097935775,
          6.966079994443286,
          16.477935440236884
         ],
         "xaxis": "x",
         "yaxis": "y"
        },
        {
         "alignmentgroup": "True",
         "boxpoints": "all",
         "fillcolor": "rgba(255,255,255,0)",
         "hoveron": "points",
         "hovertemplate": "Cx=C16<br>planes-angle=%{x}<extra></extra>",
         "jitter": 0,
         "legendgroup": "C16",
         "line": {
          "color": "rgba(255,255,255,0)"
         },
         "marker": {
          "color": "#19d3f3",
          "symbol": "line-ns-open"
         },
         "name": "C16",
         "offsetgroup": "C16",
         "showlegend": false,
         "type": "box",
         "x": [
          7.943553075826324,
          28.005941183175196,
          18.912312626337172,
          8.826203757009402,
          40.108669981814664,
          19.528969234927366,
          2.5205423697742373,
          5.13663975130218,
          52.748723639792004,
          5.617957048488763,
          11.037775276198259,
          12.010092787761044,
          8.701361647314426,
          19.45591013118858,
          9.248751779357933,
          3.0466738060041174,
          0.8987799775960463,
          15.991941614814678,
          5.941274940303827,
          2.095040258911015,
          2.6532784441637633,
          46.31759779400084,
          38.781949467614425,
          6.204182100524133,
          39.71368133082247,
          15.612827959895656,
          30.787672702415055,
          9.53867329813931,
          31.817064614764586,
          7.0759751097935775,
          6.966079994443286,
          16.477935440236884
         ],
         "xaxis": "x2",
         "yaxis": "y2"
        },
        {
         "alignmentgroup": "True",
         "bingroup": "x",
         "hovertemplate": "Cx=C17<br>planes-angle=%{x}<br>count=%{y}<extra></extra>",
         "legendgroup": "C17",
         "marker": {
          "color": "#FF6692"
         },
         "name": "C17",
         "nbinsx": 100,
         "offsetgroup": "C17",
         "orientation": "v",
         "showlegend": true,
         "type": "histogram",
         "x": [
          16.76951155930411,
          19.26636046714439,
          33.78442311438314,
          4.325402017160361,
          170.67955052310637,
          34.108143918078156,
          6.448009175969258,
          18.15318058273767,
          98.09139544262685,
          19.270509878658654,
          41.15370029906954,
          25.84402964829584,
          15.726200033485618,
          22.353357092252313,
          5.217011572104453,
          29.23226363413463,
          14.346787457802737,
          25.16946186440372,
          6.623349097914986,
          132.22457273664625,
          16.45484598349539,
          106.06344460705336,
          97.83775686977822,
          38.108401162395865,
          111.21912061842292,
          25.51593165541725,
          103.89325577246346,
          20.61219268649576,
          9.28247428543329,
          21.79187832224332,
          19.216054035748567,
          40.14360918879033
         ],
         "xaxis": "x",
         "yaxis": "y"
        },
        {
         "alignmentgroup": "True",
         "boxpoints": "all",
         "fillcolor": "rgba(255,255,255,0)",
         "hoveron": "points",
         "hovertemplate": "Cx=C17<br>planes-angle=%{x}<extra></extra>",
         "jitter": 0,
         "legendgroup": "C17",
         "line": {
          "color": "rgba(255,255,255,0)"
         },
         "marker": {
          "color": "#FF6692",
          "symbol": "line-ns-open"
         },
         "name": "C17",
         "offsetgroup": "C17",
         "showlegend": false,
         "type": "box",
         "x": [
          16.76951155930411,
          19.26636046714439,
          33.78442311438314,
          4.325402017160361,
          170.67955052310637,
          34.108143918078156,
          6.448009175969258,
          18.15318058273767,
          98.09139544262685,
          19.270509878658654,
          41.15370029906954,
          25.84402964829584,
          15.726200033485618,
          22.353357092252313,
          5.217011572104453,
          29.23226363413463,
          14.346787457802737,
          25.16946186440372,
          6.623349097914986,
          132.22457273664625,
          16.45484598349539,
          106.06344460705336,
          97.83775686977822,
          38.108401162395865,
          111.21912061842292,
          25.51593165541725,
          103.89325577246346,
          20.61219268649576,
          9.28247428543329,
          21.79187832224332,
          19.216054035748567,
          40.14360918879033
         ],
         "xaxis": "x2",
         "yaxis": "y2"
        },
        {
         "alignmentgroup": "True",
         "bingroup": "x",
         "hovertemplate": "Cx=C18<br>planes-angle=%{x}<br>count=%{y}<extra></extra>",
         "legendgroup": "C18",
         "marker": {
          "color": "#B6E880"
         },
         "name": "C18",
         "nbinsx": 100,
         "offsetgroup": "C18",
         "orientation": "v",
         "showlegend": true,
         "type": "histogram",
         "x": [
          36.4793656256854,
          25.47533381791984,
          33.63219490265339,
          11.079061744490955,
          52.84657798267128,
          94.58493150547106,
          32.84724630641276,
          25.847485288296006,
          58.19207019453746,
          62.1663937585164,
          94.28965159018482,
          73.10399280738234,
          37.59189452003281,
          86.21743885931124,
          2.046804796543618,
          84.35127405225603,
          11.811284319954423,
          30.62016036510661,
          29.752269572151917,
          94.82567510212789,
          17.89874390138748,
          26.44338604790415,
          37.26320819466005,
          68.97226213338107,
          102.01914675324562,
          57.72297573766649,
          33.40481210514471,
          100.28178947559853,
          101.82684936299614,
          6.663375161947731,
          4.597606256580917,
          76.32494803112314
         ],
         "xaxis": "x",
         "yaxis": "y"
        },
        {
         "alignmentgroup": "True",
         "boxpoints": "all",
         "fillcolor": "rgba(255,255,255,0)",
         "hoveron": "points",
         "hovertemplate": "Cx=C18<br>planes-angle=%{x}<extra></extra>",
         "jitter": 0,
         "legendgroup": "C18",
         "line": {
          "color": "rgba(255,255,255,0)"
         },
         "marker": {
          "color": "#B6E880",
          "symbol": "line-ns-open"
         },
         "name": "C18",
         "offsetgroup": "C18",
         "showlegend": false,
         "type": "box",
         "x": [
          36.4793656256854,
          25.47533381791984,
          33.63219490265339,
          11.079061744490955,
          52.84657798267128,
          94.58493150547106,
          32.84724630641276,
          25.847485288296006,
          58.19207019453746,
          62.1663937585164,
          94.28965159018482,
          73.10399280738234,
          37.59189452003281,
          86.21743885931124,
          2.046804796543618,
          84.35127405225603,
          11.811284319954423,
          30.62016036510661,
          29.752269572151917,
          94.82567510212789,
          17.89874390138748,
          26.44338604790415,
          37.26320819466005,
          68.97226213338107,
          102.01914675324562,
          57.72297573766649,
          33.40481210514471,
          100.28178947559853,
          101.82684936299614,
          6.663375161947731,
          4.597606256580917,
          76.32494803112314
         ],
         "xaxis": "x2",
         "yaxis": "y2"
        },
        {
         "alignmentgroup": "True",
         "bingroup": "x",
         "hovertemplate": "Cx=O19<br>planes-angle=%{x}<br>count=%{y}<extra></extra>",
         "legendgroup": "O19",
         "marker": {
          "color": "#FF97FF"
         },
         "name": "O19",
         "nbinsx": 100,
         "offsetgroup": "O19",
         "orientation": "v",
         "showlegend": true,
         "type": "histogram",
         "x": [
          10.177698201184537,
          31.31545974640753,
          0.30924011094906223,
          3.33708796382989,
          149.46345391071236,
          6.3456585696269725,
          2.283780110495212,
          6.877410177668988,
          16.96125946349886,
          25.844423013961766,
          13.443906398314923,
          1.351953436669815,
          21.279820446644994,
          21.174361579363108,
          18.265290419708126,
          2.018877057043548,
          3.4803604963941455,
          4.49521972228892,
          11.991589752930167,
          36.46315275175382,
          1.635791938471468,
          11.094350106859716,
          2.6794092128183107,
          5.776216660760778,
          14.713264669632775,
          14.483474456862304,
          16.589078602751947,
          10.432423626020785,
          2.448342311953958,
          15.53694515716755,
          29.066571681455628,
          124.86950402364405
         ],
         "xaxis": "x",
         "yaxis": "y"
        },
        {
         "alignmentgroup": "True",
         "boxpoints": "all",
         "fillcolor": "rgba(255,255,255,0)",
         "hoveron": "points",
         "hovertemplate": "Cx=O19<br>planes-angle=%{x}<extra></extra>",
         "jitter": 0,
         "legendgroup": "O19",
         "line": {
          "color": "rgba(255,255,255,0)"
         },
         "marker": {
          "color": "#FF97FF",
          "symbol": "line-ns-open"
         },
         "name": "O19",
         "offsetgroup": "O19",
         "showlegend": false,
         "type": "box",
         "x": [
          10.177698201184537,
          31.31545974640753,
          0.30924011094906223,
          3.33708796382989,
          149.46345391071236,
          6.3456585696269725,
          2.283780110495212,
          6.877410177668988,
          16.96125946349886,
          25.844423013961766,
          13.443906398314923,
          1.351953436669815,
          21.279820446644994,
          21.174361579363108,
          18.265290419708126,
          2.018877057043548,
          3.4803604963941455,
          4.49521972228892,
          11.991589752930167,
          36.46315275175382,
          1.635791938471468,
          11.094350106859716,
          2.6794092128183107,
          5.776216660760778,
          14.713264669632775,
          14.483474456862304,
          16.589078602751947,
          10.432423626020785,
          2.448342311953958,
          15.53694515716755,
          29.066571681455628,
          124.86950402364405
         ],
         "xaxis": "x2",
         "yaxis": "y2"
        },
        {
         "alignmentgroup": "True",
         "bingroup": "x",
         "hovertemplate": "Cx=O20<br>planes-angle=%{x}<br>count=%{y}<extra></extra>",
         "legendgroup": "O20",
         "marker": {
          "color": "#FECB52"
         },
         "name": "O20",
         "nbinsx": 100,
         "offsetgroup": "O20",
         "orientation": "v",
         "showlegend": true,
         "type": "histogram",
         "x": [
          0,
          0,
          0,
          0,
          0,
          0,
          0,
          0,
          0,
          0,
          0,
          0,
          0,
          0,
          0,
          0,
          0,
          0,
          0,
          0,
          0,
          0,
          0,
          0,
          0,
          0,
          0,
          0,
          0,
          0,
          0,
          0
         ],
         "xaxis": "x",
         "yaxis": "y"
        },
        {
         "alignmentgroup": "True",
         "boxpoints": "all",
         "fillcolor": "rgba(255,255,255,0)",
         "hoveron": "points",
         "hovertemplate": "Cx=O20<br>planes-angle=%{x}<extra></extra>",
         "jitter": 0,
         "legendgroup": "O20",
         "line": {
          "color": "rgba(255,255,255,0)"
         },
         "marker": {
          "color": "#FECB52",
          "symbol": "line-ns-open"
         },
         "name": "O20",
         "offsetgroup": "O20",
         "showlegend": false,
         "type": "box",
         "x": [
          0,
          0,
          0,
          0,
          0,
          0,
          0,
          0,
          0,
          0,
          0,
          0,
          0,
          0,
          0,
          0,
          0,
          0,
          0,
          0,
          0,
          0,
          0,
          0,
          0,
          0,
          0,
          0,
          0,
          0,
          0,
          0
         ],
         "xaxis": "x2",
         "yaxis": "y2"
        },
        {
         "alignmentgroup": "True",
         "bingroup": "x",
         "hovertemplate": "Cx=H21<br>planes-angle=%{x}<br>count=%{y}<extra></extra>",
         "legendgroup": "H21",
         "marker": {
          "color": "#636efa"
         },
         "name": "H21",
         "nbinsx": 100,
         "offsetgroup": "H21",
         "orientation": "v",
         "showlegend": true,
         "type": "histogram",
         "x": [
          0,
          0,
          0,
          0,
          0,
          0,
          0,
          0,
          0,
          0,
          0,
          0,
          0,
          0,
          0,
          0,
          0,
          0,
          0,
          0,
          0,
          0,
          0,
          0,
          0,
          0,
          0,
          0,
          0,
          0,
          0,
          0
         ],
         "xaxis": "x",
         "yaxis": "y"
        },
        {
         "alignmentgroup": "True",
         "boxpoints": "all",
         "fillcolor": "rgba(255,255,255,0)",
         "hoveron": "points",
         "hovertemplate": "Cx=H21<br>planes-angle=%{x}<extra></extra>",
         "jitter": 0,
         "legendgroup": "H21",
         "line": {
          "color": "rgba(255,255,255,0)"
         },
         "marker": {
          "color": "#636efa",
          "symbol": "line-ns-open"
         },
         "name": "H21",
         "offsetgroup": "H21",
         "showlegend": false,
         "type": "box",
         "x": [
          0,
          0,
          0,
          0,
          0,
          0,
          0,
          0,
          0,
          0,
          0,
          0,
          0,
          0,
          0,
          0,
          0,
          0,
          0,
          0,
          0,
          0,
          0,
          0,
          0,
          0,
          0,
          0,
          0,
          0,
          0,
          0
         ],
         "xaxis": "x2",
         "yaxis": "y2"
        }
       ],
       "layout": {
        "barmode": "relative",
        "height": 800,
        "legend": {
         "title": {
          "text": "Cx"
         },
         "tracegroupgap": 0
        },
        "margin": {
         "t": 60
        },
        "template": {
         "data": {
          "bar": [
           {
            "error_x": {
             "color": "#2a3f5f"
            },
            "error_y": {
             "color": "#2a3f5f"
            },
            "marker": {
             "line": {
              "color": "#E5ECF6",
              "width": 0.5
             }
            },
            "type": "bar"
           }
          ],
          "barpolar": [
           {
            "marker": {
             "line": {
              "color": "#E5ECF6",
              "width": 0.5
             }
            },
            "type": "barpolar"
           }
          ],
          "carpet": [
           {
            "aaxis": {
             "endlinecolor": "#2a3f5f",
             "gridcolor": "white",
             "linecolor": "white",
             "minorgridcolor": "white",
             "startlinecolor": "#2a3f5f"
            },
            "baxis": {
             "endlinecolor": "#2a3f5f",
             "gridcolor": "white",
             "linecolor": "white",
             "minorgridcolor": "white",
             "startlinecolor": "#2a3f5f"
            },
            "type": "carpet"
           }
          ],
          "choropleth": [
           {
            "colorbar": {
             "outlinewidth": 0,
             "ticks": ""
            },
            "type": "choropleth"
           }
          ],
          "contour": [
           {
            "colorbar": {
             "outlinewidth": 0,
             "ticks": ""
            },
            "colorscale": [
             [
              0,
              "#0d0887"
             ],
             [
              0.1111111111111111,
              "#46039f"
             ],
             [
              0.2222222222222222,
              "#7201a8"
             ],
             [
              0.3333333333333333,
              "#9c179e"
             ],
             [
              0.4444444444444444,
              "#bd3786"
             ],
             [
              0.5555555555555556,
              "#d8576b"
             ],
             [
              0.6666666666666666,
              "#ed7953"
             ],
             [
              0.7777777777777778,
              "#fb9f3a"
             ],
             [
              0.8888888888888888,
              "#fdca26"
             ],
             [
              1,
              "#f0f921"
             ]
            ],
            "type": "contour"
           }
          ],
          "contourcarpet": [
           {
            "colorbar": {
             "outlinewidth": 0,
             "ticks": ""
            },
            "type": "contourcarpet"
           }
          ],
          "heatmap": [
           {
            "colorbar": {
             "outlinewidth": 0,
             "ticks": ""
            },
            "colorscale": [
             [
              0,
              "#0d0887"
             ],
             [
              0.1111111111111111,
              "#46039f"
             ],
             [
              0.2222222222222222,
              "#7201a8"
             ],
             [
              0.3333333333333333,
              "#9c179e"
             ],
             [
              0.4444444444444444,
              "#bd3786"
             ],
             [
              0.5555555555555556,
              "#d8576b"
             ],
             [
              0.6666666666666666,
              "#ed7953"
             ],
             [
              0.7777777777777778,
              "#fb9f3a"
             ],
             [
              0.8888888888888888,
              "#fdca26"
             ],
             [
              1,
              "#f0f921"
             ]
            ],
            "type": "heatmap"
           }
          ],
          "heatmapgl": [
           {
            "colorbar": {
             "outlinewidth": 0,
             "ticks": ""
            },
            "colorscale": [
             [
              0,
              "#0d0887"
             ],
             [
              0.1111111111111111,
              "#46039f"
             ],
             [
              0.2222222222222222,
              "#7201a8"
             ],
             [
              0.3333333333333333,
              "#9c179e"
             ],
             [
              0.4444444444444444,
              "#bd3786"
             ],
             [
              0.5555555555555556,
              "#d8576b"
             ],
             [
              0.6666666666666666,
              "#ed7953"
             ],
             [
              0.7777777777777778,
              "#fb9f3a"
             ],
             [
              0.8888888888888888,
              "#fdca26"
             ],
             [
              1,
              "#f0f921"
             ]
            ],
            "type": "heatmapgl"
           }
          ],
          "histogram": [
           {
            "marker": {
             "colorbar": {
              "outlinewidth": 0,
              "ticks": ""
             }
            },
            "type": "histogram"
           }
          ],
          "histogram2d": [
           {
            "colorbar": {
             "outlinewidth": 0,
             "ticks": ""
            },
            "colorscale": [
             [
              0,
              "#0d0887"
             ],
             [
              0.1111111111111111,
              "#46039f"
             ],
             [
              0.2222222222222222,
              "#7201a8"
             ],
             [
              0.3333333333333333,
              "#9c179e"
             ],
             [
              0.4444444444444444,
              "#bd3786"
             ],
             [
              0.5555555555555556,
              "#d8576b"
             ],
             [
              0.6666666666666666,
              "#ed7953"
             ],
             [
              0.7777777777777778,
              "#fb9f3a"
             ],
             [
              0.8888888888888888,
              "#fdca26"
             ],
             [
              1,
              "#f0f921"
             ]
            ],
            "type": "histogram2d"
           }
          ],
          "histogram2dcontour": [
           {
            "colorbar": {
             "outlinewidth": 0,
             "ticks": ""
            },
            "colorscale": [
             [
              0,
              "#0d0887"
             ],
             [
              0.1111111111111111,
              "#46039f"
             ],
             [
              0.2222222222222222,
              "#7201a8"
             ],
             [
              0.3333333333333333,
              "#9c179e"
             ],
             [
              0.4444444444444444,
              "#bd3786"
             ],
             [
              0.5555555555555556,
              "#d8576b"
             ],
             [
              0.6666666666666666,
              "#ed7953"
             ],
             [
              0.7777777777777778,
              "#fb9f3a"
             ],
             [
              0.8888888888888888,
              "#fdca26"
             ],
             [
              1,
              "#f0f921"
             ]
            ],
            "type": "histogram2dcontour"
           }
          ],
          "mesh3d": [
           {
            "colorbar": {
             "outlinewidth": 0,
             "ticks": ""
            },
            "type": "mesh3d"
           }
          ],
          "parcoords": [
           {
            "line": {
             "colorbar": {
              "outlinewidth": 0,
              "ticks": ""
             }
            },
            "type": "parcoords"
           }
          ],
          "pie": [
           {
            "automargin": true,
            "type": "pie"
           }
          ],
          "scatter": [
           {
            "marker": {
             "colorbar": {
              "outlinewidth": 0,
              "ticks": ""
             }
            },
            "type": "scatter"
           }
          ],
          "scatter3d": [
           {
            "line": {
             "colorbar": {
              "outlinewidth": 0,
              "ticks": ""
             }
            },
            "marker": {
             "colorbar": {
              "outlinewidth": 0,
              "ticks": ""
             }
            },
            "type": "scatter3d"
           }
          ],
          "scattercarpet": [
           {
            "marker": {
             "colorbar": {
              "outlinewidth": 0,
              "ticks": ""
             }
            },
            "type": "scattercarpet"
           }
          ],
          "scattergeo": [
           {
            "marker": {
             "colorbar": {
              "outlinewidth": 0,
              "ticks": ""
             }
            },
            "type": "scattergeo"
           }
          ],
          "scattergl": [
           {
            "marker": {
             "colorbar": {
              "outlinewidth": 0,
              "ticks": ""
             }
            },
            "type": "scattergl"
           }
          ],
          "scattermapbox": [
           {
            "marker": {
             "colorbar": {
              "outlinewidth": 0,
              "ticks": ""
             }
            },
            "type": "scattermapbox"
           }
          ],
          "scatterpolar": [
           {
            "marker": {
             "colorbar": {
              "outlinewidth": 0,
              "ticks": ""
             }
            },
            "type": "scatterpolar"
           }
          ],
          "scatterpolargl": [
           {
            "marker": {
             "colorbar": {
              "outlinewidth": 0,
              "ticks": ""
             }
            },
            "type": "scatterpolargl"
           }
          ],
          "scatterternary": [
           {
            "marker": {
             "colorbar": {
              "outlinewidth": 0,
              "ticks": ""
             }
            },
            "type": "scatterternary"
           }
          ],
          "surface": [
           {
            "colorbar": {
             "outlinewidth": 0,
             "ticks": ""
            },
            "colorscale": [
             [
              0,
              "#0d0887"
             ],
             [
              0.1111111111111111,
              "#46039f"
             ],
             [
              0.2222222222222222,
              "#7201a8"
             ],
             [
              0.3333333333333333,
              "#9c179e"
             ],
             [
              0.4444444444444444,
              "#bd3786"
             ],
             [
              0.5555555555555556,
              "#d8576b"
             ],
             [
              0.6666666666666666,
              "#ed7953"
             ],
             [
              0.7777777777777778,
              "#fb9f3a"
             ],
             [
              0.8888888888888888,
              "#fdca26"
             ],
             [
              1,
              "#f0f921"
             ]
            ],
            "type": "surface"
           }
          ],
          "table": [
           {
            "cells": {
             "fill": {
              "color": "#EBF0F8"
             },
             "line": {
              "color": "white"
             }
            },
            "header": {
             "fill": {
              "color": "#C8D4E3"
             },
             "line": {
              "color": "white"
             }
            },
            "type": "table"
           }
          ]
         },
         "layout": {
          "annotationdefaults": {
           "arrowcolor": "#2a3f5f",
           "arrowhead": 0,
           "arrowwidth": 1
          },
          "autotypenumbers": "strict",
          "coloraxis": {
           "colorbar": {
            "outlinewidth": 0,
            "ticks": ""
           }
          },
          "colorscale": {
           "diverging": [
            [
             0,
             "#8e0152"
            ],
            [
             0.1,
             "#c51b7d"
            ],
            [
             0.2,
             "#de77ae"
            ],
            [
             0.3,
             "#f1b6da"
            ],
            [
             0.4,
             "#fde0ef"
            ],
            [
             0.5,
             "#f7f7f7"
            ],
            [
             0.6,
             "#e6f5d0"
            ],
            [
             0.7,
             "#b8e186"
            ],
            [
             0.8,
             "#7fbc41"
            ],
            [
             0.9,
             "#4d9221"
            ],
            [
             1,
             "#276419"
            ]
           ],
           "sequential": [
            [
             0,
             "#0d0887"
            ],
            [
             0.1111111111111111,
             "#46039f"
            ],
            [
             0.2222222222222222,
             "#7201a8"
            ],
            [
             0.3333333333333333,
             "#9c179e"
            ],
            [
             0.4444444444444444,
             "#bd3786"
            ],
            [
             0.5555555555555556,
             "#d8576b"
            ],
            [
             0.6666666666666666,
             "#ed7953"
            ],
            [
             0.7777777777777778,
             "#fb9f3a"
            ],
            [
             0.8888888888888888,
             "#fdca26"
            ],
            [
             1,
             "#f0f921"
            ]
           ],
           "sequentialminus": [
            [
             0,
             "#0d0887"
            ],
            [
             0.1111111111111111,
             "#46039f"
            ],
            [
             0.2222222222222222,
             "#7201a8"
            ],
            [
             0.3333333333333333,
             "#9c179e"
            ],
            [
             0.4444444444444444,
             "#bd3786"
            ],
            [
             0.5555555555555556,
             "#d8576b"
            ],
            [
             0.6666666666666666,
             "#ed7953"
            ],
            [
             0.7777777777777778,
             "#fb9f3a"
            ],
            [
             0.8888888888888888,
             "#fdca26"
            ],
            [
             1,
             "#f0f921"
            ]
           ]
          },
          "colorway": [
           "#636efa",
           "#EF553B",
           "#00cc96",
           "#ab63fa",
           "#FFA15A",
           "#19d3f3",
           "#FF6692",
           "#B6E880",
           "#FF97FF",
           "#FECB52"
          ],
          "font": {
           "color": "#2a3f5f"
          },
          "geo": {
           "bgcolor": "white",
           "lakecolor": "white",
           "landcolor": "#E5ECF6",
           "showlakes": true,
           "showland": true,
           "subunitcolor": "white"
          },
          "hoverlabel": {
           "align": "left"
          },
          "hovermode": "closest",
          "mapbox": {
           "style": "light"
          },
          "paper_bgcolor": "white",
          "plot_bgcolor": "#E5ECF6",
          "polar": {
           "angularaxis": {
            "gridcolor": "white",
            "linecolor": "white",
            "ticks": ""
           },
           "bgcolor": "#E5ECF6",
           "radialaxis": {
            "gridcolor": "white",
            "linecolor": "white",
            "ticks": ""
           }
          },
          "scene": {
           "xaxis": {
            "backgroundcolor": "#E5ECF6",
            "gridcolor": "white",
            "gridwidth": 2,
            "linecolor": "white",
            "showbackground": true,
            "ticks": "",
            "zerolinecolor": "white"
           },
           "yaxis": {
            "backgroundcolor": "#E5ECF6",
            "gridcolor": "white",
            "gridwidth": 2,
            "linecolor": "white",
            "showbackground": true,
            "ticks": "",
            "zerolinecolor": "white"
           },
           "zaxis": {
            "backgroundcolor": "#E5ECF6",
            "gridcolor": "white",
            "gridwidth": 2,
            "linecolor": "white",
            "showbackground": true,
            "ticks": "",
            "zerolinecolor": "white"
           }
          },
          "shapedefaults": {
           "line": {
            "color": "#2a3f5f"
           }
          },
          "ternary": {
           "aaxis": {
            "gridcolor": "white",
            "linecolor": "white",
            "ticks": ""
           },
           "baxis": {
            "gridcolor": "white",
            "linecolor": "white",
            "ticks": ""
           },
           "bgcolor": "#E5ECF6",
           "caxis": {
            "gridcolor": "white",
            "linecolor": "white",
            "ticks": ""
           }
          },
          "title": {
           "x": 0.05
          },
          "xaxis": {
           "automargin": true,
           "gridcolor": "white",
           "linecolor": "white",
           "ticks": "",
           "title": {
            "standoff": 15
           },
           "zerolinecolor": "white",
           "zerolinewidth": 2
          },
          "yaxis": {
           "automargin": true,
           "gridcolor": "white",
           "linecolor": "white",
           "ticks": "",
           "title": {
            "standoff": 15
           },
           "zerolinecolor": "white",
           "zerolinewidth": 2
          }
         }
        },
        "title": {
         "text": "planes-angle, sample size: 32"
        },
        "width": 1200,
        "xaxis": {
         "anchor": "y",
         "autorange": true,
         "domain": [
          0,
          1
         ],
         "range": [
          -9.97443121983963,
          189.51419317695294
         ],
         "title": {
          "text": "planes-angle"
         },
         "type": "linear"
        },
        "xaxis2": {
         "anchor": "y2",
         "autorange": true,
         "domain": [
          0,
          1
         ],
         "matches": "x",
         "range": [
          -9.97443121983963,
          189.51419317695294
         ],
         "showgrid": true,
         "showticklabels": false,
         "type": "linear"
        },
        "yaxis": {
         "anchor": "x",
         "autorange": true,
         "domain": [
          0,
          0.7326
         ],
         "range": [
          0,
          151.57894736842104
         ],
         "title": {
          "text": "count"
         }
        },
        "yaxis2": {
         "anchor": "x2",
         "autorange": true,
         "domain": [
          0.7426,
          1
         ],
         "matches": "y2",
         "range": [
          -0.8775077299201841,
          20.5
         ],
         "showgrid": false,
         "showline": false,
         "showticklabels": false,
         "ticks": "",
         "type": "category"
        }
       }
      },
      "image/png": "[encoded data removed]",
      "text/html": [
       "<div>                            <div id=\"41debfd4-1f58-4b99-9374-7d1751481054\" class=\"plotly-graph-div\" style=\"height:800px; width:1200px;\"></div>            <script type=\"text/javascript\">                require([\"plotly\"], function(Plotly) {                    window.PLOTLYENV=window.PLOTLYENV || {};                                    if (document.getElementById(\"41debfd4-1f58-4b99-9374-7d1751481054\")) {                    Plotly.newPlot(                        \"41debfd4-1f58-4b99-9374-7d1751481054\",                        [{\"alignmentgroup\": \"True\", \"bingroup\": \"x\", \"hovertemplate\": \"Cx=C1<br>planes-angle=%{x}<br>count=%{y}<extra></extra>\", \"legendgroup\": \"C1\", \"marker\": {\"color\": \"#636efa\"}, \"name\": \"C1\", \"nbinsx\": 100, \"offsetgroup\": \"C1\", \"orientation\": \"v\", \"showlegend\": true, \"type\": \"histogram\", \"x\": [0.0, 0.0, 0.0, 0.0, 0.0, 0.0, 0.0, 0.0, 0.0, 0.0, 0.0, 0.0, 0.0, 0.0, 0.0, 0.0, 0.0, 0.0, 0.0, 0.0, 0.0, 0.0, 0.0, 0.0, 0.0, 0.0, 0.0, 0.0, 0.0, 0.0, 0.0, 0.0], \"xaxis\": \"x\", \"yaxis\": \"y\"}, {\"alignmentgroup\": \"True\", \"boxpoints\": \"all\", \"fillcolor\": \"rgba(255,255,255,0)\", \"hoveron\": \"points\", \"hovertemplate\": \"Cx=C1<br>planes-angle=%{x}<extra></extra>\", \"jitter\": 0, \"legendgroup\": \"C1\", \"line\": {\"color\": \"rgba(255,255,255,0)\"}, \"marker\": {\"color\": \"#636efa\", \"symbol\": \"line-ns-open\"}, \"name\": \"C1\", \"offsetgroup\": \"C1\", \"showlegend\": false, \"type\": \"box\", \"x\": [0.0, 0.0, 0.0, 0.0, 0.0, 0.0, 0.0, 0.0, 0.0, 0.0, 0.0, 0.0, 0.0, 0.0, 0.0, 0.0, 0.0, 0.0, 0.0, 0.0, 0.0, 0.0, 0.0, 0.0, 0.0, 0.0, 0.0, 0.0, 0.0, 0.0, 0.0, 0.0], \"xaxis\": \"x2\", \"yaxis\": \"y2\"}, {\"alignmentgroup\": \"True\", \"bingroup\": \"x\", \"hovertemplate\": \"Cx=C2<br>planes-angle=%{x}<br>count=%{y}<extra></extra>\", \"legendgroup\": \"C2\", \"marker\": {\"color\": \"#EF553B\"}, \"name\": \"C2\", \"nbinsx\": 100, \"offsetgroup\": \"C2\", \"orientation\": \"v\", \"showlegend\": true, \"type\": \"histogram\", \"x\": [0.0, 0.0, 0.0, 0.0, 0.0, 0.0, 0.0, 0.0, 0.0, 0.0, 0.0, 0.0, 0.0, 0.0, 0.0, 0.0, 0.0, 0.0, 0.0, 0.0, 0.0, 0.0, 0.0, 0.0, 0.0, 0.0, 0.0, 0.0, 0.0, 0.0, 0.0, 0.0], \"xaxis\": \"x\", \"yaxis\": \"y\"}, {\"alignmentgroup\": \"True\", \"boxpoints\": \"all\", \"fillcolor\": \"rgba(255,255,255,0)\", \"hoveron\": \"points\", \"hovertemplate\": \"Cx=C2<br>planes-angle=%{x}<extra></extra>\", \"jitter\": 0, \"legendgroup\": \"C2\", \"line\": {\"color\": \"rgba(255,255,255,0)\"}, \"marker\": {\"color\": \"#EF553B\", \"symbol\": \"line-ns-open\"}, \"name\": \"C2\", \"offsetgroup\": \"C2\", \"showlegend\": false, \"type\": \"box\", \"x\": [0.0, 0.0, 0.0, 0.0, 0.0, 0.0, 0.0, 0.0, 0.0, 0.0, 0.0, 0.0, 0.0, 0.0, 0.0, 0.0, 0.0, 0.0, 0.0, 0.0, 0.0, 0.0, 0.0, 0.0, 0.0, 0.0, 0.0, 0.0, 0.0, 0.0, 0.0, 0.0], \"xaxis\": \"x2\", \"yaxis\": \"y2\"}, {\"alignmentgroup\": \"True\", \"bingroup\": \"x\", \"hovertemplate\": \"Cx=C3<br>planes-angle=%{x}<br>count=%{y}<extra></extra>\", \"legendgroup\": \"C3\", \"marker\": {\"color\": \"#00cc96\"}, \"name\": \"C3\", \"nbinsx\": 100, \"offsetgroup\": \"C3\", \"orientation\": \"v\", \"showlegend\": true, \"type\": \"histogram\", \"x\": [5.0752401857045335, 49.39678579036255, 6.396204557165845, 7.831542332896593, 177.28788223695506, 11.651737087737759, 19.98486552318265, 21.62631274894957, 44.474140181554255, 17.962054090985713, 10.678557788822985, 48.24145376633247, 119.3502666101807, 14.240794112111159, 5.203581694612689, 14.916092191735766, 24.36226306997635, 5.18951099016764, 16.261779762047983, 66.58447683955313, 126.01257730373987, 25.0293736700705, 9.831985964307353, 0.4869264429566376, 9.883854448406584, 14.312748617235803, 4.150032404459484, 15.300900163186487, 13.359094746965212, 2.46147028824865, 9.89721211721696, 18.655988243086245], \"xaxis\": \"x\", \"yaxis\": \"y\"}, {\"alignmentgroup\": \"True\", \"boxpoints\": \"all\", \"fillcolor\": \"rgba(255,255,255,0)\", \"hoveron\": \"points\", \"hovertemplate\": \"Cx=C3<br>planes-angle=%{x}<extra></extra>\", \"jitter\": 0, \"legendgroup\": \"C3\", \"line\": {\"color\": \"rgba(255,255,255,0)\"}, \"marker\": {\"color\": \"#00cc96\", \"symbol\": \"line-ns-open\"}, \"name\": \"C3\", \"offsetgroup\": \"C3\", \"showlegend\": false, \"type\": \"box\", \"x\": [5.0752401857045335, 49.39678579036255, 6.396204557165845, 7.831542332896593, 177.28788223695506, 11.651737087737759, 19.98486552318265, 21.62631274894957, 44.474140181554255, 17.962054090985713, 10.678557788822985, 48.24145376633247, 119.3502666101807, 14.240794112111159, 5.203581694612689, 14.916092191735766, 24.36226306997635, 5.18951099016764, 16.261779762047983, 66.58447683955313, 126.01257730373987, 25.0293736700705, 9.831985964307353, 0.4869264429566376, 9.883854448406584, 14.312748617235803, 4.150032404459484, 15.300900163186487, 13.359094746965212, 2.46147028824865, 9.89721211721696, 18.655988243086245], \"xaxis\": \"x2\", \"yaxis\": \"y2\"}, {\"alignmentgroup\": \"True\", \"bingroup\": \"x\", \"hovertemplate\": \"Cx=C4<br>planes-angle=%{x}<br>count=%{y}<extra></extra>\", \"legendgroup\": \"C4\", \"marker\": {\"color\": \"#ab63fa\"}, \"name\": \"C4\", \"nbinsx\": 100, \"offsetgroup\": \"C4\", \"orientation\": \"v\", \"showlegend\": true, \"type\": \"histogram\", \"x\": [9.337507821903682, 21.505526966841842, 15.709872597475913, 10.64529072778764, 20.973966833810106, 3.5358238300475087, 91.45934803387554, 11.186748225989588, 89.20849573315617, 4.285195904784297, 7.879373360467215, 120.030627973139, 11.033707788895073, 1.0577411895786009, 23.525390030900564, 2.1491558941727895, 118.78415836201492, 8.825320085938102, 9.731325082210493, 17.747113621976, 15.338528638209759, 138.14877635290173, 22.971983211148427, 13.61971415748099, 22.969304219253743, 12.768695620404255, 8.629574743329716, 23.55546121363617, 6.689248329863712, 11.210014933181341, 26.22845366729835, 15.43499030037771], \"xaxis\": \"x\", \"yaxis\": \"y\"}, {\"alignmentgroup\": \"True\", \"boxpoints\": \"all\", \"fillcolor\": \"rgba(255,255,255,0)\", \"hoveron\": \"points\", \"hovertemplate\": \"Cx=C4<br>planes-angle=%{x}<extra></extra>\", \"jitter\": 0, \"legendgroup\": \"C4\", \"line\": {\"color\": \"rgba(255,255,255,0)\"}, \"marker\": {\"color\": \"#ab63fa\", \"symbol\": \"line-ns-open\"}, \"name\": \"C4\", \"offsetgroup\": \"C4\", \"showlegend\": false, \"type\": \"box\", \"x\": [9.337507821903682, 21.505526966841842, 15.709872597475913, 10.64529072778764, 20.973966833810106, 3.5358238300475087, 91.45934803387554, 11.186748225989588, 89.20849573315617, 4.285195904784297, 7.879373360467215, 120.030627973139, 11.033707788895073, 1.0577411895786009, 23.525390030900564, 2.1491558941727895, 118.78415836201492, 8.825320085938102, 9.731325082210493, 17.747113621976, 15.338528638209759, 138.14877635290173, 22.971983211148427, 13.61971415748099, 22.969304219253743, 12.768695620404255, 8.629574743329716, 23.55546121363617, 6.689248329863712, 11.210014933181341, 26.22845366729835, 15.43499030037771], \"xaxis\": \"x2\", \"yaxis\": \"y2\"}, {\"alignmentgroup\": \"True\", \"bingroup\": \"x\", \"hovertemplate\": \"Cx=C5<br>planes-angle=%{x}<br>count=%{y}<extra></extra>\", \"legendgroup\": \"C5\", \"marker\": {\"color\": \"#FFA15A\"}, \"name\": \"C5\", \"nbinsx\": 100, \"offsetgroup\": \"C5\", \"orientation\": \"v\", \"showlegend\": true, \"type\": \"histogram\", \"x\": [24.06868354543322, 26.62307280482183, 27.235815473544672, 0.3615585024361373, 98.19929174217718, 10.418445191006155, 19.81906033992049, 17.64594931235791, 30.34173419299797, 3.292224860913819, 41.427943400553175, 8.190459811553236, 14.050691675910246, 13.290732654553455, 37.41362945837924, 21.96757127319586, 1.079138724035423, 5.516335834489194, 0.4416237869706, 22.331075484936928, 27.625624185556024, 9.822777715623207, 91.59640953761125, 14.244514529831553, 21.844900393353896, 26.858942388736992, 16.32850845593522, 22.799946939082087, 1.0147538486032883, 24.048411414978336, 26.617789831086714, 36.344093081241624], \"xaxis\": \"x\", \"yaxis\": \"y\"}, {\"alignmentgroup\": \"True\", \"boxpoints\": \"all\", \"fillcolor\": \"rgba(255,255,255,0)\", \"hoveron\": \"points\", \"hovertemplate\": \"Cx=C5<br>planes-angle=%{x}<extra></extra>\", \"jitter\": 0, \"legendgroup\": \"C5\", \"line\": {\"color\": \"rgba(255,255,255,0)\"}, \"marker\": {\"color\": \"#FFA15A\", \"symbol\": \"line-ns-open\"}, \"name\": \"C5\", \"offsetgroup\": \"C5\", \"showlegend\": false, \"type\": \"box\", \"x\": [24.06868354543322, 26.62307280482183, 27.235815473544672, 0.3615585024361373, 98.19929174217718, 10.418445191006155, 19.81906033992049, 17.64594931235791, 30.34173419299797, 3.292224860913819, 41.427943400553175, 8.190459811553236, 14.050691675910246, 13.290732654553455, 37.41362945837924, 21.96757127319586, 1.079138724035423, 5.516335834489194, 0.4416237869706, 22.331075484936928, 27.625624185556024, 9.822777715623207, 91.59640953761125, 14.244514529831553, 21.844900393353896, 26.858942388736992, 16.32850845593522, 22.799946939082087, 1.0147538486032883, 24.048411414978336, 26.617789831086714, 36.344093081241624], \"xaxis\": \"x2\", \"yaxis\": \"y2\"}, {\"alignmentgroup\": \"True\", \"bingroup\": \"x\", \"hovertemplate\": \"Cx=C6<br>planes-angle=%{x}<br>count=%{y}<extra></extra>\", \"legendgroup\": \"C6\", \"marker\": {\"color\": \"#19d3f3\"}, \"name\": \"C6\", \"nbinsx\": 100, \"offsetgroup\": \"C6\", \"orientation\": \"v\", \"showlegend\": true, \"type\": \"histogram\", \"x\": [113.98343750358713, 13.126714908945496, 34.92416465079918, 30.616309272208348, 32.03060359497405, 20.60761683774085, 24.788324083621653, 146.14189358993687, 15.888714690466443, 6.445744050868835, 24.36501948023678, 2.0697142890786457, 17.12408979810166, 8.058342604035081, 16.355708594070048, 1.12608538695569, 1.2692397943765774, 8.98539651378353, 3.9136329711268063, 0.26974860473192297, 4.501288018541801, 1.3567165668214707, 16.721939647236226, 12.076886944019108, 12.21781998819671, 19.837613274543333, 6.774262068913225, 8.180583312246576, 6.059091114058915, 55.83268173486531, 13.036507597814923, 37.49658173833761], \"xaxis\": \"x\", \"yaxis\": \"y\"}, {\"alignmentgroup\": \"True\", \"boxpoints\": \"all\", \"fillcolor\": \"rgba(255,255,255,0)\", \"hoveron\": \"points\", \"hovertemplate\": \"Cx=C6<br>planes-angle=%{x}<extra></extra>\", \"jitter\": 0, \"legendgroup\": \"C6\", \"line\": {\"color\": \"rgba(255,255,255,0)\"}, \"marker\": {\"color\": \"#19d3f3\", \"symbol\": \"line-ns-open\"}, \"name\": \"C6\", \"offsetgroup\": \"C6\", \"showlegend\": false, \"type\": \"box\", \"x\": [113.98343750358713, 13.126714908945496, 34.92416465079918, 30.616309272208348, 32.03060359497405, 20.60761683774085, 24.788324083621653, 146.14189358993687, 15.888714690466443, 6.445744050868835, 24.36501948023678, 2.0697142890786457, 17.12408979810166, 8.058342604035081, 16.355708594070048, 1.12608538695569, 1.2692397943765774, 8.98539651378353, 3.9136329711268063, 0.26974860473192297, 4.501288018541801, 1.3567165668214707, 16.721939647236226, 12.076886944019108, 12.21781998819671, 19.837613274543333, 6.774262068913225, 8.180583312246576, 6.059091114058915, 55.83268173486531, 13.036507597814923, 37.49658173833761], \"xaxis\": \"x2\", \"yaxis\": \"y2\"}, {\"alignmentgroup\": \"True\", \"bingroup\": \"x\", \"hovertemplate\": \"Cx=C7<br>planes-angle=%{x}<br>count=%{y}<extra></extra>\", \"legendgroup\": \"C7\", \"marker\": {\"color\": \"#FF6692\"}, \"name\": \"C7\", \"nbinsx\": 100, \"offsetgroup\": \"C7\", \"orientation\": \"v\", \"showlegend\": true, \"type\": \"histogram\", \"x\": [9.021707178622725, 8.459597491620974, 2.4013744846145855, 0.44537355939187256, 12.83221070385218, 48.35222646935281, 43.20220485334097, 34.14268977490616, 32.44769956424673, 15.276479813483823, 26.07200812903283, 5.399859245731231, 3.20577022496204, 8.98312395301096, 53.16895844141718, 21.497084198988844, 4.6246049921926184, 20.415618595270274, 16.942505544025064, 3.013524054835279, 12.699524084062409, 8.220788456016148, 26.757639017891037, 0.44979521153963176, 11.162001457971916, 32.93707122426302, 22.387968285818438, 35.819910729695096, 21.275657476507668, 32.28711801061072, 0.3281673126067205, 9.737221061258754], \"xaxis\": \"x\", \"yaxis\": \"y\"}, {\"alignmentgroup\": \"True\", \"boxpoints\": \"all\", \"fillcolor\": \"rgba(255,255,255,0)\", \"hoveron\": \"points\", \"hovertemplate\": \"Cx=C7<br>planes-angle=%{x}<extra></extra>\", \"jitter\": 0, \"legendgroup\": \"C7\", \"line\": {\"color\": \"rgba(255,255,255,0)\"}, \"marker\": {\"color\": \"#FF6692\", \"symbol\": \"line-ns-open\"}, \"name\": \"C7\", \"offsetgroup\": \"C7\", \"showlegend\": false, \"type\": \"box\", \"x\": [9.021707178622725, 8.459597491620974, 2.4013744846145855, 0.44537355939187256, 12.83221070385218, 48.35222646935281, 43.20220485334097, 34.14268977490616, 32.44769956424673, 15.276479813483823, 26.07200812903283, 5.399859245731231, 3.20577022496204, 8.98312395301096, 53.16895844141718, 21.497084198988844, 4.6246049921926184, 20.415618595270274, 16.942505544025064, 3.013524054835279, 12.699524084062409, 8.220788456016148, 26.757639017891037, 0.44979521153963176, 11.162001457971916, 32.93707122426302, 22.387968285818438, 35.819910729695096, 21.275657476507668, 32.28711801061072, 0.3281673126067205, 9.737221061258754], \"xaxis\": \"x2\", \"yaxis\": \"y2\"}, {\"alignmentgroup\": \"True\", \"bingroup\": \"x\", \"hovertemplate\": \"Cx=C8<br>planes-angle=%{x}<br>count=%{y}<extra></extra>\", \"legendgroup\": \"C8\", \"marker\": {\"color\": \"#B6E880\"}, \"name\": \"C8\", \"nbinsx\": 100, \"offsetgroup\": \"C8\", \"orientation\": \"v\", \"showlegend\": true, \"type\": \"histogram\", \"x\": [11.185341324456951, 5.643437458225066, 8.410531072599106, 9.593232963050172, 5.69726264637292, 43.11936822538231, 29.846755785585678, 14.225246219716551, 110.11030325081836, 20.926750700951654, 22.51507823079541, 1.847893461347684, 20.456121571507644, 0.6958781414502875, 138.3665385604605, 29.352400748164108, 6.204234011243543, 17.477910021507295, 26.191246915216816, 11.776974315698117, 2.54101141405471, 3.0642499074110923, 9.618717811796742, 11.169893812368173, 7.137025272958375, 62.9665335516196, 8.55215193605886, 5.949204893081031, 6.789327726504348, 9.278251470913546, 2.0254525858139014, 4.599133807515254], \"xaxis\": \"x\", \"yaxis\": \"y\"}, {\"alignmentgroup\": \"True\", \"boxpoints\": \"all\", \"fillcolor\": \"rgba(255,255,255,0)\", \"hoveron\": \"points\", \"hovertemplate\": \"Cx=C8<br>planes-angle=%{x}<extra></extra>\", \"jitter\": 0, \"legendgroup\": \"C8\", \"line\": {\"color\": \"rgba(255,255,255,0)\"}, \"marker\": {\"color\": \"#B6E880\", \"symbol\": \"line-ns-open\"}, \"name\": \"C8\", \"offsetgroup\": \"C8\", \"showlegend\": false, \"type\": \"box\", \"x\": [11.185341324456951, 5.643437458225066, 8.410531072599106, 9.593232963050172, 5.69726264637292, 43.11936822538231, 29.846755785585678, 14.225246219716551, 110.11030325081836, 20.926750700951654, 22.51507823079541, 1.847893461347684, 20.456121571507644, 0.6958781414502875, 138.3665385604605, 29.352400748164108, 6.204234011243543, 17.477910021507295, 26.191246915216816, 11.776974315698117, 2.54101141405471, 3.0642499074110923, 9.618717811796742, 11.169893812368173, 7.137025272958375, 62.9665335516196, 8.55215193605886, 5.949204893081031, 6.789327726504348, 9.278251470913546, 2.0254525858139014, 4.599133807515254], \"xaxis\": \"x2\", \"yaxis\": \"y2\"}, {\"alignmentgroup\": \"True\", \"bingroup\": \"x\", \"hovertemplate\": \"Cx=C9<br>planes-angle=%{x}<br>count=%{y}<extra></extra>\", \"legendgroup\": \"C9\", \"marker\": {\"color\": \"#FF97FF\"}, \"name\": \"C9\", \"nbinsx\": 100, \"offsetgroup\": \"C9\", \"orientation\": \"v\", \"showlegend\": true, \"type\": \"histogram\", \"x\": [20.41932213463101, 16.42398505251853, 10.00901760962016, 4.743819442293361, 100.14690773355062, 8.60224746625901, 19.902921826860037, 17.21005616469909, 3.3139925783635875, 4.0080240956732585, 10.895438557327802, 2.011444282450882, 23.59593500912513, 15.579882927477698, 0.7958867906504417, 6.584156140161651, 1.1016970967199138, 4.609714039534793, 9.65887662634037, 7.83917019972521, 4.124288973982869, 2.240285961418647, 17.60522242723741, 0.7727667648987395, 13.650517341705354, 8.541774329409435, 22.600519695707536, 39.74757855292929, 3.821807892644544, 1.8210397555458266, 2.6506098859025453, 9.731753933376384], \"xaxis\": \"x\", \"yaxis\": \"y\"}, {\"alignmentgroup\": \"True\", \"boxpoints\": \"all\", \"fillcolor\": \"rgba(255,255,255,0)\", \"hoveron\": \"points\", \"hovertemplate\": \"Cx=C9<br>planes-angle=%{x}<extra></extra>\", \"jitter\": 0, \"legendgroup\": \"C9\", \"line\": {\"color\": \"rgba(255,255,255,0)\"}, \"marker\": {\"color\": \"#FF97FF\", \"symbol\": \"line-ns-open\"}, \"name\": \"C9\", \"offsetgroup\": \"C9\", \"showlegend\": false, \"type\": \"box\", \"x\": [20.41932213463101, 16.42398505251853, 10.00901760962016, 4.743819442293361, 100.14690773355062, 8.60224746625901, 19.902921826860037, 17.21005616469909, 3.3139925783635875, 4.0080240956732585, 10.895438557327802, 2.011444282450882, 23.59593500912513, 15.579882927477698, 0.7958867906504417, 6.584156140161651, 1.1016970967199138, 4.609714039534793, 9.65887662634037, 7.83917019972521, 4.124288973982869, 2.240285961418647, 17.60522242723741, 0.7727667648987395, 13.650517341705354, 8.541774329409435, 22.600519695707536, 39.74757855292929, 3.821807892644544, 1.8210397555458266, 2.6506098859025453, 9.731753933376384], \"xaxis\": \"x2\", \"yaxis\": \"y2\"}, {\"alignmentgroup\": \"True\", \"bingroup\": \"x\", \"hovertemplate\": \"Cx=C10<br>planes-angle=%{x}<br>count=%{y}<extra></extra>\", \"legendgroup\": \"C10\", \"marker\": {\"color\": \"#FECB52\"}, \"name\": \"C10\", \"nbinsx\": 100, \"offsetgroup\": \"C10\", \"orientation\": \"v\", \"showlegend\": true, \"type\": \"histogram\", \"x\": [162.4843615243251, 153.34934747568033, 157.24847925155777, 164.73272741496717, 149.34536792631758, 157.71310070404255, 171.9839667712965, 163.85596058442547, 167.87093637754842, 162.10337363732833, 171.1794060378969, 152.93178842153202, 177.2391761909687, 175.47474305997116, 177.51062124593835, 172.25396061739346, 147.83521135325296, 162.47533678864548, 150.3375600162247, 163.31522666477497, 152.47884359180546, 179.1107975888868, 178.56302561785995, 175.86003656407692, 159.3191993270639, 161.3741421711646, 160.70509249481145, 134.9939364297434, 163.48538914758063, 172.6499110298623, 172.57764658500486, 161.96978940082235], \"xaxis\": \"x\", \"yaxis\": \"y\"}, {\"alignmentgroup\": \"True\", \"boxpoints\": \"all\", \"fillcolor\": \"rgba(255,255,255,0)\", \"hoveron\": \"points\", \"hovertemplate\": \"Cx=C10<br>planes-angle=%{x}<extra></extra>\", \"jitter\": 0, \"legendgroup\": \"C10\", \"line\": {\"color\": \"rgba(255,255,255,0)\"}, \"marker\": {\"color\": \"#FECB52\", \"symbol\": \"line-ns-open\"}, \"name\": \"C10\", \"offsetgroup\": \"C10\", \"showlegend\": false, \"type\": \"box\", \"x\": [162.4843615243251, 153.34934747568033, 157.24847925155777, 164.73272741496717, 149.34536792631758, 157.71310070404255, 171.9839667712965, 163.85596058442547, 167.87093637754842, 162.10337363732833, 171.1794060378969, 152.93178842153202, 177.2391761909687, 175.47474305997116, 177.51062124593835, 172.25396061739346, 147.83521135325296, 162.47533678864548, 150.3375600162247, 163.31522666477497, 152.47884359180546, 179.1107975888868, 178.56302561785995, 175.86003656407692, 159.3191993270639, 161.3741421711646, 160.70509249481145, 134.9939364297434, 163.48538914758063, 172.6499110298623, 172.57764658500486, 161.96978940082235], \"xaxis\": \"x2\", \"yaxis\": \"y2\"}, {\"alignmentgroup\": \"True\", \"bingroup\": \"x\", \"hovertemplate\": \"Cx=C11<br>planes-angle=%{x}<br>count=%{y}<extra></extra>\", \"legendgroup\": \"C11\", \"marker\": {\"color\": \"#636efa\"}, \"name\": \"C11\", \"nbinsx\": 100, \"offsetgroup\": \"C11\", \"orientation\": \"v\", \"showlegend\": true, \"type\": \"histogram\", \"x\": [21.414981101465816, 3.9085761815256586, 23.442219950310996, 1.6876927160645112, 13.088725965346619, 18.748161271593958, 6.410516988895182, 9.613605778595382, 14.156310807029161, 14.974846875270378, 5.943466516400092, 3.938101543654267, 1.3494236493432998, 2.4126459803030094, 4.572259842118794, 0.10748040630499998, 16.395351676775498, 34.596343738975875, 8.421087857331646, 25.834281154842895, 33.57970596523335, 9.887629152877688, 16.22171943355895, 5.8345534971888195, 8.787595269792721, 18.731088675537833, 9.515864416374699, 4.886007690247431, 30.737732451714404, 4.761542805442925, 1.5196456382079477, 1.6367045955964956], \"xaxis\": \"x\", \"yaxis\": \"y\"}, {\"alignmentgroup\": \"True\", \"boxpoints\": \"all\", \"fillcolor\": \"rgba(255,255,255,0)\", \"hoveron\": \"points\", \"hovertemplate\": \"Cx=C11<br>planes-angle=%{x}<extra></extra>\", \"jitter\": 0, \"legendgroup\": \"C11\", \"line\": {\"color\": \"rgba(255,255,255,0)\"}, \"marker\": {\"color\": \"#636efa\", \"symbol\": \"line-ns-open\"}, \"name\": \"C11\", \"offsetgroup\": \"C11\", \"showlegend\": false, \"type\": \"box\", \"x\": [21.414981101465816, 3.9085761815256586, 23.442219950310996, 1.6876927160645112, 13.088725965346619, 18.748161271593958, 6.410516988895182, 9.613605778595382, 14.156310807029161, 14.974846875270378, 5.943466516400092, 3.938101543654267, 1.3494236493432998, 2.4126459803030094, 4.572259842118794, 0.10748040630499998, 16.395351676775498, 34.596343738975875, 8.421087857331646, 25.834281154842895, 33.57970596523335, 9.887629152877688, 16.22171943355895, 5.8345534971888195, 8.787595269792721, 18.731088675537833, 9.515864416374699, 4.886007690247431, 30.737732451714404, 4.761542805442925, 1.5196456382079477, 1.6367045955964956], \"xaxis\": \"x2\", \"yaxis\": \"y2\"}, {\"alignmentgroup\": \"True\", \"bingroup\": \"x\", \"hovertemplate\": \"Cx=C12<br>planes-angle=%{x}<br>count=%{y}<extra></extra>\", \"legendgroup\": \"C12\", \"marker\": {\"color\": \"#EF553B\"}, \"name\": \"C12\", \"nbinsx\": 100, \"offsetgroup\": \"C12\", \"orientation\": \"v\", \"showlegend\": true, \"type\": \"histogram\", \"x\": [110.28199570553022, 4.306244510021293, 12.783474622169903, 179.5397619571133, 1.1279377410757394, 16.96667075381164, 15.293222450828361, 21.34184329084751, 15.816842880911569, 34.99278760089075, 17.89751611231161, 9.028543996692196, 0.5181969499903305, 12.85403155139986, 1.5701549539460098, 13.244036693536328, 1.3671622056039912, 30.81008390565402, 11.016530259026155, 2.4297500675477317, 15.551543796488101, 7.653728934958783, 2.119447649098106, 12.921891330543644, 15.431376843767001, 2.8536777645584523, 9.903797133350123, 18.627928577885875, 37.81645068189119, 3.9621672836149187, 28.741032067800955, 11.449068195446962], \"xaxis\": \"x\", \"yaxis\": \"y\"}, {\"alignmentgroup\": \"True\", \"boxpoints\": \"all\", \"fillcolor\": \"rgba(255,255,255,0)\", \"hoveron\": \"points\", \"hovertemplate\": \"Cx=C12<br>planes-angle=%{x}<extra></extra>\", \"jitter\": 0, \"legendgroup\": \"C12\", \"line\": {\"color\": \"rgba(255,255,255,0)\"}, \"marker\": {\"color\": \"#EF553B\", \"symbol\": \"line-ns-open\"}, \"name\": \"C12\", \"offsetgroup\": \"C12\", \"showlegend\": false, \"type\": \"box\", \"x\": [110.28199570553022, 4.306244510021293, 12.783474622169903, 179.5397619571133, 1.1279377410757394, 16.96667075381164, 15.293222450828361, 21.34184329084751, 15.816842880911569, 34.99278760089075, 17.89751611231161, 9.028543996692196, 0.5181969499903305, 12.85403155139986, 1.5701549539460098, 13.244036693536328, 1.3671622056039912, 30.81008390565402, 11.016530259026155, 2.4297500675477317, 15.551543796488101, 7.653728934958783, 2.119447649098106, 12.921891330543644, 15.431376843767001, 2.8536777645584523, 9.903797133350123, 18.627928577885875, 37.81645068189119, 3.9621672836149187, 28.741032067800955, 11.449068195446962], \"xaxis\": \"x2\", \"yaxis\": \"y2\"}, {\"alignmentgroup\": \"True\", \"bingroup\": \"x\", \"hovertemplate\": \"Cx=C13<br>planes-angle=%{x}<br>count=%{y}<extra></extra>\", \"legendgroup\": \"C13\", \"marker\": {\"color\": \"#00cc96\"}, \"name\": \"C13\", \"nbinsx\": 100, \"offsetgroup\": \"C13\", \"orientation\": \"v\", \"showlegend\": true, \"type\": \"histogram\", \"x\": [4.79101535635928, 1.6830551094590924, 0.43701117923801386, 146.28346581828285, 15.524461393214947, 1.9188070796379253, 2.3942365440304427, 6.1653636905690785, 9.569161352775357, 22.717251027470294, 29.938962337582147, 4.955405098359872, 10.8788315488771, 2.221794277563029, 8.242271681436021, 9.722599011420945, 8.935526886430015, 20.148978011646822, 16.378066973020942, 11.998269523094464, 144.66600893968155, 3.354229773698771, 21.39165848353753, 16.828235159202666, 9.006127769377343, 9.982454100258773, 2.062617070593941, 15.67999732021487, 4.081821232953509, 0.283711661043602, 16.062497140754072, 1.9939726428323028], \"xaxis\": \"x\", \"yaxis\": \"y\"}, {\"alignmentgroup\": \"True\", \"boxpoints\": \"all\", \"fillcolor\": \"rgba(255,255,255,0)\", \"hoveron\": \"points\", \"hovertemplate\": \"Cx=C13<br>planes-angle=%{x}<extra></extra>\", \"jitter\": 0, \"legendgroup\": \"C13\", \"line\": {\"color\": \"rgba(255,255,255,0)\"}, \"marker\": {\"color\": \"#00cc96\", \"symbol\": \"line-ns-open\"}, \"name\": \"C13\", \"offsetgroup\": \"C13\", \"showlegend\": false, \"type\": \"box\", \"x\": [4.79101535635928, 1.6830551094590924, 0.43701117923801386, 146.28346581828285, 15.524461393214947, 1.9188070796379253, 2.3942365440304427, 6.1653636905690785, 9.569161352775357, 22.717251027470294, 29.938962337582147, 4.955405098359872, 10.8788315488771, 2.221794277563029, 8.242271681436021, 9.722599011420945, 8.935526886430015, 20.148978011646822, 16.378066973020942, 11.998269523094464, 144.66600893968155, 3.354229773698771, 21.39165848353753, 16.828235159202666, 9.006127769377343, 9.982454100258773, 2.062617070593941, 15.67999732021487, 4.081821232953509, 0.283711661043602, 16.062497140754072, 1.9939726428323028], \"xaxis\": \"x2\", \"yaxis\": \"y2\"}, {\"alignmentgroup\": \"True\", \"bingroup\": \"x\", \"hovertemplate\": \"Cx=C14<br>planes-angle=%{x}<br>count=%{y}<extra></extra>\", \"legendgroup\": \"C14\", \"marker\": {\"color\": \"#ab63fa\"}, \"name\": \"C14\", \"nbinsx\": 100, \"offsetgroup\": \"C14\", \"orientation\": \"v\", \"showlegend\": true, \"type\": \"histogram\", \"x\": [3.42182987699, 2.0405088093849932, 18.895509335376605, 58.299436264273865, 11.27653295257384, 8.479002981120784, 1.015414362308758, 13.389555567070595, 8.412885651808503, 8.448445619260623, 24.66076984896903, 5.997231442874885, 16.442790044682894, 9.406780053785331, 23.464203043574578, 11.047595127130295, 13.564593452745104, 15.52594008433494, 3.027677096620481, 7.764510058041327, 45.031027109582034, 26.167711495389252, 32.64043310685459, 132.62964805035807, 10.616372913944236, 7.658361374884702, 18.633019551861192, 11.831105117374042, 29.648511379707063, 6.025451070523246, 11.447424233610594, 9.42709858010786], \"xaxis\": \"x\", \"yaxis\": \"y\"}, {\"alignmentgroup\": \"True\", \"boxpoints\": \"all\", \"fillcolor\": \"rgba(255,255,255,0)\", \"hoveron\": \"points\", \"hovertemplate\": \"Cx=C14<br>planes-angle=%{x}<extra></extra>\", \"jitter\": 0, \"legendgroup\": \"C14\", \"line\": {\"color\": \"rgba(255,255,255,0)\"}, \"marker\": {\"color\": \"#ab63fa\", \"symbol\": \"line-ns-open\"}, \"name\": \"C14\", \"offsetgroup\": \"C14\", \"showlegend\": false, \"type\": \"box\", \"x\": [3.42182987699, 2.0405088093849932, 18.895509335376605, 58.299436264273865, 11.27653295257384, 8.479002981120784, 1.015414362308758, 13.389555567070595, 8.412885651808503, 8.448445619260623, 24.66076984896903, 5.997231442874885, 16.442790044682894, 9.406780053785331, 23.464203043574578, 11.047595127130295, 13.564593452745104, 15.52594008433494, 3.027677096620481, 7.764510058041327, 45.031027109582034, 26.167711495389252, 32.64043310685459, 132.62964805035807, 10.616372913944236, 7.658361374884702, 18.633019551861192, 11.831105117374042, 29.648511379707063, 6.025451070523246, 11.447424233610594, 9.42709858010786], \"xaxis\": \"x2\", \"yaxis\": \"y2\"}, {\"alignmentgroup\": \"True\", \"bingroup\": \"x\", \"hovertemplate\": \"Cx=C15<br>planes-angle=%{x}<br>count=%{y}<extra></extra>\", \"legendgroup\": \"C15\", \"marker\": {\"color\": \"#FFA15A\"}, \"name\": \"C15\", \"nbinsx\": 100, \"offsetgroup\": \"C15\", \"orientation\": \"v\", \"showlegend\": true, \"type\": \"histogram\", \"x\": [19.89081875349787, 32.3048786138408, 18.43346784167183, 139.9966414458934, 35.41612207294829, 7.357997115027071, 10.122474156998488, 20.21259493182142, 20.567571854200093, 3.6924396992190403, 5.141069156362983, 1.4266668444141835, 6.902487270812178, 33.88944749558126, 15.450637564273446, 10.293797159454115, 1.7470534658082388, 6.006394160140006, 12.600378975175907, 12.103947052575906, 136.30167208027916, 12.96522295946161, 15.54379297987153, 24.826803745972615, 5.267408842629563, 4.192185819489166, 4.001575016122474, 8.982360364601771, 118.22698806115729, 12.725420110112191, 1.9501218950736696, 18.51664314842762], \"xaxis\": \"x\", \"yaxis\": \"y\"}, {\"alignmentgroup\": \"True\", \"boxpoints\": \"all\", \"fillcolor\": \"rgba(255,255,255,0)\", \"hoveron\": \"points\", \"hovertemplate\": \"Cx=C15<br>planes-angle=%{x}<extra></extra>\", \"jitter\": 0, \"legendgroup\": \"C15\", \"line\": {\"color\": \"rgba(255,255,255,0)\"}, \"marker\": {\"color\": \"#FFA15A\", \"symbol\": \"line-ns-open\"}, \"name\": \"C15\", \"offsetgroup\": \"C15\", \"showlegend\": false, \"type\": \"box\", \"x\": [19.89081875349787, 32.3048786138408, 18.43346784167183, 139.9966414458934, 35.41612207294829, 7.357997115027071, 10.122474156998488, 20.21259493182142, 20.567571854200093, 3.6924396992190403, 5.141069156362983, 1.4266668444141835, 6.902487270812178, 33.88944749558126, 15.450637564273446, 10.293797159454115, 1.7470534658082388, 6.006394160140006, 12.600378975175907, 12.103947052575906, 136.30167208027916, 12.96522295946161, 15.54379297987153, 24.826803745972615, 5.267408842629563, 4.192185819489166, 4.001575016122474, 8.982360364601771, 118.22698806115729, 12.725420110112191, 1.9501218950736696, 18.51664314842762], \"xaxis\": \"x2\", \"yaxis\": \"y2\"}, {\"alignmentgroup\": \"True\", \"bingroup\": \"x\", \"hovertemplate\": \"Cx=C16<br>planes-angle=%{x}<br>count=%{y}<extra></extra>\", \"legendgroup\": \"C16\", \"marker\": {\"color\": \"#19d3f3\"}, \"name\": \"C16\", \"nbinsx\": 100, \"offsetgroup\": \"C16\", \"orientation\": \"v\", \"showlegend\": true, \"type\": \"histogram\", \"x\": [7.943553075826324, 28.005941183175196, 18.912312626337172, 8.826203757009402, 40.108669981814664, 19.528969234927366, 2.5205423697742373, 5.13663975130218, 52.748723639792004, 5.617957048488763, 11.037775276198259, 12.010092787761044, 8.701361647314426, 19.45591013118858, 9.248751779357933, 3.0466738060041174, 0.8987799775960463, 15.991941614814678, 5.941274940303827, 2.095040258911015, 2.6532784441637633, 46.31759779400084, 38.781949467614425, 6.204182100524133, 39.71368133082247, 15.612827959895656, 30.787672702415055, 9.53867329813931, 31.817064614764586, 7.0759751097935775, 6.966079994443286, 16.477935440236884], \"xaxis\": \"x\", \"yaxis\": \"y\"}, {\"alignmentgroup\": \"True\", \"boxpoints\": \"all\", \"fillcolor\": \"rgba(255,255,255,0)\", \"hoveron\": \"points\", \"hovertemplate\": \"Cx=C16<br>planes-angle=%{x}<extra></extra>\", \"jitter\": 0, \"legendgroup\": \"C16\", \"line\": {\"color\": \"rgba(255,255,255,0)\"}, \"marker\": {\"color\": \"#19d3f3\", \"symbol\": \"line-ns-open\"}, \"name\": \"C16\", \"offsetgroup\": \"C16\", \"showlegend\": false, \"type\": \"box\", \"x\": [7.943553075826324, 28.005941183175196, 18.912312626337172, 8.826203757009402, 40.108669981814664, 19.528969234927366, 2.5205423697742373, 5.13663975130218, 52.748723639792004, 5.617957048488763, 11.037775276198259, 12.010092787761044, 8.701361647314426, 19.45591013118858, 9.248751779357933, 3.0466738060041174, 0.8987799775960463, 15.991941614814678, 5.941274940303827, 2.095040258911015, 2.6532784441637633, 46.31759779400084, 38.781949467614425, 6.204182100524133, 39.71368133082247, 15.612827959895656, 30.787672702415055, 9.53867329813931, 31.817064614764586, 7.0759751097935775, 6.966079994443286, 16.477935440236884], \"xaxis\": \"x2\", \"yaxis\": \"y2\"}, {\"alignmentgroup\": \"True\", \"bingroup\": \"x\", \"hovertemplate\": \"Cx=C17<br>planes-angle=%{x}<br>count=%{y}<extra></extra>\", \"legendgroup\": \"C17\", \"marker\": {\"color\": \"#FF6692\"}, \"name\": \"C17\", \"nbinsx\": 100, \"offsetgroup\": \"C17\", \"orientation\": \"v\", \"showlegend\": true, \"type\": \"histogram\", \"x\": [16.76951155930411, 19.26636046714439, 33.78442311438314, 4.325402017160361, 170.67955052310637, 34.108143918078156, 6.448009175969258, 18.15318058273767, 98.09139544262685, 19.270509878658654, 41.15370029906954, 25.84402964829584, 15.726200033485618, 22.353357092252313, 5.217011572104453, 29.23226363413463, 14.346787457802737, 25.16946186440372, 6.623349097914986, 132.22457273664625, 16.45484598349539, 106.06344460705336, 97.83775686977822, 38.108401162395865, 111.21912061842292, 25.51593165541725, 103.89325577246346, 20.61219268649576, 9.28247428543329, 21.79187832224332, 19.216054035748567, 40.14360918879033], \"xaxis\": \"x\", \"yaxis\": \"y\"}, {\"alignmentgroup\": \"True\", \"boxpoints\": \"all\", \"fillcolor\": \"rgba(255,255,255,0)\", \"hoveron\": \"points\", \"hovertemplate\": \"Cx=C17<br>planes-angle=%{x}<extra></extra>\", \"jitter\": 0, \"legendgroup\": \"C17\", \"line\": {\"color\": \"rgba(255,255,255,0)\"}, \"marker\": {\"color\": \"#FF6692\", \"symbol\": \"line-ns-open\"}, \"name\": \"C17\", \"offsetgroup\": \"C17\", \"showlegend\": false, \"type\": \"box\", \"x\": [16.76951155930411, 19.26636046714439, 33.78442311438314, 4.325402017160361, 170.67955052310637, 34.108143918078156, 6.448009175969258, 18.15318058273767, 98.09139544262685, 19.270509878658654, 41.15370029906954, 25.84402964829584, 15.726200033485618, 22.353357092252313, 5.217011572104453, 29.23226363413463, 14.346787457802737, 25.16946186440372, 6.623349097914986, 132.22457273664625, 16.45484598349539, 106.06344460705336, 97.83775686977822, 38.108401162395865, 111.21912061842292, 25.51593165541725, 103.89325577246346, 20.61219268649576, 9.28247428543329, 21.79187832224332, 19.216054035748567, 40.14360918879033], \"xaxis\": \"x2\", \"yaxis\": \"y2\"}, {\"alignmentgroup\": \"True\", \"bingroup\": \"x\", \"hovertemplate\": \"Cx=C18<br>planes-angle=%{x}<br>count=%{y}<extra></extra>\", \"legendgroup\": \"C18\", \"marker\": {\"color\": \"#B6E880\"}, \"name\": \"C18\", \"nbinsx\": 100, \"offsetgroup\": \"C18\", \"orientation\": \"v\", \"showlegend\": true, \"type\": \"histogram\", \"x\": [36.4793656256854, 25.47533381791984, 33.63219490265339, 11.079061744490955, 52.84657798267128, 94.58493150547106, 32.84724630641276, 25.847485288296006, 58.19207019453746, 62.1663937585164, 94.28965159018482, 73.10399280738234, 37.59189452003281, 86.21743885931124, 2.046804796543618, 84.35127405225603, 11.811284319954423, 30.62016036510661, 29.752269572151917, 94.82567510212789, 17.89874390138748, 26.44338604790415, 37.26320819466005, 68.97226213338107, 102.01914675324562, 57.72297573766649, 33.40481210514471, 100.28178947559853, 101.82684936299614, 6.663375161947731, 4.597606256580917, 76.32494803112314], \"xaxis\": \"x\", \"yaxis\": \"y\"}, {\"alignmentgroup\": \"True\", \"boxpoints\": \"all\", \"fillcolor\": \"rgba(255,255,255,0)\", \"hoveron\": \"points\", \"hovertemplate\": \"Cx=C18<br>planes-angle=%{x}<extra></extra>\", \"jitter\": 0, \"legendgroup\": \"C18\", \"line\": {\"color\": \"rgba(255,255,255,0)\"}, \"marker\": {\"color\": \"#B6E880\", \"symbol\": \"line-ns-open\"}, \"name\": \"C18\", \"offsetgroup\": \"C18\", \"showlegend\": false, \"type\": \"box\", \"x\": [36.4793656256854, 25.47533381791984, 33.63219490265339, 11.079061744490955, 52.84657798267128, 94.58493150547106, 32.84724630641276, 25.847485288296006, 58.19207019453746, 62.1663937585164, 94.28965159018482, 73.10399280738234, 37.59189452003281, 86.21743885931124, 2.046804796543618, 84.35127405225603, 11.811284319954423, 30.62016036510661, 29.752269572151917, 94.82567510212789, 17.89874390138748, 26.44338604790415, 37.26320819466005, 68.97226213338107, 102.01914675324562, 57.72297573766649, 33.40481210514471, 100.28178947559853, 101.82684936299614, 6.663375161947731, 4.597606256580917, 76.32494803112314], \"xaxis\": \"x2\", \"yaxis\": \"y2\"}, {\"alignmentgroup\": \"True\", \"bingroup\": \"x\", \"hovertemplate\": \"Cx=O19<br>planes-angle=%{x}<br>count=%{y}<extra></extra>\", \"legendgroup\": \"O19\", \"marker\": {\"color\": \"#FF97FF\"}, \"name\": \"O19\", \"nbinsx\": 100, \"offsetgroup\": \"O19\", \"orientation\": \"v\", \"showlegend\": true, \"type\": \"histogram\", \"x\": [10.177698201184537, 31.31545974640753, 0.30924011094906223, 3.33708796382989, 149.46345391071236, 6.3456585696269725, 2.283780110495212, 6.877410177668988, 16.96125946349886, 25.844423013961766, 13.443906398314923, 1.351953436669815, 21.279820446644994, 21.174361579363108, 18.265290419708126, 2.018877057043548, 3.4803604963941455, 4.49521972228892, 11.991589752930167, 36.46315275175382, 1.635791938471468, 11.094350106859716, 2.6794092128183107, 5.776216660760778, 14.713264669632775, 14.483474456862304, 16.589078602751947, 10.432423626020785, 2.448342311953958, 15.53694515716755, 29.066571681455628, 124.86950402364405], \"xaxis\": \"x\", \"yaxis\": \"y\"}, {\"alignmentgroup\": \"True\", \"boxpoints\": \"all\", \"fillcolor\": \"rgba(255,255,255,0)\", \"hoveron\": \"points\", \"hovertemplate\": \"Cx=O19<br>planes-angle=%{x}<extra></extra>\", \"jitter\": 0, \"legendgroup\": \"O19\", \"line\": {\"color\": \"rgba(255,255,255,0)\"}, \"marker\": {\"color\": \"#FF97FF\", \"symbol\": \"line-ns-open\"}, \"name\": \"O19\", \"offsetgroup\": \"O19\", \"showlegend\": false, \"type\": \"box\", \"x\": [10.177698201184537, 31.31545974640753, 0.30924011094906223, 3.33708796382989, 149.46345391071236, 6.3456585696269725, 2.283780110495212, 6.877410177668988, 16.96125946349886, 25.844423013961766, 13.443906398314923, 1.351953436669815, 21.279820446644994, 21.174361579363108, 18.265290419708126, 2.018877057043548, 3.4803604963941455, 4.49521972228892, 11.991589752930167, 36.46315275175382, 1.635791938471468, 11.094350106859716, 2.6794092128183107, 5.776216660760778, 14.713264669632775, 14.483474456862304, 16.589078602751947, 10.432423626020785, 2.448342311953958, 15.53694515716755, 29.066571681455628, 124.86950402364405], \"xaxis\": \"x2\", \"yaxis\": \"y2\"}, {\"alignmentgroup\": \"True\", \"bingroup\": \"x\", \"hovertemplate\": \"Cx=O20<br>planes-angle=%{x}<br>count=%{y}<extra></extra>\", \"legendgroup\": \"O20\", \"marker\": {\"color\": \"#FECB52\"}, \"name\": \"O20\", \"nbinsx\": 100, \"offsetgroup\": \"O20\", \"orientation\": \"v\", \"showlegend\": true, \"type\": \"histogram\", \"x\": [0.0, 0.0, 0.0, 0.0, 0.0, 0.0, 0.0, 0.0, 0.0, 0.0, 0.0, 0.0, 0.0, 0.0, 0.0, 0.0, 0.0, 0.0, 0.0, 0.0, 0.0, 0.0, 0.0, 0.0, 0.0, 0.0, 0.0, 0.0, 0.0, 0.0, 0.0, 0.0], \"xaxis\": \"x\", \"yaxis\": \"y\"}, {\"alignmentgroup\": \"True\", \"boxpoints\": \"all\", \"fillcolor\": \"rgba(255,255,255,0)\", \"hoveron\": \"points\", \"hovertemplate\": \"Cx=O20<br>planes-angle=%{x}<extra></extra>\", \"jitter\": 0, \"legendgroup\": \"O20\", \"line\": {\"color\": \"rgba(255,255,255,0)\"}, \"marker\": {\"color\": \"#FECB52\", \"symbol\": \"line-ns-open\"}, \"name\": \"O20\", \"offsetgroup\": \"O20\", \"showlegend\": false, \"type\": \"box\", \"x\": [0.0, 0.0, 0.0, 0.0, 0.0, 0.0, 0.0, 0.0, 0.0, 0.0, 0.0, 0.0, 0.0, 0.0, 0.0, 0.0, 0.0, 0.0, 0.0, 0.0, 0.0, 0.0, 0.0, 0.0, 0.0, 0.0, 0.0, 0.0, 0.0, 0.0, 0.0, 0.0], \"xaxis\": \"x2\", \"yaxis\": \"y2\"}, {\"alignmentgroup\": \"True\", \"bingroup\": \"x\", \"hovertemplate\": \"Cx=H21<br>planes-angle=%{x}<br>count=%{y}<extra></extra>\", \"legendgroup\": \"H21\", \"marker\": {\"color\": \"#636efa\"}, \"name\": \"H21\", \"nbinsx\": 100, \"offsetgroup\": \"H21\", \"orientation\": \"v\", \"showlegend\": true, \"type\": \"histogram\", \"x\": [0.0, 0.0, 0.0, 0.0, 0.0, 0.0, 0.0, 0.0, 0.0, 0.0, 0.0, 0.0, 0.0, 0.0, 0.0, 0.0, 0.0, 0.0, 0.0, 0.0, 0.0, 0.0, 0.0, 0.0, 0.0, 0.0, 0.0, 0.0, 0.0, 0.0, 0.0, 0.0], \"xaxis\": \"x\", \"yaxis\": \"y\"}, {\"alignmentgroup\": \"True\", \"boxpoints\": \"all\", \"fillcolor\": \"rgba(255,255,255,0)\", \"hoveron\": \"points\", \"hovertemplate\": \"Cx=H21<br>planes-angle=%{x}<extra></extra>\", \"jitter\": 0, \"legendgroup\": \"H21\", \"line\": {\"color\": \"rgba(255,255,255,0)\"}, \"marker\": {\"color\": \"#636efa\", \"symbol\": \"line-ns-open\"}, \"name\": \"H21\", \"offsetgroup\": \"H21\", \"showlegend\": false, \"type\": \"box\", \"x\": [0.0, 0.0, 0.0, 0.0, 0.0, 0.0, 0.0, 0.0, 0.0, 0.0, 0.0, 0.0, 0.0, 0.0, 0.0, 0.0, 0.0, 0.0, 0.0, 0.0, 0.0, 0.0, 0.0, 0.0, 0.0, 0.0, 0.0, 0.0, 0.0, 0.0, 0.0, 0.0], \"xaxis\": \"x2\", \"yaxis\": \"y2\"}],                        {\"barmode\": \"relative\", \"height\": 800, \"legend\": {\"title\": {\"text\": \"Cx\"}, \"tracegroupgap\": 0}, \"margin\": {\"t\": 60}, \"template\": {\"data\": {\"bar\": [{\"error_x\": {\"color\": \"#2a3f5f\"}, \"error_y\": {\"color\": \"#2a3f5f\"}, \"marker\": {\"line\": {\"color\": \"#E5ECF6\", \"width\": 0.5}}, \"type\": \"bar\"}], \"barpolar\": [{\"marker\": {\"line\": {\"color\": \"#E5ECF6\", \"width\": 0.5}}, \"type\": \"barpolar\"}], \"carpet\": [{\"aaxis\": {\"endlinecolor\": \"#2a3f5f\", \"gridcolor\": \"white\", \"linecolor\": \"white\", \"minorgridcolor\": \"white\", \"startlinecolor\": \"#2a3f5f\"}, \"baxis\": {\"endlinecolor\": \"#2a3f5f\", \"gridcolor\": \"white\", \"linecolor\": \"white\", \"minorgridcolor\": \"white\", \"startlinecolor\": \"#2a3f5f\"}, \"type\": \"carpet\"}], \"choropleth\": [{\"colorbar\": {\"outlinewidth\": 0, \"ticks\": \"\"}, \"type\": \"choropleth\"}], \"contour\": [{\"colorbar\": {\"outlinewidth\": 0, \"ticks\": \"\"}, \"colorscale\": [[0.0, \"#0d0887\"], [0.1111111111111111, \"#46039f\"], [0.2222222222222222, \"#7201a8\"], [0.3333333333333333, \"#9c179e\"], [0.4444444444444444, \"#bd3786\"], [0.5555555555555556, \"#d8576b\"], [0.6666666666666666, \"#ed7953\"], [0.7777777777777778, \"#fb9f3a\"], [0.8888888888888888, \"#fdca26\"], [1.0, \"#f0f921\"]], \"type\": \"contour\"}], \"contourcarpet\": [{\"colorbar\": {\"outlinewidth\": 0, \"ticks\": \"\"}, \"type\": \"contourcarpet\"}], \"heatmap\": [{\"colorbar\": {\"outlinewidth\": 0, \"ticks\": \"\"}, \"colorscale\": [[0.0, \"#0d0887\"], [0.1111111111111111, \"#46039f\"], [0.2222222222222222, \"#7201a8\"], [0.3333333333333333, \"#9c179e\"], [0.4444444444444444, \"#bd3786\"], [0.5555555555555556, \"#d8576b\"], [0.6666666666666666, \"#ed7953\"], [0.7777777777777778, \"#fb9f3a\"], [0.8888888888888888, \"#fdca26\"], [1.0, \"#f0f921\"]], \"type\": \"heatmap\"}], \"heatmapgl\": [{\"colorbar\": {\"outlinewidth\": 0, \"ticks\": \"\"}, \"colorscale\": [[0.0, \"#0d0887\"], [0.1111111111111111, \"#46039f\"], [0.2222222222222222, \"#7201a8\"], [0.3333333333333333, \"#9c179e\"], [0.4444444444444444, \"#bd3786\"], [0.5555555555555556, \"#d8576b\"], [0.6666666666666666, \"#ed7953\"], [0.7777777777777778, \"#fb9f3a\"], [0.8888888888888888, \"#fdca26\"], [1.0, \"#f0f921\"]], \"type\": \"heatmapgl\"}], \"histogram\": [{\"marker\": {\"colorbar\": {\"outlinewidth\": 0, \"ticks\": \"\"}}, \"type\": \"histogram\"}], \"histogram2d\": [{\"colorbar\": {\"outlinewidth\": 0, \"ticks\": \"\"}, \"colorscale\": [[0.0, \"#0d0887\"], [0.1111111111111111, \"#46039f\"], [0.2222222222222222, \"#7201a8\"], [0.3333333333333333, \"#9c179e\"], [0.4444444444444444, \"#bd3786\"], [0.5555555555555556, \"#d8576b\"], [0.6666666666666666, \"#ed7953\"], [0.7777777777777778, \"#fb9f3a\"], [0.8888888888888888, \"#fdca26\"], [1.0, \"#f0f921\"]], \"type\": \"histogram2d\"}], \"histogram2dcontour\": [{\"colorbar\": {\"outlinewidth\": 0, \"ticks\": \"\"}, \"colorscale\": [[0.0, \"#0d0887\"], [0.1111111111111111, \"#46039f\"], [0.2222222222222222, \"#7201a8\"], [0.3333333333333333, \"#9c179e\"], [0.4444444444444444, \"#bd3786\"], [0.5555555555555556, \"#d8576b\"], [0.6666666666666666, \"#ed7953\"], [0.7777777777777778, \"#fb9f3a\"], [0.8888888888888888, \"#fdca26\"], [1.0, \"#f0f921\"]], \"type\": \"histogram2dcontour\"}], \"mesh3d\": [{\"colorbar\": {\"outlinewidth\": 0, \"ticks\": \"\"}, \"type\": \"mesh3d\"}], \"parcoords\": [{\"line\": {\"colorbar\": {\"outlinewidth\": 0, \"ticks\": \"\"}}, \"type\": \"parcoords\"}], \"pie\": [{\"automargin\": true, \"type\": \"pie\"}], \"scatter\": [{\"marker\": {\"colorbar\": {\"outlinewidth\": 0, \"ticks\": \"\"}}, \"type\": \"scatter\"}], \"scatter3d\": [{\"line\": {\"colorbar\": {\"outlinewidth\": 0, \"ticks\": \"\"}}, \"marker\": {\"colorbar\": {\"outlinewidth\": 0, \"ticks\": \"\"}}, \"type\": \"scatter3d\"}], \"scattercarpet\": [{\"marker\": {\"colorbar\": {\"outlinewidth\": 0, \"ticks\": \"\"}}, \"type\": \"scattercarpet\"}], \"scattergeo\": [{\"marker\": {\"colorbar\": {\"outlinewidth\": 0, \"ticks\": \"\"}}, \"type\": \"scattergeo\"}], \"scattergl\": [{\"marker\": {\"colorbar\": {\"outlinewidth\": 0, \"ticks\": \"\"}}, \"type\": \"scattergl\"}], \"scattermapbox\": [{\"marker\": {\"colorbar\": {\"outlinewidth\": 0, \"ticks\": \"\"}}, \"type\": \"scattermapbox\"}], \"scatterpolar\": [{\"marker\": {\"colorbar\": {\"outlinewidth\": 0, \"ticks\": \"\"}}, \"type\": \"scatterpolar\"}], \"scatterpolargl\": [{\"marker\": {\"colorbar\": {\"outlinewidth\": 0, \"ticks\": \"\"}}, \"type\": \"scatterpolargl\"}], \"scatterternary\": [{\"marker\": {\"colorbar\": {\"outlinewidth\": 0, \"ticks\": \"\"}}, \"type\": \"scatterternary\"}], \"surface\": [{\"colorbar\": {\"outlinewidth\": 0, \"ticks\": \"\"}, \"colorscale\": [[0.0, \"#0d0887\"], [0.1111111111111111, \"#46039f\"], [0.2222222222222222, \"#7201a8\"], [0.3333333333333333, \"#9c179e\"], [0.4444444444444444, \"#bd3786\"], [0.5555555555555556, \"#d8576b\"], [0.6666666666666666, \"#ed7953\"], [0.7777777777777778, \"#fb9f3a\"], [0.8888888888888888, \"#fdca26\"], [1.0, \"#f0f921\"]], \"type\": \"surface\"}], \"table\": [{\"cells\": {\"fill\": {\"color\": \"#EBF0F8\"}, \"line\": {\"color\": \"white\"}}, \"header\": {\"fill\": {\"color\": \"#C8D4E3\"}, \"line\": {\"color\": \"white\"}}, \"type\": \"table\"}]}, \"layout\": {\"annotationdefaults\": {\"arrowcolor\": \"#2a3f5f\", \"arrowhead\": 0, \"arrowwidth\": 1}, \"autotypenumbers\": \"strict\", \"coloraxis\": {\"colorbar\": {\"outlinewidth\": 0, \"ticks\": \"\"}}, \"colorscale\": {\"diverging\": [[0, \"#8e0152\"], [0.1, \"#c51b7d\"], [0.2, \"#de77ae\"], [0.3, \"#f1b6da\"], [0.4, \"#fde0ef\"], [0.5, \"#f7f7f7\"], [0.6, \"#e6f5d0\"], [0.7, \"#b8e186\"], [0.8, \"#7fbc41\"], [0.9, \"#4d9221\"], [1, \"#276419\"]], \"sequential\": [[0.0, \"#0d0887\"], [0.1111111111111111, \"#46039f\"], [0.2222222222222222, \"#7201a8\"], [0.3333333333333333, \"#9c179e\"], [0.4444444444444444, \"#bd3786\"], [0.5555555555555556, \"#d8576b\"], [0.6666666666666666, \"#ed7953\"], [0.7777777777777778, \"#fb9f3a\"], [0.8888888888888888, \"#fdca26\"], [1.0, \"#f0f921\"]], \"sequentialminus\": [[0.0, \"#0d0887\"], [0.1111111111111111, \"#46039f\"], [0.2222222222222222, \"#7201a8\"], [0.3333333333333333, \"#9c179e\"], [0.4444444444444444, \"#bd3786\"], [0.5555555555555556, \"#d8576b\"], [0.6666666666666666, \"#ed7953\"], [0.7777777777777778, \"#fb9f3a\"], [0.8888888888888888, \"#fdca26\"], [1.0, \"#f0f921\"]]}, \"colorway\": [\"#636efa\", \"#EF553B\", \"#00cc96\", \"#ab63fa\", \"#FFA15A\", \"#19d3f3\", \"#FF6692\", \"#B6E880\", \"#FF97FF\", \"#FECB52\"], \"font\": {\"color\": \"#2a3f5f\"}, \"geo\": {\"bgcolor\": \"white\", \"lakecolor\": \"white\", \"landcolor\": \"#E5ECF6\", \"showlakes\": true, \"showland\": true, \"subunitcolor\": \"white\"}, \"hoverlabel\": {\"align\": \"left\"}, \"hovermode\": \"closest\", \"mapbox\": {\"style\": \"light\"}, \"paper_bgcolor\": \"white\", \"plot_bgcolor\": \"#E5ECF6\", \"polar\": {\"angularaxis\": {\"gridcolor\": \"white\", \"linecolor\": \"white\", \"ticks\": \"\"}, \"bgcolor\": \"#E5ECF6\", \"radialaxis\": {\"gridcolor\": \"white\", \"linecolor\": \"white\", \"ticks\": \"\"}}, \"scene\": {\"xaxis\": {\"backgroundcolor\": \"#E5ECF6\", \"gridcolor\": \"white\", \"gridwidth\": 2, \"linecolor\": \"white\", \"showbackground\": true, \"ticks\": \"\", \"zerolinecolor\": \"white\"}, \"yaxis\": {\"backgroundcolor\": \"#E5ECF6\", \"gridcolor\": \"white\", \"gridwidth\": 2, \"linecolor\": \"white\", \"showbackground\": true, \"ticks\": \"\", \"zerolinecolor\": \"white\"}, \"zaxis\": {\"backgroundcolor\": \"#E5ECF6\", \"gridcolor\": \"white\", \"gridwidth\": 2, \"linecolor\": \"white\", \"showbackground\": true, \"ticks\": \"\", \"zerolinecolor\": \"white\"}}, \"shapedefaults\": {\"line\": {\"color\": \"#2a3f5f\"}}, \"ternary\": {\"aaxis\": {\"gridcolor\": \"white\", \"linecolor\": \"white\", \"ticks\": \"\"}, \"baxis\": {\"gridcolor\": \"white\", \"linecolor\": \"white\", \"ticks\": \"\"}, \"bgcolor\": \"#E5ECF6\", \"caxis\": {\"gridcolor\": \"white\", \"linecolor\": \"white\", \"ticks\": \"\"}}, \"title\": {\"x\": 0.05}, \"xaxis\": {\"automargin\": true, \"gridcolor\": \"white\", \"linecolor\": \"white\", \"ticks\": \"\", \"title\": {\"standoff\": 15}, \"zerolinecolor\": \"white\", \"zerolinewidth\": 2}, \"yaxis\": {\"automargin\": true, \"gridcolor\": \"white\", \"linecolor\": \"white\", \"ticks\": \"\", \"title\": {\"standoff\": 15}, \"zerolinecolor\": \"white\", \"zerolinewidth\": 2}}}, \"title\": {\"text\": \"planes-angle, sample size: 32\"}, \"width\": 1200, \"xaxis\": {\"anchor\": \"y\", \"domain\": [0.0, 1.0], \"title\": {\"text\": \"planes-angle\"}}, \"xaxis2\": {\"anchor\": \"y2\", \"domain\": [0.0, 1.0], \"matches\": \"x\", \"showgrid\": true, \"showticklabels\": false}, \"yaxis\": {\"anchor\": \"x\", \"domain\": [0.0, 0.7326], \"title\": {\"text\": \"count\"}}, \"yaxis2\": {\"anchor\": \"x2\", \"domain\": [0.7426, 1.0], \"matches\": \"y2\", \"showgrid\": false, \"showline\": false, \"showticklabels\": false, \"ticks\": \"\"}},                        {\"responsive\": true}                    ).then(function(){\n",
       "                            \n",
       "var gd = document.getElementById('41debfd4-1f58-4b99-9374-7d1751481054');\n",
       "var x = new MutationObserver(function (mutations, observer) {{\n",
       "        var display = window.getComputedStyle(gd).display;\n",
       "        if (!display || display === 'none') {{\n",
       "            console.log([gd, 'removed!']);\n",
       "            Plotly.purge(gd);\n",
       "            observer.disconnect();\n",
       "        }}\n",
       "}});\n",
       "\n",
       "// Listen for the removal of the full notebook cells\n",
       "var notebookContainer = gd.closest('#notebook-container');\n",
       "if (notebookContainer) {{\n",
       "    x.observe(notebookContainer, {childList: true});\n",
       "}}\n",
       "\n",
       "// Listen for the clearing of the current output cell\n",
       "var outputEl = gd.closest('.output');\n",
       "if (outputEl) {{\n",
       "    x.observe(outputEl, {childList: true});\n",
       "}}\n",
       "\n",
       "                        })                };                });            </script>        </div>"
      ]
     },
     "metadata": {},
     "output_type": "display_data"
    },
    {
     "data": {
      "application/vnd.plotly.v1+json": {
       "config": {
        "plotlyServerURL": "https://plot.ly"
       },
       "data": [
        {
         "alignmentgroup": "True",
         "bingroup": "x",
         "hovertemplate": "Cx=C1<br>dots-distance=%{x}<br>count=%{y}<extra></extra>",
         "legendgroup": "C1",
         "marker": {
          "color": "#636efa"
         },
         "name": "C1",
         "nbinsx": 100,
         "offsetgroup": "C1",
         "orientation": "v",
         "showlegend": true,
         "type": "histogram",
         "x": [
          1.5313066316058355,
          1.5322206107476781,
          1.5275143207184605,
          1.535252422242022,
          1.5300653580811447,
          1.5370100845472703,
          1.532742639845319,
          1.529738539751154,
          1.5285287043428475,
          1.529640480635891,
          1.5322206107476832,
          1.529509725369542,
          1.5278743403827442,
          1.5389606882568503,
          1.529771224726103,
          1.529215485142625,
          1.527154216181202,
          1.527416118809805,
          1.5305554547287876,
          90.02310203497767,
          89.07702004445368,
          1.5360338537935951,
          1.5314698821720265,
          1.5268267747193887,
          1.5334275333383072,
          1.5231874474272633,
          1.526892268629325,
          1.5244015219094982,
          1.5201315732527836,
          1.533199269501524,
          1.5258440287263981,
          1.5276452467768824
         ],
         "xaxis": "x",
         "yaxis": "y"
        },
        {
         "alignmentgroup": "True",
         "boxpoints": "all",
         "fillcolor": "rgba(255,255,255,0)",
         "hoveron": "points",
         "hovertemplate": "Cx=C1<br>dots-distance=%{x}<extra></extra>",
         "jitter": 0,
         "legendgroup": "C1",
         "line": {
          "color": "rgba(255,255,255,0)"
         },
         "marker": {
          "color": "#636efa",
          "symbol": "line-ns-open"
         },
         "name": "C1",
         "offsetgroup": "C1",
         "showlegend": false,
         "type": "box",
         "x": [
          1.5313066316058355,
          1.5322206107476781,
          1.5275143207184605,
          1.535252422242022,
          1.5300653580811447,
          1.5370100845472703,
          1.532742639845319,
          1.529738539751154,
          1.5285287043428475,
          1.529640480635891,
          1.5322206107476832,
          1.529509725369542,
          1.5278743403827442,
          1.5389606882568503,
          1.529771224726103,
          1.529215485142625,
          1.527154216181202,
          1.527416118809805,
          1.5305554547287876,
          90.02310203497767,
          89.07702004445368,
          1.5360338537935951,
          1.5314698821720265,
          1.5268267747193887,
          1.5334275333383072,
          1.5231874474272633,
          1.526892268629325,
          1.5244015219094982,
          1.5201315732527836,
          1.533199269501524,
          1.5258440287263981,
          1.5276452467768824
         ],
         "xaxis": "x2",
         "yaxis": "y2"
        },
        {
         "alignmentgroup": "True",
         "bingroup": "x",
         "hovertemplate": "Cx=C2<br>dots-distance=%{x}<br>count=%{y}<extra></extra>",
         "legendgroup": "C2",
         "marker": {
          "color": "#EF553B"
         },
         "name": "C2",
         "nbinsx": 100,
         "offsetgroup": "C2",
         "orientation": "v",
         "showlegend": true,
         "type": "histogram",
         "x": [
          1.5347312468311802,
          1.5344705927452666,
          1.5369124893760295,
          1.5305554547287623,
          1.5314698821720274,
          1.5314698821720292,
          1.5386357593660702,
          1.5301633899685354,
          1.5266302761310562,
          1.5292154851426236,
          1.5302614155757839,
          1.530653455227541,
          1.531633115337999,
          1.524631102922933,
          1.5340795285773152,
          1.533297101021196,
          1.5349918566559206,
          1.523975065412816,
          1.5333949262991546,
          1.5327426398453268,
          1.52623720305855,
          1.529999999999998,
          1.5283324245726115,
          1.5318289721767275,
          1.5279070652366242,
          1.5305227865014055,
          1.5345683432157793,
          1.5368474224854014,
          1.531306631605834,
          1.5304901175767187,
          1.5414603465545222,
          1.529901957643046
         ],
         "xaxis": "x",
         "yaxis": "y"
        },
        {
         "alignmentgroup": "True",
         "boxpoints": "all",
         "fillcolor": "rgba(255,255,255,0)",
         "hoveron": "points",
         "hovertemplate": "Cx=C2<br>dots-distance=%{x}<extra></extra>",
         "jitter": 0,
         "legendgroup": "C2",
         "line": {
          "color": "rgba(255,255,255,0)"
         },
         "marker": {
          "color": "#EF553B",
          "symbol": "line-ns-open"
         },
         "name": "C2",
         "offsetgroup": "C2",
         "showlegend": false,
         "type": "box",
         "x": [
          1.5347312468311802,
          1.5344705927452666,
          1.5369124893760295,
          1.5305554547287623,
          1.5314698821720274,
          1.5314698821720292,
          1.5386357593660702,
          1.5301633899685354,
          1.5266302761310562,
          1.5292154851426236,
          1.5302614155757839,
          1.530653455227541,
          1.531633115337999,
          1.524631102922933,
          1.5340795285773152,
          1.533297101021196,
          1.5349918566559206,
          1.523975065412816,
          1.5333949262991546,
          1.5327426398453268,
          1.52623720305855,
          1.529999999999998,
          1.5283324245726115,
          1.5318289721767275,
          1.5279070652366242,
          1.5305227865014055,
          1.5345683432157793,
          1.5368474224854014,
          1.531306631605834,
          1.5304901175767187,
          1.5414603465545222,
          1.529901957643046
         ],
         "xaxis": "x2",
         "yaxis": "y2"
        },
        {
         "alignmentgroup": "True",
         "bingroup": "x",
         "hovertemplate": "Cx=C3<br>dots-distance=%{x}<br>count=%{y}<extra></extra>",
         "legendgroup": "C3",
         "marker": {
          "color": "#00cc96"
         },
         "name": "C3",
         "nbinsx": 100,
         "offsetgroup": "C3",
         "orientation": "v",
         "showlegend": true,
         "type": "histogram",
         "x": [
          1.5347638254793496,
          1.5370751445521453,
          1.5297712247261106,
          1.5300653580811518,
          88.9251623557697,
          1.5306534552275417,
          1.533818763739706,
          1.532938354924949,
          1.5318616125486109,
          1.5285941253321578,
          1.5252868582663377,
          1.5310780515702034,
          1.53212271049026,
          1.5373678805022561,
          1.5399675321252664,
          1.5338187637397036,
          1.5204604565722843,
          1.5279070652366238,
          1.5282015573869847,
          1.5322532427767965,
          1.538375766839829,
          1.532090075680932,
          1.5281688388394772,
          1.5274161188097988,
          1.5292808767522104,
          1.5323185047502392,
          1.5262372030585531,
          1.5318289721767233,
          1.5323837639442701,
          1.5257129481000056,
          1.5280052355931255,
          1.5336557632011143
         ],
         "xaxis": "x",
         "yaxis": "y"
        },
        {
         "alignmentgroup": "True",
         "boxpoints": "all",
         "fillcolor": "rgba(255,255,255,0)",
         "hoveron": "points",
         "hovertemplate": "Cx=C3<br>dots-distance=%{x}<extra></extra>",
         "jitter": 0,
         "legendgroup": "C3",
         "line": {
          "color": "rgba(255,255,255,0)"
         },
         "marker": {
          "color": "#00cc96",
          "symbol": "line-ns-open"
         },
         "name": "C3",
         "offsetgroup": "C3",
         "showlegend": false,
         "type": "box",
         "x": [
          1.5347638254793496,
          1.5370751445521453,
          1.5297712247261106,
          1.5300653580811518,
          88.9251623557697,
          1.5306534552275417,
          1.533818763739706,
          1.532938354924949,
          1.5318616125486109,
          1.5285941253321578,
          1.5252868582663377,
          1.5310780515702034,
          1.53212271049026,
          1.5373678805022561,
          1.5399675321252664,
          1.5338187637397036,
          1.5204604565722843,
          1.5279070652366238,
          1.5282015573869847,
          1.5322532427767965,
          1.538375766839829,
          1.532090075680932,
          1.5281688388394772,
          1.5274161188097988,
          1.5292808767522104,
          1.5323185047502392,
          1.5262372030585531,
          1.5318289721767233,
          1.5323837639442701,
          1.5257129481000056,
          1.5280052355931255,
          1.5336557632011143
         ],
         "xaxis": "x2",
         "yaxis": "y2"
        },
        {
         "alignmentgroup": "True",
         "bingroup": "x",
         "hovertemplate": "Cx=C4<br>dots-distance=%{x}<br>count=%{y}<extra></extra>",
         "legendgroup": "C4",
         "marker": {
          "color": "#ab63fa"
         },
         "name": "C4",
         "nbinsx": 100,
         "offsetgroup": "C4",
         "orientation": "v",
         "showlegend": true,
         "type": "histogram",
         "x": [
          1.5301307133705881,
          1.5233187453714372,
          1.5337861650177937,
          1.5232859219463653,
          1.5242703172337895,
          1.5310453944935776,
          1.523843824018721,
          1.529215485142628,
          1.5293789589241753,
          1.5293789589241813,
          1.533297101021196,
          1.5211508800904647,
          1.5300326793895624,
          1.5217095649301786,
          1.5256146302392277,
          1.5344705927452587,
          1.5284959927981543,
          1.5269577597301167,
          1.526957759730102,
          1.524663897388522,
          1.531078051570191,
          1.5328731193415859,
          1.5370100845472747,
          1.5344705927452644,
          1.5314372334509894,
          1.5319595294915616,
          1.5328405005087695,
          1.5231874474272635,
          1.5306207890917978,
          1.5308167754502857,
          1.5301633899685358,
          1.5288230767489108
         ],
         "xaxis": "x",
         "yaxis": "y"
        },
        {
         "alignmentgroup": "True",
         "boxpoints": "all",
         "fillcolor": "rgba(255,255,255,0)",
         "hoveron": "points",
         "hovertemplate": "Cx=C4<br>dots-distance=%{x}<extra></extra>",
         "jitter": 0,
         "legendgroup": "C4",
         "line": {
          "color": "rgba(255,255,255,0)"
         },
         "marker": {
          "color": "#ab63fa",
          "symbol": "line-ns-open"
         },
         "name": "C4",
         "offsetgroup": "C4",
         "showlegend": false,
         "type": "box",
         "x": [
          1.5301307133705881,
          1.5233187453714372,
          1.5337861650177937,
          1.5232859219463653,
          1.5242703172337895,
          1.5310453944935776,
          1.523843824018721,
          1.529215485142628,
          1.5293789589241753,
          1.5293789589241813,
          1.533297101021196,
          1.5211508800904647,
          1.5300326793895624,
          1.5217095649301786,
          1.5256146302392277,
          1.5344705927452587,
          1.5284959927981543,
          1.5269577597301167,
          1.526957759730102,
          1.524663897388522,
          1.531078051570191,
          1.5328731193415859,
          1.5370100845472747,
          1.5344705927452644,
          1.5314372334509894,
          1.5319595294915616,
          1.5328405005087695,
          1.5231874474272635,
          1.5306207890917978,
          1.5308167754502857,
          1.5301633899685358,
          1.5288230767489108
         ],
         "xaxis": "x2",
         "yaxis": "y2"
        },
        {
         "alignmentgroup": "True",
         "bingroup": "x",
         "hovertemplate": "Cx=C5<br>dots-distance=%{x}<br>count=%{y}<extra></extra>",
         "legendgroup": "C5",
         "marker": {
          "color": "#FFA15A"
         },
         "name": "C5",
         "nbinsx": 100,
         "offsetgroup": "C5",
         "orientation": "v",
         "showlegend": true,
         "type": "histogram",
         "x": [
          1.5286922515666772,
          1.5313719339206897,
          1.52528685826634,
          1.533264491208216,
          89.62170607615099,
          1.5267285285865306,
          1.5274488534808621,
          1.528855781295279,
          1.5332971010211816,
          1.5289538907370617,
          1.5329057374802937,
          1.5372052563011889,
          1.5301307133705881,
          1.5264009958068085,
          1.5277761616153072,
          1.524827859136898,
          1.5350895739337134,
          1.527939789389625,
          1.5255490814785246,
          1.5390906406056908,
          1.5275470532851065,
          1.5360664048145785,
          1.528561415187498,
          1.5351872849916355,
          1.5360338537935911,
          1.539253065613312,
          1.5316984037335828,
          1.5371076735219307,
          1.5263682386632655,
          1.5245327152934425,
          1.5271542161811904,
          1.5336883646947324
         ],
         "xaxis": "x",
         "yaxis": "y"
        },
        {
         "alignmentgroup": "True",
         "boxpoints": "all",
         "fillcolor": "rgba(255,255,255,0)",
         "hoveron": "points",
         "hovertemplate": "Cx=C5<br>dots-distance=%{x}<extra></extra>",
         "jitter": 0,
         "legendgroup": "C5",
         "line": {
          "color": "rgba(255,255,255,0)"
         },
         "marker": {
          "color": "#FFA15A",
          "symbol": "line-ns-open"
         },
         "name": "C5",
         "offsetgroup": "C5",
         "showlegend": false,
         "type": "box",
         "x": [
          1.5286922515666772,
          1.5313719339206897,
          1.52528685826634,
          1.533264491208216,
          89.62170607615099,
          1.5267285285865306,
          1.5274488534808621,
          1.528855781295279,
          1.5332971010211816,
          1.5289538907370617,
          1.5329057374802937,
          1.5372052563011889,
          1.5301307133705881,
          1.5264009958068085,
          1.5277761616153072,
          1.524827859136898,
          1.5350895739337134,
          1.527939789389625,
          1.5255490814785246,
          1.5390906406056908,
          1.5275470532851065,
          1.5360664048145785,
          1.528561415187498,
          1.5351872849916355,
          1.5360338537935911,
          1.539253065613312,
          1.5316984037335828,
          1.5371076735219307,
          1.5263682386632655,
          1.5245327152934425,
          1.5271542161811904,
          1.5336883646947324
         ],
         "xaxis": "x2",
         "yaxis": "y2"
        },
        {
         "alignmentgroup": "True",
         "bingroup": "x",
         "hovertemplate": "Cx=C6<br>dots-distance=%{x}<br>count=%{y}<extra></extra>",
         "legendgroup": "C6",
         "marker": {
          "color": "#19d3f3"
         },
         "name": "C6",
         "nbinsx": 100,
         "offsetgroup": "C6",
         "orientation": "v",
         "showlegend": true,
         "type": "histogram",
         "x": [
          1.5293789589241729,
          1.5267612779999373,
          1.5280706789936136,
          1.5271542161811995,
          89.98285058832043,
          1.5243687217992865,
          1.537335357038274,
          1.5329057374802932,
          1.533166657607712,
          1.5332318807016814,
          1.5305881222588935,
          1.528594125332163,
          1.5283324245726189,
          1.5326121492406344,
          1.5280379576437277,
          1.529084693534007,
          1.527383383437174,
          1.5246638973885398,
          1.5352524222420216,
          1.5295097253695282,
          1.537205256301197,
          1.5292481812969418,
          1.5276452467768833,
          1.528234275234003,
          1.5294770348063458,
          1.5233515680892575,
          1.531371933920687,
          1.5308494374039503,
          1.5357408635573961,
          1.5300653580811516,
          1.5373353570382704,
          1.5322206107476841
         ],
         "xaxis": "x",
         "yaxis": "y"
        },
        {
         "alignmentgroup": "True",
         "boxpoints": "all",
         "fillcolor": "rgba(255,255,255,0)",
         "hoveron": "points",
         "hovertemplate": "Cx=C6<br>dots-distance=%{x}<extra></extra>",
         "jitter": 0,
         "legendgroup": "C6",
         "line": {
          "color": "rgba(255,255,255,0)"
         },
         "marker": {
          "color": "#19d3f3",
          "symbol": "line-ns-open"
         },
         "name": "C6",
         "offsetgroup": "C6",
         "showlegend": false,
         "type": "box",
         "x": [
          1.5293789589241729,
          1.5267612779999373,
          1.5280706789936136,
          1.5271542161811995,
          89.98285058832043,
          1.5243687217992865,
          1.537335357038274,
          1.5329057374802932,
          1.533166657607712,
          1.5332318807016814,
          1.5305881222588935,
          1.528594125332163,
          1.5283324245726189,
          1.5326121492406344,
          1.5280379576437277,
          1.529084693534007,
          1.527383383437174,
          1.5246638973885398,
          1.5352524222420216,
          1.5295097253695282,
          1.537205256301197,
          1.5292481812969418,
          1.5276452467768833,
          1.528234275234003,
          1.5294770348063458,
          1.5233515680892575,
          1.531371933920687,
          1.5308494374039503,
          1.5357408635573961,
          1.5300653580811516,
          1.5373353570382704,
          1.5322206107476841
         ],
         "xaxis": "x2",
         "yaxis": "y2"
        },
        {
         "alignmentgroup": "True",
         "bingroup": "x",
         "hovertemplate": "Cx=C7<br>dots-distance=%{x}<br>count=%{y}<extra></extra>",
         "legendgroup": "C7",
         "marker": {
          "color": "#FF6692"
         },
         "name": "C7",
         "nbinsx": 100,
         "offsetgroup": "C7",
         "orientation": "v",
         "showlegend": true,
         "type": "histogram",
         "x": [
          1.5360664048145871,
          1.5339817469578947,
          1.5356431877229824,
          1.5382457540978325,
          89.74221470411791,
          1.5356431877229832,
          1.5255818562109325,
          1.5336883646947266,
          1.5327752607606906,
          1.5251557297535172,
          1.5266957784706159,
          1.523942256123899,
          1.5340795285773177,
          1.5270232480221142,
          1.5247950681976872,
          1.5304247776352824,
          1.523876635426894,
          1.5241391012633905,
          1.528168838839478,
          1.5266957784706185,
          1.5341773039645734,
          1.524303119461483,
          1.525549081478539,
          1.5360338537935951,
          1.5309474190840133,
          1.5285941253321582,
          1.529738539751165,
          1.5272851731094632,
          1.5245655118754353,
          1.5331992695015233,
          1.5317310468877956,
          1.5300653580811563
         ],
         "xaxis": "x",
         "yaxis": "y"
        },
        {
         "alignmentgroup": "True",
         "boxpoints": "all",
         "fillcolor": "rgba(255,255,255,0)",
         "hoveron": "points",
         "hovertemplate": "Cx=C7<br>dots-distance=%{x}<extra></extra>",
         "jitter": 0,
         "legendgroup": "C7",
         "line": {
          "color": "rgba(255,255,255,0)"
         },
         "marker": {
          "color": "#FF6692",
          "symbol": "line-ns-open"
         },
         "name": "C7",
         "offsetgroup": "C7",
         "showlegend": false,
         "type": "box",
         "x": [
          1.5360664048145871,
          1.5339817469578947,
          1.5356431877229824,
          1.5382457540978325,
          89.74221470411791,
          1.5356431877229832,
          1.5255818562109325,
          1.5336883646947266,
          1.5327752607606906,
          1.5251557297535172,
          1.5266957784706159,
          1.523942256123899,
          1.5340795285773177,
          1.5270232480221142,
          1.5247950681976872,
          1.5304247776352824,
          1.523876635426894,
          1.5241391012633905,
          1.528168838839478,
          1.5266957784706185,
          1.5341773039645734,
          1.524303119461483,
          1.525549081478539,
          1.5360338537935951,
          1.5309474190840133,
          1.5285941253321582,
          1.529738539751165,
          1.5272851731094632,
          1.5245655118754353,
          1.5331992695015233,
          1.5317310468877956,
          1.5300653580811563
         ],
         "xaxis": "x2",
         "yaxis": "y2"
        },
        {
         "alignmentgroup": "True",
         "bingroup": "x",
         "hovertemplate": "Cx=C8<br>dots-distance=%{x}<br>count=%{y}<extra></extra>",
         "legendgroup": "C8",
         "marker": {
          "color": "#B6E880"
         },
         "name": "C8",
         "nbinsx": 100,
         "offsetgroup": "C8",
         "orientation": "v",
         "showlegend": true,
         "type": "histogram",
         "x": [
          1.5248934388999142,
          1.52833242457261,
          1.5327752607606846,
          1.5326447729333812,
          1.5371076735219271,
          1.5316004700965606,
          1.5305881222588915,
          1.5266302761310622,
          1.531959529491563,
          1.5276125163142613,
          1.52528685826634,
          1.5256801761837258,
          1.526433752247367,
          1.5336883646947288,
          1.5321227104902493,
          1.5305227865013953,
          1.5308167754502855,
          1.5269905042271894,
          1.529019293534257,
          1.5313066316058341,
          1.526040628554817,
          1.5309474190840113,
          1.5342750731208523,
          1.5337861650177982,
          1.5326121492406362,
          1.5343076614551645,
          1.534014341523568,
          1.5368148880070034,
          1.5352198539622863,
          1.5269250145308397,
          1.5296077928671836,
          1.5243031194614782
         ],
         "xaxis": "x",
         "yaxis": "y"
        },
        {
         "alignmentgroup": "True",
         "boxpoints": "all",
         "fillcolor": "rgba(255,255,255,0)",
         "hoveron": "points",
         "hovertemplate": "Cx=C8<br>dots-distance=%{x}<extra></extra>",
         "jitter": 0,
         "legendgroup": "C8",
         "line": {
          "color": "rgba(255,255,255,0)"
         },
         "marker": {
          "color": "#B6E880",
          "symbol": "line-ns-open"
         },
         "name": "C8",
         "offsetgroup": "C8",
         "showlegend": false,
         "type": "box",
         "x": [
          1.5248934388999142,
          1.52833242457261,
          1.5327752607606846,
          1.5326447729333812,
          1.5371076735219271,
          1.5316004700965606,
          1.5305881222588915,
          1.5266302761310622,
          1.531959529491563,
          1.5276125163142613,
          1.52528685826634,
          1.5256801761837258,
          1.526433752247367,
          1.5336883646947288,
          1.5321227104902493,
          1.5305227865013953,
          1.5308167754502855,
          1.5269905042271894,
          1.529019293534257,
          1.5313066316058341,
          1.526040628554817,
          1.5309474190840113,
          1.5342750731208523,
          1.5337861650177982,
          1.5326121492406362,
          1.5343076614551645,
          1.534014341523568,
          1.5368148880070034,
          1.5352198539622863,
          1.5269250145308397,
          1.5296077928671836,
          1.5243031194614782
         ],
         "xaxis": "x2",
         "yaxis": "y2"
        },
        {
         "alignmentgroup": "True",
         "bingroup": "x",
         "hovertemplate": "Cx=C9<br>dots-distance=%{x}<br>count=%{y}<extra></extra>",
         "legendgroup": "C9",
         "marker": {
          "color": "#FF97FF"
         },
         "name": "C9",
         "nbinsx": 100,
         "offsetgroup": "C9",
         "orientation": "v",
         "showlegend": true,
         "type": "histogram",
         "x": [
          1.3933413077921661,
          1.393054198514901,
          1.3918692467326181,
          1.3901798444805533,
          1.3924798023669847,
          1.393197760549445,
          1.384304879714003,
          1.3944532978913182,
          1.3906113763377506,
          1.393735986476636,
          1.3931618714277216,
          1.3874076545846188,
          1.3884523758487408,
          1.3901798444805658,
          1.3807968713753669,
          1.3971757226634094,
          1.3913302986710272,
          1.393341307792168,
          1.3923002549737702,
          1.388164255410724,
          1.391797399049155,
          1.3856767299770953,
          1.3867227552759107,
          1.3913302986710212,
          1.3906113763377554,
          1.390827092057101,
          1.3891364223862321,
          1.3923002549737604,
          1.385279755139732,
          1.3924798023669884,
          1.3940229553346637,
          1.3961017154921065
         ],
         "xaxis": "x",
         "yaxis": "y"
        },
        {
         "alignmentgroup": "True",
         "boxpoints": "all",
         "fillcolor": "rgba(255,255,255,0)",
         "hoveron": "points",
         "hovertemplate": "Cx=C9<br>dots-distance=%{x}<extra></extra>",
         "jitter": 0,
         "legendgroup": "C9",
         "line": {
          "color": "rgba(255,255,255,0)"
         },
         "marker": {
          "color": "#FF97FF",
          "symbol": "line-ns-open"
         },
         "name": "C9",
         "offsetgroup": "C9",
         "showlegend": false,
         "type": "box",
         "x": [
          1.3933413077921661,
          1.393054198514901,
          1.3918692467326181,
          1.3901798444805533,
          1.3924798023669847,
          1.393197760549445,
          1.384304879714003,
          1.3944532978913182,
          1.3906113763377506,
          1.393735986476636,
          1.3931618714277216,
          1.3874076545846188,
          1.3884523758487408,
          1.3901798444805658,
          1.3807968713753669,
          1.3971757226634094,
          1.3913302986710272,
          1.393341307792168,
          1.3923002549737702,
          1.388164255410724,
          1.391797399049155,
          1.3856767299770953,
          1.3867227552759107,
          1.3913302986710212,
          1.3906113763377554,
          1.390827092057101,
          1.3891364223862321,
          1.3923002549737604,
          1.385279755139732,
          1.3924798023669884,
          1.3940229553346637,
          1.3961017154921065
         ],
         "xaxis": "x2",
         "yaxis": "y2"
        },
        {
         "alignmentgroup": "True",
         "bingroup": "x",
         "hovertemplate": "Cx=C10<br>dots-distance=%{x}<br>count=%{y}<extra></extra>",
         "legendgroup": "C10",
         "marker": {
          "color": "#FECB52"
         },
         "name": "C10",
         "nbinsx": 100,
         "offsetgroup": "C10",
         "orientation": "v",
         "showlegend": true,
         "type": "histogram",
         "x": [
          1.523975065412815,
          1.522399421965206,
          1.532905737480291,
          1.5258440287264015,
          1.5286595435217103,
          1.5300653580811592,
          1.5301633899685345,
          1.528299708826779,
          1.5266630276521431,
          1.5276125163142706,
          1.5273833834371786,
          1.5288230767489073,
          1.5309474190840164,
          1.532351134694653,
          1.532253242776791,
          1.525975098093016,
          1.5366522052826388,
          1.5285941253321662,
          1.5334275333383038,
          1.5344705927452642,
          1.5279070652366284,
          1.5358710883404212,
          1.5313066316058317,
          1.52990195764304,
          1.5292154851426245,
          1.5281688388394776,
          1.5249262277238238,
          1.5261389189716652,
          1.5325142739955147,
          1.5292154851426298,
          1.5249918032566605,
          1.5244015219095044
         ],
         "xaxis": "x",
         "yaxis": "y"
        },
        {
         "alignmentgroup": "True",
         "boxpoints": "all",
         "fillcolor": "rgba(255,255,255,0)",
         "hoveron": "points",
         "hovertemplate": "Cx=C10<br>dots-distance=%{x}<extra></extra>",
         "jitter": 0,
         "legendgroup": "C10",
         "line": {
          "color": "rgba(255,255,255,0)"
         },
         "marker": {
          "color": "#FECB52",
          "symbol": "line-ns-open"
         },
         "name": "C10",
         "offsetgroup": "C10",
         "showlegend": false,
         "type": "box",
         "x": [
          1.523975065412815,
          1.522399421965206,
          1.532905737480291,
          1.5258440287264015,
          1.5286595435217103,
          1.5300653580811592,
          1.5301633899685345,
          1.528299708826779,
          1.5266630276521431,
          1.5276125163142706,
          1.5273833834371786,
          1.5288230767489073,
          1.5309474190840164,
          1.532351134694653,
          1.532253242776791,
          1.525975098093016,
          1.5366522052826388,
          1.5285941253321662,
          1.5334275333383038,
          1.5344705927452642,
          1.5279070652366284,
          1.5358710883404212,
          1.5313066316058317,
          1.52990195764304,
          1.5292154851426245,
          1.5281688388394776,
          1.5249262277238238,
          1.5261389189716652,
          1.5325142739955147,
          1.5292154851426298,
          1.5249918032566605,
          1.5244015219095044
         ],
         "xaxis": "x2",
         "yaxis": "y2"
        },
        {
         "alignmentgroup": "True",
         "bingroup": "x",
         "hovertemplate": "Cx=C11<br>dots-distance=%{x}<br>count=%{y}<extra></extra>",
         "legendgroup": "C11",
         "marker": {
          "color": "#636efa"
         },
         "name": "C11",
         "nbinsx": 100,
         "offsetgroup": "C11",
         "orientation": "v",
         "showlegend": true,
         "type": "histogram",
         "x": [
          1.5283324245726149,
          1.531535177526131,
          1.5247622765533044,
          1.5301307133705875,
          1.5305227865013946,
          1.5268922686293198,
          1.5285287043428406,
          1.5290846935340088,
          1.5324816475246958,
          1.5261061562027676,
          1.5321553446044607,
          1.5252540771950078,
          1.531306631605835,
          1.5249262277238227,
          1.5289538907370626,
          1.5338187637397103,
          1.5286922515666754,
          1.5269250145308406,
          1.5328731193415877,
          1.5338187637397198,
          1.5315678241592803,
          1.5315351775261328,
          1.5253524182955243,
          1.521906698848518,
          1.5227934856703351,
          1.5284305676084784,
          1.5318289721767198,
          1.5279070652366316,
          1.5284959927981483,
          1.5322206107476801,
          1.5293789589241764,
          1.5323511346946568
         ],
         "xaxis": "x",
         "yaxis": "y"
        },
        {
         "alignmentgroup": "True",
         "boxpoints": "all",
         "fillcolor": "rgba(255,255,255,0)",
         "hoveron": "points",
         "hovertemplate": "Cx=C11<br>dots-distance=%{x}<extra></extra>",
         "jitter": 0,
         "legendgroup": "C11",
         "line": {
          "color": "rgba(255,255,255,0)"
         },
         "marker": {
          "color": "#636efa",
          "symbol": "line-ns-open"
         },
         "name": "C11",
         "offsetgroup": "C11",
         "showlegend": false,
         "type": "box",
         "x": [
          1.5283324245726149,
          1.531535177526131,
          1.5247622765533044,
          1.5301307133705875,
          1.5305227865013946,
          1.5268922686293198,
          1.5285287043428406,
          1.5290846935340088,
          1.5324816475246958,
          1.5261061562027676,
          1.5321553446044607,
          1.5252540771950078,
          1.531306631605835,
          1.5249262277238227,
          1.5289538907370626,
          1.5338187637397103,
          1.5286922515666754,
          1.5269250145308406,
          1.5328731193415877,
          1.5338187637397198,
          1.5315678241592803,
          1.5315351775261328,
          1.5253524182955243,
          1.521906698848518,
          1.5227934856703351,
          1.5284305676084784,
          1.5318289721767198,
          1.5279070652366316,
          1.5284959927981483,
          1.5322206107476801,
          1.5293789589241764,
          1.5323511346946568
         ],
         "xaxis": "x2",
         "yaxis": "y2"
        },
        {
         "alignmentgroup": "True",
         "bingroup": "x",
         "hovertemplate": "Cx=C12<br>dots-distance=%{x}<br>count=%{y}<extra></extra>",
         "legendgroup": "C12",
         "marker": {
          "color": "#EF553B"
         },
         "name": "C12",
         "nbinsx": 100,
         "offsetgroup": "C12",
         "orientation": "v",
         "showlegend": true,
         "type": "histogram",
         "x": [
          1.5316984037335801,
          1.5267285285865348,
          1.5373678805022497,
          1.5381482373295503,
          1.524663897388539,
          1.530686120666152,
          1.5239750654128192,
          1.5319595294915587,
          1.5287576655572332,
          1.5350895739337167,
          1.5327752607606895,
          1.52121661836834,
          1.5264665079850264,
          1.529771224726102,
          1.5326447729333708,
          1.5268595220255194,
          1.531045394493573,
          1.5270232480221086,
          1.5319921670817978,
          1.5202631351183966,
          1.5252540771950178,
          1.526728528586533,
          1.5272851731094654,
          1.5301633899685376,
          1.5319921670817993,
          1.5272524349301322,
          1.5321227104902562,
          1.523975065412815,
          1.5275470532851025,
          1.526728528586532,
          1.5267285285865304,
          1.5327100182356772
         ],
         "xaxis": "x",
         "yaxis": "y"
        },
        {
         "alignmentgroup": "True",
         "boxpoints": "all",
         "fillcolor": "rgba(255,255,255,0)",
         "hoveron": "points",
         "hovertemplate": "Cx=C12<br>dots-distance=%{x}<extra></extra>",
         "jitter": 0,
         "legendgroup": "C12",
         "line": {
          "color": "rgba(255,255,255,0)"
         },
         "marker": {
          "color": "#EF553B",
          "symbol": "line-ns-open"
         },
         "name": "C12",
         "offsetgroup": "C12",
         "showlegend": false,
         "type": "box",
         "x": [
          1.5316984037335801,
          1.5267285285865348,
          1.5373678805022497,
          1.5381482373295503,
          1.524663897388539,
          1.530686120666152,
          1.5239750654128192,
          1.5319595294915587,
          1.5287576655572332,
          1.5350895739337167,
          1.5327752607606895,
          1.52121661836834,
          1.5264665079850264,
          1.529771224726102,
          1.5326447729333708,
          1.5268595220255194,
          1.531045394493573,
          1.5270232480221086,
          1.5319921670817978,
          1.5202631351183966,
          1.5252540771950178,
          1.526728528586533,
          1.5272851731094654,
          1.5301633899685376,
          1.5319921670817993,
          1.5272524349301322,
          1.5321227104902562,
          1.523975065412815,
          1.5275470532851025,
          1.526728528586532,
          1.5267285285865304,
          1.5327100182356772
         ],
         "xaxis": "x2",
         "yaxis": "y2"
        },
        {
         "alignmentgroup": "True",
         "bingroup": "x",
         "hovertemplate": "Cx=C13<br>dots-distance=%{x}<br>count=%{y}<extra></extra>",
         "legendgroup": "C13",
         "marker": {
          "color": "#00cc96"
         },
         "name": "C13",
         "nbinsx": 100,
         "offsetgroup": "C13",
         "orientation": "v",
         "showlegend": true,
         "type": "histogram",
         "x": [
          1.5290519938837963,
          1.533818763739702,
          1.531078051570206,
          89.41033105855274,
          1.5299019576430368,
          1.536001302082785,
          1.532318504750233,
          1.5309147592207752,
          1.534470592745269,
          1.5285941253321655,
          1.5343076614551596,
          1.529999999999998,
          1.5282015573869876,
          1.5344705927452622,
          1.5310780515701963,
          1.526925014530836,
          1.530751449452193,
          1.5340795285773188,
          1.5307514494521943,
          1.5282342752339977,
          1.5350570021989371,
          1.5312086729117012,
          1.532155344604453,
          1.5308820986607767,
          1.526368238663266,
          1.5326447729333723,
          1.5311433636338525,
          1.5217424223566898,
          1.5366522052826352,
          1.5306861206661535,
          1.5308167754502893,
          1.5276452467768749
         ],
         "xaxis": "x",
         "yaxis": "y"
        },
        {
         "alignmentgroup": "True",
         "boxpoints": "all",
         "fillcolor": "rgba(255,255,255,0)",
         "hoveron": "points",
         "hovertemplate": "Cx=C13<br>dots-distance=%{x}<extra></extra>",
         "jitter": 0,
         "legendgroup": "C13",
         "line": {
          "color": "rgba(255,255,255,0)"
         },
         "marker": {
          "color": "#00cc96",
          "symbol": "line-ns-open"
         },
         "name": "C13",
         "offsetgroup": "C13",
         "showlegend": false,
         "type": "box",
         "x": [
          1.5290519938837963,
          1.533818763739702,
          1.531078051570206,
          89.41033105855274,
          1.5299019576430368,
          1.536001302082785,
          1.532318504750233,
          1.5309147592207752,
          1.534470592745269,
          1.5285941253321655,
          1.5343076614551596,
          1.529999999999998,
          1.5282015573869876,
          1.5344705927452622,
          1.5310780515701963,
          1.526925014530836,
          1.530751449452193,
          1.5340795285773188,
          1.5307514494521943,
          1.5282342752339977,
          1.5350570021989371,
          1.5312086729117012,
          1.532155344604453,
          1.5308820986607767,
          1.526368238663266,
          1.5326447729333723,
          1.5311433636338525,
          1.5217424223566898,
          1.5366522052826352,
          1.5306861206661535,
          1.5308167754502893,
          1.5276452467768749
         ],
         "xaxis": "x2",
         "yaxis": "y2"
        },
        {
         "alignmentgroup": "True",
         "bingroup": "x",
         "hovertemplate": "Cx=C14<br>dots-distance=%{x}<br>count=%{y}<extra></extra>",
         "legendgroup": "C14",
         "marker": {
          "color": "#ab63fa"
         },
         "name": "C14",
         "nbinsx": 100,
         "offsetgroup": "C14",
         "orientation": "v",
         "showlegend": true,
         "type": "histogram",
         "x": [
          1.5253196386331598,
          1.5344705927452629,
          1.532090075680919,
          1.5237125713204624,
          1.5365220467015759,
          1.525057375969835,
          1.5260406285548231,
          1.5322206107476828,
          1.5297385397511565,
          1.532122710490247,
          1.5274161188097999,
          1.528299708826778,
          1.5396752904427635,
          1.5226949793047828,
          1.5235484895466875,
          1.5318616125486002,
          1.5345031769273076,
          1.5288230767489117,
          1.5317963311093195,
          1.5317310468877983,
          1.526630276131062,
          1.534307661455156,
          1.5269250145308397,
          1.5280706789936072,
          1.5354803808580582,
          1.5287576655572335,
          1.5366847432053237,
          1.530424777635279,
          1.5323837639442712,
          1.5327100182356748,
          1.5317310468878051,
          1.5199013125857919
         ],
         "xaxis": "x",
         "yaxis": "y"
        },
        {
         "alignmentgroup": "True",
         "boxpoints": "all",
         "fillcolor": "rgba(255,255,255,0)",
         "hoveron": "points",
         "hovertemplate": "Cx=C14<br>dots-distance=%{x}<extra></extra>",
         "jitter": 0,
         "legendgroup": "C14",
         "line": {
          "color": "rgba(255,255,255,0)"
         },
         "marker": {
          "color": "#ab63fa",
          "symbol": "line-ns-open"
         },
         "name": "C14",
         "offsetgroup": "C14",
         "showlegend": false,
         "type": "box",
         "x": [
          1.5253196386331598,
          1.5344705927452629,
          1.532090075680919,
          1.5237125713204624,
          1.5365220467015759,
          1.525057375969835,
          1.5260406285548231,
          1.5322206107476828,
          1.5297385397511565,
          1.532122710490247,
          1.5274161188097999,
          1.528299708826778,
          1.5396752904427635,
          1.5226949793047828,
          1.5235484895466875,
          1.5318616125486002,
          1.5345031769273076,
          1.5288230767489117,
          1.5317963311093195,
          1.5317310468877983,
          1.526630276131062,
          1.534307661455156,
          1.5269250145308397,
          1.5280706789936072,
          1.5354803808580582,
          1.5287576655572335,
          1.5366847432053237,
          1.530424777635279,
          1.5323837639442712,
          1.5327100182356748,
          1.5317310468878051,
          1.5199013125857919
         ],
         "xaxis": "x2",
         "yaxis": "y2"
        },
        {
         "alignmentgroup": "True",
         "bingroup": "x",
         "hovertemplate": "Cx=C15<br>dots-distance=%{x}<br>count=%{y}<extra></extra>",
         "legendgroup": "C15",
         "marker": {
          "color": "#FFA15A"
         },
         "name": "C15",
         "nbinsx": 100,
         "offsetgroup": "C15",
         "orientation": "v",
         "showlegend": true,
         "type": "histogram",
         "x": [
          1.5305554547287703,
          1.5256146302392375,
          1.5295097253695389,
          1.5326447729333734,
          1.5285941253321622,
          1.5238438240187246,
          1.530392106618434,
          1.5274815874503984,
          1.5352198539622883,
          1.5313719339206937,
          1.531959529491555,
          1.5297058540778323,
          1.5300000000000025,
          1.5275470532851054,
          1.5288557812952845,
          1.5301633899685336,
          1.5254179755070454,
          1.5344705927452633,
          1.5264665079850301,
          1.5244015219095024,
          1.532187978023579,
          1.5268595220255199,
          1.5346986674914385,
          1.5370100845472663,
          1.529215485142619,
          1.533818763739711,
          1.5337861650177989,
          1.5303921066184298,
          1.5328731193415766,
          1.5341773039645694,
          1.5279070652366273,
          1.5284305676084726
         ],
         "xaxis": "x",
         "yaxis": "y"
        },
        {
         "alignmentgroup": "True",
         "boxpoints": "all",
         "fillcolor": "rgba(255,255,255,0)",
         "hoveron": "points",
         "hovertemplate": "Cx=C15<br>dots-distance=%{x}<extra></extra>",
         "jitter": 0,
         "legendgroup": "C15",
         "line": {
          "color": "rgba(255,255,255,0)"
         },
         "marker": {
          "color": "#FFA15A",
          "symbol": "line-ns-open"
         },
         "name": "C15",
         "offsetgroup": "C15",
         "showlegend": false,
         "type": "box",
         "x": [
          1.5305554547287703,
          1.5256146302392375,
          1.5295097253695389,
          1.5326447729333734,
          1.5285941253321622,
          1.5238438240187246,
          1.530392106618434,
          1.5274815874503984,
          1.5352198539622883,
          1.5313719339206937,
          1.531959529491555,
          1.5297058540778323,
          1.5300000000000025,
          1.5275470532851054,
          1.5288557812952845,
          1.5301633899685336,
          1.5254179755070454,
          1.5344705927452633,
          1.5264665079850301,
          1.5244015219095024,
          1.532187978023579,
          1.5268595220255199,
          1.5346986674914385,
          1.5370100845472663,
          1.529215485142619,
          1.533818763739711,
          1.5337861650177989,
          1.5303921066184298,
          1.5328731193415766,
          1.5341773039645694,
          1.5279070652366273,
          1.5284305676084726
         ],
         "xaxis": "x2",
         "yaxis": "y2"
        },
        {
         "alignmentgroup": "True",
         "bingroup": "x",
         "hovertemplate": "Cx=C16<br>dots-distance=%{x}<br>count=%{y}<extra></extra>",
         "legendgroup": "C16",
         "marker": {
          "color": "#19d3f3"
         },
         "name": "C16",
         "nbinsx": 100,
         "offsetgroup": "C16",
         "orientation": "v",
         "showlegend": true,
         "type": "histogram",
         "x": [
          1.528201557386982,
          1.5380507143784279,
          1.5255818562109305,
          1.527186956466029,
          1.5282015573869776,
          1.528594125332163,
          1.5404544783926557,
          1.5267285285865333,
          1.5286922515666739,
          1.52843056760849,
          1.538473269186051,
          1.5302614155757828,
          1.529346265565779,
          1.5319595294915611,
          1.5235156710713544,
          1.53753048750261,
          1.5319595294915613,
          1.5256474035634833,
          1.5244671200127502,
          1.5339491516996187,
          1.5341773039645696,
          1.5333949262991595,
          1.5295097253695422,
          1.530816775450289,
          1.5241391012633991,
          1.5242703172337977,
          1.5264337522473705,
          1.5292154851426274,
          1.5295751043999166,
          1.5358385331798428,
          1.5212166183683353,
          1.5300653580811567
         ],
         "xaxis": "x",
         "yaxis": "y"
        },
        {
         "alignmentgroup": "True",
         "boxpoints": "all",
         "fillcolor": "rgba(255,255,255,0)",
         "hoveron": "points",
         "hovertemplate": "Cx=C16<br>dots-distance=%{x}<extra></extra>",
         "jitter": 0,
         "legendgroup": "C16",
         "line": {
          "color": "rgba(255,255,255,0)"
         },
         "marker": {
          "color": "#19d3f3",
          "symbol": "line-ns-open"
         },
         "name": "C16",
         "offsetgroup": "C16",
         "showlegend": false,
         "type": "box",
         "x": [
          1.528201557386982,
          1.5380507143784279,
          1.5255818562109305,
          1.527186956466029,
          1.5282015573869776,
          1.528594125332163,
          1.5404544783926557,
          1.5267285285865333,
          1.5286922515666739,
          1.52843056760849,
          1.538473269186051,
          1.5302614155757828,
          1.529346265565779,
          1.5319595294915611,
          1.5235156710713544,
          1.53753048750261,
          1.5319595294915613,
          1.5256474035634833,
          1.5244671200127502,
          1.5339491516996187,
          1.5341773039645696,
          1.5333949262991595,
          1.5295097253695422,
          1.530816775450289,
          1.5241391012633991,
          1.5242703172337977,
          1.5264337522473705,
          1.5292154851426274,
          1.5295751043999166,
          1.5358385331798428,
          1.5212166183683353,
          1.5300653580811567
         ],
         "xaxis": "x2",
         "yaxis": "y2"
        },
        {
         "alignmentgroup": "True",
         "bingroup": "x",
         "hovertemplate": "Cx=C17<br>dots-distance=%{x}<br>count=%{y}<extra></extra>",
         "legendgroup": "C17",
         "marker": {
          "color": "#FF6692"
         },
         "name": "C17",
         "nbinsx": 100,
         "offsetgroup": "C17",
         "orientation": "v",
         "showlegend": true,
         "type": "histogram",
         "x": [
          1.527612516314268,
          1.5227934856703347,
          1.5235156710713529,
          1.5298692754611485,
          106.39113026939792,
          1.5271542161811986,
          1.5285614151874962,
          1.5364244205296949,
          1.5338187637397125,
          1.53006535808114,
          1.5300653580811425,
          1.5245327152934447,
          1.533818763739699,
          1.5324163924991099,
          1.5333949262991549,
          1.5272524349301284,
          1.535871088340427,
          1.5255818562109347,
          1.5334275333383165,
          1.5310780515702107,
          1.5208221460775704,
          1.5253524182955251,
          1.5323511346946537,
          1.5277107055984076,
          1.5258440287263955,
          1.5267285285865309,
          1.5239750654128155,
          1.5247622765533038,
          1.5226949793047928,
          1.5346009253222794,
          1.5305554547287734,
          1.5321227104902495
         ],
         "xaxis": "x",
         "yaxis": "y"
        },
        {
         "alignmentgroup": "True",
         "boxpoints": "all",
         "fillcolor": "rgba(255,255,255,0)",
         "hoveron": "points",
         "hovertemplate": "Cx=C17<br>dots-distance=%{x}<extra></extra>",
         "jitter": 0,
         "legendgroup": "C17",
         "line": {
          "color": "rgba(255,255,255,0)"
         },
         "marker": {
          "color": "#FF6692",
          "symbol": "line-ns-open"
         },
         "name": "C17",
         "offsetgroup": "C17",
         "showlegend": false,
         "type": "box",
         "x": [
          1.527612516314268,
          1.5227934856703347,
          1.5235156710713529,
          1.5298692754611485,
          106.39113026939792,
          1.5271542161811986,
          1.5285614151874962,
          1.5364244205296949,
          1.5338187637397125,
          1.53006535808114,
          1.5300653580811425,
          1.5245327152934447,
          1.533818763739699,
          1.5324163924991099,
          1.5333949262991549,
          1.5272524349301284,
          1.535871088340427,
          1.5255818562109347,
          1.5334275333383165,
          1.5310780515702107,
          1.5208221460775704,
          1.5253524182955251,
          1.5323511346946537,
          1.5277107055984076,
          1.5258440287263955,
          1.5267285285865309,
          1.5239750654128155,
          1.5247622765533038,
          1.5226949793047928,
          1.5346009253222794,
          1.5305554547287734,
          1.5321227104902495
         ],
         "xaxis": "x2",
         "yaxis": "y2"
        },
        {
         "alignmentgroup": "True",
         "bingroup": "x",
         "hovertemplate": "Cx=C18<br>dots-distance=%{x}<br>count=%{y}<extra></extra>",
         "legendgroup": "C18",
         "marker": {
          "color": "#B6E880"
         },
         "name": "C18",
         "nbinsx": 100,
         "offsetgroup": "C18",
         "orientation": "v",
         "showlegend": true,
         "type": "histogram",
         "x": [
          1.2318279100588692,
          1.2372954376380736,
          1.2311376852326468,
          1.2221292893961733,
          1.2316655390161693,
          1.2332882874656648,
          1.2304877081872858,
          1.2244998979175137,
          1.2267844146385332,
          1.2335720489699837,
          1.237133784196357,
          1.233936789304865,
          1.2313813381727028,
          1.2236421045387418,
          1.2318279100588774,
          1.2363251999372913,
          1.2235195135346262,
          1.2368104139276892,
          1.227925079147749,
          1.2325988804148762,
          1.2306908628896214,
          1.236850839834781,
          1.2343824366864613,
          1.2280065146407024,
          1.24052408279727,
          1.2283729075488483,
          1.235556554755786,
          1.230650234632083,
          1.2301625908797593,
          1.2325988804148813,
          1.2298780427343092,
          1.2285357137665995
         ],
         "xaxis": "x",
         "yaxis": "y"
        },
        {
         "alignmentgroup": "True",
         "boxpoints": "all",
         "fillcolor": "rgba(255,255,255,0)",
         "hoveron": "points",
         "hovertemplate": "Cx=C18<br>dots-distance=%{x}<extra></extra>",
         "jitter": 0,
         "legendgroup": "C18",
         "line": {
          "color": "rgba(255,255,255,0)"
         },
         "marker": {
          "color": "#B6E880",
          "symbol": "line-ns-open"
         },
         "name": "C18",
         "offsetgroup": "C18",
         "showlegend": false,
         "type": "box",
         "x": [
          1.2318279100588692,
          1.2372954376380736,
          1.2311376852326468,
          1.2221292893961733,
          1.2316655390161693,
          1.2332882874656648,
          1.2304877081872858,
          1.2244998979175137,
          1.2267844146385332,
          1.2335720489699837,
          1.237133784196357,
          1.233936789304865,
          1.2313813381727028,
          1.2236421045387418,
          1.2318279100588774,
          1.2363251999372913,
          1.2235195135346262,
          1.2368104139276892,
          1.227925079147749,
          1.2325988804148762,
          1.2306908628896214,
          1.236850839834781,
          1.2343824366864613,
          1.2280065146407024,
          1.24052408279727,
          1.2283729075488483,
          1.235556554755786,
          1.230650234632083,
          1.2301625908797593,
          1.2325988804148813,
          1.2298780427343092,
          1.2285357137665995
         ],
         "xaxis": "x2",
         "yaxis": "y2"
        },
        {
         "alignmentgroup": "True",
         "bingroup": "x",
         "hovertemplate": "Cx=O19<br>dots-distance=%{x}<br>count=%{y}<extra></extra>",
         "legendgroup": "O19",
         "marker": {
          "color": "#FF97FF"
         },
         "name": "O19",
         "nbinsx": 100,
         "offsetgroup": "O19",
         "orientation": "v",
         "showlegend": true,
         "type": "histogram",
         "x": [
          2.2986517787607608,
          2.1886297082878117,
          2.2859790025282387,
          2.21903132019357,
          2.260486673263079,
          2.2626754075651223,
          2.3006303484045403,
          2.252221125911046,
          2.264817873472391,
          2.2788154817799517,
          2.2392186137132706,
          2.2366716343710364,
          2.342178473131366,
          2.220360331117454,
          2.2219135896789606,
          2.283900172949773,
          2.2307173734025585,
          2.2047902394558956,
          2.2947548888715787,
          2.2675757980715896,
          2.2300224214119417,
          2.2867662757702143,
          2.3105194221213545,
          2.285716517856054,
          2.2403124782047756,
          2.2811619846034668,
          2.333859464492235,
          2.224612325777235,
          2.2619239598182816,
          2.2879248239398073,
          2.2091627373283282,
          106.43535173991769
         ],
         "xaxis": "x",
         "yaxis": "y"
        },
        {
         "alignmentgroup": "True",
         "boxpoints": "all",
         "fillcolor": "rgba(255,255,255,0)",
         "hoveron": "points",
         "hovertemplate": "Cx=O19<br>dots-distance=%{x}<extra></extra>",
         "jitter": 0,
         "legendgroup": "O19",
         "line": {
          "color": "rgba(255,255,255,0)"
         },
         "marker": {
          "color": "#FF97FF",
          "symbol": "line-ns-open"
         },
         "name": "O19",
         "offsetgroup": "O19",
         "showlegend": false,
         "type": "box",
         "x": [
          2.2986517787607608,
          2.1886297082878117,
          2.2859790025282387,
          2.21903132019357,
          2.260486673263079,
          2.2626754075651223,
          2.3006303484045403,
          2.252221125911046,
          2.264817873472391,
          2.2788154817799517,
          2.2392186137132706,
          2.2366716343710364,
          2.342178473131366,
          2.220360331117454,
          2.2219135896789606,
          2.283900172949773,
          2.2307173734025585,
          2.2047902394558956,
          2.2947548888715787,
          2.2675757980715896,
          2.2300224214119417,
          2.2867662757702143,
          2.3105194221213545,
          2.285716517856054,
          2.2403124782047756,
          2.2811619846034668,
          2.333859464492235,
          2.224612325777235,
          2.2619239598182816,
          2.2879248239398073,
          2.2091627373283282,
          106.43535173991769
         ],
         "xaxis": "x2",
         "yaxis": "y2"
        },
        {
         "alignmentgroup": "True",
         "bingroup": "x",
         "hovertemplate": "Cx=O20<br>dots-distance=%{x}<br>count=%{y}<extra></extra>",
         "legendgroup": "O20",
         "marker": {
          "color": "#FECB52"
         },
         "name": "O20",
         "nbinsx": 100,
         "offsetgroup": "O20",
         "orientation": "v",
         "showlegend": true,
         "type": "histogram",
         "x": [
          0.9974968671629981,
          0.9944847912361476,
          1.0017484714238405,
          1.005037312740179,
          1.0018981984213773,
          1.0073231854772309,
          0.9978476837674161,
          1.0044899203078137,
          0.9994498486667536,
          0.996042167782066,
          1.005435229142086,
          1.0106433594498065,
          1.001399021369603,
          0.9973464794142501,
          1.0025966287595405,
          0.9976973488989596,
          1.001698557451295,
          0.998498873309336,
          0.9994498486667522,
          1.0020479030465501,
          0.9970456358662914,
          1.0042410069301113,
          0.9908077512817491,
          1.0004498987955444,
          1.0004998750624594,
          1.004241006930102,
          0.9977975746613177,
          1.0018482919085112,
          0.9976973488989508,
          1.0042410069301093,
          1.0042410069301084,
          1.0026464980240954
         ],
         "xaxis": "x",
         "yaxis": "y"
        },
        {
         "alignmentgroup": "True",
         "boxpoints": "all",
         "fillcolor": "rgba(255,255,255,0)",
         "hoveron": "points",
         "hovertemplate": "Cx=O20<br>dots-distance=%{x}<extra></extra>",
         "jitter": 0,
         "legendgroup": "O20",
         "line": {
          "color": "rgba(255,255,255,0)"
         },
         "marker": {
          "color": "#FECB52",
          "symbol": "line-ns-open"
         },
         "name": "O20",
         "offsetgroup": "O20",
         "showlegend": false,
         "type": "box",
         "x": [
          0.9974968671629981,
          0.9944847912361476,
          1.0017484714238405,
          1.005037312740179,
          1.0018981984213773,
          1.0073231854772309,
          0.9978476837674161,
          1.0044899203078137,
          0.9994498486667536,
          0.996042167782066,
          1.005435229142086,
          1.0106433594498065,
          1.001399021369603,
          0.9973464794142501,
          1.0025966287595405,
          0.9976973488989596,
          1.001698557451295,
          0.998498873309336,
          0.9994498486667522,
          1.0020479030465501,
          0.9970456358662914,
          1.0042410069301113,
          0.9908077512817491,
          1.0004498987955444,
          1.0004998750624594,
          1.004241006930102,
          0.9977975746613177,
          1.0018482919085112,
          0.9976973488989508,
          1.0042410069301093,
          1.0042410069301084,
          1.0026464980240954
         ],
         "xaxis": "x2",
         "yaxis": "y2"
        },
        {
         "alignmentgroup": "True",
         "bingroup": "x",
         "hovertemplate": "Cx=H21<br>dots-distance=%{x}<br>count=%{y}<extra></extra>",
         "legendgroup": "H21",
         "marker": {
          "color": "#636efa"
         },
         "name": "H21",
         "nbinsx": 100,
         "offsetgroup": "H21",
         "orientation": "v",
         "showlegend": true,
         "type": "histogram",
         "x": [
          0,
          0,
          0,
          0,
          0,
          0,
          0,
          0,
          0,
          0,
          0,
          0,
          0,
          0,
          0,
          0,
          0,
          0,
          0,
          0,
          0,
          0,
          0,
          0,
          0,
          0,
          0,
          0,
          0,
          0,
          0,
          0
         ],
         "xaxis": "x",
         "yaxis": "y"
        },
        {
         "alignmentgroup": "True",
         "boxpoints": "all",
         "fillcolor": "rgba(255,255,255,0)",
         "hoveron": "points",
         "hovertemplate": "Cx=H21<br>dots-distance=%{x}<extra></extra>",
         "jitter": 0,
         "legendgroup": "H21",
         "line": {
          "color": "rgba(255,255,255,0)"
         },
         "marker": {
          "color": "#636efa",
          "symbol": "line-ns-open"
         },
         "name": "H21",
         "offsetgroup": "H21",
         "showlegend": false,
         "type": "box",
         "x": [
          0,
          0,
          0,
          0,
          0,
          0,
          0,
          0,
          0,
          0,
          0,
          0,
          0,
          0,
          0,
          0,
          0,
          0,
          0,
          0,
          0,
          0,
          0,
          0,
          0,
          0,
          0,
          0,
          0,
          0,
          0,
          0
         ],
         "xaxis": "x2",
         "yaxis": "y2"
        }
       ],
       "layout": {
        "barmode": "relative",
        "height": 800,
        "legend": {
         "title": {
          "text": "Cx"
         },
         "tracegroupgap": 0
        },
        "margin": {
         "t": 60
        },
        "template": {
         "data": {
          "bar": [
           {
            "error_x": {
             "color": "#2a3f5f"
            },
            "error_y": {
             "color": "#2a3f5f"
            },
            "marker": {
             "line": {
              "color": "#E5ECF6",
              "width": 0.5
             }
            },
            "type": "bar"
           }
          ],
          "barpolar": [
           {
            "marker": {
             "line": {
              "color": "#E5ECF6",
              "width": 0.5
             }
            },
            "type": "barpolar"
           }
          ],
          "carpet": [
           {
            "aaxis": {
             "endlinecolor": "#2a3f5f",
             "gridcolor": "white",
             "linecolor": "white",
             "minorgridcolor": "white",
             "startlinecolor": "#2a3f5f"
            },
            "baxis": {
             "endlinecolor": "#2a3f5f",
             "gridcolor": "white",
             "linecolor": "white",
             "minorgridcolor": "white",
             "startlinecolor": "#2a3f5f"
            },
            "type": "carpet"
           }
          ],
          "choropleth": [
           {
            "colorbar": {
             "outlinewidth": 0,
             "ticks": ""
            },
            "type": "choropleth"
           }
          ],
          "contour": [
           {
            "colorbar": {
             "outlinewidth": 0,
             "ticks": ""
            },
            "colorscale": [
             [
              0,
              "#0d0887"
             ],
             [
              0.1111111111111111,
              "#46039f"
             ],
             [
              0.2222222222222222,
              "#7201a8"
             ],
             [
              0.3333333333333333,
              "#9c179e"
             ],
             [
              0.4444444444444444,
              "#bd3786"
             ],
             [
              0.5555555555555556,
              "#d8576b"
             ],
             [
              0.6666666666666666,
              "#ed7953"
             ],
             [
              0.7777777777777778,
              "#fb9f3a"
             ],
             [
              0.8888888888888888,
              "#fdca26"
             ],
             [
              1,
              "#f0f921"
             ]
            ],
            "type": "contour"
           }
          ],
          "contourcarpet": [
           {
            "colorbar": {
             "outlinewidth": 0,
             "ticks": ""
            },
            "type": "contourcarpet"
           }
          ],
          "heatmap": [
           {
            "colorbar": {
             "outlinewidth": 0,
             "ticks": ""
            },
            "colorscale": [
             [
              0,
              "#0d0887"
             ],
             [
              0.1111111111111111,
              "#46039f"
             ],
             [
              0.2222222222222222,
              "#7201a8"
             ],
             [
              0.3333333333333333,
              "#9c179e"
             ],
             [
              0.4444444444444444,
              "#bd3786"
             ],
             [
              0.5555555555555556,
              "#d8576b"
             ],
             [
              0.6666666666666666,
              "#ed7953"
             ],
             [
              0.7777777777777778,
              "#fb9f3a"
             ],
             [
              0.8888888888888888,
              "#fdca26"
             ],
             [
              1,
              "#f0f921"
             ]
            ],
            "type": "heatmap"
           }
          ],
          "heatmapgl": [
           {
            "colorbar": {
             "outlinewidth": 0,
             "ticks": ""
            },
            "colorscale": [
             [
              0,
              "#0d0887"
             ],
             [
              0.1111111111111111,
              "#46039f"
             ],
             [
              0.2222222222222222,
              "#7201a8"
             ],
             [
              0.3333333333333333,
              "#9c179e"
             ],
             [
              0.4444444444444444,
              "#bd3786"
             ],
             [
              0.5555555555555556,
              "#d8576b"
             ],
             [
              0.6666666666666666,
              "#ed7953"
             ],
             [
              0.7777777777777778,
              "#fb9f3a"
             ],
             [
              0.8888888888888888,
              "#fdca26"
             ],
             [
              1,
              "#f0f921"
             ]
            ],
            "type": "heatmapgl"
           }
          ],
          "histogram": [
           {
            "marker": {
             "colorbar": {
              "outlinewidth": 0,
              "ticks": ""
             }
            },
            "type": "histogram"
           }
          ],
          "histogram2d": [
           {
            "colorbar": {
             "outlinewidth": 0,
             "ticks": ""
            },
            "colorscale": [
             [
              0,
              "#0d0887"
             ],
             [
              0.1111111111111111,
              "#46039f"
             ],
             [
              0.2222222222222222,
              "#7201a8"
             ],
             [
              0.3333333333333333,
              "#9c179e"
             ],
             [
              0.4444444444444444,
              "#bd3786"
             ],
             [
              0.5555555555555556,
              "#d8576b"
             ],
             [
              0.6666666666666666,
              "#ed7953"
             ],
             [
              0.7777777777777778,
              "#fb9f3a"
             ],
             [
              0.8888888888888888,
              "#fdca26"
             ],
             [
              1,
              "#f0f921"
             ]
            ],
            "type": "histogram2d"
           }
          ],
          "histogram2dcontour": [
           {
            "colorbar": {
             "outlinewidth": 0,
             "ticks": ""
            },
            "colorscale": [
             [
              0,
              "#0d0887"
             ],
             [
              0.1111111111111111,
              "#46039f"
             ],
             [
              0.2222222222222222,
              "#7201a8"
             ],
             [
              0.3333333333333333,
              "#9c179e"
             ],
             [
              0.4444444444444444,
              "#bd3786"
             ],
             [
              0.5555555555555556,
              "#d8576b"
             ],
             [
              0.6666666666666666,
              "#ed7953"
             ],
             [
              0.7777777777777778,
              "#fb9f3a"
             ],
             [
              0.8888888888888888,
              "#fdca26"
             ],
             [
              1,
              "#f0f921"
             ]
            ],
            "type": "histogram2dcontour"
           }
          ],
          "mesh3d": [
           {
            "colorbar": {
             "outlinewidth": 0,
             "ticks": ""
            },
            "type": "mesh3d"
           }
          ],
          "parcoords": [
           {
            "line": {
             "colorbar": {
              "outlinewidth": 0,
              "ticks": ""
             }
            },
            "type": "parcoords"
           }
          ],
          "pie": [
           {
            "automargin": true,
            "type": "pie"
           }
          ],
          "scatter": [
           {
            "marker": {
             "colorbar": {
              "outlinewidth": 0,
              "ticks": ""
             }
            },
            "type": "scatter"
           }
          ],
          "scatter3d": [
           {
            "line": {
             "colorbar": {
              "outlinewidth": 0,
              "ticks": ""
             }
            },
            "marker": {
             "colorbar": {
              "outlinewidth": 0,
              "ticks": ""
             }
            },
            "type": "scatter3d"
           }
          ],
          "scattercarpet": [
           {
            "marker": {
             "colorbar": {
              "outlinewidth": 0,
              "ticks": ""
             }
            },
            "type": "scattercarpet"
           }
          ],
          "scattergeo": [
           {
            "marker": {
             "colorbar": {
              "outlinewidth": 0,
              "ticks": ""
             }
            },
            "type": "scattergeo"
           }
          ],
          "scattergl": [
           {
            "marker": {
             "colorbar": {
              "outlinewidth": 0,
              "ticks": ""
             }
            },
            "type": "scattergl"
           }
          ],
          "scattermapbox": [
           {
            "marker": {
             "colorbar": {
              "outlinewidth": 0,
              "ticks": ""
             }
            },
            "type": "scattermapbox"
           }
          ],
          "scatterpolar": [
           {
            "marker": {
             "colorbar": {
              "outlinewidth": 0,
              "ticks": ""
             }
            },
            "type": "scatterpolar"
           }
          ],
          "scatterpolargl": [
           {
            "marker": {
             "colorbar": {
              "outlinewidth": 0,
              "ticks": ""
             }
            },
            "type": "scatterpolargl"
           }
          ],
          "scatterternary": [
           {
            "marker": {
             "colorbar": {
              "outlinewidth": 0,
              "ticks": ""
             }
            },
            "type": "scatterternary"
           }
          ],
          "surface": [
           {
            "colorbar": {
             "outlinewidth": 0,
             "ticks": ""
            },
            "colorscale": [
             [
              0,
              "#0d0887"
             ],
             [
              0.1111111111111111,
              "#46039f"
             ],
             [
              0.2222222222222222,
              "#7201a8"
             ],
             [
              0.3333333333333333,
              "#9c179e"
             ],
             [
              0.4444444444444444,
              "#bd3786"
             ],
             [
              0.5555555555555556,
              "#d8576b"
             ],
             [
              0.6666666666666666,
              "#ed7953"
             ],
             [
              0.7777777777777778,
              "#fb9f3a"
             ],
             [
              0.8888888888888888,
              "#fdca26"
             ],
             [
              1,
              "#f0f921"
             ]
            ],
            "type": "surface"
           }
          ],
          "table": [
           {
            "cells": {
             "fill": {
              "color": "#EBF0F8"
             },
             "line": {
              "color": "white"
             }
            },
            "header": {
             "fill": {
              "color": "#C8D4E3"
             },
             "line": {
              "color": "white"
             }
            },
            "type": "table"
           }
          ]
         },
         "layout": {
          "annotationdefaults": {
           "arrowcolor": "#2a3f5f",
           "arrowhead": 0,
           "arrowwidth": 1
          },
          "autotypenumbers": "strict",
          "coloraxis": {
           "colorbar": {
            "outlinewidth": 0,
            "ticks": ""
           }
          },
          "colorscale": {
           "diverging": [
            [
             0,
             "#8e0152"
            ],
            [
             0.1,
             "#c51b7d"
            ],
            [
             0.2,
             "#de77ae"
            ],
            [
             0.3,
             "#f1b6da"
            ],
            [
             0.4,
             "#fde0ef"
            ],
            [
             0.5,
             "#f7f7f7"
            ],
            [
             0.6,
             "#e6f5d0"
            ],
            [
             0.7,
             "#b8e186"
            ],
            [
             0.8,
             "#7fbc41"
            ],
            [
             0.9,
             "#4d9221"
            ],
            [
             1,
             "#276419"
            ]
           ],
           "sequential": [
            [
             0,
             "#0d0887"
            ],
            [
             0.1111111111111111,
             "#46039f"
            ],
            [
             0.2222222222222222,
             "#7201a8"
            ],
            [
             0.3333333333333333,
             "#9c179e"
            ],
            [
             0.4444444444444444,
             "#bd3786"
            ],
            [
             0.5555555555555556,
             "#d8576b"
            ],
            [
             0.6666666666666666,
             "#ed7953"
            ],
            [
             0.7777777777777778,
             "#fb9f3a"
            ],
            [
             0.8888888888888888,
             "#fdca26"
            ],
            [
             1,
             "#f0f921"
            ]
           ],
           "sequentialminus": [
            [
             0,
             "#0d0887"
            ],
            [
             0.1111111111111111,
             "#46039f"
            ],
            [
             0.2222222222222222,
             "#7201a8"
            ],
            [
             0.3333333333333333,
             "#9c179e"
            ],
            [
             0.4444444444444444,
             "#bd3786"
            ],
            [
             0.5555555555555556,
             "#d8576b"
            ],
            [
             0.6666666666666666,
             "#ed7953"
            ],
            [
             0.7777777777777778,
             "#fb9f3a"
            ],
            [
             0.8888888888888888,
             "#fdca26"
            ],
            [
             1,
             "#f0f921"
            ]
           ]
          },
          "colorway": [
           "#636efa",
           "#EF553B",
           "#00cc96",
           "#ab63fa",
           "#FFA15A",
           "#19d3f3",
           "#FF6692",
           "#B6E880",
           "#FF97FF",
           "#FECB52"
          ],
          "font": {
           "color": "#2a3f5f"
          },
          "geo": {
           "bgcolor": "white",
           "lakecolor": "white",
           "landcolor": "#E5ECF6",
           "showlakes": true,
           "showland": true,
           "subunitcolor": "white"
          },
          "hoverlabel": {
           "align": "left"
          },
          "hovermode": "closest",
          "mapbox": {
           "style": "light"
          },
          "paper_bgcolor": "white",
          "plot_bgcolor": "#E5ECF6",
          "polar": {
           "angularaxis": {
            "gridcolor": "white",
            "linecolor": "white",
            "ticks": ""
           },
           "bgcolor": "#E5ECF6",
           "radialaxis": {
            "gridcolor": "white",
            "linecolor": "white",
            "ticks": ""
           }
          },
          "scene": {
           "xaxis": {
            "backgroundcolor": "#E5ECF6",
            "gridcolor": "white",
            "gridwidth": 2,
            "linecolor": "white",
            "showbackground": true,
            "ticks": "",
            "zerolinecolor": "white"
           },
           "yaxis": {
            "backgroundcolor": "#E5ECF6",
            "gridcolor": "white",
            "gridwidth": 2,
            "linecolor": "white",
            "showbackground": true,
            "ticks": "",
            "zerolinecolor": "white"
           },
           "zaxis": {
            "backgroundcolor": "#E5ECF6",
            "gridcolor": "white",
            "gridwidth": 2,
            "linecolor": "white",
            "showbackground": true,
            "ticks": "",
            "zerolinecolor": "white"
           }
          },
          "shapedefaults": {
           "line": {
            "color": "#2a3f5f"
           }
          },
          "ternary": {
           "aaxis": {
            "gridcolor": "white",
            "linecolor": "white",
            "ticks": ""
           },
           "baxis": {
            "gridcolor": "white",
            "linecolor": "white",
            "ticks": ""
           },
           "bgcolor": "#E5ECF6",
           "caxis": {
            "gridcolor": "white",
            "linecolor": "white",
            "ticks": ""
           }
          },
          "title": {
           "x": 0.05
          },
          "xaxis": {
           "automargin": true,
           "gridcolor": "white",
           "linecolor": "white",
           "ticks": "",
           "title": {
            "standoff": 15
           },
           "zerolinecolor": "white",
           "zerolinewidth": 2
          },
          "yaxis": {
           "automargin": true,
           "gridcolor": "white",
           "linecolor": "white",
           "ticks": "",
           "title": {
            "standoff": 15
           },
           "zerolinecolor": "white",
           "zerolinewidth": 2
          }
         }
        },
        "title": {
         "text": "dots-distance, sample size: 32"
        },
        "width": 1200,
        "xaxis": {
         "anchor": "y",
         "autorange": true,
         "domain": [
          0,
          1
         ],
         "range": [
          -5.913075096662094,
          112.34842683657979
         ],
         "title": {
          "text": "dots-distance"
         },
         "type": "linear"
        },
        "xaxis2": {
         "anchor": "y2",
         "autorange": true,
         "domain": [
          0,
          1
         ],
         "matches": "x",
         "range": [
          -5.913075096662094,
          112.34842683657979
         ],
         "showgrid": true,
         "showticklabels": false,
         "type": "linear"
        },
        "yaxis": {
         "anchor": "x",
         "autorange": true,
         "domain": [
          0,
          0.7326
         ],
         "range": [
          0,
          650.5263157894736
         ],
         "title": {
          "text": "count"
         }
        },
        "yaxis2": {
         "anchor": "x2",
         "autorange": true,
         "domain": [
          0.7426,
          1
         ],
         "matches": "y2",
         "range": [
          -0.8775077299201841,
          20.5
         ],
         "showgrid": false,
         "showline": false,
         "showticklabels": false,
         "ticks": "",
         "type": "category"
        }
       }
      },
      "image/png": "[encoded data removed]",
      "text/html": [
       "<div>                            <div id=\"f3321510-9d14-49de-9cf5-5ebb9ecca80b\" class=\"plotly-graph-div\" style=\"height:800px; width:1200px;\"></div>            <script type=\"text/javascript\">                require([\"plotly\"], function(Plotly) {                    window.PLOTLYENV=window.PLOTLYENV || {};                                    if (document.getElementById(\"f3321510-9d14-49de-9cf5-5ebb9ecca80b\")) {                    Plotly.newPlot(                        \"f3321510-9d14-49de-9cf5-5ebb9ecca80b\",                        [{\"alignmentgroup\": \"True\", \"bingroup\": \"x\", \"hovertemplate\": \"Cx=C1<br>dots-distance=%{x}<br>count=%{y}<extra></extra>\", \"legendgroup\": \"C1\", \"marker\": {\"color\": \"#636efa\"}, \"name\": \"C1\", \"nbinsx\": 100, \"offsetgroup\": \"C1\", \"orientation\": \"v\", \"showlegend\": true, \"type\": \"histogram\", \"x\": [1.5313066316058355, 1.5322206107476781, 1.5275143207184605, 1.535252422242022, 1.5300653580811447, 1.5370100845472703, 1.532742639845319, 1.529738539751154, 1.5285287043428475, 1.529640480635891, 1.5322206107476832, 1.529509725369542, 1.5278743403827442, 1.5389606882568503, 1.529771224726103, 1.529215485142625, 1.527154216181202, 1.527416118809805, 1.5305554547287876, 90.02310203497767, 89.07702004445368, 1.5360338537935951, 1.5314698821720265, 1.5268267747193887, 1.5334275333383072, 1.5231874474272633, 1.526892268629325, 1.5244015219094982, 1.5201315732527836, 1.533199269501524, 1.5258440287263981, 1.5276452467768824], \"xaxis\": \"x\", \"yaxis\": \"y\"}, {\"alignmentgroup\": \"True\", \"boxpoints\": \"all\", \"fillcolor\": \"rgba(255,255,255,0)\", \"hoveron\": \"points\", \"hovertemplate\": \"Cx=C1<br>dots-distance=%{x}<extra></extra>\", \"jitter\": 0, \"legendgroup\": \"C1\", \"line\": {\"color\": \"rgba(255,255,255,0)\"}, \"marker\": {\"color\": \"#636efa\", \"symbol\": \"line-ns-open\"}, \"name\": \"C1\", \"offsetgroup\": \"C1\", \"showlegend\": false, \"type\": \"box\", \"x\": [1.5313066316058355, 1.5322206107476781, 1.5275143207184605, 1.535252422242022, 1.5300653580811447, 1.5370100845472703, 1.532742639845319, 1.529738539751154, 1.5285287043428475, 1.529640480635891, 1.5322206107476832, 1.529509725369542, 1.5278743403827442, 1.5389606882568503, 1.529771224726103, 1.529215485142625, 1.527154216181202, 1.527416118809805, 1.5305554547287876, 90.02310203497767, 89.07702004445368, 1.5360338537935951, 1.5314698821720265, 1.5268267747193887, 1.5334275333383072, 1.5231874474272633, 1.526892268629325, 1.5244015219094982, 1.5201315732527836, 1.533199269501524, 1.5258440287263981, 1.5276452467768824], \"xaxis\": \"x2\", \"yaxis\": \"y2\"}, {\"alignmentgroup\": \"True\", \"bingroup\": \"x\", \"hovertemplate\": \"Cx=C2<br>dots-distance=%{x}<br>count=%{y}<extra></extra>\", \"legendgroup\": \"C2\", \"marker\": {\"color\": \"#EF553B\"}, \"name\": \"C2\", \"nbinsx\": 100, \"offsetgroup\": \"C2\", \"orientation\": \"v\", \"showlegend\": true, \"type\": \"histogram\", \"x\": [1.5347312468311802, 1.5344705927452666, 1.5369124893760295, 1.5305554547287623, 1.5314698821720274, 1.5314698821720292, 1.5386357593660702, 1.5301633899685354, 1.5266302761310562, 1.5292154851426236, 1.5302614155757839, 1.530653455227541, 1.531633115337999, 1.524631102922933, 1.5340795285773152, 1.533297101021196, 1.5349918566559206, 1.523975065412816, 1.5333949262991546, 1.5327426398453268, 1.52623720305855, 1.529999999999998, 1.5283324245726115, 1.5318289721767275, 1.5279070652366242, 1.5305227865014055, 1.5345683432157793, 1.5368474224854014, 1.531306631605834, 1.5304901175767187, 1.5414603465545222, 1.529901957643046], \"xaxis\": \"x\", \"yaxis\": \"y\"}, {\"alignmentgroup\": \"True\", \"boxpoints\": \"all\", \"fillcolor\": \"rgba(255,255,255,0)\", \"hoveron\": \"points\", \"hovertemplate\": \"Cx=C2<br>dots-distance=%{x}<extra></extra>\", \"jitter\": 0, \"legendgroup\": \"C2\", \"line\": {\"color\": \"rgba(255,255,255,0)\"}, \"marker\": {\"color\": \"#EF553B\", \"symbol\": \"line-ns-open\"}, \"name\": \"C2\", \"offsetgroup\": \"C2\", \"showlegend\": false, \"type\": \"box\", \"x\": [1.5347312468311802, 1.5344705927452666, 1.5369124893760295, 1.5305554547287623, 1.5314698821720274, 1.5314698821720292, 1.5386357593660702, 1.5301633899685354, 1.5266302761310562, 1.5292154851426236, 1.5302614155757839, 1.530653455227541, 1.531633115337999, 1.524631102922933, 1.5340795285773152, 1.533297101021196, 1.5349918566559206, 1.523975065412816, 1.5333949262991546, 1.5327426398453268, 1.52623720305855, 1.529999999999998, 1.5283324245726115, 1.5318289721767275, 1.5279070652366242, 1.5305227865014055, 1.5345683432157793, 1.5368474224854014, 1.531306631605834, 1.5304901175767187, 1.5414603465545222, 1.529901957643046], \"xaxis\": \"x2\", \"yaxis\": \"y2\"}, {\"alignmentgroup\": \"True\", \"bingroup\": \"x\", \"hovertemplate\": \"Cx=C3<br>dots-distance=%{x}<br>count=%{y}<extra></extra>\", \"legendgroup\": \"C3\", \"marker\": {\"color\": \"#00cc96\"}, \"name\": \"C3\", \"nbinsx\": 100, \"offsetgroup\": \"C3\", \"orientation\": \"v\", \"showlegend\": true, \"type\": \"histogram\", \"x\": [1.5347638254793496, 1.5370751445521453, 1.5297712247261106, 1.5300653580811518, 88.9251623557697, 1.5306534552275417, 1.533818763739706, 1.532938354924949, 1.5318616125486109, 1.5285941253321578, 1.5252868582663377, 1.5310780515702034, 1.53212271049026, 1.5373678805022561, 1.5399675321252664, 1.5338187637397036, 1.5204604565722843, 1.5279070652366238, 1.5282015573869847, 1.5322532427767965, 1.538375766839829, 1.532090075680932, 1.5281688388394772, 1.5274161188097988, 1.5292808767522104, 1.5323185047502392, 1.5262372030585531, 1.5318289721767233, 1.5323837639442701, 1.5257129481000056, 1.5280052355931255, 1.5336557632011143], \"xaxis\": \"x\", \"yaxis\": \"y\"}, {\"alignmentgroup\": \"True\", \"boxpoints\": \"all\", \"fillcolor\": \"rgba(255,255,255,0)\", \"hoveron\": \"points\", \"hovertemplate\": \"Cx=C3<br>dots-distance=%{x}<extra></extra>\", \"jitter\": 0, \"legendgroup\": \"C3\", \"line\": {\"color\": \"rgba(255,255,255,0)\"}, \"marker\": {\"color\": \"#00cc96\", \"symbol\": \"line-ns-open\"}, \"name\": \"C3\", \"offsetgroup\": \"C3\", \"showlegend\": false, \"type\": \"box\", \"x\": [1.5347638254793496, 1.5370751445521453, 1.5297712247261106, 1.5300653580811518, 88.9251623557697, 1.5306534552275417, 1.533818763739706, 1.532938354924949, 1.5318616125486109, 1.5285941253321578, 1.5252868582663377, 1.5310780515702034, 1.53212271049026, 1.5373678805022561, 1.5399675321252664, 1.5338187637397036, 1.5204604565722843, 1.5279070652366238, 1.5282015573869847, 1.5322532427767965, 1.538375766839829, 1.532090075680932, 1.5281688388394772, 1.5274161188097988, 1.5292808767522104, 1.5323185047502392, 1.5262372030585531, 1.5318289721767233, 1.5323837639442701, 1.5257129481000056, 1.5280052355931255, 1.5336557632011143], \"xaxis\": \"x2\", \"yaxis\": \"y2\"}, {\"alignmentgroup\": \"True\", \"bingroup\": \"x\", \"hovertemplate\": \"Cx=C4<br>dots-distance=%{x}<br>count=%{y}<extra></extra>\", \"legendgroup\": \"C4\", \"marker\": {\"color\": \"#ab63fa\"}, \"name\": \"C4\", \"nbinsx\": 100, \"offsetgroup\": \"C4\", \"orientation\": \"v\", \"showlegend\": true, \"type\": \"histogram\", \"x\": [1.5301307133705881, 1.5233187453714372, 1.5337861650177937, 1.5232859219463653, 1.5242703172337895, 1.5310453944935776, 1.523843824018721, 1.529215485142628, 1.5293789589241753, 1.5293789589241813, 1.533297101021196, 1.5211508800904647, 1.5300326793895624, 1.5217095649301786, 1.5256146302392277, 1.5344705927452587, 1.5284959927981543, 1.5269577597301167, 1.526957759730102, 1.524663897388522, 1.531078051570191, 1.5328731193415859, 1.5370100845472747, 1.5344705927452644, 1.5314372334509894, 1.5319595294915616, 1.5328405005087695, 1.5231874474272635, 1.5306207890917978, 1.5308167754502857, 1.5301633899685358, 1.5288230767489108], \"xaxis\": \"x\", \"yaxis\": \"y\"}, {\"alignmentgroup\": \"True\", \"boxpoints\": \"all\", \"fillcolor\": \"rgba(255,255,255,0)\", \"hoveron\": \"points\", \"hovertemplate\": \"Cx=C4<br>dots-distance=%{x}<extra></extra>\", \"jitter\": 0, \"legendgroup\": \"C4\", \"line\": {\"color\": \"rgba(255,255,255,0)\"}, \"marker\": {\"color\": \"#ab63fa\", \"symbol\": \"line-ns-open\"}, \"name\": \"C4\", \"offsetgroup\": \"C4\", \"showlegend\": false, \"type\": \"box\", \"x\": [1.5301307133705881, 1.5233187453714372, 1.5337861650177937, 1.5232859219463653, 1.5242703172337895, 1.5310453944935776, 1.523843824018721, 1.529215485142628, 1.5293789589241753, 1.5293789589241813, 1.533297101021196, 1.5211508800904647, 1.5300326793895624, 1.5217095649301786, 1.5256146302392277, 1.5344705927452587, 1.5284959927981543, 1.5269577597301167, 1.526957759730102, 1.524663897388522, 1.531078051570191, 1.5328731193415859, 1.5370100845472747, 1.5344705927452644, 1.5314372334509894, 1.5319595294915616, 1.5328405005087695, 1.5231874474272635, 1.5306207890917978, 1.5308167754502857, 1.5301633899685358, 1.5288230767489108], \"xaxis\": \"x2\", \"yaxis\": \"y2\"}, {\"alignmentgroup\": \"True\", \"bingroup\": \"x\", \"hovertemplate\": \"Cx=C5<br>dots-distance=%{x}<br>count=%{y}<extra></extra>\", \"legendgroup\": \"C5\", \"marker\": {\"color\": \"#FFA15A\"}, \"name\": \"C5\", \"nbinsx\": 100, \"offsetgroup\": \"C5\", \"orientation\": \"v\", \"showlegend\": true, \"type\": \"histogram\", \"x\": [1.5286922515666772, 1.5313719339206897, 1.52528685826634, 1.533264491208216, 89.62170607615099, 1.5267285285865306, 1.5274488534808621, 1.528855781295279, 1.5332971010211816, 1.5289538907370617, 1.5329057374802937, 1.5372052563011889, 1.5301307133705881, 1.5264009958068085, 1.5277761616153072, 1.524827859136898, 1.5350895739337134, 1.527939789389625, 1.5255490814785246, 1.5390906406056908, 1.5275470532851065, 1.5360664048145785, 1.528561415187498, 1.5351872849916355, 1.5360338537935911, 1.539253065613312, 1.5316984037335828, 1.5371076735219307, 1.5263682386632655, 1.5245327152934425, 1.5271542161811904, 1.5336883646947324], \"xaxis\": \"x\", \"yaxis\": \"y\"}, {\"alignmentgroup\": \"True\", \"boxpoints\": \"all\", \"fillcolor\": \"rgba(255,255,255,0)\", \"hoveron\": \"points\", \"hovertemplate\": \"Cx=C5<br>dots-distance=%{x}<extra></extra>\", \"jitter\": 0, \"legendgroup\": \"C5\", \"line\": {\"color\": \"rgba(255,255,255,0)\"}, \"marker\": {\"color\": \"#FFA15A\", \"symbol\": \"line-ns-open\"}, \"name\": \"C5\", \"offsetgroup\": \"C5\", \"showlegend\": false, \"type\": \"box\", \"x\": [1.5286922515666772, 1.5313719339206897, 1.52528685826634, 1.533264491208216, 89.62170607615099, 1.5267285285865306, 1.5274488534808621, 1.528855781295279, 1.5332971010211816, 1.5289538907370617, 1.5329057374802937, 1.5372052563011889, 1.5301307133705881, 1.5264009958068085, 1.5277761616153072, 1.524827859136898, 1.5350895739337134, 1.527939789389625, 1.5255490814785246, 1.5390906406056908, 1.5275470532851065, 1.5360664048145785, 1.528561415187498, 1.5351872849916355, 1.5360338537935911, 1.539253065613312, 1.5316984037335828, 1.5371076735219307, 1.5263682386632655, 1.5245327152934425, 1.5271542161811904, 1.5336883646947324], \"xaxis\": \"x2\", \"yaxis\": \"y2\"}, {\"alignmentgroup\": \"True\", \"bingroup\": \"x\", \"hovertemplate\": \"Cx=C6<br>dots-distance=%{x}<br>count=%{y}<extra></extra>\", \"legendgroup\": \"C6\", \"marker\": {\"color\": \"#19d3f3\"}, \"name\": \"C6\", \"nbinsx\": 100, \"offsetgroup\": \"C6\", \"orientation\": \"v\", \"showlegend\": true, \"type\": \"histogram\", \"x\": [1.5293789589241729, 1.5267612779999373, 1.5280706789936136, 1.5271542161811995, 89.98285058832043, 1.5243687217992865, 1.537335357038274, 1.5329057374802932, 1.533166657607712, 1.5332318807016814, 1.5305881222588935, 1.528594125332163, 1.5283324245726189, 1.5326121492406344, 1.5280379576437277, 1.529084693534007, 1.527383383437174, 1.5246638973885398, 1.5352524222420216, 1.5295097253695282, 1.537205256301197, 1.5292481812969418, 1.5276452467768833, 1.528234275234003, 1.5294770348063458, 1.5233515680892575, 1.531371933920687, 1.5308494374039503, 1.5357408635573961, 1.5300653580811516, 1.5373353570382704, 1.5322206107476841], \"xaxis\": \"x\", \"yaxis\": \"y\"}, {\"alignmentgroup\": \"True\", \"boxpoints\": \"all\", \"fillcolor\": \"rgba(255,255,255,0)\", \"hoveron\": \"points\", \"hovertemplate\": \"Cx=C6<br>dots-distance=%{x}<extra></extra>\", \"jitter\": 0, \"legendgroup\": \"C6\", \"line\": {\"color\": \"rgba(255,255,255,0)\"}, \"marker\": {\"color\": \"#19d3f3\", \"symbol\": \"line-ns-open\"}, \"name\": \"C6\", \"offsetgroup\": \"C6\", \"showlegend\": false, \"type\": \"box\", \"x\": [1.5293789589241729, 1.5267612779999373, 1.5280706789936136, 1.5271542161811995, 89.98285058832043, 1.5243687217992865, 1.537335357038274, 1.5329057374802932, 1.533166657607712, 1.5332318807016814, 1.5305881222588935, 1.528594125332163, 1.5283324245726189, 1.5326121492406344, 1.5280379576437277, 1.529084693534007, 1.527383383437174, 1.5246638973885398, 1.5352524222420216, 1.5295097253695282, 1.537205256301197, 1.5292481812969418, 1.5276452467768833, 1.528234275234003, 1.5294770348063458, 1.5233515680892575, 1.531371933920687, 1.5308494374039503, 1.5357408635573961, 1.5300653580811516, 1.5373353570382704, 1.5322206107476841], \"xaxis\": \"x2\", \"yaxis\": \"y2\"}, {\"alignmentgroup\": \"True\", \"bingroup\": \"x\", \"hovertemplate\": \"Cx=C7<br>dots-distance=%{x}<br>count=%{y}<extra></extra>\", \"legendgroup\": \"C7\", \"marker\": {\"color\": \"#FF6692\"}, \"name\": \"C7\", \"nbinsx\": 100, \"offsetgroup\": \"C7\", \"orientation\": \"v\", \"showlegend\": true, \"type\": \"histogram\", \"x\": [1.5360664048145871, 1.5339817469578947, 1.5356431877229824, 1.5382457540978325, 89.74221470411791, 1.5356431877229832, 1.5255818562109325, 1.5336883646947266, 1.5327752607606906, 1.5251557297535172, 1.5266957784706159, 1.523942256123899, 1.5340795285773177, 1.5270232480221142, 1.5247950681976872, 1.5304247776352824, 1.523876635426894, 1.5241391012633905, 1.528168838839478, 1.5266957784706185, 1.5341773039645734, 1.524303119461483, 1.525549081478539, 1.5360338537935951, 1.5309474190840133, 1.5285941253321582, 1.529738539751165, 1.5272851731094632, 1.5245655118754353, 1.5331992695015233, 1.5317310468877956, 1.5300653580811563], \"xaxis\": \"x\", \"yaxis\": \"y\"}, {\"alignmentgroup\": \"True\", \"boxpoints\": \"all\", \"fillcolor\": \"rgba(255,255,255,0)\", \"hoveron\": \"points\", \"hovertemplate\": \"Cx=C7<br>dots-distance=%{x}<extra></extra>\", \"jitter\": 0, \"legendgroup\": \"C7\", \"line\": {\"color\": \"rgba(255,255,255,0)\"}, \"marker\": {\"color\": \"#FF6692\", \"symbol\": \"line-ns-open\"}, \"name\": \"C7\", \"offsetgroup\": \"C7\", \"showlegend\": false, \"type\": \"box\", \"x\": [1.5360664048145871, 1.5339817469578947, 1.5356431877229824, 1.5382457540978325, 89.74221470411791, 1.5356431877229832, 1.5255818562109325, 1.5336883646947266, 1.5327752607606906, 1.5251557297535172, 1.5266957784706159, 1.523942256123899, 1.5340795285773177, 1.5270232480221142, 1.5247950681976872, 1.5304247776352824, 1.523876635426894, 1.5241391012633905, 1.528168838839478, 1.5266957784706185, 1.5341773039645734, 1.524303119461483, 1.525549081478539, 1.5360338537935951, 1.5309474190840133, 1.5285941253321582, 1.529738539751165, 1.5272851731094632, 1.5245655118754353, 1.5331992695015233, 1.5317310468877956, 1.5300653580811563], \"xaxis\": \"x2\", \"yaxis\": \"y2\"}, {\"alignmentgroup\": \"True\", \"bingroup\": \"x\", \"hovertemplate\": \"Cx=C8<br>dots-distance=%{x}<br>count=%{y}<extra></extra>\", \"legendgroup\": \"C8\", \"marker\": {\"color\": \"#B6E880\"}, \"name\": \"C8\", \"nbinsx\": 100, \"offsetgroup\": \"C8\", \"orientation\": \"v\", \"showlegend\": true, \"type\": \"histogram\", \"x\": [1.5248934388999142, 1.52833242457261, 1.5327752607606846, 1.5326447729333812, 1.5371076735219271, 1.5316004700965606, 1.5305881222588915, 1.5266302761310622, 1.531959529491563, 1.5276125163142613, 1.52528685826634, 1.5256801761837258, 1.526433752247367, 1.5336883646947288, 1.5321227104902493, 1.5305227865013953, 1.5308167754502855, 1.5269905042271894, 1.529019293534257, 1.5313066316058341, 1.526040628554817, 1.5309474190840113, 1.5342750731208523, 1.5337861650177982, 1.5326121492406362, 1.5343076614551645, 1.534014341523568, 1.5368148880070034, 1.5352198539622863, 1.5269250145308397, 1.5296077928671836, 1.5243031194614782], \"xaxis\": \"x\", \"yaxis\": \"y\"}, {\"alignmentgroup\": \"True\", \"boxpoints\": \"all\", \"fillcolor\": \"rgba(255,255,255,0)\", \"hoveron\": \"points\", \"hovertemplate\": \"Cx=C8<br>dots-distance=%{x}<extra></extra>\", \"jitter\": 0, \"legendgroup\": \"C8\", \"line\": {\"color\": \"rgba(255,255,255,0)\"}, \"marker\": {\"color\": \"#B6E880\", \"symbol\": \"line-ns-open\"}, \"name\": \"C8\", \"offsetgroup\": \"C8\", \"showlegend\": false, \"type\": \"box\", \"x\": [1.5248934388999142, 1.52833242457261, 1.5327752607606846, 1.5326447729333812, 1.5371076735219271, 1.5316004700965606, 1.5305881222588915, 1.5266302761310622, 1.531959529491563, 1.5276125163142613, 1.52528685826634, 1.5256801761837258, 1.526433752247367, 1.5336883646947288, 1.5321227104902493, 1.5305227865013953, 1.5308167754502855, 1.5269905042271894, 1.529019293534257, 1.5313066316058341, 1.526040628554817, 1.5309474190840113, 1.5342750731208523, 1.5337861650177982, 1.5326121492406362, 1.5343076614551645, 1.534014341523568, 1.5368148880070034, 1.5352198539622863, 1.5269250145308397, 1.5296077928671836, 1.5243031194614782], \"xaxis\": \"x2\", \"yaxis\": \"y2\"}, {\"alignmentgroup\": \"True\", \"bingroup\": \"x\", \"hovertemplate\": \"Cx=C9<br>dots-distance=%{x}<br>count=%{y}<extra></extra>\", \"legendgroup\": \"C9\", \"marker\": {\"color\": \"#FF97FF\"}, \"name\": \"C9\", \"nbinsx\": 100, \"offsetgroup\": \"C9\", \"orientation\": \"v\", \"showlegend\": true, \"type\": \"histogram\", \"x\": [1.3933413077921661, 1.393054198514901, 1.3918692467326181, 1.3901798444805533, 1.3924798023669847, 1.393197760549445, 1.384304879714003, 1.3944532978913182, 1.3906113763377506, 1.393735986476636, 1.3931618714277216, 1.3874076545846188, 1.3884523758487408, 1.3901798444805658, 1.3807968713753669, 1.3971757226634094, 1.3913302986710272, 1.393341307792168, 1.3923002549737702, 1.388164255410724, 1.391797399049155, 1.3856767299770953, 1.3867227552759107, 1.3913302986710212, 1.3906113763377554, 1.390827092057101, 1.3891364223862321, 1.3923002549737604, 1.385279755139732, 1.3924798023669884, 1.3940229553346637, 1.3961017154921065], \"xaxis\": \"x\", \"yaxis\": \"y\"}, {\"alignmentgroup\": \"True\", \"boxpoints\": \"all\", \"fillcolor\": \"rgba(255,255,255,0)\", \"hoveron\": \"points\", \"hovertemplate\": \"Cx=C9<br>dots-distance=%{x}<extra></extra>\", \"jitter\": 0, \"legendgroup\": \"C9\", \"line\": {\"color\": \"rgba(255,255,255,0)\"}, \"marker\": {\"color\": \"#FF97FF\", \"symbol\": \"line-ns-open\"}, \"name\": \"C9\", \"offsetgroup\": \"C9\", \"showlegend\": false, \"type\": \"box\", \"x\": [1.3933413077921661, 1.393054198514901, 1.3918692467326181, 1.3901798444805533, 1.3924798023669847, 1.393197760549445, 1.384304879714003, 1.3944532978913182, 1.3906113763377506, 1.393735986476636, 1.3931618714277216, 1.3874076545846188, 1.3884523758487408, 1.3901798444805658, 1.3807968713753669, 1.3971757226634094, 1.3913302986710272, 1.393341307792168, 1.3923002549737702, 1.388164255410724, 1.391797399049155, 1.3856767299770953, 1.3867227552759107, 1.3913302986710212, 1.3906113763377554, 1.390827092057101, 1.3891364223862321, 1.3923002549737604, 1.385279755139732, 1.3924798023669884, 1.3940229553346637, 1.3961017154921065], \"xaxis\": \"x2\", \"yaxis\": \"y2\"}, {\"alignmentgroup\": \"True\", \"bingroup\": \"x\", \"hovertemplate\": \"Cx=C10<br>dots-distance=%{x}<br>count=%{y}<extra></extra>\", \"legendgroup\": \"C10\", \"marker\": {\"color\": \"#FECB52\"}, \"name\": \"C10\", \"nbinsx\": 100, \"offsetgroup\": \"C10\", \"orientation\": \"v\", \"showlegend\": true, \"type\": \"histogram\", \"x\": [1.523975065412815, 1.522399421965206, 1.532905737480291, 1.5258440287264015, 1.5286595435217103, 1.5300653580811592, 1.5301633899685345, 1.528299708826779, 1.5266630276521431, 1.5276125163142706, 1.5273833834371786, 1.5288230767489073, 1.5309474190840164, 1.532351134694653, 1.532253242776791, 1.525975098093016, 1.5366522052826388, 1.5285941253321662, 1.5334275333383038, 1.5344705927452642, 1.5279070652366284, 1.5358710883404212, 1.5313066316058317, 1.52990195764304, 1.5292154851426245, 1.5281688388394776, 1.5249262277238238, 1.5261389189716652, 1.5325142739955147, 1.5292154851426298, 1.5249918032566605, 1.5244015219095044], \"xaxis\": \"x\", \"yaxis\": \"y\"}, {\"alignmentgroup\": \"True\", \"boxpoints\": \"all\", \"fillcolor\": \"rgba(255,255,255,0)\", \"hoveron\": \"points\", \"hovertemplate\": \"Cx=C10<br>dots-distance=%{x}<extra></extra>\", \"jitter\": 0, \"legendgroup\": \"C10\", \"line\": {\"color\": \"rgba(255,255,255,0)\"}, \"marker\": {\"color\": \"#FECB52\", \"symbol\": \"line-ns-open\"}, \"name\": \"C10\", \"offsetgroup\": \"C10\", \"showlegend\": false, \"type\": \"box\", \"x\": [1.523975065412815, 1.522399421965206, 1.532905737480291, 1.5258440287264015, 1.5286595435217103, 1.5300653580811592, 1.5301633899685345, 1.528299708826779, 1.5266630276521431, 1.5276125163142706, 1.5273833834371786, 1.5288230767489073, 1.5309474190840164, 1.532351134694653, 1.532253242776791, 1.525975098093016, 1.5366522052826388, 1.5285941253321662, 1.5334275333383038, 1.5344705927452642, 1.5279070652366284, 1.5358710883404212, 1.5313066316058317, 1.52990195764304, 1.5292154851426245, 1.5281688388394776, 1.5249262277238238, 1.5261389189716652, 1.5325142739955147, 1.5292154851426298, 1.5249918032566605, 1.5244015219095044], \"xaxis\": \"x2\", \"yaxis\": \"y2\"}, {\"alignmentgroup\": \"True\", \"bingroup\": \"x\", \"hovertemplate\": \"Cx=C11<br>dots-distance=%{x}<br>count=%{y}<extra></extra>\", \"legendgroup\": \"C11\", \"marker\": {\"color\": \"#636efa\"}, \"name\": \"C11\", \"nbinsx\": 100, \"offsetgroup\": \"C11\", \"orientation\": \"v\", \"showlegend\": true, \"type\": \"histogram\", \"x\": [1.5283324245726149, 1.531535177526131, 1.5247622765533044, 1.5301307133705875, 1.5305227865013946, 1.5268922686293198, 1.5285287043428406, 1.5290846935340088, 1.5324816475246958, 1.5261061562027676, 1.5321553446044607, 1.5252540771950078, 1.531306631605835, 1.5249262277238227, 1.5289538907370626, 1.5338187637397103, 1.5286922515666754, 1.5269250145308406, 1.5328731193415877, 1.5338187637397198, 1.5315678241592803, 1.5315351775261328, 1.5253524182955243, 1.521906698848518, 1.5227934856703351, 1.5284305676084784, 1.5318289721767198, 1.5279070652366316, 1.5284959927981483, 1.5322206107476801, 1.5293789589241764, 1.5323511346946568], \"xaxis\": \"x\", \"yaxis\": \"y\"}, {\"alignmentgroup\": \"True\", \"boxpoints\": \"all\", \"fillcolor\": \"rgba(255,255,255,0)\", \"hoveron\": \"points\", \"hovertemplate\": \"Cx=C11<br>dots-distance=%{x}<extra></extra>\", \"jitter\": 0, \"legendgroup\": \"C11\", \"line\": {\"color\": \"rgba(255,255,255,0)\"}, \"marker\": {\"color\": \"#636efa\", \"symbol\": \"line-ns-open\"}, \"name\": \"C11\", \"offsetgroup\": \"C11\", \"showlegend\": false, \"type\": \"box\", \"x\": [1.5283324245726149, 1.531535177526131, 1.5247622765533044, 1.5301307133705875, 1.5305227865013946, 1.5268922686293198, 1.5285287043428406, 1.5290846935340088, 1.5324816475246958, 1.5261061562027676, 1.5321553446044607, 1.5252540771950078, 1.531306631605835, 1.5249262277238227, 1.5289538907370626, 1.5338187637397103, 1.5286922515666754, 1.5269250145308406, 1.5328731193415877, 1.5338187637397198, 1.5315678241592803, 1.5315351775261328, 1.5253524182955243, 1.521906698848518, 1.5227934856703351, 1.5284305676084784, 1.5318289721767198, 1.5279070652366316, 1.5284959927981483, 1.5322206107476801, 1.5293789589241764, 1.5323511346946568], \"xaxis\": \"x2\", \"yaxis\": \"y2\"}, {\"alignmentgroup\": \"True\", \"bingroup\": \"x\", \"hovertemplate\": \"Cx=C12<br>dots-distance=%{x}<br>count=%{y}<extra></extra>\", \"legendgroup\": \"C12\", \"marker\": {\"color\": \"#EF553B\"}, \"name\": \"C12\", \"nbinsx\": 100, \"offsetgroup\": \"C12\", \"orientation\": \"v\", \"showlegend\": true, \"type\": \"histogram\", \"x\": [1.5316984037335801, 1.5267285285865348, 1.5373678805022497, 1.5381482373295503, 1.524663897388539, 1.530686120666152, 1.5239750654128192, 1.5319595294915587, 1.5287576655572332, 1.5350895739337167, 1.5327752607606895, 1.52121661836834, 1.5264665079850264, 1.529771224726102, 1.5326447729333708, 1.5268595220255194, 1.531045394493573, 1.5270232480221086, 1.5319921670817978, 1.5202631351183966, 1.5252540771950178, 1.526728528586533, 1.5272851731094654, 1.5301633899685376, 1.5319921670817993, 1.5272524349301322, 1.5321227104902562, 1.523975065412815, 1.5275470532851025, 1.526728528586532, 1.5267285285865304, 1.5327100182356772], \"xaxis\": \"x\", \"yaxis\": \"y\"}, {\"alignmentgroup\": \"True\", \"boxpoints\": \"all\", \"fillcolor\": \"rgba(255,255,255,0)\", \"hoveron\": \"points\", \"hovertemplate\": \"Cx=C12<br>dots-distance=%{x}<extra></extra>\", \"jitter\": 0, \"legendgroup\": \"C12\", \"line\": {\"color\": \"rgba(255,255,255,0)\"}, \"marker\": {\"color\": \"#EF553B\", \"symbol\": \"line-ns-open\"}, \"name\": \"C12\", \"offsetgroup\": \"C12\", \"showlegend\": false, \"type\": \"box\", \"x\": [1.5316984037335801, 1.5267285285865348, 1.5373678805022497, 1.5381482373295503, 1.524663897388539, 1.530686120666152, 1.5239750654128192, 1.5319595294915587, 1.5287576655572332, 1.5350895739337167, 1.5327752607606895, 1.52121661836834, 1.5264665079850264, 1.529771224726102, 1.5326447729333708, 1.5268595220255194, 1.531045394493573, 1.5270232480221086, 1.5319921670817978, 1.5202631351183966, 1.5252540771950178, 1.526728528586533, 1.5272851731094654, 1.5301633899685376, 1.5319921670817993, 1.5272524349301322, 1.5321227104902562, 1.523975065412815, 1.5275470532851025, 1.526728528586532, 1.5267285285865304, 1.5327100182356772], \"xaxis\": \"x2\", \"yaxis\": \"y2\"}, {\"alignmentgroup\": \"True\", \"bingroup\": \"x\", \"hovertemplate\": \"Cx=C13<br>dots-distance=%{x}<br>count=%{y}<extra></extra>\", \"legendgroup\": \"C13\", \"marker\": {\"color\": \"#00cc96\"}, \"name\": \"C13\", \"nbinsx\": 100, \"offsetgroup\": \"C13\", \"orientation\": \"v\", \"showlegend\": true, \"type\": \"histogram\", \"x\": [1.5290519938837963, 1.533818763739702, 1.531078051570206, 89.41033105855274, 1.5299019576430368, 1.536001302082785, 1.532318504750233, 1.5309147592207752, 1.534470592745269, 1.5285941253321655, 1.5343076614551596, 1.529999999999998, 1.5282015573869876, 1.5344705927452622, 1.5310780515701963, 1.526925014530836, 1.530751449452193, 1.5340795285773188, 1.5307514494521943, 1.5282342752339977, 1.5350570021989371, 1.5312086729117012, 1.532155344604453, 1.5308820986607767, 1.526368238663266, 1.5326447729333723, 1.5311433636338525, 1.5217424223566898, 1.5366522052826352, 1.5306861206661535, 1.5308167754502893, 1.5276452467768749], \"xaxis\": \"x\", \"yaxis\": \"y\"}, {\"alignmentgroup\": \"True\", \"boxpoints\": \"all\", \"fillcolor\": \"rgba(255,255,255,0)\", \"hoveron\": \"points\", \"hovertemplate\": \"Cx=C13<br>dots-distance=%{x}<extra></extra>\", \"jitter\": 0, \"legendgroup\": \"C13\", \"line\": {\"color\": \"rgba(255,255,255,0)\"}, \"marker\": {\"color\": \"#00cc96\", \"symbol\": \"line-ns-open\"}, \"name\": \"C13\", \"offsetgroup\": \"C13\", \"showlegend\": false, \"type\": \"box\", \"x\": [1.5290519938837963, 1.533818763739702, 1.531078051570206, 89.41033105855274, 1.5299019576430368, 1.536001302082785, 1.532318504750233, 1.5309147592207752, 1.534470592745269, 1.5285941253321655, 1.5343076614551596, 1.529999999999998, 1.5282015573869876, 1.5344705927452622, 1.5310780515701963, 1.526925014530836, 1.530751449452193, 1.5340795285773188, 1.5307514494521943, 1.5282342752339977, 1.5350570021989371, 1.5312086729117012, 1.532155344604453, 1.5308820986607767, 1.526368238663266, 1.5326447729333723, 1.5311433636338525, 1.5217424223566898, 1.5366522052826352, 1.5306861206661535, 1.5308167754502893, 1.5276452467768749], \"xaxis\": \"x2\", \"yaxis\": \"y2\"}, {\"alignmentgroup\": \"True\", \"bingroup\": \"x\", \"hovertemplate\": \"Cx=C14<br>dots-distance=%{x}<br>count=%{y}<extra></extra>\", \"legendgroup\": \"C14\", \"marker\": {\"color\": \"#ab63fa\"}, \"name\": \"C14\", \"nbinsx\": 100, \"offsetgroup\": \"C14\", \"orientation\": \"v\", \"showlegend\": true, \"type\": \"histogram\", \"x\": [1.5253196386331598, 1.5344705927452629, 1.532090075680919, 1.5237125713204624, 1.5365220467015759, 1.525057375969835, 1.5260406285548231, 1.5322206107476828, 1.5297385397511565, 1.532122710490247, 1.5274161188097999, 1.528299708826778, 1.5396752904427635, 1.5226949793047828, 1.5235484895466875, 1.5318616125486002, 1.5345031769273076, 1.5288230767489117, 1.5317963311093195, 1.5317310468877983, 1.526630276131062, 1.534307661455156, 1.5269250145308397, 1.5280706789936072, 1.5354803808580582, 1.5287576655572335, 1.5366847432053237, 1.530424777635279, 1.5323837639442712, 1.5327100182356748, 1.5317310468878051, 1.5199013125857919], \"xaxis\": \"x\", \"yaxis\": \"y\"}, {\"alignmentgroup\": \"True\", \"boxpoints\": \"all\", \"fillcolor\": \"rgba(255,255,255,0)\", \"hoveron\": \"points\", \"hovertemplate\": \"Cx=C14<br>dots-distance=%{x}<extra></extra>\", \"jitter\": 0, \"legendgroup\": \"C14\", \"line\": {\"color\": \"rgba(255,255,255,0)\"}, \"marker\": {\"color\": \"#ab63fa\", \"symbol\": \"line-ns-open\"}, \"name\": \"C14\", \"offsetgroup\": \"C14\", \"showlegend\": false, \"type\": \"box\", \"x\": [1.5253196386331598, 1.5344705927452629, 1.532090075680919, 1.5237125713204624, 1.5365220467015759, 1.525057375969835, 1.5260406285548231, 1.5322206107476828, 1.5297385397511565, 1.532122710490247, 1.5274161188097999, 1.528299708826778, 1.5396752904427635, 1.5226949793047828, 1.5235484895466875, 1.5318616125486002, 1.5345031769273076, 1.5288230767489117, 1.5317963311093195, 1.5317310468877983, 1.526630276131062, 1.534307661455156, 1.5269250145308397, 1.5280706789936072, 1.5354803808580582, 1.5287576655572335, 1.5366847432053237, 1.530424777635279, 1.5323837639442712, 1.5327100182356748, 1.5317310468878051, 1.5199013125857919], \"xaxis\": \"x2\", \"yaxis\": \"y2\"}, {\"alignmentgroup\": \"True\", \"bingroup\": \"x\", \"hovertemplate\": \"Cx=C15<br>dots-distance=%{x}<br>count=%{y}<extra></extra>\", \"legendgroup\": \"C15\", \"marker\": {\"color\": \"#FFA15A\"}, \"name\": \"C15\", \"nbinsx\": 100, \"offsetgroup\": \"C15\", \"orientation\": \"v\", \"showlegend\": true, \"type\": \"histogram\", \"x\": [1.5305554547287703, 1.5256146302392375, 1.5295097253695389, 1.5326447729333734, 1.5285941253321622, 1.5238438240187246, 1.530392106618434, 1.5274815874503984, 1.5352198539622883, 1.5313719339206937, 1.531959529491555, 1.5297058540778323, 1.5300000000000025, 1.5275470532851054, 1.5288557812952845, 1.5301633899685336, 1.5254179755070454, 1.5344705927452633, 1.5264665079850301, 1.5244015219095024, 1.532187978023579, 1.5268595220255199, 1.5346986674914385, 1.5370100845472663, 1.529215485142619, 1.533818763739711, 1.5337861650177989, 1.5303921066184298, 1.5328731193415766, 1.5341773039645694, 1.5279070652366273, 1.5284305676084726], \"xaxis\": \"x\", \"yaxis\": \"y\"}, {\"alignmentgroup\": \"True\", \"boxpoints\": \"all\", \"fillcolor\": \"rgba(255,255,255,0)\", \"hoveron\": \"points\", \"hovertemplate\": \"Cx=C15<br>dots-distance=%{x}<extra></extra>\", \"jitter\": 0, \"legendgroup\": \"C15\", \"line\": {\"color\": \"rgba(255,255,255,0)\"}, \"marker\": {\"color\": \"#FFA15A\", \"symbol\": \"line-ns-open\"}, \"name\": \"C15\", \"offsetgroup\": \"C15\", \"showlegend\": false, \"type\": \"box\", \"x\": [1.5305554547287703, 1.5256146302392375, 1.5295097253695389, 1.5326447729333734, 1.5285941253321622, 1.5238438240187246, 1.530392106618434, 1.5274815874503984, 1.5352198539622883, 1.5313719339206937, 1.531959529491555, 1.5297058540778323, 1.5300000000000025, 1.5275470532851054, 1.5288557812952845, 1.5301633899685336, 1.5254179755070454, 1.5344705927452633, 1.5264665079850301, 1.5244015219095024, 1.532187978023579, 1.5268595220255199, 1.5346986674914385, 1.5370100845472663, 1.529215485142619, 1.533818763739711, 1.5337861650177989, 1.5303921066184298, 1.5328731193415766, 1.5341773039645694, 1.5279070652366273, 1.5284305676084726], \"xaxis\": \"x2\", \"yaxis\": \"y2\"}, {\"alignmentgroup\": \"True\", \"bingroup\": \"x\", \"hovertemplate\": \"Cx=C16<br>dots-distance=%{x}<br>count=%{y}<extra></extra>\", \"legendgroup\": \"C16\", \"marker\": {\"color\": \"#19d3f3\"}, \"name\": \"C16\", \"nbinsx\": 100, \"offsetgroup\": \"C16\", \"orientation\": \"v\", \"showlegend\": true, \"type\": \"histogram\", \"x\": [1.528201557386982, 1.5380507143784279, 1.5255818562109305, 1.527186956466029, 1.5282015573869776, 1.528594125332163, 1.5404544783926557, 1.5267285285865333, 1.5286922515666739, 1.52843056760849, 1.538473269186051, 1.5302614155757828, 1.529346265565779, 1.5319595294915611, 1.5235156710713544, 1.53753048750261, 1.5319595294915613, 1.5256474035634833, 1.5244671200127502, 1.5339491516996187, 1.5341773039645696, 1.5333949262991595, 1.5295097253695422, 1.530816775450289, 1.5241391012633991, 1.5242703172337977, 1.5264337522473705, 1.5292154851426274, 1.5295751043999166, 1.5358385331798428, 1.5212166183683353, 1.5300653580811567], \"xaxis\": \"x\", \"yaxis\": \"y\"}, {\"alignmentgroup\": \"True\", \"boxpoints\": \"all\", \"fillcolor\": \"rgba(255,255,255,0)\", \"hoveron\": \"points\", \"hovertemplate\": \"Cx=C16<br>dots-distance=%{x}<extra></extra>\", \"jitter\": 0, \"legendgroup\": \"C16\", \"line\": {\"color\": \"rgba(255,255,255,0)\"}, \"marker\": {\"color\": \"#19d3f3\", \"symbol\": \"line-ns-open\"}, \"name\": \"C16\", \"offsetgroup\": \"C16\", \"showlegend\": false, \"type\": \"box\", \"x\": [1.528201557386982, 1.5380507143784279, 1.5255818562109305, 1.527186956466029, 1.5282015573869776, 1.528594125332163, 1.5404544783926557, 1.5267285285865333, 1.5286922515666739, 1.52843056760849, 1.538473269186051, 1.5302614155757828, 1.529346265565779, 1.5319595294915611, 1.5235156710713544, 1.53753048750261, 1.5319595294915613, 1.5256474035634833, 1.5244671200127502, 1.5339491516996187, 1.5341773039645696, 1.5333949262991595, 1.5295097253695422, 1.530816775450289, 1.5241391012633991, 1.5242703172337977, 1.5264337522473705, 1.5292154851426274, 1.5295751043999166, 1.5358385331798428, 1.5212166183683353, 1.5300653580811567], \"xaxis\": \"x2\", \"yaxis\": \"y2\"}, {\"alignmentgroup\": \"True\", \"bingroup\": \"x\", \"hovertemplate\": \"Cx=C17<br>dots-distance=%{x}<br>count=%{y}<extra></extra>\", \"legendgroup\": \"C17\", \"marker\": {\"color\": \"#FF6692\"}, \"name\": \"C17\", \"nbinsx\": 100, \"offsetgroup\": \"C17\", \"orientation\": \"v\", \"showlegend\": true, \"type\": \"histogram\", \"x\": [1.527612516314268, 1.5227934856703347, 1.5235156710713529, 1.5298692754611485, 106.39113026939792, 1.5271542161811986, 1.5285614151874962, 1.5364244205296949, 1.5338187637397125, 1.53006535808114, 1.5300653580811425, 1.5245327152934447, 1.533818763739699, 1.5324163924991099, 1.5333949262991549, 1.5272524349301284, 1.535871088340427, 1.5255818562109347, 1.5334275333383165, 1.5310780515702107, 1.5208221460775704, 1.5253524182955251, 1.5323511346946537, 1.5277107055984076, 1.5258440287263955, 1.5267285285865309, 1.5239750654128155, 1.5247622765533038, 1.5226949793047928, 1.5346009253222794, 1.5305554547287734, 1.5321227104902495], \"xaxis\": \"x\", \"yaxis\": \"y\"}, {\"alignmentgroup\": \"True\", \"boxpoints\": \"all\", \"fillcolor\": \"rgba(255,255,255,0)\", \"hoveron\": \"points\", \"hovertemplate\": \"Cx=C17<br>dots-distance=%{x}<extra></extra>\", \"jitter\": 0, \"legendgroup\": \"C17\", \"line\": {\"color\": \"rgba(255,255,255,0)\"}, \"marker\": {\"color\": \"#FF6692\", \"symbol\": \"line-ns-open\"}, \"name\": \"C17\", \"offsetgroup\": \"C17\", \"showlegend\": false, \"type\": \"box\", \"x\": [1.527612516314268, 1.5227934856703347, 1.5235156710713529, 1.5298692754611485, 106.39113026939792, 1.5271542161811986, 1.5285614151874962, 1.5364244205296949, 1.5338187637397125, 1.53006535808114, 1.5300653580811425, 1.5245327152934447, 1.533818763739699, 1.5324163924991099, 1.5333949262991549, 1.5272524349301284, 1.535871088340427, 1.5255818562109347, 1.5334275333383165, 1.5310780515702107, 1.5208221460775704, 1.5253524182955251, 1.5323511346946537, 1.5277107055984076, 1.5258440287263955, 1.5267285285865309, 1.5239750654128155, 1.5247622765533038, 1.5226949793047928, 1.5346009253222794, 1.5305554547287734, 1.5321227104902495], \"xaxis\": \"x2\", \"yaxis\": \"y2\"}, {\"alignmentgroup\": \"True\", \"bingroup\": \"x\", \"hovertemplate\": \"Cx=C18<br>dots-distance=%{x}<br>count=%{y}<extra></extra>\", \"legendgroup\": \"C18\", \"marker\": {\"color\": \"#B6E880\"}, \"name\": \"C18\", \"nbinsx\": 100, \"offsetgroup\": \"C18\", \"orientation\": \"v\", \"showlegend\": true, \"type\": \"histogram\", \"x\": [1.2318279100588692, 1.2372954376380736, 1.2311376852326468, 1.2221292893961733, 1.2316655390161693, 1.2332882874656648, 1.2304877081872858, 1.2244998979175137, 1.2267844146385332, 1.2335720489699837, 1.237133784196357, 1.233936789304865, 1.2313813381727028, 1.2236421045387418, 1.2318279100588774, 1.2363251999372913, 1.2235195135346262, 1.2368104139276892, 1.227925079147749, 1.2325988804148762, 1.2306908628896214, 1.236850839834781, 1.2343824366864613, 1.2280065146407024, 1.24052408279727, 1.2283729075488483, 1.235556554755786, 1.230650234632083, 1.2301625908797593, 1.2325988804148813, 1.2298780427343092, 1.2285357137665995], \"xaxis\": \"x\", \"yaxis\": \"y\"}, {\"alignmentgroup\": \"True\", \"boxpoints\": \"all\", \"fillcolor\": \"rgba(255,255,255,0)\", \"hoveron\": \"points\", \"hovertemplate\": \"Cx=C18<br>dots-distance=%{x}<extra></extra>\", \"jitter\": 0, \"legendgroup\": \"C18\", \"line\": {\"color\": \"rgba(255,255,255,0)\"}, \"marker\": {\"color\": \"#B6E880\", \"symbol\": \"line-ns-open\"}, \"name\": \"C18\", \"offsetgroup\": \"C18\", \"showlegend\": false, \"type\": \"box\", \"x\": [1.2318279100588692, 1.2372954376380736, 1.2311376852326468, 1.2221292893961733, 1.2316655390161693, 1.2332882874656648, 1.2304877081872858, 1.2244998979175137, 1.2267844146385332, 1.2335720489699837, 1.237133784196357, 1.233936789304865, 1.2313813381727028, 1.2236421045387418, 1.2318279100588774, 1.2363251999372913, 1.2235195135346262, 1.2368104139276892, 1.227925079147749, 1.2325988804148762, 1.2306908628896214, 1.236850839834781, 1.2343824366864613, 1.2280065146407024, 1.24052408279727, 1.2283729075488483, 1.235556554755786, 1.230650234632083, 1.2301625908797593, 1.2325988804148813, 1.2298780427343092, 1.2285357137665995], \"xaxis\": \"x2\", \"yaxis\": \"y2\"}, {\"alignmentgroup\": \"True\", \"bingroup\": \"x\", \"hovertemplate\": \"Cx=O19<br>dots-distance=%{x}<br>count=%{y}<extra></extra>\", \"legendgroup\": \"O19\", \"marker\": {\"color\": \"#FF97FF\"}, \"name\": \"O19\", \"nbinsx\": 100, \"offsetgroup\": \"O19\", \"orientation\": \"v\", \"showlegend\": true, \"type\": \"histogram\", \"x\": [2.2986517787607608, 2.1886297082878117, 2.2859790025282387, 2.21903132019357, 2.260486673263079, 2.2626754075651223, 2.3006303484045403, 2.252221125911046, 2.264817873472391, 2.2788154817799517, 2.2392186137132706, 2.2366716343710364, 2.342178473131366, 2.220360331117454, 2.2219135896789606, 2.283900172949773, 2.2307173734025585, 2.2047902394558956, 2.2947548888715787, 2.2675757980715896, 2.2300224214119417, 2.2867662757702143, 2.3105194221213545, 2.285716517856054, 2.2403124782047756, 2.2811619846034668, 2.333859464492235, 2.224612325777235, 2.2619239598182816, 2.2879248239398073, 2.2091627373283282, 106.43535173991769], \"xaxis\": \"x\", \"yaxis\": \"y\"}, {\"alignmentgroup\": \"True\", \"boxpoints\": \"all\", \"fillcolor\": \"rgba(255,255,255,0)\", \"hoveron\": \"points\", \"hovertemplate\": \"Cx=O19<br>dots-distance=%{x}<extra></extra>\", \"jitter\": 0, \"legendgroup\": \"O19\", \"line\": {\"color\": \"rgba(255,255,255,0)\"}, \"marker\": {\"color\": \"#FF97FF\", \"symbol\": \"line-ns-open\"}, \"name\": \"O19\", \"offsetgroup\": \"O19\", \"showlegend\": false, \"type\": \"box\", \"x\": [2.2986517787607608, 2.1886297082878117, 2.2859790025282387, 2.21903132019357, 2.260486673263079, 2.2626754075651223, 2.3006303484045403, 2.252221125911046, 2.264817873472391, 2.2788154817799517, 2.2392186137132706, 2.2366716343710364, 2.342178473131366, 2.220360331117454, 2.2219135896789606, 2.283900172949773, 2.2307173734025585, 2.2047902394558956, 2.2947548888715787, 2.2675757980715896, 2.2300224214119417, 2.2867662757702143, 2.3105194221213545, 2.285716517856054, 2.2403124782047756, 2.2811619846034668, 2.333859464492235, 2.224612325777235, 2.2619239598182816, 2.2879248239398073, 2.2091627373283282, 106.43535173991769], \"xaxis\": \"x2\", \"yaxis\": \"y2\"}, {\"alignmentgroup\": \"True\", \"bingroup\": \"x\", \"hovertemplate\": \"Cx=O20<br>dots-distance=%{x}<br>count=%{y}<extra></extra>\", \"legendgroup\": \"O20\", \"marker\": {\"color\": \"#FECB52\"}, \"name\": \"O20\", \"nbinsx\": 100, \"offsetgroup\": \"O20\", \"orientation\": \"v\", \"showlegend\": true, \"type\": \"histogram\", \"x\": [0.9974968671629981, 0.9944847912361476, 1.0017484714238405, 1.005037312740179, 1.0018981984213773, 1.0073231854772309, 0.9978476837674161, 1.0044899203078137, 0.9994498486667536, 0.996042167782066, 1.005435229142086, 1.0106433594498065, 1.001399021369603, 0.9973464794142501, 1.0025966287595405, 0.9976973488989596, 1.001698557451295, 0.998498873309336, 0.9994498486667522, 1.0020479030465501, 0.9970456358662914, 1.0042410069301113, 0.9908077512817491, 1.0004498987955444, 1.0004998750624594, 1.004241006930102, 0.9977975746613177, 1.0018482919085112, 0.9976973488989508, 1.0042410069301093, 1.0042410069301084, 1.0026464980240954], \"xaxis\": \"x\", \"yaxis\": \"y\"}, {\"alignmentgroup\": \"True\", \"boxpoints\": \"all\", \"fillcolor\": \"rgba(255,255,255,0)\", \"hoveron\": \"points\", \"hovertemplate\": \"Cx=O20<br>dots-distance=%{x}<extra></extra>\", \"jitter\": 0, \"legendgroup\": \"O20\", \"line\": {\"color\": \"rgba(255,255,255,0)\"}, \"marker\": {\"color\": \"#FECB52\", \"symbol\": \"line-ns-open\"}, \"name\": \"O20\", \"offsetgroup\": \"O20\", \"showlegend\": false, \"type\": \"box\", \"x\": [0.9974968671629981, 0.9944847912361476, 1.0017484714238405, 1.005037312740179, 1.0018981984213773, 1.0073231854772309, 0.9978476837674161, 1.0044899203078137, 0.9994498486667536, 0.996042167782066, 1.005435229142086, 1.0106433594498065, 1.001399021369603, 0.9973464794142501, 1.0025966287595405, 0.9976973488989596, 1.001698557451295, 0.998498873309336, 0.9994498486667522, 1.0020479030465501, 0.9970456358662914, 1.0042410069301113, 0.9908077512817491, 1.0004498987955444, 1.0004998750624594, 1.004241006930102, 0.9977975746613177, 1.0018482919085112, 0.9976973488989508, 1.0042410069301093, 1.0042410069301084, 1.0026464980240954], \"xaxis\": \"x2\", \"yaxis\": \"y2\"}, {\"alignmentgroup\": \"True\", \"bingroup\": \"x\", \"hovertemplate\": \"Cx=H21<br>dots-distance=%{x}<br>count=%{y}<extra></extra>\", \"legendgroup\": \"H21\", \"marker\": {\"color\": \"#636efa\"}, \"name\": \"H21\", \"nbinsx\": 100, \"offsetgroup\": \"H21\", \"orientation\": \"v\", \"showlegend\": true, \"type\": \"histogram\", \"x\": [0.0, 0.0, 0.0, 0.0, 0.0, 0.0, 0.0, 0.0, 0.0, 0.0, 0.0, 0.0, 0.0, 0.0, 0.0, 0.0, 0.0, 0.0, 0.0, 0.0, 0.0, 0.0, 0.0, 0.0, 0.0, 0.0, 0.0, 0.0, 0.0, 0.0, 0.0, 0.0], \"xaxis\": \"x\", \"yaxis\": \"y\"}, {\"alignmentgroup\": \"True\", \"boxpoints\": \"all\", \"fillcolor\": \"rgba(255,255,255,0)\", \"hoveron\": \"points\", \"hovertemplate\": \"Cx=H21<br>dots-distance=%{x}<extra></extra>\", \"jitter\": 0, \"legendgroup\": \"H21\", \"line\": {\"color\": \"rgba(255,255,255,0)\"}, \"marker\": {\"color\": \"#636efa\", \"symbol\": \"line-ns-open\"}, \"name\": \"H21\", \"offsetgroup\": \"H21\", \"showlegend\": false, \"type\": \"box\", \"x\": [0.0, 0.0, 0.0, 0.0, 0.0, 0.0, 0.0, 0.0, 0.0, 0.0, 0.0, 0.0, 0.0, 0.0, 0.0, 0.0, 0.0, 0.0, 0.0, 0.0, 0.0, 0.0, 0.0, 0.0, 0.0, 0.0, 0.0, 0.0, 0.0, 0.0, 0.0, 0.0], \"xaxis\": \"x2\", \"yaxis\": \"y2\"}],                        {\"barmode\": \"relative\", \"height\": 800, \"legend\": {\"title\": {\"text\": \"Cx\"}, \"tracegroupgap\": 0}, \"margin\": {\"t\": 60}, \"template\": {\"data\": {\"bar\": [{\"error_x\": {\"color\": \"#2a3f5f\"}, \"error_y\": {\"color\": \"#2a3f5f\"}, \"marker\": {\"line\": {\"color\": \"#E5ECF6\", \"width\": 0.5}}, \"type\": \"bar\"}], \"barpolar\": [{\"marker\": {\"line\": {\"color\": \"#E5ECF6\", \"width\": 0.5}}, \"type\": \"barpolar\"}], \"carpet\": [{\"aaxis\": {\"endlinecolor\": \"#2a3f5f\", \"gridcolor\": \"white\", \"linecolor\": \"white\", \"minorgridcolor\": \"white\", \"startlinecolor\": \"#2a3f5f\"}, \"baxis\": {\"endlinecolor\": \"#2a3f5f\", \"gridcolor\": \"white\", \"linecolor\": \"white\", \"minorgridcolor\": \"white\", \"startlinecolor\": \"#2a3f5f\"}, \"type\": \"carpet\"}], \"choropleth\": [{\"colorbar\": {\"outlinewidth\": 0, \"ticks\": \"\"}, \"type\": \"choropleth\"}], \"contour\": [{\"colorbar\": {\"outlinewidth\": 0, \"ticks\": \"\"}, \"colorscale\": [[0.0, \"#0d0887\"], [0.1111111111111111, \"#46039f\"], [0.2222222222222222, \"#7201a8\"], [0.3333333333333333, \"#9c179e\"], [0.4444444444444444, \"#bd3786\"], [0.5555555555555556, \"#d8576b\"], [0.6666666666666666, \"#ed7953\"], [0.7777777777777778, \"#fb9f3a\"], [0.8888888888888888, \"#fdca26\"], [1.0, \"#f0f921\"]], \"type\": \"contour\"}], \"contourcarpet\": [{\"colorbar\": {\"outlinewidth\": 0, \"ticks\": \"\"}, \"type\": \"contourcarpet\"}], \"heatmap\": [{\"colorbar\": {\"outlinewidth\": 0, \"ticks\": \"\"}, \"colorscale\": [[0.0, \"#0d0887\"], [0.1111111111111111, \"#46039f\"], [0.2222222222222222, \"#7201a8\"], [0.3333333333333333, \"#9c179e\"], [0.4444444444444444, \"#bd3786\"], [0.5555555555555556, \"#d8576b\"], [0.6666666666666666, \"#ed7953\"], [0.7777777777777778, \"#fb9f3a\"], [0.8888888888888888, \"#fdca26\"], [1.0, \"#f0f921\"]], \"type\": \"heatmap\"}], \"heatmapgl\": [{\"colorbar\": {\"outlinewidth\": 0, \"ticks\": \"\"}, \"colorscale\": [[0.0, \"#0d0887\"], [0.1111111111111111, \"#46039f\"], [0.2222222222222222, \"#7201a8\"], [0.3333333333333333, \"#9c179e\"], [0.4444444444444444, \"#bd3786\"], [0.5555555555555556, \"#d8576b\"], [0.6666666666666666, \"#ed7953\"], [0.7777777777777778, \"#fb9f3a\"], [0.8888888888888888, \"#fdca26\"], [1.0, \"#f0f921\"]], \"type\": \"heatmapgl\"}], \"histogram\": [{\"marker\": {\"colorbar\": {\"outlinewidth\": 0, \"ticks\": \"\"}}, \"type\": \"histogram\"}], \"histogram2d\": [{\"colorbar\": {\"outlinewidth\": 0, \"ticks\": \"\"}, \"colorscale\": [[0.0, \"#0d0887\"], [0.1111111111111111, \"#46039f\"], [0.2222222222222222, \"#7201a8\"], [0.3333333333333333, \"#9c179e\"], [0.4444444444444444, \"#bd3786\"], [0.5555555555555556, \"#d8576b\"], [0.6666666666666666, \"#ed7953\"], [0.7777777777777778, \"#fb9f3a\"], [0.8888888888888888, \"#fdca26\"], [1.0, \"#f0f921\"]], \"type\": \"histogram2d\"}], \"histogram2dcontour\": [{\"colorbar\": {\"outlinewidth\": 0, \"ticks\": \"\"}, \"colorscale\": [[0.0, \"#0d0887\"], [0.1111111111111111, \"#46039f\"], [0.2222222222222222, \"#7201a8\"], [0.3333333333333333, \"#9c179e\"], [0.4444444444444444, \"#bd3786\"], [0.5555555555555556, \"#d8576b\"], [0.6666666666666666, \"#ed7953\"], [0.7777777777777778, \"#fb9f3a\"], [0.8888888888888888, \"#fdca26\"], [1.0, \"#f0f921\"]], \"type\": \"histogram2dcontour\"}], \"mesh3d\": [{\"colorbar\": {\"outlinewidth\": 0, \"ticks\": \"\"}, \"type\": \"mesh3d\"}], \"parcoords\": [{\"line\": {\"colorbar\": {\"outlinewidth\": 0, \"ticks\": \"\"}}, \"type\": \"parcoords\"}], \"pie\": [{\"automargin\": true, \"type\": \"pie\"}], \"scatter\": [{\"marker\": {\"colorbar\": {\"outlinewidth\": 0, \"ticks\": \"\"}}, \"type\": \"scatter\"}], \"scatter3d\": [{\"line\": {\"colorbar\": {\"outlinewidth\": 0, \"ticks\": \"\"}}, \"marker\": {\"colorbar\": {\"outlinewidth\": 0, \"ticks\": \"\"}}, \"type\": \"scatter3d\"}], \"scattercarpet\": [{\"marker\": {\"colorbar\": {\"outlinewidth\": 0, \"ticks\": \"\"}}, \"type\": \"scattercarpet\"}], \"scattergeo\": [{\"marker\": {\"colorbar\": {\"outlinewidth\": 0, \"ticks\": \"\"}}, \"type\": \"scattergeo\"}], \"scattergl\": [{\"marker\": {\"colorbar\": {\"outlinewidth\": 0, \"ticks\": \"\"}}, \"type\": \"scattergl\"}], \"scattermapbox\": [{\"marker\": {\"colorbar\": {\"outlinewidth\": 0, \"ticks\": \"\"}}, \"type\": \"scattermapbox\"}], \"scatterpolar\": [{\"marker\": {\"colorbar\": {\"outlinewidth\": 0, \"ticks\": \"\"}}, \"type\": \"scatterpolar\"}], \"scatterpolargl\": [{\"marker\": {\"colorbar\": {\"outlinewidth\": 0, \"ticks\": \"\"}}, \"type\": \"scatterpolargl\"}], \"scatterternary\": [{\"marker\": {\"colorbar\": {\"outlinewidth\": 0, \"ticks\": \"\"}}, \"type\": \"scatterternary\"}], \"surface\": [{\"colorbar\": {\"outlinewidth\": 0, \"ticks\": \"\"}, \"colorscale\": [[0.0, \"#0d0887\"], [0.1111111111111111, \"#46039f\"], [0.2222222222222222, \"#7201a8\"], [0.3333333333333333, \"#9c179e\"], [0.4444444444444444, \"#bd3786\"], [0.5555555555555556, \"#d8576b\"], [0.6666666666666666, \"#ed7953\"], [0.7777777777777778, \"#fb9f3a\"], [0.8888888888888888, \"#fdca26\"], [1.0, \"#f0f921\"]], \"type\": \"surface\"}], \"table\": [{\"cells\": {\"fill\": {\"color\": \"#EBF0F8\"}, \"line\": {\"color\": \"white\"}}, \"header\": {\"fill\": {\"color\": \"#C8D4E3\"}, \"line\": {\"color\": \"white\"}}, \"type\": \"table\"}]}, \"layout\": {\"annotationdefaults\": {\"arrowcolor\": \"#2a3f5f\", \"arrowhead\": 0, \"arrowwidth\": 1}, \"autotypenumbers\": \"strict\", \"coloraxis\": {\"colorbar\": {\"outlinewidth\": 0, \"ticks\": \"\"}}, \"colorscale\": {\"diverging\": [[0, \"#8e0152\"], [0.1, \"#c51b7d\"], [0.2, \"#de77ae\"], [0.3, \"#f1b6da\"], [0.4, \"#fde0ef\"], [0.5, \"#f7f7f7\"], [0.6, \"#e6f5d0\"], [0.7, \"#b8e186\"], [0.8, \"#7fbc41\"], [0.9, \"#4d9221\"], [1, \"#276419\"]], \"sequential\": [[0.0, \"#0d0887\"], [0.1111111111111111, \"#46039f\"], [0.2222222222222222, \"#7201a8\"], [0.3333333333333333, \"#9c179e\"], [0.4444444444444444, \"#bd3786\"], [0.5555555555555556, \"#d8576b\"], [0.6666666666666666, \"#ed7953\"], [0.7777777777777778, \"#fb9f3a\"], [0.8888888888888888, \"#fdca26\"], [1.0, \"#f0f921\"]], \"sequentialminus\": [[0.0, \"#0d0887\"], [0.1111111111111111, \"#46039f\"], [0.2222222222222222, \"#7201a8\"], [0.3333333333333333, \"#9c179e\"], [0.4444444444444444, \"#bd3786\"], [0.5555555555555556, \"#d8576b\"], [0.6666666666666666, \"#ed7953\"], [0.7777777777777778, \"#fb9f3a\"], [0.8888888888888888, \"#fdca26\"], [1.0, \"#f0f921\"]]}, \"colorway\": [\"#636efa\", \"#EF553B\", \"#00cc96\", \"#ab63fa\", \"#FFA15A\", \"#19d3f3\", \"#FF6692\", \"#B6E880\", \"#FF97FF\", \"#FECB52\"], \"font\": {\"color\": \"#2a3f5f\"}, \"geo\": {\"bgcolor\": \"white\", \"lakecolor\": \"white\", \"landcolor\": \"#E5ECF6\", \"showlakes\": true, \"showland\": true, \"subunitcolor\": \"white\"}, \"hoverlabel\": {\"align\": \"left\"}, \"hovermode\": \"closest\", \"mapbox\": {\"style\": \"light\"}, \"paper_bgcolor\": \"white\", \"plot_bgcolor\": \"#E5ECF6\", \"polar\": {\"angularaxis\": {\"gridcolor\": \"white\", \"linecolor\": \"white\", \"ticks\": \"\"}, \"bgcolor\": \"#E5ECF6\", \"radialaxis\": {\"gridcolor\": \"white\", \"linecolor\": \"white\", \"ticks\": \"\"}}, \"scene\": {\"xaxis\": {\"backgroundcolor\": \"#E5ECF6\", \"gridcolor\": \"white\", \"gridwidth\": 2, \"linecolor\": \"white\", \"showbackground\": true, \"ticks\": \"\", \"zerolinecolor\": \"white\"}, \"yaxis\": {\"backgroundcolor\": \"#E5ECF6\", \"gridcolor\": \"white\", \"gridwidth\": 2, \"linecolor\": \"white\", \"showbackground\": true, \"ticks\": \"\", \"zerolinecolor\": \"white\"}, \"zaxis\": {\"backgroundcolor\": \"#E5ECF6\", \"gridcolor\": \"white\", \"gridwidth\": 2, \"linecolor\": \"white\", \"showbackground\": true, \"ticks\": \"\", \"zerolinecolor\": \"white\"}}, \"shapedefaults\": {\"line\": {\"color\": \"#2a3f5f\"}}, \"ternary\": {\"aaxis\": {\"gridcolor\": \"white\", \"linecolor\": \"white\", \"ticks\": \"\"}, \"baxis\": {\"gridcolor\": \"white\", \"linecolor\": \"white\", \"ticks\": \"\"}, \"bgcolor\": \"#E5ECF6\", \"caxis\": {\"gridcolor\": \"white\", \"linecolor\": \"white\", \"ticks\": \"\"}}, \"title\": {\"x\": 0.05}, \"xaxis\": {\"automargin\": true, \"gridcolor\": \"white\", \"linecolor\": \"white\", \"ticks\": \"\", \"title\": {\"standoff\": 15}, \"zerolinecolor\": \"white\", \"zerolinewidth\": 2}, \"yaxis\": {\"automargin\": true, \"gridcolor\": \"white\", \"linecolor\": \"white\", \"ticks\": \"\", \"title\": {\"standoff\": 15}, \"zerolinecolor\": \"white\", \"zerolinewidth\": 2}}}, \"title\": {\"text\": \"dots-distance, sample size: 32\"}, \"width\": 1200, \"xaxis\": {\"anchor\": \"y\", \"domain\": [0.0, 1.0], \"title\": {\"text\": \"dots-distance\"}}, \"xaxis2\": {\"anchor\": \"y2\", \"domain\": [0.0, 1.0], \"matches\": \"x\", \"showgrid\": true, \"showticklabels\": false}, \"yaxis\": {\"anchor\": \"x\", \"domain\": [0.0, 0.7326], \"title\": {\"text\": \"count\"}}, \"yaxis2\": {\"anchor\": \"x2\", \"domain\": [0.7426, 1.0], \"matches\": \"y2\", \"showgrid\": false, \"showline\": false, \"showticklabels\": false, \"ticks\": \"\"}},                        {\"responsive\": true}                    ).then(function(){\n",
       "                            \n",
       "var gd = document.getElementById('f3321510-9d14-49de-9cf5-5ebb9ecca80b');\n",
       "var x = new MutationObserver(function (mutations, observer) {{\n",
       "        var display = window.getComputedStyle(gd).display;\n",
       "        if (!display || display === 'none') {{\n",
       "            console.log([gd, 'removed!']);\n",
       "            Plotly.purge(gd);\n",
       "            observer.disconnect();\n",
       "        }}\n",
       "}});\n",
       "\n",
       "// Listen for the removal of the full notebook cells\n",
       "var notebookContainer = gd.closest('#notebook-container');\n",
       "if (notebookContainer) {{\n",
       "    x.observe(notebookContainer, {childList: true});\n",
       "}}\n",
       "\n",
       "// Listen for the clearing of the current output cell\n",
       "var outputEl = gd.closest('.output');\n",
       "if (outputEl) {{\n",
       "    x.observe(outputEl, {childList: true});\n",
       "}}\n",
       "\n",
       "                        })                };                });            </script>        </div>"
      ]
     },
     "metadata": {},
     "output_type": "display_data"
    }
   ],
   "source": [
    "protein_hist(df,xlabel=\"dots-angle\")\n",
    "protein_hist(df,xlabel=\"planes-angle\")\n",
    "protein_hist(df,xlabel=\"dots-distance\")"
   ]
  },
  {
   "cell_type": "code",
   "execution_count": 124,
   "id": "advisory-edward",
   "metadata": {},
   "outputs": [
    {
     "data": {
      "text/plain": [
       "0"
      ]
     },
     "execution_count": 124,
     "metadata": {},
     "output_type": "execute_result"
    }
   ],
   "source": [
    "import os\n",
    "os.system(\"gsutil -m cp output/*.html gs://protein-dynamics-ai/\")\n",
    "os.system(\"gsutil -m cp output/*.png gs://protein-dynamics-ai/\")\n",
    "os.system(\"gsutil -m cp output/*.csv gs://protein-dynamics-ai/\")"
   ]
  },
  {
   "cell_type": "code",
   "execution_count": null,
   "id": "useful-disease",
   "metadata": {},
   "outputs": [],
   "source": []
  }
 ],
 "metadata": {
  "kernelspec": {
   "display_name": "Python 3",
   "language": "python",
   "name": "python3"
  },
  "language_info": {
   "codemirror_mode": {
    "name": "ipython",
    "version": 3
   },
   "file_extension": ".py",
   "mimetype": "text/x-python",
   "name": "python",
   "nbconvert_exporter": "python",
   "pygments_lexer": "ipython3",
   "version": "3.6.9"
  }
 },
 "nbformat": 4,
 "nbformat_minor": 5
}
